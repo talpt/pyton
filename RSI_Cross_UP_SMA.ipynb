{
  "cells": [
    {
      "cell_type": "markdown",
      "metadata": {
        "id": "view-in-github",
        "colab_type": "text"
      },
      "source": [
        "<a href=\"https://colab.research.google.com/github/talpt/pyton/blob/main/RSI_Cross_UP_SMA.ipynb\" target=\"_parent\"><img src=\"https://colab.research.google.com/assets/colab-badge.svg\" alt=\"Open In Colab\"/></a>"
      ]
    },
    {
      "cell_type": "code",
      "execution_count": null,
      "metadata": {
        "colab": {
          "base_uri": "https://localhost:8080/"
        },
        "id": "x1BJ_mZoK5fR",
        "outputId": "bc27a3fd-76b5-43cf-ca25-2b54ff3289f2"
      },
      "outputs": [
        {
          "name": "stdout",
          "output_type": "stream",
          "text": [
            "Collecting tradingview_screener\n",
            "  Downloading tradingview_screener-3.0.0-py3-none-any.whl.metadata (9.9 kB)\n",
            "Requirement already satisfied: pandas==2.* in /usr/local/lib/python3.11/dist-packages (from tradingview_screener) (2.2.2)\n",
            "Requirement already satisfied: requests==2.* in /usr/local/lib/python3.11/dist-packages (from tradingview_screener) (2.32.3)\n",
            "Requirement already satisfied: numpy>=1.23.2 in /usr/local/lib/python3.11/dist-packages (from pandas==2.*->tradingview_screener) (2.0.2)\n",
            "Requirement already satisfied: python-dateutil>=2.8.2 in /usr/local/lib/python3.11/dist-packages (from pandas==2.*->tradingview_screener) (2.8.2)\n",
            "Requirement already satisfied: pytz>=2020.1 in /usr/local/lib/python3.11/dist-packages (from pandas==2.*->tradingview_screener) (2025.1)\n",
            "Requirement already satisfied: tzdata>=2022.7 in /usr/local/lib/python3.11/dist-packages (from pandas==2.*->tradingview_screener) (2025.1)\n",
            "Requirement already satisfied: charset-normalizer<4,>=2 in /usr/local/lib/python3.11/dist-packages (from requests==2.*->tradingview_screener) (3.4.1)\n",
            "Requirement already satisfied: idna<4,>=2.5 in /usr/local/lib/python3.11/dist-packages (from requests==2.*->tradingview_screener) (3.10)\n",
            "Requirement already satisfied: urllib3<3,>=1.21.1 in /usr/local/lib/python3.11/dist-packages (from requests==2.*->tradingview_screener) (2.3.0)\n",
            "Requirement already satisfied: certifi>=2017.4.17 in /usr/local/lib/python3.11/dist-packages (from requests==2.*->tradingview_screener) (2025.1.31)\n",
            "Requirement already satisfied: six>=1.5 in /usr/local/lib/python3.11/dist-packages (from python-dateutil>=2.8.2->pandas==2.*->tradingview_screener) (1.17.0)\n",
            "Downloading tradingview_screener-3.0.0-py3-none-any.whl (19 kB)\n",
            "Installing collected packages: tradingview_screener\n",
            "Successfully installed tradingview_screener-3.0.0\n",
            "Collecting git+https://github.com/rongardF/tvdatafeed\n",
            "  Cloning https://github.com/rongardF/tvdatafeed to /tmp/pip-req-build-bbxwvo4k\n",
            "  Running command git clone --filter=blob:none --quiet https://github.com/rongardF/tvdatafeed /tmp/pip-req-build-bbxwvo4k\n",
            "  Resolved https://github.com/rongardF/tvdatafeed to commit e6f6aaa7de439ac6e454d9b26d2760ded8dc4923\n",
            "  Preparing metadata (setup.py) ... \u001b[?25l\u001b[?25hdone\n",
            "Requirement already satisfied: matplotlib in /usr/local/lib/python3.11/dist-packages (3.10.0)\n",
            "Requirement already satisfied: openpyxl in /usr/local/lib/python3.11/dist-packages (3.1.5)\n",
            "Requirement already satisfied: setuptools in /usr/local/lib/python3.11/dist-packages (from tvdatafeed==2.1.0) (75.1.0)\n",
            "Requirement already satisfied: pandas in /usr/local/lib/python3.11/dist-packages (from tvdatafeed==2.1.0) (2.2.2)\n",
            "Requirement already satisfied: websocket-client in /usr/local/lib/python3.11/dist-packages (from tvdatafeed==2.1.0) (1.8.0)\n",
            "Requirement already satisfied: requests in /usr/local/lib/python3.11/dist-packages (from tvdatafeed==2.1.0) (2.32.3)\n",
            "Requirement already satisfied: contourpy>=1.0.1 in /usr/local/lib/python3.11/dist-packages (from matplotlib) (1.3.1)\n",
            "Requirement already satisfied: cycler>=0.10 in /usr/local/lib/python3.11/dist-packages (from matplotlib) (0.12.1)\n",
            "Requirement already satisfied: fonttools>=4.22.0 in /usr/local/lib/python3.11/dist-packages (from matplotlib) (4.56.0)\n",
            "Requirement already satisfied: kiwisolver>=1.3.1 in /usr/local/lib/python3.11/dist-packages (from matplotlib) (1.4.8)\n",
            "Requirement already satisfied: numpy>=1.23 in /usr/local/lib/python3.11/dist-packages (from matplotlib) (2.0.2)\n",
            "Requirement already satisfied: packaging>=20.0 in /usr/local/lib/python3.11/dist-packages (from matplotlib) (24.2)\n",
            "Requirement already satisfied: pillow>=8 in /usr/local/lib/python3.11/dist-packages (from matplotlib) (11.1.0)\n",
            "Requirement already satisfied: pyparsing>=2.3.1 in /usr/local/lib/python3.11/dist-packages (from matplotlib) (3.2.1)\n",
            "Requirement already satisfied: python-dateutil>=2.7 in /usr/local/lib/python3.11/dist-packages (from matplotlib) (2.8.2)\n",
            "Requirement already satisfied: et-xmlfile in /usr/local/lib/python3.11/dist-packages (from openpyxl) (2.0.0)\n",
            "Requirement already satisfied: six>=1.5 in /usr/local/lib/python3.11/dist-packages (from python-dateutil>=2.7->matplotlib) (1.17.0)\n",
            "Requirement already satisfied: pytz>=2020.1 in /usr/local/lib/python3.11/dist-packages (from pandas->tvdatafeed==2.1.0) (2025.1)\n",
            "Requirement already satisfied: tzdata>=2022.7 in /usr/local/lib/python3.11/dist-packages (from pandas->tvdatafeed==2.1.0) (2025.1)\n",
            "Requirement already satisfied: charset-normalizer<4,>=2 in /usr/local/lib/python3.11/dist-packages (from requests->tvdatafeed==2.1.0) (3.4.1)\n",
            "Requirement already satisfied: idna<4,>=2.5 in /usr/local/lib/python3.11/dist-packages (from requests->tvdatafeed==2.1.0) (3.10)\n",
            "Requirement already satisfied: urllib3<3,>=1.21.1 in /usr/local/lib/python3.11/dist-packages (from requests->tvdatafeed==2.1.0) (2.3.0)\n",
            "Requirement already satisfied: certifi>=2017.4.17 in /usr/local/lib/python3.11/dist-packages (from requests->tvdatafeed==2.1.0) (2025.1.31)\n",
            "Building wheels for collected packages: tvdatafeed\n",
            "  Building wheel for tvdatafeed (setup.py) ... \u001b[?25l\u001b[?25hdone\n",
            "  Created wheel for tvdatafeed: filename=tvdatafeed-2.1.0-py3-none-any.whl size=17533 sha256=864a2d3ff609c2383dd0e0002754aaf71a4664d86982a28932da53a44ff70e13\n",
            "  Stored in directory: /tmp/pip-ephem-wheel-cache-39mxxrwr/wheels/0a/ba/99/b27476fd1e4caf0dd70445cdc6798195d3b90005a1501a12f7\n",
            "Successfully built tvdatafeed\n",
            "Installing collected packages: tvdatafeed\n",
            "Successfully installed tvdatafeed-2.1.0\n",
            "Collecting tradingview-screener==2.5.0\n",
            "  Downloading tradingview_screener-2.5.0-py3-none-any.whl.metadata (9.0 kB)\n",
            "Requirement already satisfied: pandas<3.0.0,>=2.1.2 in /usr/local/lib/python3.11/dist-packages (from tradingview-screener==2.5.0) (2.2.2)\n",
            "Requirement already satisfied: requests<3.0.0,>=2.31.0 in /usr/local/lib/python3.11/dist-packages (from tradingview-screener==2.5.0) (2.32.3)\n",
            "Requirement already satisfied: numpy>=1.23.2 in /usr/local/lib/python3.11/dist-packages (from pandas<3.0.0,>=2.1.2->tradingview-screener==2.5.0) (2.0.2)\n",
            "Requirement already satisfied: python-dateutil>=2.8.2 in /usr/local/lib/python3.11/dist-packages (from pandas<3.0.0,>=2.1.2->tradingview-screener==2.5.0) (2.8.2)\n",
            "Requirement already satisfied: pytz>=2020.1 in /usr/local/lib/python3.11/dist-packages (from pandas<3.0.0,>=2.1.2->tradingview-screener==2.5.0) (2025.1)\n",
            "Requirement already satisfied: tzdata>=2022.7 in /usr/local/lib/python3.11/dist-packages (from pandas<3.0.0,>=2.1.2->tradingview-screener==2.5.0) (2025.1)\n",
            "Requirement already satisfied: charset-normalizer<4,>=2 in /usr/local/lib/python3.11/dist-packages (from requests<3.0.0,>=2.31.0->tradingview-screener==2.5.0) (3.4.1)\n",
            "Requirement already satisfied: idna<4,>=2.5 in /usr/local/lib/python3.11/dist-packages (from requests<3.0.0,>=2.31.0->tradingview-screener==2.5.0) (3.10)\n",
            "Requirement already satisfied: urllib3<3,>=1.21.1 in /usr/local/lib/python3.11/dist-packages (from requests<3.0.0,>=2.31.0->tradingview-screener==2.5.0) (2.3.0)\n",
            "Requirement already satisfied: certifi>=2017.4.17 in /usr/local/lib/python3.11/dist-packages (from requests<3.0.0,>=2.31.0->tradingview-screener==2.5.0) (2025.1.31)\n",
            "Requirement already satisfied: six>=1.5 in /usr/local/lib/python3.11/dist-packages (from python-dateutil>=2.8.2->pandas<3.0.0,>=2.1.2->tradingview-screener==2.5.0) (1.17.0)\n",
            "Downloading tradingview_screener-2.5.0-py3-none-any.whl (43 kB)\n",
            "\u001b[2K   \u001b[90m━━━━━━━━━━━━━━━━━━━━━━━━━━━━━━━━━━━━━━━━\u001b[0m \u001b[32m43.5/43.5 kB\u001b[0m \u001b[31m1.7 MB/s\u001b[0m eta \u001b[36m0:00:00\u001b[0m\n",
            "\u001b[?25hInstalling collected packages: tradingview-screener\n",
            "  Attempting uninstall: tradingview-screener\n",
            "    Found existing installation: tradingview-screener 3.0.0\n",
            "    Uninstalling tradingview-screener-3.0.0:\n",
            "      Successfully uninstalled tradingview-screener-3.0.0\n",
            "Successfully installed tradingview-screener-2.5.0\n",
            "Requirement already satisfied: tqdm in /usr/local/lib/python3.11/dist-packages (4.67.1)\n",
            "Collecting ta\n",
            "  Downloading ta-0.11.0.tar.gz (25 kB)\n",
            "  Preparing metadata (setup.py) ... \u001b[?25l\u001b[?25hdone\n",
            "Requirement already satisfied: numpy in /usr/local/lib/python3.11/dist-packages (from ta) (2.0.2)\n",
            "Requirement already satisfied: pandas in /usr/local/lib/python3.11/dist-packages (from ta) (2.2.2)\n",
            "Requirement already satisfied: python-dateutil>=2.8.2 in /usr/local/lib/python3.11/dist-packages (from pandas->ta) (2.8.2)\n",
            "Requirement already satisfied: pytz>=2020.1 in /usr/local/lib/python3.11/dist-packages (from pandas->ta) (2025.1)\n",
            "Requirement already satisfied: tzdata>=2022.7 in /usr/local/lib/python3.11/dist-packages (from pandas->ta) (2025.1)\n",
            "Requirement already satisfied: six>=1.5 in /usr/local/lib/python3.11/dist-packages (from python-dateutil>=2.8.2->pandas->ta) (1.17.0)\n",
            "Building wheels for collected packages: ta\n",
            "  Building wheel for ta (setup.py) ... \u001b[?25l\u001b[?25hdone\n",
            "  Created wheel for ta: filename=ta-0.11.0-py3-none-any.whl size=29412 sha256=e7cef4111f2dc41f002204dce7820040a4ddbaaa6282b65d5b5c1f8ca4b5ca0d\n",
            "  Stored in directory: /root/.cache/pip/wheels/a1/d7/29/7781cc5eb9a3659d032d7d15bdd0f49d07d2b24fec29f44bc4\n",
            "Successfully built ta\n",
            "Installing collected packages: ta\n",
            "Successfully installed ta-0.11.0\n",
            "\n",
            "📌 Lütfen analiz etmek istediğiniz zaman dilimini seçin:\n",
            "1 - 1 Saatlik\n",
            "4 - 4 Saatlik\n",
            "D - Günlük\n",
            "W - Haftalık\n",
            "M - Aylık\n",
            "Seçiminizi yapın (1, 4, D, W, M): w\n",
            "📌 Seçilen Zaman Periyodu: Haftalık, Mum Sayısı: 150\n",
            "\n",
            "📌 RSI seviye aralığını seçin:\n",
            "1 - 0 - 20\n",
            "2 - 20 - 40\n",
            "3 - 40 - 50\n",
            "4 - 40 - 60\n",
            "5 - 50 - 70\n",
            "Seçiminizi yapın (1, 2, 3, 4, 5): 3\n"
          ]
        },
        {
          "output_type": "stream",
          "name": "stderr",
          "text": [
            "WARNING:tvDatafeed.main:you are using nologin method, data you access may be limited\n"
          ]
        },
        {
          "output_type": "stream",
          "name": "stdout",
          "text": [
            "📌 Seçilen RSI Aralığı: 40 - 50\n"
          ]
        },
        {
          "output_type": "stream",
          "name": "stderr",
          "text": [
            "📊 Haftalık RSI 40 - 50 aralığında taranıyor:   0%|          | 1/601 [00:00<06:12,  1.61hisse/s]"
          ]
        },
        {
          "output_type": "stream",
          "name": "stdout",
          "text": [
            "A1CAP: Önceki RSI = 56.93835206633298, Güncel RSI = 41.79496551048105, Seviye Aralığı = (40, 50)\n",
            "A1CAP RSI (40, 50) aralığında! 🚀\n"
          ]
        },
        {
          "output_type": "stream",
          "name": "stderr",
          "text": [
            "\r📊 Haftalık RSI 40 - 50 aralığında taranıyor:   0%|          | 2/601 [00:01<06:01,  1.66hisse/s]"
          ]
        },
        {
          "output_type": "stream",
          "name": "stdout",
          "text": [
            "ACSEL: Önceki RSI = 47.323872531406636, Güncel RSI = 37.76202152373258, Seviye Aralığı = (40, 50)\n"
          ]
        },
        {
          "output_type": "stream",
          "name": "stderr",
          "text": [
            "\r📊 Haftalık RSI 40 - 50 aralığında taranıyor:   0%|          | 3/601 [00:01<05:52,  1.70hisse/s]"
          ]
        },
        {
          "output_type": "stream",
          "name": "stdout",
          "text": [
            "ADEL: Önceki RSI = 47.089405512365715, Güncel RSI = 39.92753434774809, Seviye Aralığı = (40, 50)\n"
          ]
        },
        {
          "output_type": "stream",
          "name": "stderr",
          "text": [
            "\r📊 Haftalık RSI 40 - 50 aralığında taranıyor:   1%|          | 4/601 [00:02<06:01,  1.65hisse/s]"
          ]
        },
        {
          "output_type": "stream",
          "name": "stdout",
          "text": [
            "ADESE: Önceki RSI = 50.202931037435725, Güncel RSI = 35.40426280484074, Seviye Aralığı = (40, 50)\n"
          ]
        },
        {
          "output_type": "stream",
          "name": "stderr",
          "text": [
            "\r📊 Haftalık RSI 40 - 50 aralığında taranıyor:   1%|          | 5/601 [00:02<05:51,  1.70hisse/s]"
          ]
        },
        {
          "output_type": "stream",
          "name": "stdout",
          "text": [
            "ADGYO: Önceki RSI = 49.56108653512277, Güncel RSI = 41.32743029852781, Seviye Aralığı = (40, 50)\n",
            "ADGYO RSI (40, 50) aralığında! 🚀\n"
          ]
        },
        {
          "output_type": "stream",
          "name": "stderr",
          "text": [
            "\r📊 Haftalık RSI 40 - 50 aralığında taranıyor:   1%|          | 6/601 [00:03<05:54,  1.68hisse/s]"
          ]
        },
        {
          "output_type": "stream",
          "name": "stdout",
          "text": [
            "AEFES: Önceki RSI = 49.99544981235842, Güncel RSI = 38.98131969371237, Seviye Aralığı = (40, 50)\n"
          ]
        },
        {
          "output_type": "stream",
          "name": "stderr",
          "text": [
            "\r📊 Haftalık RSI 40 - 50 aralığında taranıyor:   1%|          | 7/601 [00:04<05:49,  1.70hisse/s]"
          ]
        },
        {
          "output_type": "stream",
          "name": "stdout",
          "text": [
            "AFYON: Önceki RSI = 57.312290259138656, Güncel RSI = 43.65682596477357, Seviye Aralığı = (40, 50)\n",
            "AFYON RSI (40, 50) aralığında! 🚀\n"
          ]
        },
        {
          "output_type": "stream",
          "name": "stderr",
          "text": [
            "\r📊 Haftalık RSI 40 - 50 aralığında taranıyor:   1%|▏         | 8/601 [00:04<05:42,  1.73hisse/s]"
          ]
        },
        {
          "output_type": "stream",
          "name": "stdout",
          "text": [
            "AGESA: Önceki RSI = 62.74473179917409, Güncel RSI = 53.893886751188646, Seviye Aralığı = (40, 50)\n"
          ]
        },
        {
          "output_type": "stream",
          "name": "stderr",
          "text": [
            "\r📊 Haftalık RSI 40 - 50 aralığında taranıyor:   1%|▏         | 9/601 [00:05<05:42,  1.73hisse/s]"
          ]
        },
        {
          "output_type": "stream",
          "name": "stdout",
          "text": [
            "AGHOL: Önceki RSI = 54.934657385613995, Güncel RSI = 40.09379276174609, Seviye Aralığı = (40, 50)\n",
            "AGHOL RSI (40, 50) aralığında! 🚀\n"
          ]
        },
        {
          "output_type": "stream",
          "name": "stderr",
          "text": [
            "\r📊 Haftalık RSI 40 - 50 aralığında taranıyor:   2%|▏         | 10/601 [00:05<05:33,  1.77hisse/s]"
          ]
        },
        {
          "output_type": "stream",
          "name": "stdout",
          "text": [
            "AGROT: Önceki RSI = 35.801624456263156, Güncel RSI = 29.739167013764828, Seviye Aralığı = (40, 50)\n"
          ]
        },
        {
          "output_type": "stream",
          "name": "stderr",
          "text": [
            "\r📊 Haftalık RSI 40 - 50 aralığında taranıyor:   2%|▏         | 11/601 [00:06<05:16,  1.87hisse/s]"
          ]
        },
        {
          "output_type": "stream",
          "name": "stdout",
          "text": [
            "AGYO: Önceki RSI = 43.802689079552565, Güncel RSI = 33.18237719925057, Seviye Aralığı = (40, 50)\n"
          ]
        },
        {
          "output_type": "stream",
          "name": "stderr",
          "text": [
            "\r📊 Haftalık RSI 40 - 50 aralığında taranıyor:   2%|▏         | 12/601 [00:06<05:29,  1.79hisse/s]"
          ]
        },
        {
          "output_type": "stream",
          "name": "stdout",
          "text": [
            "AHGAZ: Önceki RSI = 62.45842057471777, Güncel RSI = 59.72857791934813, Seviye Aralığı = (40, 50)\n"
          ]
        },
        {
          "output_type": "stream",
          "name": "stderr",
          "text": [
            "\r📊 Haftalık RSI 40 - 50 aralığında taranıyor:   2%|▏         | 13/601 [00:07<05:21,  1.83hisse/s]"
          ]
        },
        {
          "output_type": "stream",
          "name": "stdout",
          "text": [
            "AHSGY: Önceki RSI = 47.67256154078908, Güncel RSI = 37.59174242434018, Seviye Aralığı = (40, 50)\n"
          ]
        },
        {
          "output_type": "stream",
          "name": "stderr",
          "text": [
            "\r📊 Haftalık RSI 40 - 50 aralığında taranıyor:   2%|▏         | 14/601 [00:07<05:21,  1.83hisse/s]"
          ]
        },
        {
          "output_type": "stream",
          "name": "stdout",
          "text": [
            "AKBNK: Önceki RSI = 68.63349773098801, Güncel RSI = 40.720524873662235, Seviye Aralığı = (40, 50)\n",
            "AKBNK RSI (40, 50) aralığında! 🚀\n"
          ]
        },
        {
          "output_type": "stream",
          "name": "stderr",
          "text": [
            "\r📊 Haftalık RSI 40 - 50 aralığında taranıyor:   2%|▏         | 15/601 [00:08<05:41,  1.71hisse/s]"
          ]
        },
        {
          "output_type": "stream",
          "name": "stdout",
          "text": [
            "AKCNS: Önceki RSI = 55.67328652025663, Güncel RSI = 51.01160320289269, Seviye Aralığı = (40, 50)\n"
          ]
        },
        {
          "output_type": "stream",
          "name": "stderr",
          "text": [
            "\r📊 Haftalık RSI 40 - 50 aralığında taranıyor:   3%|▎         | 16/601 [00:09<05:40,  1.72hisse/s]"
          ]
        },
        {
          "output_type": "stream",
          "name": "stdout",
          "text": [
            "AKENR: Önceki RSI = 41.62466609676983, Güncel RSI = 32.342681890734255, Seviye Aralığı = (40, 50)\n"
          ]
        },
        {
          "output_type": "stream",
          "name": "stderr",
          "text": [
            "\r📊 Haftalık RSI 40 - 50 aralığında taranıyor:   3%|▎         | 17/601 [00:09<05:48,  1.68hisse/s]"
          ]
        },
        {
          "output_type": "stream",
          "name": "stdout",
          "text": [
            "AKFGY: Önceki RSI = 48.33017334639193, Güncel RSI = 36.092781775184534, Seviye Aralığı = (40, 50)\n"
          ]
        },
        {
          "output_type": "stream",
          "name": "stderr",
          "text": [
            "\r📊 Haftalık RSI 40 - 50 aralığında taranıyor:   3%|▎         | 18/601 [00:10<05:38,  1.72hisse/s]"
          ]
        },
        {
          "output_type": "stream",
          "name": "stdout",
          "text": [
            "⚠ AKFIS: Yeterli veri yok, taramaya dahil edilmedi.\n"
          ]
        },
        {
          "output_type": "stream",
          "name": "stderr",
          "text": [
            "\r📊 Haftalık RSI 40 - 50 aralığında taranıyor:   3%|▎         | 19/601 [00:10<05:28,  1.77hisse/s]"
          ]
        },
        {
          "output_type": "stream",
          "name": "stdout",
          "text": [
            "AKFYE: Önceki RSI = 43.58872311972392, Güncel RSI = 31.744701527457607, Seviye Aralığı = (40, 50)\n"
          ]
        },
        {
          "output_type": "stream",
          "name": "stderr",
          "text": [
            "\r📊 Haftalık RSI 40 - 50 aralığında taranıyor:   3%|▎         | 20/601 [00:11<05:30,  1.76hisse/s]"
          ]
        },
        {
          "output_type": "stream",
          "name": "stdout",
          "text": [
            "AKGRT: Önceki RSI = 56.50953578622598, Güncel RSI = 43.323185316750546, Seviye Aralığı = (40, 50)\n",
            "AKGRT RSI (40, 50) aralığında! 🚀\n"
          ]
        },
        {
          "output_type": "stream",
          "name": "stderr",
          "text": [
            "\r📊 Haftalık RSI 40 - 50 aralığında taranıyor:   3%|▎         | 21/601 [00:12<05:34,  1.73hisse/s]"
          ]
        },
        {
          "output_type": "stream",
          "name": "stdout",
          "text": [
            "AKMGY: Önceki RSI = 53.67817423747015, Güncel RSI = 44.17008940136471, Seviye Aralığı = (40, 50)\n",
            "AKMGY RSI (40, 50) aralığında! 🚀\n"
          ]
        },
        {
          "output_type": "stream",
          "name": "stderr",
          "text": [
            "\r📊 Haftalık RSI 40 - 50 aralığında taranıyor:   4%|▎         | 22/601 [00:12<05:40,  1.70hisse/s]"
          ]
        },
        {
          "output_type": "stream",
          "name": "stdout",
          "text": [
            "AKSA: Önceki RSI = 65.0361301000286, Güncel RSI = 46.79594522305632, Seviye Aralığı = (40, 50)\n",
            "AKSA RSI (40, 50) aralığında! 🚀\n"
          ]
        },
        {
          "output_type": "stream",
          "name": "stderr",
          "text": [
            "\r📊 Haftalık RSI 40 - 50 aralığında taranıyor:   4%|▍         | 23/601 [00:13<05:45,  1.67hisse/s]"
          ]
        },
        {
          "output_type": "stream",
          "name": "stdout",
          "text": [
            "AKSEN: Önceki RSI = 48.218920479614624, Güncel RSI = 34.479855347416986, Seviye Aralığı = (40, 50)\n"
          ]
        },
        {
          "output_type": "stream",
          "name": "stderr",
          "text": [
            "\r📊 Haftalık RSI 40 - 50 aralığında taranıyor:   4%|▍         | 24/601 [00:13<05:54,  1.63hisse/s]"
          ]
        },
        {
          "output_type": "stream",
          "name": "stdout",
          "text": [
            "AKSGY: Önceki RSI = 61.2769538214371, Güncel RSI = 43.93198145032921, Seviye Aralığı = (40, 50)\n",
            "AKSGY RSI (40, 50) aralığında! 🚀\n"
          ]
        },
        {
          "output_type": "stream",
          "name": "stderr",
          "text": [
            "\r📊 Haftalık RSI 40 - 50 aralığında taranıyor:   4%|▍         | 25/601 [00:14<05:46,  1.66hisse/s]"
          ]
        },
        {
          "output_type": "stream",
          "name": "stdout",
          "text": [
            "AKSUE: Önceki RSI = 70.52439979318186, Güncel RSI = 70.37034586121374, Seviye Aralığı = (40, 50)\n"
          ]
        },
        {
          "output_type": "stream",
          "name": "stderr",
          "text": [
            "\r📊 Haftalık RSI 40 - 50 aralığında taranıyor:   4%|▍         | 26/601 [00:15<05:55,  1.62hisse/s]"
          ]
        },
        {
          "output_type": "stream",
          "name": "stdout",
          "text": [
            "AKYHO: Önceki RSI = 63.35371353438703, Güncel RSI = 46.60977625069089, Seviye Aralığı = (40, 50)\n",
            "AKYHO RSI (40, 50) aralığında! 🚀\n"
          ]
        },
        {
          "output_type": "stream",
          "name": "stderr",
          "text": [
            "\r📊 Haftalık RSI 40 - 50 aralığında taranıyor:   4%|▍         | 27/601 [00:15<05:47,  1.65hisse/s]"
          ]
        },
        {
          "output_type": "stream",
          "name": "stdout",
          "text": [
            "ALARK: Önceki RSI = 43.292869169606746, Güncel RSI = 38.77394609365572, Seviye Aralığı = (40, 50)\n"
          ]
        },
        {
          "output_type": "stream",
          "name": "stderr",
          "text": [
            "\r📊 Haftalık RSI 40 - 50 aralığında taranıyor:   5%|▍         | 28/601 [00:16<05:45,  1.66hisse/s]"
          ]
        },
        {
          "output_type": "stream",
          "name": "stdout",
          "text": [
            "ALBRK: Önceki RSI = 64.50169246618924, Güncel RSI = 43.69752648723079, Seviye Aralığı = (40, 50)\n",
            "ALBRK RSI (40, 50) aralığında! 🚀\n"
          ]
        },
        {
          "output_type": "stream",
          "name": "stderr",
          "text": [
            "\r📊 Haftalık RSI 40 - 50 aralığında taranıyor:   5%|▍         | 29/601 [00:16<05:39,  1.68hisse/s]"
          ]
        },
        {
          "output_type": "stream",
          "name": "stdout",
          "text": [
            "ALCAR: Önceki RSI = 55.23740804162886, Güncel RSI = 50.35970028344566, Seviye Aralığı = (40, 50)\n"
          ]
        },
        {
          "output_type": "stream",
          "name": "stderr",
          "text": [
            "\r📊 Haftalık RSI 40 - 50 aralığında taranıyor:   5%|▍         | 30/601 [00:17<06:00,  1.58hisse/s]"
          ]
        },
        {
          "output_type": "stream",
          "name": "stdout",
          "text": [
            "ALCTL: Önceki RSI = 48.06177989614567, Güncel RSI = 36.43699020735748, Seviye Aralığı = (40, 50)\n"
          ]
        },
        {
          "output_type": "stream",
          "name": "stderr",
          "text": [
            "\r📊 Haftalık RSI 40 - 50 aralığında taranıyor:   5%|▌         | 31/601 [00:18<05:38,  1.69hisse/s]"
          ]
        },
        {
          "output_type": "stream",
          "name": "stdout",
          "text": [
            "ALFAS: Önceki RSI = 38.9601849223303, Güncel RSI = 33.01698096958917, Seviye Aralığı = (40, 50)\n"
          ]
        },
        {
          "output_type": "stream",
          "name": "stderr",
          "text": [
            "\r📊 Haftalık RSI 40 - 50 aralığında taranıyor:   5%|▌         | 32/601 [00:18<05:29,  1.73hisse/s]"
          ]
        },
        {
          "output_type": "stream",
          "name": "stdout",
          "text": [
            "ALGYO: Önceki RSI = 47.12448829234786, Güncel RSI = 37.633497307901365, Seviye Aralığı = (40, 50)\n"
          ]
        },
        {
          "output_type": "stream",
          "name": "stderr",
          "text": [
            "\r📊 Haftalık RSI 40 - 50 aralığında taranıyor:   5%|▌         | 33/601 [00:19<05:29,  1.72hisse/s]"
          ]
        },
        {
          "output_type": "stream",
          "name": "stdout",
          "text": [
            "ALKA: Önceki RSI = 49.954689009136736, Güncel RSI = 40.64387987111134, Seviye Aralığı = (40, 50)\n",
            "ALKA RSI (40, 50) aralığında! 🚀\n"
          ]
        },
        {
          "output_type": "stream",
          "name": "stderr",
          "text": [
            "\r📊 Haftalık RSI 40 - 50 aralığında taranıyor:   6%|▌         | 34/601 [00:19<05:29,  1.72hisse/s]"
          ]
        },
        {
          "output_type": "stream",
          "name": "stdout",
          "text": [
            "ALKIM: Önceki RSI = 50.507764598425, Güncel RSI = 36.076446563032576, Seviye Aralığı = (40, 50)\n"
          ]
        },
        {
          "output_type": "stream",
          "name": "stderr",
          "text": [
            "\r📊 Haftalık RSI 40 - 50 aralığında taranıyor:   6%|▌         | 35/601 [00:20<05:24,  1.75hisse/s]"
          ]
        },
        {
          "output_type": "stream",
          "name": "stdout",
          "text": [
            "ALKLC: Önceki RSI = 69.38540756648648, Güncel RSI = 62.691190180955765, Seviye Aralığı = (40, 50)\n"
          ]
        },
        {
          "output_type": "stream",
          "name": "stderr",
          "text": [
            "\r📊 Haftalık RSI 40 - 50 aralığında taranıyor:   6%|▌         | 36/601 [00:21<05:24,  1.74hisse/s]"
          ]
        },
        {
          "output_type": "stream",
          "name": "stdout",
          "text": [
            "ALMAD: Önceki RSI = 55.418945661375254, Güncel RSI = 42.59271886145923, Seviye Aralığı = (40, 50)\n",
            "ALMAD RSI (40, 50) aralığında! 🚀\n"
          ]
        },
        {
          "output_type": "stream",
          "name": "stderr",
          "text": [
            "\r📊 Haftalık RSI 40 - 50 aralığında taranıyor:   6%|▌         | 37/601 [00:21<05:21,  1.75hisse/s]"
          ]
        },
        {
          "output_type": "stream",
          "name": "stdout",
          "text": [
            "ALTIN: Önceki RSI = 70.98748141003878, Güncel RSI = 79.32486122578223, Seviye Aralığı = (40, 50)\n"
          ]
        },
        {
          "output_type": "stream",
          "name": "stderr",
          "text": [
            "\r📊 Haftalık RSI 40 - 50 aralığında taranıyor:   6%|▋         | 38/601 [00:22<05:11,  1.80hisse/s]"
          ]
        },
        {
          "output_type": "stream",
          "name": "stdout",
          "text": [
            "ALTNY: Önceki RSI = 53.98291718391679, Güncel RSI = 59.63684124632149, Seviye Aralığı = (40, 50)\n"
          ]
        },
        {
          "output_type": "stream",
          "name": "stderr",
          "text": [
            "\r📊 Haftalık RSI 40 - 50 aralığında taranıyor:   6%|▋         | 39/601 [00:22<05:21,  1.75hisse/s]"
          ]
        },
        {
          "output_type": "stream",
          "name": "stdout",
          "text": [
            "ALVES: Önceki RSI = 43.59267345344455, Güncel RSI = 35.99031982598531, Seviye Aralığı = (40, 50)\n"
          ]
        },
        {
          "output_type": "stream",
          "name": "stderr",
          "text": [
            "\r📊 Haftalık RSI 40 - 50 aralığında taranıyor:   7%|▋         | 40/601 [00:23<05:19,  1.75hisse/s]"
          ]
        },
        {
          "output_type": "stream",
          "name": "stdout",
          "text": [
            "ANELE: Önceki RSI = 55.03815591343886, Güncel RSI = 51.37240871023119, Seviye Aralığı = (40, 50)\n"
          ]
        },
        {
          "output_type": "stream",
          "name": "stderr",
          "text": [
            "\r📊 Haftalık RSI 40 - 50 aralığında taranıyor:   7%|▋         | 41/601 [00:23<05:17,  1.76hisse/s]"
          ]
        },
        {
          "output_type": "stream",
          "name": "stdout",
          "text": [
            "ANGEN: Önceki RSI = 43.786172344404136, Güncel RSI = 32.155837103873324, Seviye Aralığı = (40, 50)\n"
          ]
        },
        {
          "output_type": "stream",
          "name": "stderr",
          "text": [
            "\r📊 Haftalık RSI 40 - 50 aralığında taranıyor:   7%|▋         | 42/601 [00:24<05:23,  1.73hisse/s]"
          ]
        },
        {
          "output_type": "stream",
          "name": "stdout",
          "text": [
            "ANHYT: Önceki RSI = 58.82609959362037, Güncel RSI = 43.58686630488793, Seviye Aralığı = (40, 50)\n",
            "ANHYT RSI (40, 50) aralığında! 🚀\n"
          ]
        },
        {
          "output_type": "stream",
          "name": "stderr",
          "text": [
            "\r📊 Haftalık RSI 40 - 50 aralığında taranıyor:   7%|▋         | 43/601 [00:24<05:17,  1.75hisse/s]"
          ]
        },
        {
          "output_type": "stream",
          "name": "stdout",
          "text": [
            "ANSGR: Önceki RSI = 61.02699731191999, Güncel RSI = 47.77051439043178, Seviye Aralığı = (40, 50)\n",
            "ANSGR RSI (40, 50) aralığında! 🚀\n"
          ]
        },
        {
          "output_type": "stream",
          "name": "stderr",
          "text": [
            "\r📊 Haftalık RSI 40 - 50 aralığında taranıyor:   7%|▋         | 44/601 [00:25<05:04,  1.83hisse/s]"
          ]
        },
        {
          "output_type": "stream",
          "name": "stdout",
          "text": [
            "APBDL: Önceki RSI = 64.13047824411112, Güncel RSI = 41.8528316953362, Seviye Aralığı = (40, 50)\n",
            "APBDL RSI (40, 50) aralığında! 🚀\n"
          ]
        },
        {
          "output_type": "stream",
          "name": "stderr",
          "text": [
            "\r📊 Haftalık RSI 40 - 50 aralığında taranıyor:   7%|▋         | 45/601 [00:26<05:07,  1.81hisse/s]"
          ]
        },
        {
          "output_type": "stream",
          "name": "stdout",
          "text": [
            "APX30: Önceki RSI = 67.6109500459049, Güncel RSI = 40.94701479606466, Seviye Aralığı = (40, 50)\n",
            "APX30 RSI (40, 50) aralığında! 🚀\n"
          ]
        },
        {
          "output_type": "stream",
          "name": "stderr",
          "text": [
            "\r📊 Haftalık RSI 40 - 50 aralığında taranıyor:   8%|▊         | 46/601 [00:26<05:36,  1.65hisse/s]"
          ]
        },
        {
          "output_type": "stream",
          "name": "stdout",
          "text": [
            "ARASE: Önceki RSI = 39.45231765410462, Güncel RSI = 29.46647043715528, Seviye Aralığı = (40, 50)\n"
          ]
        },
        {
          "output_type": "stream",
          "name": "stderr",
          "text": [
            "\r📊 Haftalık RSI 40 - 50 aralığında taranıyor:   8%|▊         | 47/601 [00:27<05:28,  1.69hisse/s]"
          ]
        },
        {
          "output_type": "stream",
          "name": "stdout",
          "text": [
            "ARCLK: Önceki RSI = 55.431113920787865, Güncel RSI = 48.47670568659265, Seviye Aralığı = (40, 50)\n",
            "ARCLK RSI (40, 50) aralığında! 🚀\n"
          ]
        },
        {
          "output_type": "stream",
          "name": "stderr",
          "text": [
            "\r📊 Haftalık RSI 40 - 50 aralığında taranıyor:   8%|▊         | 48/601 [00:27<05:30,  1.67hisse/s]"
          ]
        },
        {
          "output_type": "stream",
          "name": "stdout",
          "text": [
            "ARDYZ: Önceki RSI = 39.13398317888945, Güncel RSI = 29.246227818921398, Seviye Aralığı = (40, 50)\n"
          ]
        },
        {
          "output_type": "stream",
          "name": "stderr",
          "text": [
            "\r📊 Haftalık RSI 40 - 50 aralığında taranıyor:   8%|▊         | 49/601 [00:28<05:25,  1.70hisse/s]"
          ]
        },
        {
          "output_type": "stream",
          "name": "stdout",
          "text": [
            "ARENA: Önceki RSI = 66.00125417936164, Güncel RSI = 47.697670649555526, Seviye Aralığı = (40, 50)\n",
            "ARENA RSI (40, 50) aralığında! 🚀\n"
          ]
        },
        {
          "output_type": "stream",
          "name": "stderr",
          "text": [
            "\r📊 Haftalık RSI 40 - 50 aralığında taranıyor:   8%|▊         | 50/601 [00:29<05:20,  1.72hisse/s]"
          ]
        },
        {
          "output_type": "stream",
          "name": "stdout",
          "text": [
            "⚠ ARMGD: Yeterli veri yok, taramaya dahil edilmedi.\n"
          ]
        },
        {
          "output_type": "stream",
          "name": "stderr",
          "text": [
            "\r📊 Haftalık RSI 40 - 50 aralığında taranıyor:   8%|▊         | 51/601 [00:29<05:28,  1.67hisse/s]"
          ]
        },
        {
          "output_type": "stream",
          "name": "stdout",
          "text": [
            "ARSAN: Önceki RSI = 46.732347986563084, Güncel RSI = 40.60735302829831, Seviye Aralığı = (40, 50)\n",
            "ARSAN RSI (40, 50) aralığında! 🚀\n"
          ]
        },
        {
          "output_type": "stream",
          "name": "stderr",
          "text": [
            "\r📊 Haftalık RSI 40 - 50 aralığında taranıyor:   9%|▊         | 52/601 [00:29<04:33,  2.01hisse/s]"
          ]
        },
        {
          "output_type": "stream",
          "name": "stdout",
          "text": [
            "ARTMS: Önceki RSI = 44.120025936967984, Güncel RSI = 34.49596682015874, Seviye Aralığı = (40, 50)\n"
          ]
        },
        {
          "output_type": "stream",
          "name": "stderr",
          "text": [
            "\r📊 Haftalık RSI 40 - 50 aralığında taranıyor:   9%|▉         | 53/601 [00:30<04:55,  1.85hisse/s]"
          ]
        },
        {
          "output_type": "stream",
          "name": "stdout",
          "text": [
            "ARZUM: Önceki RSI = 46.78938452255318, Güncel RSI = 43.13044210824393, Seviye Aralığı = (40, 50)\n",
            "ARZUM RSI (40, 50) aralığında! 🚀\n"
          ]
        },
        {
          "output_type": "stream",
          "name": "stderr",
          "text": [
            "\r📊 Haftalık RSI 40 - 50 aralığında taranıyor:   9%|▉         | 54/601 [00:31<04:32,  2.01hisse/s]"
          ]
        },
        {
          "output_type": "stream",
          "name": "stdout",
          "text": [
            "ASELS: Önceki RSI = 83.08614138192237, Güncel RSI = 74.55190117638446, Seviye Aralığı = (40, 50)\n"
          ]
        },
        {
          "output_type": "stream",
          "name": "stderr",
          "text": [
            "\r📊 Haftalık RSI 40 - 50 aralığında taranıyor:   9%|▉         | 55/601 [00:31<04:34,  1.99hisse/s]"
          ]
        },
        {
          "output_type": "stream",
          "name": "stdout",
          "text": [
            "ASGYO: Önceki RSI = 39.5454780274287, Güncel RSI = 29.865353991483673, Seviye Aralığı = (40, 50)\n"
          ]
        },
        {
          "output_type": "stream",
          "name": "stderr",
          "text": [
            "\r📊 Haftalık RSI 40 - 50 aralığında taranıyor:   9%|▉         | 56/601 [00:32<04:42,  1.93hisse/s]"
          ]
        },
        {
          "output_type": "stream",
          "name": "stdout",
          "text": [
            "ASTOR: Önceki RSI = 60.16334320274666, Güncel RSI = 43.571901175838256, Seviye Aralığı = (40, 50)\n",
            "ASTOR RSI (40, 50) aralığında! 🚀\n"
          ]
        },
        {
          "output_type": "stream",
          "name": "stderr",
          "text": [
            "\r📊 Haftalık RSI 40 - 50 aralığında taranıyor:   9%|▉         | 57/601 [00:32<04:43,  1.92hisse/s]"
          ]
        },
        {
          "output_type": "stream",
          "name": "stdout",
          "text": [
            "ASUZU: Önceki RSI = 45.71751619848158, Güncel RSI = 36.38507271233381, Seviye Aralığı = (40, 50)\n"
          ]
        },
        {
          "output_type": "stream",
          "name": "stderr",
          "text": [
            "\r📊 Haftalık RSI 40 - 50 aralığında taranıyor:  10%|▉         | 58/601 [00:33<04:44,  1.91hisse/s]"
          ]
        },
        {
          "output_type": "stream",
          "name": "stdout",
          "text": [
            "ATAGY: Önceki RSI = 49.704472834576194, Güncel RSI = 37.374966302718214, Seviye Aralığı = (40, 50)\n"
          ]
        },
        {
          "output_type": "stream",
          "name": "stderr",
          "text": [
            "\r📊 Haftalık RSI 40 - 50 aralığında taranıyor:  10%|▉         | 59/601 [00:33<04:14,  2.13hisse/s]"
          ]
        },
        {
          "output_type": "stream",
          "name": "stdout",
          "text": [
            "ATAKP: Önceki RSI = 43.48961056402237, Güncel RSI = 33.30991703842625, Seviye Aralığı = (40, 50)\n"
          ]
        },
        {
          "output_type": "stream",
          "name": "stderr",
          "text": [
            "\r📊 Haftalık RSI 40 - 50 aralığında taranıyor:  10%|▉         | 60/601 [00:34<04:29,  2.01hisse/s]"
          ]
        },
        {
          "output_type": "stream",
          "name": "stdout",
          "text": [
            "ATATP: Önceki RSI = 45.93901562075464, Güncel RSI = 34.71665361037623, Seviye Aralığı = (40, 50)\n"
          ]
        },
        {
          "output_type": "stream",
          "name": "stderr",
          "text": [
            "\r📊 Haftalık RSI 40 - 50 aralığında taranıyor:  10%|█         | 61/601 [00:34<04:21,  2.07hisse/s]"
          ]
        },
        {
          "output_type": "stream",
          "name": "stdout",
          "text": [
            "ATEKS: Önceki RSI = 44.93335263271805, Güncel RSI = 28.686163328730515, Seviye Aralığı = (40, 50)\n"
          ]
        },
        {
          "output_type": "stream",
          "name": "stderr",
          "text": [
            "\r📊 Haftalık RSI 40 - 50 aralığında taranıyor:  10%|█         | 62/601 [00:35<04:33,  1.97hisse/s]"
          ]
        },
        {
          "output_type": "stream",
          "name": "stdout",
          "text": [
            "ATLAS: Önceki RSI = 43.45132819373959, Güncel RSI = 40.9454151334655, Seviye Aralığı = (40, 50)\n",
            "ATLAS RSI (40, 50) aralığında! 🚀\n"
          ]
        },
        {
          "output_type": "stream",
          "name": "stderr",
          "text": [
            "\r📊 Haftalık RSI 40 - 50 aralığında taranıyor:  10%|█         | 63/601 [00:35<04:33,  1.97hisse/s]"
          ]
        },
        {
          "output_type": "stream",
          "name": "stdout",
          "text": [
            "ATSYH: Önceki RSI = 45.780944544526086, Güncel RSI = 44.03993194744685, Seviye Aralığı = (40, 50)\n",
            "ATSYH RSI (40, 50) aralığında! 🚀\n"
          ]
        },
        {
          "output_type": "stream",
          "name": "stderr",
          "text": [
            "\r📊 Haftalık RSI 40 - 50 aralığında taranıyor:  11%|█         | 64/601 [00:35<04:06,  2.18hisse/s]"
          ]
        },
        {
          "output_type": "stream",
          "name": "stdout",
          "text": [
            "AVGYO: Önceki RSI = 45.85791534676889, Güncel RSI = 55.35157534189249, Seviye Aralığı = (40, 50)\n"
          ]
        },
        {
          "output_type": "stream",
          "name": "stderr",
          "text": [
            "\r📊 Haftalık RSI 40 - 50 aralığında taranıyor:  11%|█         | 65/601 [00:36<04:35,  1.94hisse/s]"
          ]
        },
        {
          "output_type": "stream",
          "name": "stdout",
          "text": [
            "AVHOL: Önceki RSI = 49.67015618471535, Güncel RSI = 38.568672321947155, Seviye Aralığı = (40, 50)\n"
          ]
        },
        {
          "output_type": "stream",
          "name": "stderr",
          "text": [
            "\r📊 Haftalık RSI 40 - 50 aralığında taranıyor:  11%|█         | 66/601 [00:37<04:27,  2.00hisse/s]"
          ]
        },
        {
          "output_type": "stream",
          "name": "stdout",
          "text": [
            "AVOD: Önceki RSI = 39.65002346086684, Güncel RSI = 31.310188568211004, Seviye Aralığı = (40, 50)\n"
          ]
        },
        {
          "output_type": "stream",
          "name": "stderr",
          "text": [
            "\r📊 Haftalık RSI 40 - 50 aralığında taranıyor:  11%|█         | 67/601 [00:37<04:34,  1.95hisse/s]"
          ]
        },
        {
          "output_type": "stream",
          "name": "stdout",
          "text": [
            "AVPGY: Önceki RSI = 72.04706123620349, Güncel RSI = 44.50936245418451, Seviye Aralığı = (40, 50)\n",
            "AVPGY RSI (40, 50) aralığında! 🚀\n"
          ]
        },
        {
          "output_type": "stream",
          "name": "stderr",
          "text": [
            "\r📊 Haftalık RSI 40 - 50 aralığında taranıyor:  11%|█▏        | 68/601 [00:38<04:27,  2.00hisse/s]"
          ]
        },
        {
          "output_type": "stream",
          "name": "stdout",
          "text": [
            "AVTUR: Önceki RSI = 46.22556511102969, Güncel RSI = 40.19247308506702, Seviye Aralığı = (40, 50)\n",
            "AVTUR RSI (40, 50) aralığında! 🚀\n"
          ]
        },
        {
          "output_type": "stream",
          "name": "stderr",
          "text": [
            "\r📊 Haftalık RSI 40 - 50 aralığında taranıyor:  11%|█▏        | 69/601 [00:38<04:23,  2.02hisse/s]"
          ]
        },
        {
          "output_type": "stream",
          "name": "stdout",
          "text": [
            "AYCES: Önceki RSI = 46.765866404909886, Güncel RSI = 36.77267852988248, Seviye Aralığı = (40, 50)\n"
          ]
        },
        {
          "output_type": "stream",
          "name": "stderr",
          "text": [
            "\r📊 Haftalık RSI 40 - 50 aralığında taranıyor:  12%|█▏        | 70/601 [00:39<04:24,  2.01hisse/s]"
          ]
        },
        {
          "output_type": "stream",
          "name": "stdout",
          "text": [
            "AYDEM: Önceki RSI = 36.80053388889129, Güncel RSI = 28.99922645705395, Seviye Aralığı = (40, 50)\n"
          ]
        },
        {
          "output_type": "stream",
          "name": "stderr",
          "text": [
            "\r📊 Haftalık RSI 40 - 50 aralığında taranıyor:  12%|█▏        | 71/601 [00:39<04:25,  2.00hisse/s]"
          ]
        },
        {
          "output_type": "stream",
          "name": "stdout",
          "text": [
            "AYEN: Önceki RSI = 47.019177072301886, Güncel RSI = 34.87631617347222, Seviye Aralığı = (40, 50)\n"
          ]
        },
        {
          "output_type": "stream",
          "name": "stderr",
          "text": [
            "\r📊 Haftalık RSI 40 - 50 aralığında taranıyor:  12%|█▏        | 72/601 [00:40<04:21,  2.02hisse/s]"
          ]
        },
        {
          "output_type": "stream",
          "name": "stdout",
          "text": [
            "AYES: Önceki RSI = 58.18081414535896, Güncel RSI = 42.789990182882235, Seviye Aralığı = (40, 50)\n",
            "AYES RSI (40, 50) aralığında! 🚀\n"
          ]
        },
        {
          "output_type": "stream",
          "name": "stderr",
          "text": [
            "\r📊 Haftalık RSI 40 - 50 aralığında taranıyor:  12%|█▏        | 73/601 [00:40<04:18,  2.05hisse/s]"
          ]
        },
        {
          "output_type": "stream",
          "name": "stdout",
          "text": [
            "AYGAZ: Önceki RSI = 53.62406110249079, Güncel RSI = 45.29070541520886, Seviye Aralığı = (40, 50)\n",
            "AYGAZ RSI (40, 50) aralığında! 🚀\n"
          ]
        },
        {
          "output_type": "stream",
          "name": "stderr",
          "text": [
            "\r📊 Haftalık RSI 40 - 50 aralığında taranıyor:  12%|█▏        | 74/601 [00:41<04:28,  1.96hisse/s]"
          ]
        },
        {
          "output_type": "stream",
          "name": "stdout",
          "text": [
            "AZTEK: Önceki RSI = 38.12476989468345, Güncel RSI = 34.328506486724365, Seviye Aralığı = (40, 50)\n"
          ]
        },
        {
          "output_type": "stream",
          "name": "stderr",
          "text": [
            "\r📊 Haftalık RSI 40 - 50 aralığında taranıyor:  12%|█▏        | 75/601 [00:41<04:16,  2.05hisse/s]"
          ]
        },
        {
          "output_type": "stream",
          "name": "stdout",
          "text": [
            "BAGFS: Önceki RSI = 47.3773624286763, Güncel RSI = 34.202661417332095, Seviye Aralığı = (40, 50)\n"
          ]
        },
        {
          "output_type": "stream",
          "name": "stderr",
          "text": [
            "\r📊 Haftalık RSI 40 - 50 aralığında taranıyor:  13%|█▎        | 76/601 [00:41<04:13,  2.07hisse/s]"
          ]
        },
        {
          "output_type": "stream",
          "name": "stdout",
          "text": [
            "BAHKM: Önceki RSI = 36.656352045779606, Güncel RSI = 30.706269880295338, Seviye Aralığı = (40, 50)\n"
          ]
        },
        {
          "output_type": "stream",
          "name": "stderr",
          "text": [
            "\r📊 Haftalık RSI 40 - 50 aralığında taranıyor:  13%|█▎        | 77/601 [00:42<04:35,  1.90hisse/s]"
          ]
        },
        {
          "output_type": "stream",
          "name": "stdout",
          "text": [
            "BAKAB: Önceki RSI = 39.971686429701, Güncel RSI = 31.425317094019604, Seviye Aralığı = (40, 50)\n"
          ]
        },
        {
          "output_type": "stream",
          "name": "stderr",
          "text": [
            "\r📊 Haftalık RSI 40 - 50 aralığında taranıyor:  13%|█▎        | 78/601 [00:43<04:27,  1.95hisse/s]"
          ]
        },
        {
          "output_type": "stream",
          "name": "stdout",
          "text": [
            "BALAT: Önceki RSI = 55.21994268868681, Güncel RSI = 44.42761699636651, Seviye Aralığı = (40, 50)\n",
            "BALAT RSI (40, 50) aralığında! 🚀\n"
          ]
        },
        {
          "output_type": "stream",
          "name": "stderr",
          "text": [
            "\r📊 Haftalık RSI 40 - 50 aralığında taranıyor:  13%|█▎        | 79/601 [00:43<04:13,  2.06hisse/s]"
          ]
        },
        {
          "output_type": "stream",
          "name": "stdout",
          "text": [
            "⚠ BALSU: Yeterli veri yok, taramaya dahil edilmedi.\n"
          ]
        },
        {
          "output_type": "stream",
          "name": "stderr",
          "text": [
            "\r📊 Haftalık RSI 40 - 50 aralığında taranıyor:  13%|█▎        | 80/601 [00:44<04:23,  1.98hisse/s]"
          ]
        },
        {
          "output_type": "stream",
          "name": "stdout",
          "text": [
            "BANVT: Önceki RSI = 47.34594733881567, Güncel RSI = 34.99174975448389, Seviye Aralığı = (40, 50)\n"
          ]
        },
        {
          "output_type": "stream",
          "name": "stderr",
          "text": [
            "\r📊 Haftalık RSI 40 - 50 aralığında taranıyor:  13%|█▎        | 81/601 [00:44<04:31,  1.92hisse/s]"
          ]
        },
        {
          "output_type": "stream",
          "name": "stdout",
          "text": [
            "BARMA: Önceki RSI = 66.65637703310117, Güncel RSI = 41.200413677784525, Seviye Aralığı = (40, 50)\n",
            "BARMA RSI (40, 50) aralığında! 🚀\n"
          ]
        },
        {
          "output_type": "stream",
          "name": "stderr",
          "text": [
            "\r📊 Haftalık RSI 40 - 50 aralığında taranıyor:  14%|█▎        | 82/601 [00:45<04:15,  2.03hisse/s]"
          ]
        },
        {
          "output_type": "stream",
          "name": "stdout",
          "text": [
            "BASCM: Önceki RSI = 54.388797384805656, Güncel RSI = 38.19937621674684, Seviye Aralığı = (40, 50)\n"
          ]
        },
        {
          "output_type": "stream",
          "name": "stderr",
          "text": [
            "\r📊 Haftalık RSI 40 - 50 aralığında taranıyor:  14%|█▍        | 83/601 [00:45<04:21,  1.98hisse/s]"
          ]
        },
        {
          "output_type": "stream",
          "name": "stdout",
          "text": [
            "BASGZ: Önceki RSI = 57.27576651797877, Güncel RSI = 42.54015081584717, Seviye Aralığı = (40, 50)\n",
            "BASGZ RSI (40, 50) aralığında! 🚀\n"
          ]
        },
        {
          "output_type": "stream",
          "name": "stderr",
          "text": [
            "\r📊 Haftalık RSI 40 - 50 aralığında taranıyor:  14%|█▍        | 84/601 [00:46<04:23,  1.97hisse/s]"
          ]
        },
        {
          "output_type": "stream",
          "name": "stdout",
          "text": [
            "BAYRK: Önceki RSI = 40.51535882263426, Güncel RSI = 38.95763337896355, Seviye Aralığı = (40, 50)\n"
          ]
        },
        {
          "output_type": "stream",
          "name": "stderr",
          "text": [
            "\r📊 Haftalık RSI 40 - 50 aralığında taranıyor:  14%|█▍        | 85/601 [00:46<04:07,  2.09hisse/s]"
          ]
        },
        {
          "output_type": "stream",
          "name": "stdout",
          "text": [
            "BEGYO: Önceki RSI = 92.79385723934898, Güncel RSI = 82.41121914629886, Seviye Aralığı = (40, 50)\n"
          ]
        },
        {
          "output_type": "stream",
          "name": "stderr",
          "text": [
            "\r📊 Haftalık RSI 40 - 50 aralığında taranıyor:  14%|█▍        | 86/601 [00:47<04:25,  1.94hisse/s]"
          ]
        },
        {
          "output_type": "stream",
          "name": "stdout",
          "text": [
            "BERA: Önceki RSI = 57.495424186610514, Güncel RSI = 43.36339190780869, Seviye Aralığı = (40, 50)\n",
            "BERA RSI (40, 50) aralığında! 🚀\n"
          ]
        },
        {
          "output_type": "stream",
          "name": "stderr",
          "text": [
            "\r📊 Haftalık RSI 40 - 50 aralığında taranıyor:  14%|█▍        | 87/601 [00:47<04:14,  2.02hisse/s]"
          ]
        },
        {
          "output_type": "stream",
          "name": "stdout",
          "text": [
            "BEYAZ: Önceki RSI = 42.368091064544984, Güncel RSI = 33.887400407236086, Seviye Aralığı = (40, 50)\n"
          ]
        },
        {
          "output_type": "stream",
          "name": "stderr",
          "text": [
            "\r📊 Haftalık RSI 40 - 50 aralığında taranıyor:  15%|█▍        | 88/601 [00:48<04:14,  2.02hisse/s]"
          ]
        },
        {
          "output_type": "stream",
          "name": "stdout",
          "text": [
            "BFREN: Önceki RSI = 51.07550744442025, Güncel RSI = 41.93896582694856, Seviye Aralığı = (40, 50)\n",
            "BFREN RSI (40, 50) aralığında! 🚀\n"
          ]
        },
        {
          "output_type": "stream",
          "name": "stderr",
          "text": [
            "\r📊 Haftalık RSI 40 - 50 aralığında taranıyor:  15%|█▍        | 89/601 [00:48<04:29,  1.90hisse/s]"
          ]
        },
        {
          "output_type": "stream",
          "name": "stdout",
          "text": [
            "BIENY: Önceki RSI = 48.12062325948041, Güncel RSI = 44.49138706991364, Seviye Aralığı = (40, 50)\n",
            "BIENY RSI (40, 50) aralığında! 🚀\n"
          ]
        },
        {
          "output_type": "stream",
          "name": "stderr",
          "text": [
            "\r📊 Haftalık RSI 40 - 50 aralığında taranıyor:  15%|█▍        | 90/601 [00:49<04:13,  2.02hisse/s]"
          ]
        },
        {
          "output_type": "stream",
          "name": "stdout",
          "text": [
            "BIGCH: Önceki RSI = 52.47119724383727, Güncel RSI = 39.77105904994076, Seviye Aralığı = (40, 50)\n"
          ]
        },
        {
          "output_type": "stream",
          "name": "stderr",
          "text": [
            "\r📊 Haftalık RSI 40 - 50 aralığında taranıyor:  15%|█▌        | 91/601 [00:49<04:13,  2.01hisse/s]"
          ]
        },
        {
          "output_type": "stream",
          "name": "stdout",
          "text": [
            "⚠ BIGEN: Yeterli veri yok, taramaya dahil edilmedi.\n"
          ]
        },
        {
          "output_type": "stream",
          "name": "stderr",
          "text": [
            "\r📊 Haftalık RSI 40 - 50 aralığında taranıyor:  15%|█▌        | 92/601 [00:49<04:01,  2.11hisse/s]"
          ]
        },
        {
          "output_type": "stream",
          "name": "stdout",
          "text": [
            "BIMAS: Önceki RSI = 51.5247211700385, Güncel RSI = 36.301765187404676, Seviye Aralığı = (40, 50)\n"
          ]
        },
        {
          "output_type": "stream",
          "name": "stderr",
          "text": [
            "\r📊 Haftalık RSI 40 - 50 aralığında taranıyor:  15%|█▌        | 93/601 [00:50<04:13,  2.00hisse/s]"
          ]
        },
        {
          "output_type": "stream",
          "name": "stdout",
          "text": [
            "BINBN: Önceki RSI = 72.80867892324666, Güncel RSI = 79.20811551143107, Seviye Aralığı = (40, 50)\n"
          ]
        },
        {
          "output_type": "stream",
          "name": "stderr",
          "text": [
            "\r📊 Haftalık RSI 40 - 50 aralığında taranıyor:  16%|█▌        | 94/601 [00:51<04:08,  2.04hisse/s]"
          ]
        },
        {
          "output_type": "stream",
          "name": "stdout",
          "text": [
            "BINHO: Önceki RSI = 31.02768547182457, Güncel RSI = 26.973630462777265, Seviye Aralığı = (40, 50)\n"
          ]
        },
        {
          "output_type": "stream",
          "name": "stderr",
          "text": [
            "\r📊 Haftalık RSI 40 - 50 aralığında taranıyor:  16%|█▌        | 95/601 [00:51<04:21,  1.93hisse/s]"
          ]
        },
        {
          "output_type": "stream",
          "name": "stdout",
          "text": [
            "BIOEN: Önceki RSI = 59.28312053224532, Güncel RSI = 42.96172180680331, Seviye Aralığı = (40, 50)\n",
            "BIOEN RSI (40, 50) aralığında! 🚀\n"
          ]
        },
        {
          "output_type": "stream",
          "name": "stderr",
          "text": [
            "📊 Haftalık RSI 40 - 50 aralığında taranıyor:  16%|█▌        | 97/601 [00:52<03:44,  2.24hisse/s]"
          ]
        },
        {
          "output_type": "stream",
          "name": "stdout",
          "text": [
            "BIZIM: Önceki RSI = 45.18885851431459, Güncel RSI = 30.124591003581614, Seviye Aralığı = (40, 50)\n",
            "BJKAS: Önceki RSI = 35.964364808116926, Güncel RSI = 30.628995589022352, Seviye Aralığı = (40, 50)\n"
          ]
        },
        {
          "output_type": "stream",
          "name": "stderr",
          "text": [
            "\r📊 Haftalık RSI 40 - 50 aralığında taranıyor:  16%|█▋        | 98/601 [00:53<04:10,  2.01hisse/s]"
          ]
        },
        {
          "output_type": "stream",
          "name": "stdout",
          "text": [
            "BLCYT: Önceki RSI = 43.47503167302189, Güncel RSI = 33.351409155711934, Seviye Aralığı = (40, 50)\n"
          ]
        },
        {
          "output_type": "stream",
          "name": "stderr",
          "text": [
            "\r📊 Haftalık RSI 40 - 50 aralığında taranıyor:  16%|█▋        | 99/601 [00:53<04:05,  2.04hisse/s]"
          ]
        },
        {
          "output_type": "stream",
          "name": "stdout",
          "text": [
            "BMSCH: Önceki RSI = 47.622544329035584, Güncel RSI = 42.90200621495431, Seviye Aralığı = (40, 50)\n",
            "BMSCH RSI (40, 50) aralığında! 🚀\n"
          ]
        },
        {
          "output_type": "stream",
          "name": "stderr",
          "text": [
            "\r📊 Haftalık RSI 40 - 50 aralığında taranıyor:  17%|█▋        | 100/601 [00:54<04:15,  1.96hisse/s]"
          ]
        },
        {
          "output_type": "stream",
          "name": "stdout",
          "text": [
            "BMSTL: Önceki RSI = 85.51419228426302, Güncel RSI = 77.1256861456398, Seviye Aralığı = (40, 50)\n"
          ]
        },
        {
          "output_type": "stream",
          "name": "stderr",
          "text": [
            "\r📊 Haftalık RSI 40 - 50 aralığında taranıyor:  17%|█▋        | 101/601 [00:54<04:03,  2.05hisse/s]"
          ]
        },
        {
          "output_type": "stream",
          "name": "stdout",
          "text": [
            "BNTAS: Önceki RSI = 52.67019686275246, Güncel RSI = 39.5493841116088, Seviye Aralığı = (40, 50)\n"
          ]
        },
        {
          "output_type": "stream",
          "name": "stderr",
          "text": [
            "\r📊 Haftalık RSI 40 - 50 aralığında taranıyor:  17%|█▋        | 102/601 [00:55<04:14,  1.96hisse/s]"
          ]
        },
        {
          "output_type": "stream",
          "name": "stdout",
          "text": [
            "BOBET: Önceki RSI = 46.79888942503664, Güncel RSI = 35.524891567006776, Seviye Aralığı = (40, 50)\n"
          ]
        },
        {
          "output_type": "stream",
          "name": "stderr",
          "text": [
            "\r📊 Haftalık RSI 40 - 50 aralığında taranıyor:  17%|█▋        | 103/601 [00:55<04:10,  1.99hisse/s]"
          ]
        },
        {
          "output_type": "stream",
          "name": "stdout",
          "text": [
            "BORLS: Önceki RSI = 83.23259338307325, Güncel RSI = 64.34919514802685, Seviye Aralığı = (40, 50)\n"
          ]
        },
        {
          "output_type": "stream",
          "name": "stderr",
          "text": [
            "\r📊 Haftalık RSI 40 - 50 aralığında taranıyor:  17%|█▋        | 104/601 [00:56<04:17,  1.93hisse/s]"
          ]
        },
        {
          "output_type": "stream",
          "name": "stdout",
          "text": [
            "BORSK: Önceki RSI = 45.145731315807176, Güncel RSI = 31.912447196306815, Seviye Aralığı = (40, 50)\n"
          ]
        },
        {
          "output_type": "stream",
          "name": "stderr",
          "text": [
            "\r📊 Haftalık RSI 40 - 50 aralığında taranıyor:  17%|█▋        | 105/601 [00:56<04:11,  1.97hisse/s]"
          ]
        },
        {
          "output_type": "stream",
          "name": "stdout",
          "text": [
            "BOSSA: Önceki RSI = 51.54734003899653, Güncel RSI = 40.697835625841435, Seviye Aralığı = (40, 50)\n",
            "BOSSA RSI (40, 50) aralığında! 🚀\n"
          ]
        },
        {
          "output_type": "stream",
          "name": "stderr",
          "text": [
            "\r📊 Haftalık RSI 40 - 50 aralığında taranıyor:  18%|█▊        | 106/601 [00:57<04:06,  2.01hisse/s]"
          ]
        },
        {
          "output_type": "stream",
          "name": "stdout",
          "text": [
            "BRISA: Önceki RSI = 54.55376363991877, Güncel RSI = 45.29190414570756, Seviye Aralığı = (40, 50)\n",
            "BRISA RSI (40, 50) aralığında! 🚀\n"
          ]
        },
        {
          "output_type": "stream",
          "name": "stderr",
          "text": [
            "\r📊 Haftalık RSI 40 - 50 aralığında taranıyor:  18%|█▊        | 107/601 [00:57<03:59,  2.06hisse/s]"
          ]
        },
        {
          "output_type": "stream",
          "name": "stdout",
          "text": [
            "BRKO: Önceki RSI = 50.25982607697565, Güncel RSI = 44.41571287003331, Seviye Aralığı = (40, 50)\n",
            "BRKO RSI (40, 50) aralığında! 🚀\n"
          ]
        },
        {
          "output_type": "stream",
          "name": "stderr",
          "text": [
            "\r📊 Haftalık RSI 40 - 50 aralığında taranıyor:  18%|█▊        | 108/601 [00:58<04:13,  1.95hisse/s]"
          ]
        },
        {
          "output_type": "stream",
          "name": "stdout",
          "text": [
            "BRKSN: Önceki RSI = 44.77477153429918, Güncel RSI = 35.83145813350302, Seviye Aralığı = (40, 50)\n"
          ]
        },
        {
          "output_type": "stream",
          "name": "stderr",
          "text": [
            "\r📊 Haftalık RSI 40 - 50 aralığında taranıyor:  18%|█▊        | 109/601 [00:58<04:06,  1.99hisse/s]"
          ]
        },
        {
          "output_type": "stream",
          "name": "stdout",
          "text": [
            "BRKVY: Önceki RSI = 55.68319269554216, Güncel RSI = 44.75946873033142, Seviye Aralığı = (40, 50)\n",
            "BRKVY RSI (40, 50) aralığında! 🚀\n"
          ]
        },
        {
          "output_type": "stream",
          "name": "stderr",
          "text": [
            "\r📊 Haftalık RSI 40 - 50 aralığında taranıyor:  18%|█▊        | 110/601 [00:59<04:08,  1.97hisse/s]"
          ]
        },
        {
          "output_type": "stream",
          "name": "stdout",
          "text": [
            "BRLSM: Önceki RSI = 57.094818839740036, Güncel RSI = 44.56227148333513, Seviye Aralığı = (40, 50)\n",
            "BRLSM RSI (40, 50) aralığında! 🚀\n"
          ]
        },
        {
          "output_type": "stream",
          "name": "stderr",
          "text": [
            "\r📊 Haftalık RSI 40 - 50 aralığında taranıyor:  18%|█▊        | 111/601 [00:59<04:09,  1.97hisse/s]"
          ]
        },
        {
          "output_type": "stream",
          "name": "stdout",
          "text": [
            "BRMEN: Önceki RSI = 45.689275739074525, Güncel RSI = 43.54468201076896, Seviye Aralığı = (40, 50)\n",
            "BRMEN RSI (40, 50) aralığında! 🚀\n"
          ]
        },
        {
          "output_type": "stream",
          "name": "stderr",
          "text": [
            "\r📊 Haftalık RSI 40 - 50 aralığında taranıyor:  19%|█▊        | 112/601 [01:00<04:26,  1.84hisse/s]"
          ]
        },
        {
          "output_type": "stream",
          "name": "stdout",
          "text": [
            "BRSAN: Önceki RSI = 45.85925215089779, Güncel RSI = 34.90101848750416, Seviye Aralığı = (40, 50)\n"
          ]
        },
        {
          "output_type": "stream",
          "name": "stderr",
          "text": [
            "\r📊 Haftalık RSI 40 - 50 aralığında taranıyor:  19%|█▉        | 113/601 [01:00<04:27,  1.82hisse/s]"
          ]
        },
        {
          "output_type": "stream",
          "name": "stdout",
          "text": [
            "BRYAT: Önceki RSI = 50.853660633981086, Güncel RSI = 43.07547117578711, Seviye Aralığı = (40, 50)\n",
            "BRYAT RSI (40, 50) aralığında! 🚀\n"
          ]
        },
        {
          "output_type": "stream",
          "name": "stderr",
          "text": [
            "\r📊 Haftalık RSI 40 - 50 aralığında taranıyor:  19%|█▉        | 114/601 [01:01<04:37,  1.75hisse/s]"
          ]
        },
        {
          "output_type": "stream",
          "name": "stdout",
          "text": [
            "BSOKE: Önceki RSI = 52.54746997131116, Güncel RSI = 46.0929714362865, Seviye Aralığı = (40, 50)\n",
            "BSOKE RSI (40, 50) aralığında! 🚀\n"
          ]
        },
        {
          "output_type": "stream",
          "name": "stderr",
          "text": [
            "\r📊 Haftalık RSI 40 - 50 aralığında taranıyor:  19%|█▉        | 115/601 [01:02<04:41,  1.72hisse/s]"
          ]
        },
        {
          "output_type": "stream",
          "name": "stdout",
          "text": [
            "BTCIM: Önceki RSI = 47.88277875511752, Güncel RSI = 38.513955918855025, Seviye Aralığı = (40, 50)\n"
          ]
        },
        {
          "output_type": "stream",
          "name": "stderr",
          "text": [
            "\r📊 Haftalık RSI 40 - 50 aralığında taranıyor:  19%|█▉        | 116/601 [01:02<04:44,  1.71hisse/s]"
          ]
        },
        {
          "output_type": "stream",
          "name": "stdout",
          "text": [
            "BUCIM: Önceki RSI = 52.97443424308724, Güncel RSI = 39.995243217427664, Seviye Aralığı = (40, 50)\n"
          ]
        },
        {
          "output_type": "stream",
          "name": "stderr",
          "text": [
            "\r📊 Haftalık RSI 40 - 50 aralığında taranıyor:  19%|█▉        | 117/601 [01:03<04:41,  1.72hisse/s]"
          ]
        },
        {
          "output_type": "stream",
          "name": "stdout",
          "text": [
            "⚠ BULGS: Yeterli veri yok, taramaya dahil edilmedi.\n"
          ]
        },
        {
          "output_type": "stream",
          "name": "stderr",
          "text": [
            "\r📊 Haftalık RSI 40 - 50 aralığında taranıyor:  20%|█▉        | 118/601 [01:03<04:41,  1.71hisse/s]"
          ]
        },
        {
          "output_type": "stream",
          "name": "stdout",
          "text": [
            "BURCE: Önceki RSI = 43.26009255464798, Güncel RSI = 33.832101016809204, Seviye Aralığı = (40, 50)\n"
          ]
        },
        {
          "output_type": "stream",
          "name": "stderr",
          "text": [
            "\r📊 Haftalık RSI 40 - 50 aralığında taranıyor:  20%|█▉        | 119/601 [01:04<04:49,  1.67hisse/s]"
          ]
        },
        {
          "output_type": "stream",
          "name": "stdout",
          "text": [
            "BURVA: Önceki RSI = 47.74608271731421, Güncel RSI = 40.98780471342647, Seviye Aralığı = (40, 50)\n",
            "BURVA RSI (40, 50) aralığında! 🚀\n"
          ]
        },
        {
          "output_type": "stream",
          "name": "stderr",
          "text": [
            "\r📊 Haftalık RSI 40 - 50 aralığında taranıyor:  20%|█▉        | 120/601 [01:04<04:38,  1.73hisse/s]"
          ]
        },
        {
          "output_type": "stream",
          "name": "stdout",
          "text": [
            "BVSAN: Önceki RSI = 60.26422464891883, Güncel RSI = 45.58459286569362, Seviye Aralığı = (40, 50)\n",
            "BVSAN RSI (40, 50) aralığında! 🚀\n"
          ]
        },
        {
          "output_type": "stream",
          "name": "stderr",
          "text": [
            "\r📊 Haftalık RSI 40 - 50 aralığında taranıyor:  20%|██        | 121/601 [01:05<04:26,  1.80hisse/s]"
          ]
        },
        {
          "output_type": "stream",
          "name": "stdout",
          "text": [
            "BYDNR: Önceki RSI = 44.11213840099117, Güncel RSI = 36.23580002616226, Seviye Aralığı = (40, 50)\n"
          ]
        },
        {
          "output_type": "stream",
          "name": "stderr",
          "text": [
            "\r📊 Haftalık RSI 40 - 50 aralığında taranıyor:  20%|██        | 122/601 [01:06<04:40,  1.70hisse/s]"
          ]
        },
        {
          "output_type": "stream",
          "name": "stdout",
          "text": [
            "CANTE: Önceki RSI = 42.68435974643975, Güncel RSI = 34.76700348385563, Seviye Aralığı = (40, 50)\n"
          ]
        },
        {
          "output_type": "stream",
          "name": "stderr",
          "text": [
            "\r📊 Haftalık RSI 40 - 50 aralığında taranıyor:  20%|██        | 123/601 [01:06<04:44,  1.68hisse/s]"
          ]
        },
        {
          "output_type": "stream",
          "name": "stdout",
          "text": [
            "CASA: Önceki RSI = 34.86123351606072, Güncel RSI = 28.73889325475085, Seviye Aralığı = (40, 50)\n"
          ]
        },
        {
          "output_type": "stream",
          "name": "stderr",
          "text": [
            "\r📊 Haftalık RSI 40 - 50 aralığında taranıyor:  21%|██        | 124/601 [01:07<04:42,  1.69hisse/s]"
          ]
        },
        {
          "output_type": "stream",
          "name": "stdout",
          "text": [
            "CATES: Önceki RSI = 32.57101002006418, Güncel RSI = 26.263965318968246, Seviye Aralığı = (40, 50)\n"
          ]
        },
        {
          "output_type": "stream",
          "name": "stderr",
          "text": [
            "\r📊 Haftalık RSI 40 - 50 aralığında taranıyor:  21%|██        | 125/601 [01:07<04:42,  1.69hisse/s]"
          ]
        },
        {
          "output_type": "stream",
          "name": "stdout",
          "text": [
            "CCOLA: Önceki RSI = 50.68118429396874, Güncel RSI = 41.496078148063035, Seviye Aralığı = (40, 50)\n",
            "CCOLA RSI (40, 50) aralığında! 🚀\n"
          ]
        },
        {
          "output_type": "stream",
          "name": "stderr",
          "text": [
            "\r📊 Haftalık RSI 40 - 50 aralığında taranıyor:  21%|██        | 126/601 [01:08<05:05,  1.55hisse/s]"
          ]
        },
        {
          "output_type": "stream",
          "name": "stdout",
          "text": [
            "CELHA: Önceki RSI = 48.11712014245044, Güncel RSI = 41.03497318508963, Seviye Aralığı = (40, 50)\n",
            "CELHA RSI (40, 50) aralığında! 🚀\n"
          ]
        },
        {
          "output_type": "stream",
          "name": "stderr",
          "text": [
            "\r📊 Haftalık RSI 40 - 50 aralığında taranıyor:  21%|██        | 127/601 [01:09<05:00,  1.58hisse/s]"
          ]
        },
        {
          "output_type": "stream",
          "name": "stdout",
          "text": [
            "CEMAS: Önceki RSI = 39.089648276587724, Güncel RSI = 33.271727136140896, Seviye Aralığı = (40, 50)\n"
          ]
        },
        {
          "output_type": "stream",
          "name": "stderr",
          "text": [
            "\r📊 Haftalık RSI 40 - 50 aralığında taranıyor:  21%|██▏       | 128/601 [01:09<05:03,  1.56hisse/s]"
          ]
        },
        {
          "output_type": "stream",
          "name": "stdout",
          "text": [
            "CEMTS: Önceki RSI = 60.73005138706692, Güncel RSI = 43.044826555326104, Seviye Aralığı = (40, 50)\n",
            "CEMTS RSI (40, 50) aralığında! 🚀\n"
          ]
        },
        {
          "output_type": "stream",
          "name": "stderr",
          "text": [
            "\r📊 Haftalık RSI 40 - 50 aralığında taranıyor:  21%|██▏       | 129/601 [01:10<04:46,  1.65hisse/s]"
          ]
        },
        {
          "output_type": "stream",
          "name": "stdout",
          "text": [
            "CEMZY: Önceki RSI = 53.90744413306572, Güncel RSI = 48.05682465058265, Seviye Aralığı = (40, 50)\n",
            "CEMZY RSI (40, 50) aralığında! 🚀\n"
          ]
        },
        {
          "output_type": "stream",
          "name": "stderr",
          "text": [
            "\r📊 Haftalık RSI 40 - 50 aralığında taranıyor:  22%|██▏       | 130/601 [01:11<04:42,  1.67hisse/s]"
          ]
        },
        {
          "output_type": "stream",
          "name": "stdout",
          "text": [
            "CEOEM: Önceki RSI = 50.55140676344375, Güncel RSI = 52.81602790913954, Seviye Aralığı = (40, 50)\n"
          ]
        },
        {
          "output_type": "stream",
          "name": "stderr",
          "text": [
            "\r📊 Haftalık RSI 40 - 50 aralığında taranıyor:  22%|██▏       | 131/601 [01:11<04:43,  1.66hisse/s]"
          ]
        },
        {
          "output_type": "stream",
          "name": "stdout",
          "text": [
            "CGCAM: Önceki RSI = nan, Güncel RSI = 42.970831789108296, Seviye Aralığı = (40, 50)\n",
            "CGCAM RSI (40, 50) aralığında! 🚀\n"
          ]
        },
        {
          "output_type": "stream",
          "name": "stderr",
          "text": [
            "\r📊 Haftalık RSI 40 - 50 aralığında taranıyor:  22%|██▏       | 132/601 [01:12<04:53,  1.60hisse/s]"
          ]
        },
        {
          "output_type": "stream",
          "name": "stdout",
          "text": [
            "CIMSA: Önceki RSI = 64.9598998232432, Güncel RSI = 53.31052989293834, Seviye Aralığı = (40, 50)\n"
          ]
        },
        {
          "output_type": "stream",
          "name": "stderr",
          "text": [
            "\r📊 Haftalık RSI 40 - 50 aralığında taranıyor:  22%|██▏       | 133/601 [01:12<04:45,  1.64hisse/s]"
          ]
        },
        {
          "output_type": "stream",
          "name": "stdout",
          "text": [
            "CLEBI: Önceki RSI = 67.67979465401801, Güncel RSI = 69.46993327489295, Seviye Aralığı = (40, 50)\n"
          ]
        },
        {
          "output_type": "stream",
          "name": "stderr",
          "text": [
            "\r📊 Haftalık RSI 40 - 50 aralığında taranıyor:  22%|██▏       | 134/601 [01:13<04:51,  1.60hisse/s]"
          ]
        },
        {
          "output_type": "stream",
          "name": "stdout",
          "text": [
            "CMBTN: Önceki RSI = 46.7884055005942, Güncel RSI = 39.8576350085319, Seviye Aralığı = (40, 50)\n"
          ]
        },
        {
          "output_type": "stream",
          "name": "stderr",
          "text": [
            "\r📊 Haftalık RSI 40 - 50 aralığında taranıyor:  22%|██▏       | 135/601 [01:14<04:54,  1.58hisse/s]"
          ]
        },
        {
          "output_type": "stream",
          "name": "stdout",
          "text": [
            "CMENT: Önceki RSI = 55.05119809984236, Güncel RSI = 43.28076219397325, Seviye Aralığı = (40, 50)\n",
            "CMENT RSI (40, 50) aralığında! 🚀\n"
          ]
        },
        {
          "output_type": "stream",
          "name": "stderr",
          "text": [
            "\r📊 Haftalık RSI 40 - 50 aralığında taranıyor:  23%|██▎       | 136/601 [01:14<04:45,  1.63hisse/s]"
          ]
        },
        {
          "output_type": "stream",
          "name": "stdout",
          "text": [
            "CONSE: Önceki RSI = 55.36792712084131, Güncel RSI = 38.511823561209525, Seviye Aralığı = (40, 50)\n"
          ]
        },
        {
          "output_type": "stream",
          "name": "stderr",
          "text": [
            "\r📊 Haftalık RSI 40 - 50 aralığında taranıyor:  23%|██▎       | 137/601 [01:15<04:40,  1.65hisse/s]"
          ]
        },
        {
          "output_type": "stream",
          "name": "stdout",
          "text": [
            "COSMO: Önceki RSI = 44.96412086143008, Güncel RSI = 46.17521784308214, Seviye Aralığı = (40, 50)\n",
            "COSMO RSI (40, 50) aralığında! 🚀\n"
          ]
        },
        {
          "output_type": "stream",
          "name": "stderr",
          "text": [
            "\r📊 Haftalık RSI 40 - 50 aralığında taranıyor:  23%|██▎       | 138/601 [01:15<04:36,  1.68hisse/s]"
          ]
        },
        {
          "output_type": "stream",
          "name": "stdout",
          "text": [
            "CRDFA: Önceki RSI = 57.27901241709424, Güncel RSI = 46.47116640597666, Seviye Aralığı = (40, 50)\n",
            "CRDFA RSI (40, 50) aralığında! 🚀\n"
          ]
        },
        {
          "output_type": "stream",
          "name": "stderr",
          "text": [
            "\r📊 Haftalık RSI 40 - 50 aralığında taranıyor:  23%|██▎       | 139/601 [01:16<04:30,  1.71hisse/s]"
          ]
        },
        {
          "output_type": "stream",
          "name": "stdout",
          "text": [
            "CRFSA: Önceki RSI = 40.33244553753823, Güncel RSI = 29.344216136556085, Seviye Aralığı = (40, 50)\n"
          ]
        },
        {
          "output_type": "stream",
          "name": "stderr",
          "text": [
            "\r📊 Haftalık RSI 40 - 50 aralığında taranıyor:  23%|██▎       | 140/601 [01:17<04:27,  1.72hisse/s]"
          ]
        },
        {
          "output_type": "stream",
          "name": "stdout",
          "text": [
            "CUSAN: Önceki RSI = 48.80661898828705, Güncel RSI = 38.5980285566055, Seviye Aralığı = (40, 50)\n"
          ]
        },
        {
          "output_type": "stream",
          "name": "stderr",
          "text": [
            "\r📊 Haftalık RSI 40 - 50 aralığında taranıyor:  23%|██▎       | 141/601 [01:17<04:23,  1.74hisse/s]"
          ]
        },
        {
          "output_type": "stream",
          "name": "stdout",
          "text": [
            "CVKMD: Önceki RSI = 55.68461594163994, Güncel RSI = 43.850409269857614, Seviye Aralığı = (40, 50)\n",
            "CVKMD RSI (40, 50) aralığında! 🚀\n"
          ]
        },
        {
          "output_type": "stream",
          "name": "stderr",
          "text": [
            "\r📊 Haftalık RSI 40 - 50 aralığında taranıyor:  24%|██▎       | 142/601 [01:18<04:19,  1.77hisse/s]"
          ]
        },
        {
          "output_type": "stream",
          "name": "stdout",
          "text": [
            "CWENE: Önceki RSI = 39.05527464072755, Güncel RSI = 31.103994737013693, Seviye Aralığı = (40, 50)\n"
          ]
        },
        {
          "output_type": "stream",
          "name": "stderr",
          "text": [
            "\r📊 Haftalık RSI 40 - 50 aralığında taranıyor:  24%|██▍       | 143/601 [01:18<04:31,  1.69hisse/s]"
          ]
        },
        {
          "output_type": "stream",
          "name": "stdout",
          "text": [
            "DAGHL: Önceki RSI = 89.06717954283229, Güncel RSI = 86.88802456265972, Seviye Aralığı = (40, 50)\n"
          ]
        },
        {
          "output_type": "stream",
          "name": "stderr",
          "text": [
            "\r📊 Haftalık RSI 40 - 50 aralığında taranıyor:  24%|██▍       | 144/601 [01:19<04:27,  1.71hisse/s]"
          ]
        },
        {
          "output_type": "stream",
          "name": "stdout",
          "text": [
            "DAGI: Önceki RSI = 59.11771444966806, Güncel RSI = 56.817674325104946, Seviye Aralığı = (40, 50)\n"
          ]
        },
        {
          "output_type": "stream",
          "name": "stderr",
          "text": [
            "\r📊 Haftalık RSI 40 - 50 aralığında taranıyor:  24%|██▍       | 145/601 [01:20<04:35,  1.66hisse/s]"
          ]
        },
        {
          "output_type": "stream",
          "name": "stdout",
          "text": [
            "DAPGM: Önceki RSI = 71.24193082103606, Güncel RSI = 52.47780497976896, Seviye Aralığı = (40, 50)\n"
          ]
        },
        {
          "output_type": "stream",
          "name": "stderr",
          "text": [
            "\r📊 Haftalık RSI 40 - 50 aralığında taranıyor:  24%|██▍       | 146/601 [01:20<04:29,  1.69hisse/s]"
          ]
        },
        {
          "output_type": "stream",
          "name": "stdout",
          "text": [
            "DARDL: Önceki RSI = 52.108246265688244, Güncel RSI = 40.276337762108085, Seviye Aralığı = (40, 50)\n",
            "DARDL RSI (40, 50) aralığında! 🚀\n"
          ]
        },
        {
          "output_type": "stream",
          "name": "stderr",
          "text": [
            "\r📊 Haftalık RSI 40 - 50 aralığında taranıyor:  24%|██▍       | 147/601 [01:21<04:24,  1.72hisse/s]"
          ]
        },
        {
          "output_type": "stream",
          "name": "stdout",
          "text": [
            "DCTTR: Önceki RSI = 65.86200386709157, Güncel RSI = 51.87257652411349, Seviye Aralığı = (40, 50)\n"
          ]
        },
        {
          "output_type": "stream",
          "name": "stderr",
          "text": [
            "\r📊 Haftalık RSI 40 - 50 aralığında taranıyor:  25%|██▍       | 148/601 [01:21<04:17,  1.76hisse/s]"
          ]
        },
        {
          "output_type": "stream",
          "name": "stdout",
          "text": [
            "DENGE: Önceki RSI = 38.703122876073984, Güncel RSI = 31.966566564584184, Seviye Aralığı = (40, 50)\n"
          ]
        },
        {
          "output_type": "stream",
          "name": "stderr",
          "text": [
            "\r📊 Haftalık RSI 40 - 50 aralığında taranıyor:  25%|██▍       | 149/601 [01:22<04:24,  1.71hisse/s]"
          ]
        },
        {
          "output_type": "stream",
          "name": "stdout",
          "text": [
            "DERHL: Önceki RSI = 84.90958404382603, Güncel RSI = 86.75630086438348, Seviye Aralığı = (40, 50)\n"
          ]
        },
        {
          "output_type": "stream",
          "name": "stderr",
          "text": [
            "\r📊 Haftalık RSI 40 - 50 aralığında taranıyor:  25%|██▍       | 150/601 [01:22<04:32,  1.65hisse/s]"
          ]
        },
        {
          "output_type": "stream",
          "name": "stdout",
          "text": [
            "DERIM: Önceki RSI = 46.102931919773795, Güncel RSI = 37.77378570839108, Seviye Aralığı = (40, 50)\n"
          ]
        },
        {
          "output_type": "stream",
          "name": "stderr",
          "text": [
            "\r📊 Haftalık RSI 40 - 50 aralığında taranıyor:  25%|██▌       | 151/601 [01:23<04:39,  1.61hisse/s]"
          ]
        },
        {
          "output_type": "stream",
          "name": "stdout",
          "text": [
            "DESA: Önceki RSI = 44.891189445651406, Güncel RSI = 32.28732362089734, Seviye Aralığı = (40, 50)\n"
          ]
        },
        {
          "output_type": "stream",
          "name": "stderr",
          "text": [
            "\r📊 Haftalık RSI 40 - 50 aralığında taranıyor:  25%|██▌       | 152/601 [01:24<04:28,  1.67hisse/s]"
          ]
        },
        {
          "output_type": "stream",
          "name": "stdout",
          "text": [
            "DESPC: Önceki RSI = 56.54972549765382, Güncel RSI = 42.934819760101206, Seviye Aralığı = (40, 50)\n",
            "DESPC RSI (40, 50) aralığında! 🚀\n"
          ]
        },
        {
          "output_type": "stream",
          "name": "stderr",
          "text": [
            "\r📊 Haftalık RSI 40 - 50 aralığında taranıyor:  25%|██▌       | 153/601 [01:24<04:20,  1.72hisse/s]"
          ]
        },
        {
          "output_type": "stream",
          "name": "stdout",
          "text": [
            "DEVA: Önceki RSI = 40.606701907907194, Güncel RSI = 30.92953658072011, Seviye Aralığı = (40, 50)\n"
          ]
        },
        {
          "output_type": "stream",
          "name": "stderr",
          "text": [
            "\r📊 Haftalık RSI 40 - 50 aralığında taranıyor:  26%|██▌       | 154/601 [01:25<04:20,  1.72hisse/s]"
          ]
        },
        {
          "output_type": "stream",
          "name": "stdout",
          "text": [
            "DGATE: Önceki RSI = 59.748754766371896, Güncel RSI = 46.19687250203938, Seviye Aralığı = (40, 50)\n",
            "DGATE RSI (40, 50) aralığında! 🚀\n"
          ]
        },
        {
          "output_type": "stream",
          "name": "stderr",
          "text": [
            "\r📊 Haftalık RSI 40 - 50 aralığında taranıyor:  26%|██▌       | 155/601 [01:25<04:19,  1.72hisse/s]"
          ]
        },
        {
          "output_type": "stream",
          "name": "stdout",
          "text": [
            "DGGYO: Önceki RSI = 49.78471420163048, Güncel RSI = 41.35902360911867, Seviye Aralığı = (40, 50)\n",
            "DGGYO RSI (40, 50) aralığında! 🚀\n"
          ]
        },
        {
          "output_type": "stream",
          "name": "stderr",
          "text": [
            "\r📊 Haftalık RSI 40 - 50 aralığında taranıyor:  26%|██▌       | 156/601 [01:26<04:15,  1.74hisse/s]"
          ]
        },
        {
          "output_type": "stream",
          "name": "stdout",
          "text": [
            "DGNMO: Önceki RSI = 35.458014254983155, Güncel RSI = 31.915073883338025, Seviye Aralığı = (40, 50)\n"
          ]
        },
        {
          "output_type": "stream",
          "name": "stderr",
          "text": [
            "\r📊 Haftalık RSI 40 - 50 aralığında taranıyor:  26%|██▌       | 157/601 [01:27<04:18,  1.72hisse/s]"
          ]
        },
        {
          "output_type": "stream",
          "name": "stdout",
          "text": [
            "DIRIT: Önceki RSI = 47.73282809679749, Güncel RSI = 39.3493869704276, Seviye Aralığı = (40, 50)\n"
          ]
        },
        {
          "output_type": "stream",
          "name": "stderr",
          "text": [
            "\r📊 Haftalık RSI 40 - 50 aralığında taranıyor:  26%|██▋       | 158/601 [01:27<04:22,  1.69hisse/s]"
          ]
        },
        {
          "output_type": "stream",
          "name": "stdout",
          "text": [
            "DITAS: Önceki RSI = 39.68614857915389, Güncel RSI = 30.387720259724617, Seviye Aralığı = (40, 50)\n"
          ]
        },
        {
          "output_type": "stream",
          "name": "stderr",
          "text": [
            "\r📊 Haftalık RSI 40 - 50 aralığında taranıyor:  26%|██▋       | 159/601 [01:28<04:21,  1.69hisse/s]"
          ]
        },
        {
          "output_type": "stream",
          "name": "stdout",
          "text": [
            "DMRGD: Önceki RSI = 55.21528397534092, Güncel RSI = 49.50797108311134, Seviye Aralığı = (40, 50)\n",
            "DMRGD RSI (40, 50) aralığında! 🚀\n"
          ]
        },
        {
          "output_type": "stream",
          "name": "stderr",
          "text": [
            "\r📊 Haftalık RSI 40 - 50 aralığında taranıyor:  27%|██▋       | 160/601 [01:28<04:22,  1.68hisse/s]"
          ]
        },
        {
          "output_type": "stream",
          "name": "stdout",
          "text": [
            "DMSAS: Önceki RSI = 51.8208993007711, Güncel RSI = 45.51869761599118, Seviye Aralığı = (40, 50)\n",
            "DMSAS RSI (40, 50) aralığında! 🚀\n"
          ]
        },
        {
          "output_type": "stream",
          "name": "stderr",
          "text": [
            "\r📊 Haftalık RSI 40 - 50 aralığında taranıyor:  27%|██▋       | 161/601 [01:29<04:22,  1.68hisse/s]"
          ]
        },
        {
          "output_type": "stream",
          "name": "stdout",
          "text": [
            "DNISI: Önceki RSI = 60.207896045627294, Güncel RSI = 51.099158285697605, Seviye Aralığı = (40, 50)\n"
          ]
        },
        {
          "output_type": "stream",
          "name": "stderr",
          "text": [
            "\r📊 Haftalık RSI 40 - 50 aralığında taranıyor:  27%|██▋       | 162/601 [01:29<03:44,  1.96hisse/s]"
          ]
        },
        {
          "output_type": "stream",
          "name": "stdout",
          "text": [
            "DOAS: Önceki RSI = 59.342856561570606, Güncel RSI = 53.71986752424231, Seviye Aralığı = (40, 50)\n"
          ]
        },
        {
          "output_type": "stream",
          "name": "stderr",
          "text": [
            "\r📊 Haftalık RSI 40 - 50 aralığında taranıyor:  27%|██▋       | 163/601 [01:30<03:51,  1.89hisse/s]"
          ]
        },
        {
          "output_type": "stream",
          "name": "stdout",
          "text": [
            "DOBUR: Önceki RSI = 53.35446533926966, Güncel RSI = 48.383625275291664, Seviye Aralığı = (40, 50)\n",
            "DOBUR RSI (40, 50) aralığında! 🚀\n"
          ]
        },
        {
          "output_type": "stream",
          "name": "stderr",
          "text": [
            "\r📊 Haftalık RSI 40 - 50 aralığında taranıyor:  27%|██▋       | 164/601 [01:30<03:41,  1.97hisse/s]"
          ]
        },
        {
          "output_type": "stream",
          "name": "stdout",
          "text": [
            "DOCO: Önceki RSI = 64.18230332964812, Güncel RSI = 60.45851549820852, Seviye Aralığı = (40, 50)\n"
          ]
        },
        {
          "output_type": "stream",
          "name": "stderr",
          "text": [
            "\r📊 Haftalık RSI 40 - 50 aralığında taranıyor:  27%|██▋       | 165/601 [01:31<03:30,  2.07hisse/s]"
          ]
        },
        {
          "output_type": "stream",
          "name": "stdout",
          "text": [
            "DOFER: Önceki RSI = 43.701630361954194, Güncel RSI = 32.59588849243046, Seviye Aralığı = (40, 50)\n"
          ]
        },
        {
          "output_type": "stream",
          "name": "stderr",
          "text": [
            "\r📊 Haftalık RSI 40 - 50 aralığında taranıyor:  28%|██▊       | 166/601 [01:31<03:46,  1.92hisse/s]"
          ]
        },
        {
          "output_type": "stream",
          "name": "stdout",
          "text": [
            "DOGUB: Önceki RSI = 37.81518128530272, Güncel RSI = 30.868228025402814, Seviye Aralığı = (40, 50)\n"
          ]
        },
        {
          "output_type": "stream",
          "name": "stderr",
          "text": [
            "\r📊 Haftalık RSI 40 - 50 aralığında taranıyor:  28%|██▊       | 167/601 [01:32<03:50,  1.89hisse/s]"
          ]
        },
        {
          "output_type": "stream",
          "name": "stdout",
          "text": [
            "DOHOL: Önceki RSI = 56.34449607463176, Güncel RSI = 45.03479719137173, Seviye Aralığı = (40, 50)\n",
            "DOHOL RSI (40, 50) aralığında! 🚀\n"
          ]
        },
        {
          "output_type": "stream",
          "name": "stderr",
          "text": [
            "\r📊 Haftalık RSI 40 - 50 aralığında taranıyor:  28%|██▊       | 168/601 [01:32<03:31,  2.05hisse/s]"
          ]
        },
        {
          "output_type": "stream",
          "name": "stdout",
          "text": [
            "DOKTA: Önceki RSI = 36.82578090565811, Güncel RSI = 28.176975091693194, Seviye Aralığı = (40, 50)\n"
          ]
        },
        {
          "output_type": "stream",
          "name": "stderr",
          "text": [
            "\r📊 Haftalık RSI 40 - 50 aralığında taranıyor:  28%|██▊       | 169/601 [01:33<03:33,  2.02hisse/s]"
          ]
        },
        {
          "output_type": "stream",
          "name": "stdout",
          "text": [
            "⚠ DSTKF: Yeterli veri yok, taramaya dahil edilmedi.\n"
          ]
        },
        {
          "output_type": "stream",
          "name": "stderr",
          "text": [
            "\r📊 Haftalık RSI 40 - 50 aralığında taranıyor:  28%|██▊       | 170/601 [01:33<03:40,  1.96hisse/s]"
          ]
        },
        {
          "output_type": "stream",
          "name": "stdout",
          "text": [
            "DURDO: Önceki RSI = 46.49638211402744, Güncel RSI = 43.68661455548926, Seviye Aralığı = (40, 50)\n",
            "DURDO RSI (40, 50) aralığında! 🚀\n"
          ]
        },
        {
          "output_type": "stream",
          "name": "stderr",
          "text": [
            "\r📊 Haftalık RSI 40 - 50 aralığında taranıyor:  28%|██▊       | 171/601 [01:34<03:25,  2.09hisse/s]"
          ]
        },
        {
          "output_type": "stream",
          "name": "stdout",
          "text": [
            "DURKN: Önceki RSI = 59.72247886616386, Güncel RSI = 45.55170186790664, Seviye Aralığı = (40, 50)\n",
            "DURKN RSI (40, 50) aralığında! 🚀\n"
          ]
        },
        {
          "output_type": "stream",
          "name": "stderr",
          "text": [
            "\r📊 Haftalık RSI 40 - 50 aralığında taranıyor:  29%|██▊       | 172/601 [01:34<03:46,  1.90hisse/s]"
          ]
        },
        {
          "output_type": "stream",
          "name": "stdout",
          "text": [
            "DYOBY: Önceki RSI = 61.4310497918586, Güncel RSI = 53.40723529381532, Seviye Aralığı = (40, 50)\n"
          ]
        },
        {
          "output_type": "stream",
          "name": "stderr",
          "text": [
            "\r📊 Haftalık RSI 40 - 50 aralığında taranıyor:  29%|██▉       | 173/601 [01:35<03:32,  2.02hisse/s]"
          ]
        },
        {
          "output_type": "stream",
          "name": "stdout",
          "text": [
            "DZGYO: Önceki RSI = 51.88065662317144, Güncel RSI = 48.78540276697136, Seviye Aralığı = (40, 50)\n",
            "DZGYO RSI (40, 50) aralığında! 🚀\n"
          ]
        },
        {
          "output_type": "stream",
          "name": "stderr",
          "text": [
            "\r📊 Haftalık RSI 40 - 50 aralığında taranıyor:  29%|██▉       | 174/601 [01:35<03:24,  2.09hisse/s]"
          ]
        },
        {
          "output_type": "stream",
          "name": "stdout",
          "text": [
            "EBEBK: Önceki RSI = 53.19426410909919, Güncel RSI = 42.13993431134069, Seviye Aralığı = (40, 50)\n",
            "EBEBK RSI (40, 50) aralığında! 🚀\n"
          ]
        },
        {
          "output_type": "stream",
          "name": "stderr",
          "text": [
            "\r📊 Haftalık RSI 40 - 50 aralığında taranıyor:  29%|██▉       | 175/601 [01:36<03:37,  1.96hisse/s]"
          ]
        },
        {
          "output_type": "stream",
          "name": "stdout",
          "text": [
            "ECILC: Önceki RSI = 49.901550638434536, Güncel RSI = 37.11777962858137, Seviye Aralığı = (40, 50)\n"
          ]
        },
        {
          "output_type": "stream",
          "name": "stderr",
          "text": [
            "\r📊 Haftalık RSI 40 - 50 aralığında taranıyor:  29%|██▉       | 176/601 [01:36<03:27,  2.05hisse/s]"
          ]
        },
        {
          "output_type": "stream",
          "name": "stdout",
          "text": [
            "ECZYT: Önceki RSI = 54.85640715791601, Güncel RSI = 38.0818170270096, Seviye Aralığı = (40, 50)\n"
          ]
        },
        {
          "output_type": "stream",
          "name": "stderr",
          "text": [
            "\r📊 Haftalık RSI 40 - 50 aralığında taranıyor:  29%|██▉       | 177/601 [01:37<03:27,  2.04hisse/s]"
          ]
        },
        {
          "output_type": "stream",
          "name": "stdout",
          "text": [
            "EDATA: Önceki RSI = 40.674940516924906, Güncel RSI = 33.083918000786795, Seviye Aralığı = (40, 50)\n"
          ]
        },
        {
          "output_type": "stream",
          "name": "stderr",
          "text": [
            "\r📊 Haftalık RSI 40 - 50 aralığında taranıyor:  30%|██▉       | 178/601 [01:37<03:35,  1.97hisse/s]"
          ]
        },
        {
          "output_type": "stream",
          "name": "stdout",
          "text": [
            "EDIP: Önceki RSI = 51.670463503449, Güncel RSI = 39.88109026302448, Seviye Aralığı = (40, 50)\n"
          ]
        },
        {
          "output_type": "stream",
          "name": "stderr",
          "text": [
            "\r📊 Haftalık RSI 40 - 50 aralığında taranıyor:  30%|██▉       | 179/601 [01:38<03:38,  1.93hisse/s]"
          ]
        },
        {
          "output_type": "stream",
          "name": "stdout",
          "text": [
            "EFORC: Önceki RSI = 85.10298597381507, Güncel RSI = 76.89382103729733, Seviye Aralığı = (40, 50)\n"
          ]
        },
        {
          "output_type": "stream",
          "name": "stderr",
          "text": [
            "\r📊 Haftalık RSI 40 - 50 aralığında taranıyor:  30%|██▉       | 180/601 [01:38<03:33,  1.98hisse/s]"
          ]
        },
        {
          "output_type": "stream",
          "name": "stdout",
          "text": [
            "EGEEN: Önceki RSI = 50.019622150601414, Güncel RSI = 40.671992714071486, Seviye Aralığı = (40, 50)\n",
            "EGEEN RSI (40, 50) aralığında! 🚀\n"
          ]
        },
        {
          "output_type": "stream",
          "name": "stderr",
          "text": [
            "\r📊 Haftalık RSI 40 - 50 aralığında taranıyor:  30%|███       | 181/601 [01:39<03:26,  2.03hisse/s]"
          ]
        },
        {
          "output_type": "stream",
          "name": "stdout",
          "text": [
            "⚠ EGEGY: Yeterli veri yok, taramaya dahil edilmedi.\n"
          ]
        },
        {
          "output_type": "stream",
          "name": "stderr",
          "text": [
            "\r📊 Haftalık RSI 40 - 50 aralığında taranıyor:  30%|███       | 182/601 [01:39<03:30,  1.99hisse/s]"
          ]
        },
        {
          "output_type": "stream",
          "name": "stdout",
          "text": [
            "EGEPO: Önceki RSI = 47.302051635305396, Güncel RSI = 44.40218592553288, Seviye Aralığı = (40, 50)\n",
            "EGEPO RSI (40, 50) aralığında! 🚀\n"
          ]
        },
        {
          "output_type": "stream",
          "name": "stderr",
          "text": [
            "\r📊 Haftalık RSI 40 - 50 aralığında taranıyor:  30%|███       | 183/601 [01:40<03:23,  2.05hisse/s]"
          ]
        },
        {
          "output_type": "stream",
          "name": "stdout",
          "text": [
            "EGGUB: Önceki RSI = 56.719267748373895, Güncel RSI = 44.336744462229845, Seviye Aralığı = (40, 50)\n",
            "EGGUB RSI (40, 50) aralığında! 🚀\n"
          ]
        },
        {
          "output_type": "stream",
          "name": "stderr",
          "text": [
            "\r📊 Haftalık RSI 40 - 50 aralığında taranıyor:  31%|███       | 184/601 [01:40<03:29,  1.99hisse/s]"
          ]
        },
        {
          "output_type": "stream",
          "name": "stdout",
          "text": [
            "EGPRO: Önceki RSI = 59.001162870271756, Güncel RSI = 45.59306872568763, Seviye Aralığı = (40, 50)\n",
            "EGPRO RSI (40, 50) aralığında! 🚀\n"
          ]
        },
        {
          "output_type": "stream",
          "name": "stderr",
          "text": [
            "\r📊 Haftalık RSI 40 - 50 aralığında taranıyor:  31%|███       | 185/601 [01:41<03:40,  1.88hisse/s]"
          ]
        },
        {
          "output_type": "stream",
          "name": "stdout",
          "text": [
            "EGSER: Önceki RSI = 44.666117828858354, Güncel RSI = 32.97124380427938, Seviye Aralığı = (40, 50)\n"
          ]
        },
        {
          "output_type": "stream",
          "name": "stderr",
          "text": [
            "\r📊 Haftalık RSI 40 - 50 aralığında taranıyor:  31%|███       | 186/601 [01:41<03:31,  1.96hisse/s]"
          ]
        },
        {
          "output_type": "stream",
          "name": "stdout",
          "text": [
            "EKGYO: Önceki RSI = 68.44966357043724, Güncel RSI = 44.81977219159694, Seviye Aralığı = (40, 50)\n",
            "EKGYO RSI (40, 50) aralığında! 🚀\n"
          ]
        },
        {
          "output_type": "stream",
          "name": "stderr",
          "text": [
            "\r📊 Haftalık RSI 40 - 50 aralığında taranıyor:  31%|███       | 187/601 [01:42<03:30,  1.97hisse/s]"
          ]
        },
        {
          "output_type": "stream",
          "name": "stdout",
          "text": [
            "EKIZ: Önceki RSI = 54.26767219151983, Güncel RSI = 42.59978445682833, Seviye Aralığı = (40, 50)\n",
            "EKIZ RSI (40, 50) aralığında! 🚀\n"
          ]
        },
        {
          "output_type": "stream",
          "name": "stderr",
          "text": [
            "\r📊 Haftalık RSI 40 - 50 aralığında taranıyor:  31%|███▏      | 188/601 [01:42<03:12,  2.14hisse/s]"
          ]
        },
        {
          "output_type": "stream",
          "name": "stdout",
          "text": [
            "EKOS: Önceki RSI = 36.900432412220745, Güncel RSI = 27.905148429656066, Seviye Aralığı = (40, 50)\n"
          ]
        },
        {
          "output_type": "stream",
          "name": "stderr",
          "text": [
            "\r📊 Haftalık RSI 40 - 50 aralığında taranıyor:  31%|███▏      | 189/601 [01:43<03:16,  2.09hisse/s]"
          ]
        },
        {
          "output_type": "stream",
          "name": "stdout",
          "text": [
            "EKSUN: Önceki RSI = 45.6918209963291, Güncel RSI = 34.95606412440098, Seviye Aralığı = (40, 50)\n"
          ]
        },
        {
          "output_type": "stream",
          "name": "stderr",
          "text": [
            "\r📊 Haftalık RSI 40 - 50 aralığında taranıyor:  32%|███▏      | 190/601 [01:43<03:24,  2.01hisse/s]"
          ]
        },
        {
          "output_type": "stream",
          "name": "stdout",
          "text": [
            "ELITE: Önceki RSI = 55.74886985456191, Güncel RSI = 45.547484777040125, Seviye Aralığı = (40, 50)\n",
            "ELITE RSI (40, 50) aralığında! 🚀\n"
          ]
        },
        {
          "output_type": "stream",
          "name": "stderr",
          "text": [
            "\r📊 Haftalık RSI 40 - 50 aralığında taranıyor:  32%|███▏      | 191/601 [01:44<03:24,  2.01hisse/s]"
          ]
        },
        {
          "output_type": "stream",
          "name": "stdout",
          "text": [
            "EMKEL: Önceki RSI = 70.65747278739516, Güncel RSI = 58.043642582016915, Seviye Aralığı = (40, 50)\n"
          ]
        },
        {
          "output_type": "stream",
          "name": "stderr",
          "text": [
            "\r📊 Haftalık RSI 40 - 50 aralığında taranıyor:  32%|███▏      | 192/601 [01:44<03:28,  1.96hisse/s]"
          ]
        },
        {
          "output_type": "stream",
          "name": "stdout",
          "text": [
            "EMNIS: Önceki RSI = 64.79547104615445, Güncel RSI = 52.16910356301101, Seviye Aralığı = (40, 50)\n"
          ]
        },
        {
          "output_type": "stream",
          "name": "stderr",
          "text": [
            "\r📊 Haftalık RSI 40 - 50 aralığında taranıyor:  32%|███▏      | 193/601 [01:45<03:24,  1.99hisse/s]"
          ]
        },
        {
          "output_type": "stream",
          "name": "stdout",
          "text": [
            "⚠ ENDAE: Yeterli veri yok, taramaya dahil edilmedi.\n"
          ]
        },
        {
          "output_type": "stream",
          "name": "stderr",
          "text": [
            "\r📊 Haftalık RSI 40 - 50 aralığında taranıyor:  32%|███▏      | 194/601 [01:45<03:17,  2.07hisse/s]"
          ]
        },
        {
          "output_type": "stream",
          "name": "stdout",
          "text": [
            "ENERY: Önceki RSI = 51.19225896743187, Güncel RSI = 36.729963823700785, Seviye Aralığı = (40, 50)\n"
          ]
        },
        {
          "output_type": "stream",
          "name": "stderr",
          "text": [
            "\r📊 Haftalık RSI 40 - 50 aralığında taranıyor:  32%|███▏      | 195/601 [01:46<03:19,  2.03hisse/s]"
          ]
        },
        {
          "output_type": "stream",
          "name": "stdout",
          "text": [
            "ENJSA: Önceki RSI = 60.48403891267168, Güncel RSI = 42.127512466515235, Seviye Aralığı = (40, 50)\n",
            "ENJSA RSI (40, 50) aralığında! 🚀\n"
          ]
        },
        {
          "output_type": "stream",
          "name": "stderr",
          "text": [
            "\r📊 Haftalık RSI 40 - 50 aralığında taranıyor:  33%|███▎      | 196/601 [01:46<03:21,  2.01hisse/s]"
          ]
        },
        {
          "output_type": "stream",
          "name": "stdout",
          "text": [
            "ENKAI: Önceki RSI = 64.56997721917193, Güncel RSI = 67.06325442922433, Seviye Aralığı = (40, 50)\n"
          ]
        },
        {
          "output_type": "stream",
          "name": "stderr",
          "text": [
            "\r📊 Haftalık RSI 40 - 50 aralığında taranıyor:  33%|███▎      | 197/601 [01:47<03:30,  1.92hisse/s]"
          ]
        },
        {
          "output_type": "stream",
          "name": "stdout",
          "text": [
            "ENSRI: Önceki RSI = 50.04438780835658, Güncel RSI = 38.40637294000072, Seviye Aralığı = (40, 50)\n"
          ]
        },
        {
          "output_type": "stream",
          "name": "stderr",
          "text": [
            "\r📊 Haftalık RSI 40 - 50 aralığında taranıyor:  33%|███▎      | 198/601 [01:47<03:15,  2.07hisse/s]"
          ]
        },
        {
          "output_type": "stream",
          "name": "stdout",
          "text": [
            "ENTRA: Önceki RSI = 66.9414121429054, Güncel RSI = 68.19744135840747, Seviye Aralığı = (40, 50)\n"
          ]
        },
        {
          "output_type": "stream",
          "name": "stderr",
          "text": [
            "\r📊 Haftalık RSI 40 - 50 aralığında taranıyor:  33%|███▎      | 199/601 [01:48<03:20,  2.00hisse/s]"
          ]
        },
        {
          "output_type": "stream",
          "name": "stdout",
          "text": [
            "EPLAS: Önceki RSI = 40.76290379104022, Güncel RSI = 29.817602625145113, Seviye Aralığı = (40, 50)\n"
          ]
        },
        {
          "output_type": "stream",
          "name": "stderr",
          "text": [
            "\r📊 Haftalık RSI 40 - 50 aralığında taranıyor:  33%|███▎      | 200/601 [01:48<03:21,  1.99hisse/s]"
          ]
        },
        {
          "output_type": "stream",
          "name": "stdout",
          "text": [
            "ERBOS: Önceki RSI = 42.37013646437246, Güncel RSI = 34.13033451786086, Seviye Aralığı = (40, 50)\n"
          ]
        },
        {
          "output_type": "stream",
          "name": "stderr",
          "text": [
            "\r📊 Haftalık RSI 40 - 50 aralığında taranıyor:  33%|███▎      | 201/601 [01:49<03:25,  1.95hisse/s]"
          ]
        },
        {
          "output_type": "stream",
          "name": "stdout",
          "text": [
            "ERCB: Önceki RSI = 48.41980794971206, Güncel RSI = 35.94732324425057, Seviye Aralığı = (40, 50)\n"
          ]
        },
        {
          "output_type": "stream",
          "name": "stderr",
          "text": [
            "\r📊 Haftalık RSI 40 - 50 aralığında taranıyor:  34%|███▎      | 202/601 [01:49<03:03,  2.17hisse/s]"
          ]
        },
        {
          "output_type": "stream",
          "name": "stdout",
          "text": [
            "EREGL: Önceki RSI = 57.16861946456058, Güncel RSI = 39.11261390438956, Seviye Aralığı = (40, 50)\n"
          ]
        },
        {
          "output_type": "stream",
          "name": "stderr",
          "text": [
            "\r📊 Haftalık RSI 40 - 50 aralığında taranıyor:  34%|███▍      | 203/601 [01:50<03:20,  1.98hisse/s]"
          ]
        },
        {
          "output_type": "stream",
          "name": "stdout",
          "text": [
            "ERSU: Önceki RSI = 40.46012878735964, Güncel RSI = 33.82231189219391, Seviye Aralığı = (40, 50)\n"
          ]
        },
        {
          "output_type": "stream",
          "name": "stderr",
          "text": [
            "\r📊 Haftalık RSI 40 - 50 aralığında taranıyor:  34%|███▍      | 204/601 [01:50<03:29,  1.90hisse/s]"
          ]
        },
        {
          "output_type": "stream",
          "name": "stdout",
          "text": [
            "ESCAR: Önceki RSI = 70.49816713084908, Güncel RSI = 61.314885892620374, Seviye Aralığı = (40, 50)\n"
          ]
        },
        {
          "output_type": "stream",
          "name": "stderr",
          "text": [
            "\r📊 Haftalık RSI 40 - 50 aralığında taranıyor:  34%|███▍      | 205/601 [01:51<03:21,  1.97hisse/s]"
          ]
        },
        {
          "output_type": "stream",
          "name": "stdout",
          "text": [
            "ESCOM: Önceki RSI = 30.50316400157432, Güncel RSI = 24.55390754662112, Seviye Aralığı = (40, 50)\n"
          ]
        },
        {
          "output_type": "stream",
          "name": "stderr",
          "text": [
            "\r📊 Haftalık RSI 40 - 50 aralığında taranıyor:  34%|███▍      | 206/601 [01:51<03:16,  2.02hisse/s]"
          ]
        },
        {
          "output_type": "stream",
          "name": "stdout",
          "text": [
            "ESEN: Önceki RSI = 70.11138234251277, Güncel RSI = 64.29392008190783, Seviye Aralığı = (40, 50)\n"
          ]
        },
        {
          "output_type": "stream",
          "name": "stderr",
          "text": [
            "\r📊 Haftalık RSI 40 - 50 aralığında taranıyor:  34%|███▍      | 207/601 [01:52<03:34,  1.84hisse/s]"
          ]
        },
        {
          "output_type": "stream",
          "name": "stdout",
          "text": [
            "ETILR: Önceki RSI = 49.80580911576987, Güncel RSI = 51.92390933807259, Seviye Aralığı = (40, 50)\n"
          ]
        },
        {
          "output_type": "stream",
          "name": "stderr",
          "text": [
            "\r📊 Haftalık RSI 40 - 50 aralığında taranıyor:  35%|███▍      | 208/601 [01:52<03:15,  2.01hisse/s]"
          ]
        },
        {
          "output_type": "stream",
          "name": "stdout",
          "text": [
            "ETYAT: Önceki RSI = 45.63723433567809, Güncel RSI = 39.058959215307794, Seviye Aralığı = (40, 50)\n"
          ]
        },
        {
          "output_type": "stream",
          "name": "stderr",
          "text": [
            "\r📊 Haftalık RSI 40 - 50 aralığında taranıyor:  35%|███▍      | 209/601 [01:53<03:13,  2.03hisse/s]"
          ]
        },
        {
          "output_type": "stream",
          "name": "stdout",
          "text": [
            "EUHOL: Önceki RSI = 68.93889031260477, Güncel RSI = 79.3008573912971, Seviye Aralığı = (40, 50)\n"
          ]
        },
        {
          "output_type": "stream",
          "name": "stderr",
          "text": [
            "\r📊 Haftalık RSI 40 - 50 aralığında taranıyor:  35%|███▍      | 210/601 [01:54<04:09,  1.57hisse/s]"
          ]
        },
        {
          "output_type": "stream",
          "name": "stdout",
          "text": [
            "EUKYO: Önceki RSI = 40.46471696689434, Güncel RSI = 37.8523663553182, Seviye Aralığı = (40, 50)\n"
          ]
        },
        {
          "output_type": "stream",
          "name": "stderr",
          "text": [
            "\r📊 Haftalık RSI 40 - 50 aralığında taranıyor:  35%|███▌      | 211/601 [01:54<03:28,  1.87hisse/s]"
          ]
        },
        {
          "output_type": "stream",
          "name": "stdout",
          "text": [
            "EUPWR: Önceki RSI = 58.046470940312105, Güncel RSI = 41.591271519279886, Seviye Aralığı = (40, 50)\n",
            "EUPWR RSI (40, 50) aralığında! 🚀\n"
          ]
        },
        {
          "output_type": "stream",
          "name": "stderr",
          "text": [
            "\r📊 Haftalık RSI 40 - 50 aralığında taranıyor:  35%|███▌      | 212/601 [01:55<03:27,  1.87hisse/s]"
          ]
        },
        {
          "output_type": "stream",
          "name": "stdout",
          "text": [
            "EUREN: Önceki RSI = 60.131283445833965, Güncel RSI = 44.16267861480209, Seviye Aralığı = (40, 50)\n",
            "EUREN RSI (40, 50) aralığında! 🚀\n"
          ]
        },
        {
          "output_type": "stream",
          "name": "stderr",
          "text": [
            "\r📊 Haftalık RSI 40 - 50 aralığında taranıyor:  35%|███▌      | 213/601 [01:55<03:26,  1.88hisse/s]"
          ]
        },
        {
          "output_type": "stream",
          "name": "stdout",
          "text": [
            "EUYO: Önceki RSI = 40.9176844199366, Güncel RSI = 48.23951751740922, Seviye Aralığı = (40, 50)\n",
            "EUYO RSI (40, 50) aralığında! 🚀\n"
          ]
        },
        {
          "output_type": "stream",
          "name": "stderr",
          "text": [
            "\r📊 Haftalık RSI 40 - 50 aralığında taranıyor:  36%|███▌      | 214/601 [01:56<03:47,  1.70hisse/s]"
          ]
        },
        {
          "output_type": "stream",
          "name": "stdout",
          "text": [
            "EYGYO: Önceki RSI = 49.92227285272849, Güncel RSI = 39.73537909254536, Seviye Aralığı = (40, 50)\n"
          ]
        },
        {
          "output_type": "stream",
          "name": "stderr",
          "text": [
            "\r📊 Haftalık RSI 40 - 50 aralığında taranıyor:  36%|███▌      | 215/601 [01:56<03:19,  1.94hisse/s]"
          ]
        },
        {
          "output_type": "stream",
          "name": "stdout",
          "text": [
            "FADE: Önceki RSI = 40.94214811976822, Güncel RSI = 32.13978068495372, Seviye Aralığı = (40, 50)\n"
          ]
        },
        {
          "output_type": "stream",
          "name": "stderr",
          "text": [
            "\r📊 Haftalık RSI 40 - 50 aralığında taranıyor:  36%|███▌      | 216/601 [01:57<03:19,  1.93hisse/s]"
          ]
        },
        {
          "output_type": "stream",
          "name": "stdout",
          "text": [
            "FENER: Önceki RSI = 52.92157277108977, Güncel RSI = 43.01454314058245, Seviye Aralığı = (40, 50)\n",
            "FENER RSI (40, 50) aralığında! 🚀\n"
          ]
        },
        {
          "output_type": "stream",
          "name": "stderr",
          "text": [
            "\r📊 Haftalık RSI 40 - 50 aralığında taranıyor:  36%|███▌      | 217/601 [01:57<03:11,  2.00hisse/s]"
          ]
        },
        {
          "output_type": "stream",
          "name": "stdout",
          "text": [
            "FLAP: Önceki RSI = 44.12612066715153, Güncel RSI = 34.896384893512604, Seviye Aralığı = (40, 50)\n"
          ]
        },
        {
          "output_type": "stream",
          "name": "stderr",
          "text": [
            "\r📊 Haftalık RSI 40 - 50 aralığında taranıyor:  36%|███▋      | 218/601 [01:58<03:04,  2.08hisse/s]"
          ]
        },
        {
          "output_type": "stream",
          "name": "stdout",
          "text": [
            "FMIZP: Önceki RSI = 56.168821637805664, Güncel RSI = 46.45429703229876, Seviye Aralığı = (40, 50)\n",
            "FMIZP RSI (40, 50) aralığında! 🚀\n"
          ]
        },
        {
          "output_type": "stream",
          "name": "stderr",
          "text": [
            "\r📊 Haftalık RSI 40 - 50 aralığında taranıyor:  36%|███▋      | 219/601 [01:58<03:05,  2.05hisse/s]"
          ]
        },
        {
          "output_type": "stream",
          "name": "stdout",
          "text": [
            "FONET: Önceki RSI = 43.56047021641894, Güncel RSI = 34.676465050398946, Seviye Aralığı = (40, 50)\n"
          ]
        },
        {
          "output_type": "stream",
          "name": "stderr",
          "text": [
            "\r📊 Haftalık RSI 40 - 50 aralığında taranıyor:  37%|███▋      | 220/601 [01:59<03:19,  1.91hisse/s]"
          ]
        },
        {
          "output_type": "stream",
          "name": "stdout",
          "text": [
            "FORMT: Önceki RSI = 49.50566689665208, Güncel RSI = 45.89282345507781, Seviye Aralığı = (40, 50)\n",
            "FORMT RSI (40, 50) aralığında! 🚀\n"
          ]
        },
        {
          "output_type": "stream",
          "name": "stderr",
          "text": [
            "\r📊 Haftalık RSI 40 - 50 aralığında taranıyor:  37%|███▋      | 221/601 [01:59<03:27,  1.83hisse/s]"
          ]
        },
        {
          "output_type": "stream",
          "name": "stdout",
          "text": [
            "FORTE: Önceki RSI = 68.14542989560533, Güncel RSI = 65.02877880273772, Seviye Aralığı = (40, 50)\n"
          ]
        },
        {
          "output_type": "stream",
          "name": "stderr",
          "text": [
            "\r📊 Haftalık RSI 40 - 50 aralığında taranıyor:  37%|███▋      | 222/601 [02:00<03:10,  1.99hisse/s]"
          ]
        },
        {
          "output_type": "stream",
          "name": "stdout",
          "text": [
            "FRIGO: Önceki RSI = 53.05701760617106, Güncel RSI = 42.29871574724538, Seviye Aralığı = (40, 50)\n",
            "FRIGO RSI (40, 50) aralığında! 🚀\n"
          ]
        },
        {
          "output_type": "stream",
          "name": "stderr",
          "text": [
            "\r📊 Haftalık RSI 40 - 50 aralığında taranıyor:  37%|███▋      | 223/601 [02:00<02:53,  2.18hisse/s]"
          ]
        },
        {
          "output_type": "stream",
          "name": "stdout",
          "text": [
            "FROTO: Önceki RSI = 60.983447890710075, Güncel RSI = 53.68324194923051, Seviye Aralığı = (40, 50)\n"
          ]
        },
        {
          "output_type": "stream",
          "name": "stderr",
          "text": [
            "\r📊 Haftalık RSI 40 - 50 aralığında taranıyor:  37%|███▋      | 224/601 [02:01<03:22,  1.86hisse/s]"
          ]
        },
        {
          "output_type": "stream",
          "name": "stdout",
          "text": [
            "FZLGY: Önceki RSI = 64.98399132166597, Güncel RSI = 60.60381055104376, Seviye Aralığı = (40, 50)\n"
          ]
        },
        {
          "output_type": "stream",
          "name": "stderr",
          "text": [
            "\r📊 Haftalık RSI 40 - 50 aralığında taranıyor:  37%|███▋      | 225/601 [02:01<03:28,  1.81hisse/s]"
          ]
        },
        {
          "output_type": "stream",
          "name": "stdout",
          "text": [
            "GARAN: Önceki RSI = 70.94875394584082, Güncel RSI = 39.59117840090099, Seviye Aralığı = (40, 50)\n"
          ]
        },
        {
          "output_type": "stream",
          "name": "stderr",
          "text": [
            "\r📊 Haftalık RSI 40 - 50 aralığında taranıyor:  38%|███▊      | 226/601 [02:02<03:09,  1.97hisse/s]"
          ]
        },
        {
          "output_type": "stream",
          "name": "stdout",
          "text": [
            "GARFA: Önceki RSI = 45.914991481345176, Güncel RSI = 33.3592002717747, Seviye Aralığı = (40, 50)\n"
          ]
        },
        {
          "output_type": "stream",
          "name": "stderr",
          "text": [
            "\r📊 Haftalık RSI 40 - 50 aralığında taranıyor:  38%|███▊      | 227/601 [02:02<02:55,  2.13hisse/s]"
          ]
        },
        {
          "output_type": "stream",
          "name": "stdout",
          "text": [
            "GEDIK: Önceki RSI = 59.133152148197254, Güncel RSI = 46.97436714455754, Seviye Aralığı = (40, 50)\n",
            "GEDIK RSI (40, 50) aralığında! 🚀\n"
          ]
        },
        {
          "output_type": "stream",
          "name": "stderr",
          "text": [
            "\r📊 Haftalık RSI 40 - 50 aralığında taranıyor:  38%|███▊      | 228/601 [02:03<03:08,  1.98hisse/s]"
          ]
        },
        {
          "output_type": "stream",
          "name": "stdout",
          "text": [
            "GEDZA: Önceki RSI = 48.09678170025132, Güncel RSI = 40.198440110015724, Seviye Aralığı = (40, 50)\n",
            "GEDZA RSI (40, 50) aralığında! 🚀\n"
          ]
        },
        {
          "output_type": "stream",
          "name": "stderr",
          "text": [
            "\r📊 Haftalık RSI 40 - 50 aralığında taranıyor:  38%|███▊      | 229/601 [02:03<03:06,  1.99hisse/s]"
          ]
        },
        {
          "output_type": "stream",
          "name": "stdout",
          "text": [
            "GENIL: Önceki RSI = 69.68860565250313, Güncel RSI = 54.15015072959793, Seviye Aralığı = (40, 50)\n"
          ]
        },
        {
          "output_type": "stream",
          "name": "stderr",
          "text": [
            "\r📊 Haftalık RSI 40 - 50 aralığında taranıyor:  38%|███▊      | 230/601 [02:04<03:11,  1.93hisse/s]"
          ]
        },
        {
          "output_type": "stream",
          "name": "stdout",
          "text": [
            "GENTS: Önceki RSI = 76.24880236456866, Güncel RSI = 79.2845559636287, Seviye Aralığı = (40, 50)\n"
          ]
        },
        {
          "output_type": "stream",
          "name": "stderr",
          "text": [
            "\r📊 Haftalık RSI 40 - 50 aralığında taranıyor:  38%|███▊      | 231/601 [02:04<03:13,  1.92hisse/s]"
          ]
        },
        {
          "output_type": "stream",
          "name": "stdout",
          "text": [
            "GEREL: Önceki RSI = 44.84543019906536, Güncel RSI = 36.58737664871537, Seviye Aralığı = (40, 50)\n"
          ]
        },
        {
          "output_type": "stream",
          "name": "stderr",
          "text": [
            "\r📊 Haftalık RSI 40 - 50 aralığında taranıyor:  39%|███▊      | 232/601 [02:05<02:55,  2.11hisse/s]"
          ]
        },
        {
          "output_type": "stream",
          "name": "stdout",
          "text": [
            "GESAN: Önceki RSI = 56.90675431774189, Güncel RSI = 44.89905979633957, Seviye Aralığı = (40, 50)\n",
            "GESAN RSI (40, 50) aralığında! 🚀\n"
          ]
        },
        {
          "output_type": "stream",
          "name": "stderr",
          "text": [
            "\r📊 Haftalık RSI 40 - 50 aralığında taranıyor:  39%|███▉      | 233/601 [02:05<02:54,  2.11hisse/s]"
          ]
        },
        {
          "output_type": "stream",
          "name": "stdout",
          "text": [
            "GIPTA: Önceki RSI = 72.98590015231693, Güncel RSI = 65.93096942049341, Seviye Aralığı = (40, 50)\n"
          ]
        },
        {
          "output_type": "stream",
          "name": "stderr",
          "text": [
            "\r📊 Haftalık RSI 40 - 50 aralığında taranıyor:  39%|███▉      | 234/601 [02:06<03:07,  1.96hisse/s]"
          ]
        },
        {
          "output_type": "stream",
          "name": "stdout",
          "text": [
            "GLBMD: Önceki RSI = 47.69689146746197, Güncel RSI = 38.71560368323966, Seviye Aralığı = (40, 50)\n"
          ]
        },
        {
          "output_type": "stream",
          "name": "stderr",
          "text": [
            "\r📊 Haftalık RSI 40 - 50 aralığında taranıyor:  39%|███▉      | 235/601 [02:06<03:07,  1.95hisse/s]"
          ]
        },
        {
          "output_type": "stream",
          "name": "stdout",
          "text": [
            "GLCVY: Önceki RSI = 59.65211330953706, Güncel RSI = 45.4319780214027, Seviye Aralığı = (40, 50)\n",
            "GLCVY RSI (40, 50) aralığında! 🚀\n"
          ]
        },
        {
          "output_type": "stream",
          "name": "stderr",
          "text": [
            "\r📊 Haftalık RSI 40 - 50 aralığında taranıyor:  39%|███▉      | 236/601 [02:07<03:14,  1.87hisse/s]"
          ]
        },
        {
          "output_type": "stream",
          "name": "stdout",
          "text": [
            "GLDTR: Önceki RSI = 72.75786709439248, Güncel RSI = 78.45755075663307, Seviye Aralığı = (40, 50)\n"
          ]
        },
        {
          "output_type": "stream",
          "name": "stderr",
          "text": [
            "\r📊 Haftalık RSI 40 - 50 aralığında taranıyor:  39%|███▉      | 237/601 [02:07<03:02,  2.00hisse/s]"
          ]
        },
        {
          "output_type": "stream",
          "name": "stdout",
          "text": [
            "⚠ GLRMK: Yeterli veri yok, taramaya dahil edilmedi.\n"
          ]
        },
        {
          "output_type": "stream",
          "name": "stderr",
          "text": [
            "\r📊 Haftalık RSI 40 - 50 aralığında taranıyor:  40%|███▉      | 238/601 [02:08<03:04,  1.97hisse/s]"
          ]
        },
        {
          "output_type": "stream",
          "name": "stdout",
          "text": [
            "GLRYH: Önceki RSI = 54.27977169622048, Güncel RSI = 44.85206840148212, Seviye Aralığı = (40, 50)\n",
            "GLRYH RSI (40, 50) aralığında! 🚀\n"
          ]
        },
        {
          "output_type": "stream",
          "name": "stderr",
          "text": [
            "\r📊 Haftalık RSI 40 - 50 aralığında taranıyor:  40%|███▉      | 239/601 [02:08<02:42,  2.23hisse/s]"
          ]
        },
        {
          "output_type": "stream",
          "name": "stdout",
          "text": [
            "GLYHO: Önceki RSI = 70.50738594651412, Güncel RSI = 60.98995759844081, Seviye Aralığı = (40, 50)\n"
          ]
        },
        {
          "output_type": "stream",
          "name": "stderr",
          "text": [
            "\r📊 Haftalık RSI 40 - 50 aralığında taranıyor:  40%|███▉      | 240/601 [02:09<02:47,  2.16hisse/s]"
          ]
        },
        {
          "output_type": "stream",
          "name": "stdout",
          "text": [
            "GMSTR: Önceki RSI = 65.2020463411643, Güncel RSI = 70.34518848665996, Seviye Aralığı = (40, 50)\n"
          ]
        },
        {
          "output_type": "stream",
          "name": "stderr",
          "text": [
            "\r📊 Haftalık RSI 40 - 50 aralığında taranıyor:  40%|████      | 241/601 [02:09<03:05,  1.94hisse/s]"
          ]
        },
        {
          "output_type": "stream",
          "name": "stdout",
          "text": [
            "GMTAS: Önceki RSI = 62.83479677807916, Güncel RSI = 53.65691839905609, Seviye Aralığı = (40, 50)\n"
          ]
        },
        {
          "output_type": "stream",
          "name": "stderr",
          "text": [
            "\r📊 Haftalık RSI 40 - 50 aralığında taranıyor:  40%|████      | 242/601 [02:10<02:53,  2.06hisse/s]"
          ]
        },
        {
          "output_type": "stream",
          "name": "stdout",
          "text": [
            "GOKNR: Önceki RSI = 53.32635391674212, Güncel RSI = 38.898931297612364, Seviye Aralığı = (40, 50)\n"
          ]
        },
        {
          "output_type": "stream",
          "name": "stderr",
          "text": [
            "\r📊 Haftalık RSI 40 - 50 aralığında taranıyor:  40%|████      | 243/601 [02:10<02:54,  2.05hisse/s]"
          ]
        },
        {
          "output_type": "stream",
          "name": "stdout",
          "text": [
            "GOLTS: Önceki RSI = 56.74097168670878, Güncel RSI = 44.92609623310242, Seviye Aralığı = (40, 50)\n",
            "GOLTS RSI (40, 50) aralığında! 🚀\n"
          ]
        },
        {
          "output_type": "stream",
          "name": "stderr",
          "text": [
            "\r📊 Haftalık RSI 40 - 50 aralığında taranıyor:  41%|████      | 244/601 [02:11<03:19,  1.79hisse/s]"
          ]
        },
        {
          "output_type": "stream",
          "name": "stdout",
          "text": [
            "GOODY: Önceki RSI = 47.664015076829024, Güncel RSI = 37.41298928884805, Seviye Aralığı = (40, 50)\n"
          ]
        },
        {
          "output_type": "stream",
          "name": "stderr",
          "text": [
            "\r📊 Haftalık RSI 40 - 50 aralığında taranıyor:  41%|████      | 245/601 [02:11<02:43,  2.18hisse/s]"
          ]
        },
        {
          "output_type": "stream",
          "name": "stdout",
          "text": [
            "GOZDE: Önceki RSI = 40.50838913068446, Güncel RSI = 25.320126155240615, Seviye Aralığı = (40, 50)\n"
          ]
        },
        {
          "output_type": "stream",
          "name": "stderr",
          "text": [
            "\r📊 Haftalık RSI 40 - 50 aralığında taranıyor:  41%|████      | 246/601 [02:12<03:10,  1.86hisse/s]"
          ]
        },
        {
          "output_type": "stream",
          "name": "stdout",
          "text": [
            "GRNYO: Önceki RSI = 43.86881602252586, Güncel RSI = 32.84134296083856, Seviye Aralığı = (40, 50)\n"
          ]
        },
        {
          "output_type": "stream",
          "name": "stderr",
          "text": [
            "\r📊 Haftalık RSI 40 - 50 aralığında taranıyor:  41%|████      | 247/601 [02:12<02:58,  1.98hisse/s]"
          ]
        },
        {
          "output_type": "stream",
          "name": "stdout",
          "text": [
            "GRSEL: Önceki RSI = 61.58289602193541, Güncel RSI = 46.262219394654664, Seviye Aralığı = (40, 50)\n",
            "GRSEL RSI (40, 50) aralığında! 🚀\n"
          ]
        },
        {
          "output_type": "stream",
          "name": "stderr",
          "text": [
            "\r📊 Haftalık RSI 40 - 50 aralığında taranıyor:  41%|████▏     | 248/601 [02:13<03:03,  1.92hisse/s]"
          ]
        },
        {
          "output_type": "stream",
          "name": "stdout",
          "text": [
            "GRTHO: Önceki RSI = 88.81924034676112, Güncel RSI = 67.30685276950771, Seviye Aralığı = (40, 50)\n"
          ]
        },
        {
          "output_type": "stream",
          "name": "stderr",
          "text": [
            "\r📊 Haftalık RSI 40 - 50 aralığında taranıyor:  41%|████▏     | 249/601 [02:13<03:01,  1.93hisse/s]"
          ]
        },
        {
          "output_type": "stream",
          "name": "stdout",
          "text": [
            "GSDDE: Önceki RSI = 52.24810182611698, Güncel RSI = 40.966276867660525, Seviye Aralığı = (40, 50)\n",
            "GSDDE RSI (40, 50) aralığında! 🚀\n"
          ]
        },
        {
          "output_type": "stream",
          "name": "stderr",
          "text": [
            "\r📊 Haftalık RSI 40 - 50 aralığında taranıyor:  42%|████▏     | 250/601 [02:14<02:54,  2.01hisse/s]"
          ]
        },
        {
          "output_type": "stream",
          "name": "stdout",
          "text": [
            "GSDHO: Önceki RSI = 59.05096709327917, Güncel RSI = 50.71989032074893, Seviye Aralığı = (40, 50)\n"
          ]
        },
        {
          "output_type": "stream",
          "name": "stderr",
          "text": [
            "\r📊 Haftalık RSI 40 - 50 aralığında taranıyor:  42%|████▏     | 251/601 [02:14<02:37,  2.23hisse/s]"
          ]
        },
        {
          "output_type": "stream",
          "name": "stdout",
          "text": [
            "GSRAY: Önceki RSI = 39.61144496969548, Güncel RSI = 33.08209387746392, Seviye Aralığı = (40, 50)\n"
          ]
        },
        {
          "output_type": "stream",
          "name": "stderr",
          "text": [
            "\r📊 Haftalık RSI 40 - 50 aralığında taranıyor:  42%|████▏     | 252/601 [02:15<02:42,  2.15hisse/s]"
          ]
        },
        {
          "output_type": "stream",
          "name": "stdout",
          "text": [
            "GUBRF: Önceki RSI = 72.85101940072767, Güncel RSI = 47.615309208281026, Seviye Aralığı = (40, 50)\n",
            "GUBRF RSI (40, 50) aralığında! 🚀\n"
          ]
        },
        {
          "output_type": "stream",
          "name": "stderr",
          "text": [
            "\r📊 Haftalık RSI 40 - 50 aralığında taranıyor:  42%|████▏     | 253/601 [02:15<02:52,  2.02hisse/s]"
          ]
        },
        {
          "output_type": "stream",
          "name": "stdout",
          "text": [
            "GUNDG: Önceki RSI = 47.66600019298542, Güncel RSI = 39.90145657029454, Seviye Aralığı = (40, 50)\n"
          ]
        },
        {
          "output_type": "stream",
          "name": "stderr",
          "text": [
            "\r📊 Haftalık RSI 40 - 50 aralığında taranıyor:  42%|████▏     | 254/601 [02:16<02:45,  2.10hisse/s]"
          ]
        },
        {
          "output_type": "stream",
          "name": "stdout",
          "text": [
            "GWIND: Önceki RSI = 50.78125234298899, Güncel RSI = 37.633256031857194, Seviye Aralığı = (40, 50)\n"
          ]
        },
        {
          "output_type": "stream",
          "name": "stderr",
          "text": [
            "\r📊 Haftalık RSI 40 - 50 aralığında taranıyor:  42%|████▏     | 255/601 [02:16<03:00,  1.92hisse/s]"
          ]
        },
        {
          "output_type": "stream",
          "name": "stdout",
          "text": [
            "GZNMI: Önceki RSI = 74.373041670354, Güncel RSI = 76.99286718990072, Seviye Aralığı = (40, 50)\n"
          ]
        },
        {
          "output_type": "stream",
          "name": "stderr",
          "text": [
            "\r📊 Haftalık RSI 40 - 50 aralığında taranıyor:  43%|████▎     | 256/601 [02:17<02:57,  1.94hisse/s]"
          ]
        },
        {
          "output_type": "stream",
          "name": "stdout",
          "text": [
            "HALKB: Önceki RSI = 71.44382804183468, Güncel RSI = 51.093346079607045, Seviye Aralığı = (40, 50)\n"
          ]
        },
        {
          "output_type": "stream",
          "name": "stderr",
          "text": [
            "\r📊 Haftalık RSI 40 - 50 aralığında taranıyor:  43%|████▎     | 257/601 [02:17<03:02,  1.89hisse/s]"
          ]
        },
        {
          "output_type": "stream",
          "name": "stdout",
          "text": [
            "HATEK: Önceki RSI = 89.57778107893405, Güncel RSI = 89.97708592445024, Seviye Aralığı = (40, 50)\n"
          ]
        },
        {
          "output_type": "stream",
          "name": "stderr",
          "text": [
            "\r📊 Haftalık RSI 40 - 50 aralığında taranıyor:  43%|████▎     | 258/601 [02:18<02:51,  2.00hisse/s]"
          ]
        },
        {
          "output_type": "stream",
          "name": "stdout",
          "text": [
            "HATSN: Önceki RSI = 47.50112777506789, Güncel RSI = 36.47942916342418, Seviye Aralığı = (40, 50)\n"
          ]
        },
        {
          "output_type": "stream",
          "name": "stderr",
          "text": [
            "\r📊 Haftalık RSI 40 - 50 aralığında taranıyor:  43%|████▎     | 259/601 [02:18<02:57,  1.93hisse/s]"
          ]
        },
        {
          "output_type": "stream",
          "name": "stdout",
          "text": [
            "HDFGS: Önceki RSI = 52.34830908860889, Güncel RSI = 46.731273655131965, Seviye Aralığı = (40, 50)\n",
            "HDFGS RSI (40, 50) aralığında! 🚀\n"
          ]
        },
        {
          "output_type": "stream",
          "name": "stderr",
          "text": [
            "\r📊 Haftalık RSI 40 - 50 aralığında taranıyor:  43%|████▎     | 260/601 [02:19<02:49,  2.01hisse/s]"
          ]
        },
        {
          "output_type": "stream",
          "name": "stdout",
          "text": [
            "HEDEF: Önceki RSI = 67.94801580246167, Güncel RSI = 59.16977309250315, Seviye Aralığı = (40, 50)\n"
          ]
        },
        {
          "output_type": "stream",
          "name": "stderr",
          "text": [
            "\r📊 Haftalık RSI 40 - 50 aralığında taranıyor:  43%|████▎     | 261/601 [02:19<03:01,  1.88hisse/s]"
          ]
        },
        {
          "output_type": "stream",
          "name": "stdout",
          "text": [
            "HEKTS: Önceki RSI = 44.76146835135608, Güncel RSI = 33.965835045551216, Seviye Aralığı = (40, 50)\n"
          ]
        },
        {
          "output_type": "stream",
          "name": "stderr",
          "text": [
            "\r📊 Haftalık RSI 40 - 50 aralığında taranıyor:  44%|████▎     | 262/601 [02:20<02:45,  2.04hisse/s]"
          ]
        },
        {
          "output_type": "stream",
          "name": "stdout",
          "text": [
            "HKTM: Önceki RSI = 38.849568894979036, Güncel RSI = 29.437859360174457, Seviye Aralığı = (40, 50)\n"
          ]
        },
        {
          "output_type": "stream",
          "name": "stderr",
          "text": [
            "\r📊 Haftalık RSI 40 - 50 aralığında taranıyor:  44%|████▍     | 263/601 [02:20<02:34,  2.19hisse/s]"
          ]
        },
        {
          "output_type": "stream",
          "name": "stdout",
          "text": [
            "HLGYO: Önceki RSI = 62.86725189825162, Güncel RSI = 42.1702808908829, Seviye Aralığı = (40, 50)\n",
            "HLGYO RSI (40, 50) aralığında! 🚀\n"
          ]
        },
        {
          "output_type": "stream",
          "name": "stderr",
          "text": [
            "\r📊 Haftalık RSI 40 - 50 aralığında taranıyor:  44%|████▍     | 264/601 [02:21<02:46,  2.02hisse/s]"
          ]
        },
        {
          "output_type": "stream",
          "name": "stdout",
          "text": [
            "HOROZ: Önceki RSI = 47.060031410823804, Güncel RSI = 34.06219236217483, Seviye Aralığı = (40, 50)\n"
          ]
        },
        {
          "output_type": "stream",
          "name": "stderr",
          "text": [
            "\r📊 Haftalık RSI 40 - 50 aralığında taranıyor:  44%|████▍     | 265/601 [02:21<02:55,  1.91hisse/s]"
          ]
        },
        {
          "output_type": "stream",
          "name": "stdout",
          "text": [
            "HRKET: Önceki RSI = 40.9633839846773, Güncel RSI = 27.51847019965264, Seviye Aralığı = (40, 50)\n"
          ]
        },
        {
          "output_type": "stream",
          "name": "stderr",
          "text": [
            "\r📊 Haftalık RSI 40 - 50 aralığında taranıyor:  44%|████▍     | 266/601 [02:22<02:56,  1.89hisse/s]"
          ]
        },
        {
          "output_type": "stream",
          "name": "stdout",
          "text": [
            "HTTBT: Önceki RSI = 57.51795598424665, Güncel RSI = 56.893435612934034, Seviye Aralığı = (40, 50)\n"
          ]
        },
        {
          "output_type": "stream",
          "name": "stderr",
          "text": [
            "\r📊 Haftalık RSI 40 - 50 aralığında taranıyor:  44%|████▍     | 267/601 [02:22<02:43,  2.04hisse/s]"
          ]
        },
        {
          "output_type": "stream",
          "name": "stdout",
          "text": [
            "HUBVC: Önceki RSI = 37.97638915229983, Güncel RSI = 31.862458804994958, Seviye Aralığı = (40, 50)\n"
          ]
        },
        {
          "output_type": "stream",
          "name": "stderr",
          "text": [
            "\r📊 Haftalık RSI 40 - 50 aralığında taranıyor:  45%|████▍     | 268/601 [02:23<02:55,  1.90hisse/s]"
          ]
        },
        {
          "output_type": "stream",
          "name": "stdout",
          "text": [
            "HUNER: Önceki RSI = 63.21349680948015, Güncel RSI = 48.828262805572294, Seviye Aralığı = (40, 50)\n",
            "HUNER RSI (40, 50) aralığında! 🚀\n"
          ]
        },
        {
          "output_type": "stream",
          "name": "stderr",
          "text": [
            "\r📊 Haftalık RSI 40 - 50 aralığında taranıyor:  45%|████▍     | 269/601 [02:23<02:28,  2.24hisse/s]"
          ]
        },
        {
          "output_type": "stream",
          "name": "stdout",
          "text": [
            "HURGZ: Önceki RSI = 58.09000478956175, Güncel RSI = 41.02329195298436, Seviye Aralığı = (40, 50)\n",
            "HURGZ RSI (40, 50) aralığında! 🚀\n"
          ]
        },
        {
          "output_type": "stream",
          "name": "stderr",
          "text": [
            "\r📊 Haftalık RSI 40 - 50 aralığında taranıyor:  45%|████▍     | 270/601 [02:24<02:38,  2.09hisse/s]"
          ]
        },
        {
          "output_type": "stream",
          "name": "stdout",
          "text": [
            "ICBCT: Önceki RSI = 56.26825731469161, Güncel RSI = 40.40018278287239, Seviye Aralığı = (40, 50)\n",
            "ICBCT RSI (40, 50) aralığında! 🚀\n"
          ]
        },
        {
          "output_type": "stream",
          "name": "stderr",
          "text": [
            "\r📊 Haftalık RSI 40 - 50 aralığında taranıyor:  45%|████▌     | 271/601 [02:24<02:47,  1.97hisse/s]"
          ]
        },
        {
          "output_type": "stream",
          "name": "stdout",
          "text": [
            "ICUGS: Önceki RSI = 38.843289337192076, Güncel RSI = 33.75840510846295, Seviye Aralığı = (40, 50)\n"
          ]
        },
        {
          "output_type": "stream",
          "name": "stderr",
          "text": [
            "\r📊 Haftalık RSI 40 - 50 aralığında taranıyor:  45%|████▌     | 272/601 [02:25<02:47,  1.96hisse/s]"
          ]
        },
        {
          "output_type": "stream",
          "name": "stdout",
          "text": [
            "IDGYO: Önceki RSI = 41.998422542461306, Güncel RSI = 29.496515571923894, Seviye Aralığı = (40, 50)\n"
          ]
        },
        {
          "output_type": "stream",
          "name": "stderr",
          "text": [
            "\r📊 Haftalık RSI 40 - 50 aralığında taranıyor:  45%|████▌     | 273/601 [02:25<02:46,  1.97hisse/s]"
          ]
        },
        {
          "output_type": "stream",
          "name": "stdout",
          "text": [
            "IEYHO: Önceki RSI = 45.87259223298256, Güncel RSI = 41.26312403868804, Seviye Aralığı = (40, 50)\n",
            "IEYHO RSI (40, 50) aralığında! 🚀\n"
          ]
        },
        {
          "output_type": "stream",
          "name": "stderr",
          "text": [
            "\r📊 Haftalık RSI 40 - 50 aralığında taranıyor:  46%|████▌     | 274/601 [02:26<03:02,  1.79hisse/s]"
          ]
        },
        {
          "output_type": "stream",
          "name": "stdout",
          "text": [
            "IHAAS: Önceki RSI = 56.5485942931724, Güncel RSI = 50.39035393555102, Seviye Aralığı = (40, 50)\n"
          ]
        },
        {
          "output_type": "stream",
          "name": "stderr",
          "text": [
            "\r📊 Haftalık RSI 40 - 50 aralığında taranıyor:  46%|████▌     | 275/601 [02:26<02:37,  2.07hisse/s]"
          ]
        },
        {
          "output_type": "stream",
          "name": "stdout",
          "text": [
            "IHEVA: Önceki RSI = 48.118337345583456, Güncel RSI = 38.3797011945577, Seviye Aralığı = (40, 50)\n"
          ]
        },
        {
          "output_type": "stream",
          "name": "stderr",
          "text": [
            "\r📊 Haftalık RSI 40 - 50 aralığında taranıyor:  46%|████▌     | 276/601 [02:27<02:49,  1.92hisse/s]"
          ]
        },
        {
          "output_type": "stream",
          "name": "stdout",
          "text": [
            "IHGZT: Önceki RSI = 52.364042703111274, Güncel RSI = 42.171411192014425, Seviye Aralığı = (40, 50)\n",
            "IHGZT RSI (40, 50) aralığında! 🚀\n"
          ]
        },
        {
          "output_type": "stream",
          "name": "stderr",
          "text": [
            "\r📊 Haftalık RSI 40 - 50 aralığında taranıyor:  46%|████▌     | 277/601 [02:27<02:28,  2.18hisse/s]"
          ]
        },
        {
          "output_type": "stream",
          "name": "stdout",
          "text": [
            "IHLAS: Önceki RSI = 53.00836493716146, Güncel RSI = 45.62049432733033, Seviye Aralığı = (40, 50)\n",
            "IHLAS RSI (40, 50) aralığında! 🚀\n"
          ]
        },
        {
          "output_type": "stream",
          "name": "stderr",
          "text": [
            "\r📊 Haftalık RSI 40 - 50 aralığında taranıyor:  46%|████▋     | 278/601 [02:28<02:32,  2.12hisse/s]"
          ]
        },
        {
          "output_type": "stream",
          "name": "stdout",
          "text": [
            "IHLGM: Önceki RSI = 50.78551232008093, Güncel RSI = 41.30241101691744, Seviye Aralığı = (40, 50)\n",
            "IHLGM RSI (40, 50) aralığında! 🚀\n"
          ]
        },
        {
          "output_type": "stream",
          "name": "stderr",
          "text": [
            "\r📊 Haftalık RSI 40 - 50 aralığında taranıyor:  46%|████▋     | 279/601 [02:28<02:55,  1.83hisse/s]"
          ]
        },
        {
          "output_type": "stream",
          "name": "stdout",
          "text": [
            "IHYAY: Önceki RSI = 34.949231842959236, Güncel RSI = 28.490649962928387, Seviye Aralığı = (40, 50)\n"
          ]
        },
        {
          "output_type": "stream",
          "name": "stderr",
          "text": [
            "\r📊 Haftalık RSI 40 - 50 aralığında taranıyor:  47%|████▋     | 280/601 [02:29<02:39,  2.01hisse/s]"
          ]
        },
        {
          "output_type": "stream",
          "name": "stdout",
          "text": [
            "IMASM: Önceki RSI = 45.436690519776214, Güncel RSI = 34.5846576787647, Seviye Aralığı = (40, 50)\n"
          ]
        },
        {
          "output_type": "stream",
          "name": "stderr",
          "text": [
            "\r📊 Haftalık RSI 40 - 50 aralığında taranıyor:  47%|████▋     | 281/601 [02:29<02:21,  2.27hisse/s]"
          ]
        },
        {
          "output_type": "stream",
          "name": "stdout",
          "text": [
            "INDES: Önceki RSI = 56.657146600187524, Güncel RSI = 40.03974343146165, Seviye Aralığı = (40, 50)\n",
            "INDES RSI (40, 50) aralığında! 🚀\n"
          ]
        },
        {
          "output_type": "stream",
          "name": "stderr",
          "text": [
            "\r📊 Haftalık RSI 40 - 50 aralığında taranıyor:  47%|████▋     | 282/601 [02:30<02:26,  2.18hisse/s]"
          ]
        },
        {
          "output_type": "stream",
          "name": "stdout",
          "text": [
            "INFO: Önceki RSI = 48.624005772675694, Güncel RSI = 35.385801489063454, Seviye Aralığı = (40, 50)\n"
          ]
        },
        {
          "output_type": "stream",
          "name": "stderr",
          "text": [
            "\r📊 Haftalık RSI 40 - 50 aralığında taranıyor:  47%|████▋     | 283/601 [02:30<02:26,  2.17hisse/s]"
          ]
        },
        {
          "output_type": "stream",
          "name": "stdout",
          "text": [
            "INGRM: Önceki RSI = 46.45042015745671, Güncel RSI = 39.24159829978043, Seviye Aralığı = (40, 50)\n"
          ]
        },
        {
          "output_type": "stream",
          "name": "stderr",
          "text": [
            "\r📊 Haftalık RSI 40 - 50 aralığında taranıyor:  47%|████▋     | 284/601 [02:31<02:35,  2.04hisse/s]"
          ]
        },
        {
          "output_type": "stream",
          "name": "stdout",
          "text": [
            "INTEK: Önceki RSI = 61.04334193903131, Güncel RSI = 51.29295212293358, Seviye Aralığı = (40, 50)\n"
          ]
        },
        {
          "output_type": "stream",
          "name": "stderr",
          "text": [
            "\r📊 Haftalık RSI 40 - 50 aralığında taranıyor:  47%|████▋     | 285/601 [02:31<02:28,  2.12hisse/s]"
          ]
        },
        {
          "output_type": "stream",
          "name": "stdout",
          "text": [
            "INTEM: Önceki RSI = 45.02536628026421, Güncel RSI = 35.54964559879795, Seviye Aralığı = (40, 50)\n"
          ]
        },
        {
          "output_type": "stream",
          "name": "stderr",
          "text": [
            "\r📊 Haftalık RSI 40 - 50 aralığında taranıyor:  48%|████▊     | 286/601 [02:31<02:25,  2.17hisse/s]"
          ]
        },
        {
          "output_type": "stream",
          "name": "stdout",
          "text": [
            "INVEO: Önceki RSI = 43.714229143158505, Güncel RSI = 29.967958338234354, Seviye Aralığı = (40, 50)\n"
          ]
        },
        {
          "output_type": "stream",
          "name": "stderr",
          "text": [
            "\r📊 Haftalık RSI 40 - 50 aralığında taranıyor:  48%|████▊     | 287/601 [02:32<02:39,  1.97hisse/s]"
          ]
        },
        {
          "output_type": "stream",
          "name": "stdout",
          "text": [
            "INVES: Önceki RSI = 38.041461332524946, Güncel RSI = 32.525952160517946, Seviye Aralığı = (40, 50)\n"
          ]
        },
        {
          "output_type": "stream",
          "name": "stderr",
          "text": [
            "\r📊 Haftalık RSI 40 - 50 aralığında taranıyor:  48%|████▊     | 288/601 [02:32<02:27,  2.12hisse/s]"
          ]
        },
        {
          "output_type": "stream",
          "name": "stdout",
          "text": [
            "IPEKE: Önceki RSI = 67.52226730796431, Güncel RSI = 53.48408351961462, Seviye Aralığı = (40, 50)\n"
          ]
        },
        {
          "output_type": "stream",
          "name": "stderr",
          "text": [
            "\r📊 Haftalık RSI 40 - 50 aralığında taranıyor:  48%|████▊     | 289/601 [02:33<02:29,  2.09hisse/s]"
          ]
        },
        {
          "output_type": "stream",
          "name": "stdout",
          "text": [
            "ISBIR: Önceki RSI = 33.15675075423296, Güncel RSI = 26.31409164815976, Seviye Aralığı = (40, 50)\n"
          ]
        },
        {
          "output_type": "stream",
          "name": "stderr",
          "text": [
            "\r📊 Haftalık RSI 40 - 50 aralığında taranıyor:  48%|████▊     | 290/601 [02:34<02:41,  1.93hisse/s]"
          ]
        },
        {
          "output_type": "stream",
          "name": "stdout",
          "text": [
            "ISBTR: Önceki RSI = 43.02027260850072, Güncel RSI = 43.22343087642941, Seviye Aralığı = (40, 50)\n",
            "ISBTR RSI (40, 50) aralığında! 🚀\n"
          ]
        },
        {
          "output_type": "stream",
          "name": "stderr",
          "text": [
            "\r📊 Haftalık RSI 40 - 50 aralığında taranıyor:  48%|████▊     | 291/601 [02:34<02:28,  2.09hisse/s]"
          ]
        },
        {
          "output_type": "stream",
          "name": "stdout",
          "text": [
            "ISCTR: Önceki RSI = 68.27963246056022, Güncel RSI = 39.74262440706414, Seviye Aralığı = (40, 50)\n"
          ]
        },
        {
          "output_type": "stream",
          "name": "stderr",
          "text": [
            "\r📊 Haftalık RSI 40 - 50 aralığında taranıyor:  49%|████▊     | 292/601 [02:34<02:29,  2.06hisse/s]"
          ]
        },
        {
          "output_type": "stream",
          "name": "stdout",
          "text": [
            "ISDMR: Önceki RSI = 60.091186447498266, Güncel RSI = 40.2479971895647, Seviye Aralığı = (40, 50)\n",
            "ISDMR RSI (40, 50) aralığında! 🚀\n"
          ]
        },
        {
          "output_type": "stream",
          "name": "stderr",
          "text": [
            "\r📊 Haftalık RSI 40 - 50 aralığında taranıyor:  49%|████▉     | 293/601 [02:35<02:38,  1.95hisse/s]"
          ]
        },
        {
          "output_type": "stream",
          "name": "stdout",
          "text": [
            "ISFIN: Önceki RSI = 68.67729936012314, Güncel RSI = 52.27984217885458, Seviye Aralığı = (40, 50)\n"
          ]
        },
        {
          "output_type": "stream",
          "name": "stderr",
          "text": [
            "\r📊 Haftalık RSI 40 - 50 aralığında taranıyor:  49%|████▉     | 294/601 [02:36<02:37,  1.95hisse/s]"
          ]
        },
        {
          "output_type": "stream",
          "name": "stdout",
          "text": [
            "ISGSY: Önceki RSI = 59.56313650322685, Güncel RSI = 50.640149229836325, Seviye Aralığı = (40, 50)\n"
          ]
        },
        {
          "output_type": "stream",
          "name": "stderr",
          "text": [
            "\r📊 Haftalık RSI 40 - 50 aralığında taranıyor:  49%|████▉     | 295/601 [02:36<02:27,  2.08hisse/s]"
          ]
        },
        {
          "output_type": "stream",
          "name": "stdout",
          "text": [
            "ISGYO: Önceki RSI = 56.68584063847089, Güncel RSI = 41.05690509507514, Seviye Aralığı = (40, 50)\n",
            "ISGYO RSI (40, 50) aralığında! 🚀\n"
          ]
        },
        {
          "output_type": "stream",
          "name": "stderr",
          "text": [
            "\r📊 Haftalık RSI 40 - 50 aralığında taranıyor:  49%|████▉     | 296/601 [02:37<02:44,  1.85hisse/s]"
          ]
        },
        {
          "output_type": "stream",
          "name": "stdout",
          "text": [
            "ISKPL: Önceki RSI = 75.05387421725109, Güncel RSI = 58.889476193503334, Seviye Aralığı = (40, 50)\n"
          ]
        },
        {
          "output_type": "stream",
          "name": "stderr",
          "text": [
            "\r📊 Haftalık RSI 40 - 50 aralığında taranıyor:  49%|████▉     | 297/601 [02:37<02:32,  1.99hisse/s]"
          ]
        },
        {
          "output_type": "stream",
          "name": "stdout",
          "text": [
            "ISKUR: Önceki RSI = 54.56516959286295, Güncel RSI = 54.56514537655945, Seviye Aralığı = (40, 50)\n"
          ]
        },
        {
          "output_type": "stream",
          "name": "stderr",
          "text": [
            "\r📊 Haftalık RSI 40 - 50 aralığında taranıyor:  50%|████▉     | 298/601 [02:38<02:35,  1.95hisse/s]"
          ]
        },
        {
          "output_type": "stream",
          "name": "stdout",
          "text": [
            "ISMEN: Önceki RSI = 67.73072560743597, Güncel RSI = 50.69701224510298, Seviye Aralığı = (40, 50)\n"
          ]
        },
        {
          "output_type": "stream",
          "name": "stderr",
          "text": [
            "\r📊 Haftalık RSI 40 - 50 aralığında taranıyor:  50%|████▉     | 299/601 [02:38<02:28,  2.03hisse/s]"
          ]
        },
        {
          "output_type": "stream",
          "name": "stdout",
          "text": [
            "ISSEN: Önceki RSI = 37.97433196924102, Güncel RSI = 27.533415246865417, Seviye Aralığı = (40, 50)\n"
          ]
        },
        {
          "output_type": "stream",
          "name": "stderr",
          "text": [
            "\r📊 Haftalık RSI 40 - 50 aralığında taranıyor:  50%|████▉     | 300/601 [02:38<02:21,  2.12hisse/s]"
          ]
        },
        {
          "output_type": "stream",
          "name": "stdout",
          "text": [
            "ISYAT: Önceki RSI = 47.09163701469642, Güncel RSI = 37.19910810911052, Seviye Aralığı = (40, 50)\n"
          ]
        },
        {
          "output_type": "stream",
          "name": "stderr",
          "text": [
            "\r📊 Haftalık RSI 40 - 50 aralığında taranıyor:  50%|█████     | 301/601 [02:39<02:31,  1.98hisse/s]"
          ]
        },
        {
          "output_type": "stream",
          "name": "stdout",
          "text": [
            "IZENR: Önceki RSI = 60.745615175619506, Güncel RSI = 46.83780993420439, Seviye Aralığı = (40, 50)\n",
            "IZENR RSI (40, 50) aralığında! 🚀\n"
          ]
        },
        {
          "output_type": "stream",
          "name": "stderr",
          "text": [
            "\r📊 Haftalık RSI 40 - 50 aralığında taranıyor:  50%|█████     | 302/601 [02:40<02:30,  1.99hisse/s]"
          ]
        },
        {
          "output_type": "stream",
          "name": "stdout",
          "text": [
            "IZFAS: Önceki RSI = 56.005968069205146, Güncel RSI = 53.32046629455911, Seviye Aralığı = (40, 50)\n"
          ]
        },
        {
          "output_type": "stream",
          "name": "stderr",
          "text": [
            "\r📊 Haftalık RSI 40 - 50 aralığında taranıyor:  50%|█████     | 303/601 [02:40<02:36,  1.90hisse/s]"
          ]
        },
        {
          "output_type": "stream",
          "name": "stdout",
          "text": [
            "IZINV: Önceki RSI = 46.23699355009105, Güncel RSI = 36.74894613261392, Seviye Aralığı = (40, 50)\n"
          ]
        },
        {
          "output_type": "stream",
          "name": "stderr",
          "text": [
            "\r📊 Haftalık RSI 40 - 50 aralığında taranıyor:  51%|█████     | 304/601 [02:41<02:26,  2.02hisse/s]"
          ]
        },
        {
          "output_type": "stream",
          "name": "stdout",
          "text": [
            "IZMDC: Önceki RSI = 48.026909488563454, Güncel RSI = 32.58503836967401, Seviye Aralığı = (40, 50)\n"
          ]
        },
        {
          "output_type": "stream",
          "name": "stderr",
          "text": [
            "\r📊 Haftalık RSI 40 - 50 aralığında taranıyor:  51%|█████     | 305/601 [02:41<02:19,  2.12hisse/s]"
          ]
        },
        {
          "output_type": "stream",
          "name": "stdout",
          "text": [
            "JANTS: Önceki RSI = 49.00486199294857, Güncel RSI = 39.41801718320925, Seviye Aralığı = (40, 50)\n"
          ]
        },
        {
          "output_type": "stream",
          "name": "stderr",
          "text": [
            "\r📊 Haftalık RSI 40 - 50 aralığında taranıyor:  51%|█████     | 306/601 [02:42<02:27,  2.00hisse/s]"
          ]
        },
        {
          "output_type": "stream",
          "name": "stdout",
          "text": [
            "KAPLM: Önceki RSI = 55.59886449531739, Güncel RSI = 44.95093874634743, Seviye Aralığı = (40, 50)\n",
            "KAPLM RSI (40, 50) aralığında! 🚀\n"
          ]
        },
        {
          "output_type": "stream",
          "name": "stderr",
          "text": [
            "\r📊 Haftalık RSI 40 - 50 aralığında taranıyor:  51%|█████     | 307/601 [02:42<02:21,  2.08hisse/s]"
          ]
        },
        {
          "output_type": "stream",
          "name": "stdout",
          "text": [
            "KAREL: Önceki RSI = 41.148077758264066, Güncel RSI = 37.4500512119116, Seviye Aralığı = (40, 50)\n"
          ]
        },
        {
          "output_type": "stream",
          "name": "stderr",
          "text": [
            "\r📊 Haftalık RSI 40 - 50 aralığında taranıyor:  51%|█████     | 308/601 [02:43<02:31,  1.93hisse/s]"
          ]
        },
        {
          "output_type": "stream",
          "name": "stdout",
          "text": [
            "KARSN: Önceki RSI = 46.285074224839896, Güncel RSI = 36.43591168902725, Seviye Aralığı = (40, 50)\n"
          ]
        },
        {
          "output_type": "stream",
          "name": "stderr",
          "text": [
            "\r📊 Haftalık RSI 40 - 50 aralığında taranıyor:  51%|█████▏    | 309/601 [02:43<02:20,  2.08hisse/s]"
          ]
        },
        {
          "output_type": "stream",
          "name": "stdout",
          "text": [
            "KARTN: Önceki RSI = 49.6158325598557, Güncel RSI = 38.09647878988767, Seviye Aralığı = (40, 50)\n"
          ]
        },
        {
          "output_type": "stream",
          "name": "stderr",
          "text": [
            "\r📊 Haftalık RSI 40 - 50 aralığında taranıyor:  52%|█████▏    | 310/601 [02:44<02:33,  1.90hisse/s]"
          ]
        },
        {
          "output_type": "stream",
          "name": "stdout",
          "text": [
            "KARYE: Önceki RSI = 49.49456739138314, Güncel RSI = 39.27898618772472, Seviye Aralığı = (40, 50)\n"
          ]
        },
        {
          "output_type": "stream",
          "name": "stderr",
          "text": [
            "\r📊 Haftalık RSI 40 - 50 aralığında taranıyor:  52%|█████▏    | 311/601 [02:44<02:28,  1.95hisse/s]"
          ]
        },
        {
          "output_type": "stream",
          "name": "stdout",
          "text": [
            "KATMR: Önceki RSI = 58.923813704639414, Güncel RSI = 47.589288107301456, Seviye Aralığı = (40, 50)\n",
            "KATMR RSI (40, 50) aralığında! 🚀\n"
          ]
        },
        {
          "output_type": "stream",
          "name": "stderr",
          "text": [
            "\r📊 Haftalık RSI 40 - 50 aralığında taranıyor:  52%|█████▏    | 312/601 [02:45<02:21,  2.05hisse/s]"
          ]
        },
        {
          "output_type": "stream",
          "name": "stdout",
          "text": [
            "KAYSE: Önceki RSI = 42.88735703532379, Güncel RSI = 33.05232411685428, Seviye Aralığı = (40, 50)\n"
          ]
        },
        {
          "output_type": "stream",
          "name": "stderr",
          "text": [
            "\r📊 Haftalık RSI 40 - 50 aralığında taranıyor:  52%|█████▏    | 313/601 [02:45<02:28,  1.94hisse/s]"
          ]
        },
        {
          "output_type": "stream",
          "name": "stdout",
          "text": [
            "KBORU: Önceki RSI = 44.467141980445604, Güncel RSI = 32.54491815144871, Seviye Aralığı = (40, 50)\n"
          ]
        },
        {
          "output_type": "stream",
          "name": "stderr",
          "text": [
            "\r📊 Haftalık RSI 40 - 50 aralığında taranıyor:  52%|█████▏    | 314/601 [02:46<02:24,  1.99hisse/s]"
          ]
        },
        {
          "output_type": "stream",
          "name": "stdout",
          "text": [
            "KCAER: Önceki RSI = 41.84845148743094, Güncel RSI = 38.5280623260584, Seviye Aralığı = (40, 50)\n"
          ]
        },
        {
          "output_type": "stream",
          "name": "stderr",
          "text": [
            "\r📊 Haftalık RSI 40 - 50 aralığında taranıyor:  52%|█████▏    | 315/601 [02:46<02:24,  1.98hisse/s]"
          ]
        },
        {
          "output_type": "stream",
          "name": "stdout",
          "text": [
            "KCHOL: Önceki RSI = 52.68929655669984, Güncel RSI = 39.518907172022494, Seviye Aralığı = (40, 50)\n"
          ]
        },
        {
          "output_type": "stream",
          "name": "stderr",
          "text": [
            "\r📊 Haftalık RSI 40 - 50 aralığında taranıyor:  53%|█████▎    | 316/601 [02:47<02:21,  2.02hisse/s]"
          ]
        },
        {
          "output_type": "stream",
          "name": "stdout",
          "text": [
            "KENT: Önceki RSI = 51.123570698902576, Güncel RSI = 40.57149102432124, Seviye Aralığı = (40, 50)\n",
            "KENT RSI (40, 50) aralığında! 🚀\n"
          ]
        },
        {
          "output_type": "stream",
          "name": "stderr",
          "text": [
            "\r📊 Haftalık RSI 40 - 50 aralığında taranıyor:  53%|█████▎    | 317/601 [02:47<02:24,  1.97hisse/s]"
          ]
        },
        {
          "output_type": "stream",
          "name": "stdout",
          "text": [
            "KERVN: Önceki RSI = 65.2547071161894, Güncel RSI = 48.371509965284496, Seviye Aralığı = (40, 50)\n",
            "KERVN RSI (40, 50) aralığında! 🚀\n"
          ]
        },
        {
          "output_type": "stream",
          "name": "stderr",
          "text": [
            "\r📊 Haftalık RSI 40 - 50 aralığında taranıyor:  53%|█████▎    | 318/601 [02:47<02:13,  2.12hisse/s]"
          ]
        },
        {
          "output_type": "stream",
          "name": "stdout",
          "text": [
            "KERVT: Önceki RSI = 65.98408259500863, Güncel RSI = 51.965463411073685, Seviye Aralığı = (40, 50)\n"
          ]
        },
        {
          "output_type": "stream",
          "name": "stderr",
          "text": [
            "\r📊 Haftalık RSI 40 - 50 aralığında taranıyor:  53%|█████▎    | 319/601 [02:48<02:15,  2.09hisse/s]"
          ]
        },
        {
          "output_type": "stream",
          "name": "stdout",
          "text": [
            "KFEIN: Önceki RSI = 63.22279779777819, Güncel RSI = 52.52040760768459, Seviye Aralığı = (40, 50)\n"
          ]
        },
        {
          "output_type": "stream",
          "name": "stderr",
          "text": [
            "\r📊 Haftalık RSI 40 - 50 aralığında taranıyor:  53%|█████▎    | 320/601 [02:49<02:24,  1.95hisse/s]"
          ]
        },
        {
          "output_type": "stream",
          "name": "stdout",
          "text": [
            "KGYO: Önceki RSI = 56.903123368342854, Güncel RSI = 53.297493739249525, Seviye Aralığı = (40, 50)\n"
          ]
        },
        {
          "output_type": "stream",
          "name": "stderr",
          "text": [
            "\r📊 Haftalık RSI 40 - 50 aralığında taranıyor:  53%|█████▎    | 321/601 [02:49<02:19,  2.00hisse/s]"
          ]
        },
        {
          "output_type": "stream",
          "name": "stdout",
          "text": [
            "KIMMR: Önceki RSI = 45.09488662198163, Güncel RSI = 36.400744671785894, Seviye Aralığı = (40, 50)\n"
          ]
        },
        {
          "output_type": "stream",
          "name": "stderr",
          "text": [
            "\r📊 Haftalık RSI 40 - 50 aralığında taranıyor:  54%|█████▎    | 322/601 [02:50<02:27,  1.89hisse/s]"
          ]
        },
        {
          "output_type": "stream",
          "name": "stdout",
          "text": [
            "KLGYO: Önceki RSI = 61.962167693089796, Güncel RSI = 45.88048878496507, Seviye Aralığı = (40, 50)\n",
            "KLGYO RSI (40, 50) aralığında! 🚀\n"
          ]
        },
        {
          "output_type": "stream",
          "name": "stderr",
          "text": [
            "\r📊 Haftalık RSI 40 - 50 aralığında taranıyor:  54%|█████▎    | 323/601 [02:50<02:11,  2.11hisse/s]"
          ]
        },
        {
          "output_type": "stream",
          "name": "stdout",
          "text": [
            "KLKIM: Önceki RSI = 61.93075839547937, Güncel RSI = 52.39836685195507, Seviye Aralığı = (40, 50)\n"
          ]
        },
        {
          "output_type": "stream",
          "name": "stderr",
          "text": [
            "\r📊 Haftalık RSI 40 - 50 aralığında taranıyor:  54%|█████▍    | 324/601 [02:50<02:13,  2.08hisse/s]"
          ]
        },
        {
          "output_type": "stream",
          "name": "stdout",
          "text": [
            "KLMSN: Önceki RSI = 46.626743675045574, Güncel RSI = 34.08440501185494, Seviye Aralığı = (40, 50)\n"
          ]
        },
        {
          "output_type": "stream",
          "name": "stderr",
          "text": [
            "\r📊 Haftalık RSI 40 - 50 aralığında taranıyor:  54%|█████▍    | 325/601 [02:51<02:21,  1.95hisse/s]"
          ]
        },
        {
          "output_type": "stream",
          "name": "stdout",
          "text": [
            "KLNMA: Önceki RSI = 37.39812303692948, Güncel RSI = 30.16363140882038, Seviye Aralığı = (40, 50)\n"
          ]
        },
        {
          "output_type": "stream",
          "name": "stderr",
          "text": [
            "\r📊 Haftalık RSI 40 - 50 aralığında taranıyor:  54%|█████▍    | 326/601 [02:52<02:17,  2.00hisse/s]"
          ]
        },
        {
          "output_type": "stream",
          "name": "stdout",
          "text": [
            "KLRHO: Önceki RSI = 40.137651588593194, Güncel RSI = 32.94185765702163, Seviye Aralığı = (40, 50)\n"
          ]
        },
        {
          "output_type": "stream",
          "name": "stderr",
          "text": [
            "\r📊 Haftalık RSI 40 - 50 aralığında taranıyor:  54%|█████▍    | 327/601 [02:52<02:17,  2.00hisse/s]"
          ]
        },
        {
          "output_type": "stream",
          "name": "stdout",
          "text": [
            "KLSER: Önceki RSI = 40.065173547308454, Güncel RSI = 32.92898241963353, Seviye Aralığı = (40, 50)\n"
          ]
        },
        {
          "output_type": "stream",
          "name": "stderr",
          "text": [
            "\r📊 Haftalık RSI 40 - 50 aralığında taranıyor:  55%|█████▍    | 328/601 [02:52<02:11,  2.07hisse/s]"
          ]
        },
        {
          "output_type": "stream",
          "name": "stdout",
          "text": [
            "KLSYN: Önceki RSI = 60.066865965614205, Güncel RSI = 44.66835356339817, Seviye Aralığı = (40, 50)\n",
            "KLSYN RSI (40, 50) aralığında! 🚀\n"
          ]
        },
        {
          "output_type": "stream",
          "name": "stderr",
          "text": [
            "\r📊 Haftalık RSI 40 - 50 aralığında taranıyor:  55%|█████▍    | 329/601 [02:53<02:15,  2.00hisse/s]"
          ]
        },
        {
          "output_type": "stream",
          "name": "stdout",
          "text": [
            "⚠ KLYPV: Yeterli veri yok, taramaya dahil edilmedi.\n"
          ]
        },
        {
          "output_type": "stream",
          "name": "stderr",
          "text": [
            "\r📊 Haftalık RSI 40 - 50 aralığında taranıyor:  55%|█████▍    | 330/601 [02:54<02:22,  1.90hisse/s]"
          ]
        },
        {
          "output_type": "stream",
          "name": "stdout",
          "text": [
            "KMPUR: Önceki RSI = 51.92795139158056, Güncel RSI = 34.1892065218823, Seviye Aralığı = (40, 50)\n"
          ]
        },
        {
          "output_type": "stream",
          "name": "stderr",
          "text": [
            "\r📊 Haftalık RSI 40 - 50 aralığında taranıyor:  55%|█████▌    | 331/601 [02:54<02:16,  1.98hisse/s]"
          ]
        },
        {
          "output_type": "stream",
          "name": "stdout",
          "text": [
            "KNFRT: Önceki RSI = 53.922158409180994, Güncel RSI = 44.60385499959704, Seviye Aralığı = (40, 50)\n",
            "KNFRT RSI (40, 50) aralığında! 🚀\n"
          ]
        },
        {
          "output_type": "stream",
          "name": "stderr",
          "text": [
            "\r📊 Haftalık RSI 40 - 50 aralığında taranıyor:  55%|█████▌    | 332/601 [02:55<02:16,  1.97hisse/s]"
          ]
        },
        {
          "output_type": "stream",
          "name": "stdout",
          "text": [
            "KOCMT: Önceki RSI = 41.99108181979079, Güncel RSI = 31.826450591005, Seviye Aralığı = (40, 50)\n"
          ]
        },
        {
          "output_type": "stream",
          "name": "stderr",
          "text": [
            "\r📊 Haftalık RSI 40 - 50 aralığında taranıyor:  55%|█████▌    | 333/601 [02:55<02:14,  1.99hisse/s]"
          ]
        },
        {
          "output_type": "stream",
          "name": "stdout",
          "text": [
            "KONKA: Önceki RSI = 35.73533613578674, Güncel RSI = 24.804330865301424, Seviye Aralığı = (40, 50)\n"
          ]
        },
        {
          "output_type": "stream",
          "name": "stderr",
          "text": [
            "\r📊 Haftalık RSI 40 - 50 aralığında taranıyor:  56%|█████▌    | 334/601 [02:55<02:06,  2.10hisse/s]"
          ]
        },
        {
          "output_type": "stream",
          "name": "stdout",
          "text": [
            "KONTR: Önceki RSI = 39.4214114109429, Güncel RSI = 30.40634849249078, Seviye Aralığı = (40, 50)\n"
          ]
        },
        {
          "output_type": "stream",
          "name": "stderr",
          "text": [
            "\r📊 Haftalık RSI 40 - 50 aralığında taranıyor:  56%|█████▌    | 335/601 [02:56<02:08,  2.07hisse/s]"
          ]
        },
        {
          "output_type": "stream",
          "name": "stdout",
          "text": [
            "KONYA: Önceki RSI = 42.06481774991512, Güncel RSI = 33.135203182351574, Seviye Aralığı = (40, 50)\n"
          ]
        },
        {
          "output_type": "stream",
          "name": "stderr",
          "text": [
            "\r📊 Haftalık RSI 40 - 50 aralığında taranıyor:  56%|█████▌    | 336/601 [02:57<02:17,  1.93hisse/s]"
          ]
        },
        {
          "output_type": "stream",
          "name": "stdout",
          "text": [
            "KOPOL: Önceki RSI = 50.684259792685964, Güncel RSI = 36.67618543315378, Seviye Aralığı = (40, 50)\n"
          ]
        },
        {
          "output_type": "stream",
          "name": "stderr",
          "text": [
            "\r📊 Haftalık RSI 40 - 50 aralığında taranıyor:  56%|█████▌    | 337/601 [02:57<02:13,  1.98hisse/s]"
          ]
        },
        {
          "output_type": "stream",
          "name": "stdout",
          "text": [
            "KORDS: Önceki RSI = 32.88443350109932, Güncel RSI = 22.18108627137198, Seviye Aralığı = (40, 50)\n"
          ]
        },
        {
          "output_type": "stream",
          "name": "stderr",
          "text": [
            "\r📊 Haftalık RSI 40 - 50 aralığında taranıyor:  56%|█████▌    | 338/601 [02:58<02:10,  2.01hisse/s]"
          ]
        },
        {
          "output_type": "stream",
          "name": "stdout",
          "text": [
            "KOTON: Önceki RSI = 35.96173960196353, Güncel RSI = 28.243069635453153, Seviye Aralığı = (40, 50)\n"
          ]
        },
        {
          "output_type": "stream",
          "name": "stderr",
          "text": [
            "\r📊 Haftalık RSI 40 - 50 aralığında taranıyor:  56%|█████▋    | 339/601 [02:58<02:11,  1.99hisse/s]"
          ]
        },
        {
          "output_type": "stream",
          "name": "stdout",
          "text": [
            "KOZAA: Önceki RSI = 62.49366786680125, Güncel RSI = 52.86685676633846, Seviye Aralığı = (40, 50)\n"
          ]
        },
        {
          "output_type": "stream",
          "name": "stderr",
          "text": [
            "\r📊 Haftalık RSI 40 - 50 aralığında taranıyor:  57%|█████▋    | 340/601 [02:58<02:05,  2.08hisse/s]"
          ]
        },
        {
          "output_type": "stream",
          "name": "stdout",
          "text": [
            "KOZAL: Önceki RSI = 63.28214249131325, Güncel RSI = 50.389734363752694, Seviye Aralığı = (40, 50)\n"
          ]
        },
        {
          "output_type": "stream",
          "name": "stderr",
          "text": [
            "\r📊 Haftalık RSI 40 - 50 aralığında taranıyor:  57%|█████▋    | 341/601 [02:59<02:24,  1.81hisse/s]"
          ]
        },
        {
          "output_type": "stream",
          "name": "stdout",
          "text": [
            "KRDMA: Önceki RSI = 80.16065589909877, Güncel RSI = 67.07207381182752, Seviye Aralığı = (40, 50)\n"
          ]
        },
        {
          "output_type": "stream",
          "name": "stderr",
          "text": [
            "\r📊 Haftalık RSI 40 - 50 aralığında taranıyor:  57%|█████▋    | 342/601 [03:00<02:03,  2.10hisse/s]"
          ]
        },
        {
          "output_type": "stream",
          "name": "stdout",
          "text": [
            "KRDMB: Önceki RSI = 66.0267383655704, Güncel RSI = 52.682565204910624, Seviye Aralığı = (40, 50)\n"
          ]
        },
        {
          "output_type": "stream",
          "name": "stderr",
          "text": [
            "\r📊 Haftalık RSI 40 - 50 aralığında taranıyor:  57%|█████▋    | 343/601 [03:00<02:18,  1.87hisse/s]"
          ]
        },
        {
          "output_type": "stream",
          "name": "stdout",
          "text": [
            "KRDMD: Önceki RSI = 66.90531560367327, Güncel RSI = 51.72685358488229, Seviye Aralığı = (40, 50)\n"
          ]
        },
        {
          "output_type": "stream",
          "name": "stderr",
          "text": [
            "\r📊 Haftalık RSI 40 - 50 aralığında taranıyor:  57%|█████▋    | 344/601 [03:01<02:19,  1.85hisse/s]"
          ]
        },
        {
          "output_type": "stream",
          "name": "stdout",
          "text": [
            "KRGYO: Önceki RSI = 70.73642779290358, Güncel RSI = 60.16306242815628, Seviye Aralığı = (40, 50)\n"
          ]
        },
        {
          "output_type": "stream",
          "name": "stderr",
          "text": [
            "\r📊 Haftalık RSI 40 - 50 aralığında taranıyor:  57%|█████▋    | 345/601 [03:01<02:25,  1.76hisse/s]"
          ]
        },
        {
          "output_type": "stream",
          "name": "stdout",
          "text": [
            "KRONT: Önceki RSI = 38.4582899039674, Güncel RSI = 30.836870705221557, Seviye Aralığı = (40, 50)\n"
          ]
        },
        {
          "output_type": "stream",
          "name": "stderr",
          "text": [
            "\r📊 Haftalık RSI 40 - 50 aralığında taranıyor:  58%|█████▊    | 346/601 [03:02<02:21,  1.80hisse/s]"
          ]
        },
        {
          "output_type": "stream",
          "name": "stdout",
          "text": [
            "KRPLS: Önceki RSI = 48.536908469189896, Güncel RSI = 34.27698230196212, Seviye Aralığı = (40, 50)\n"
          ]
        },
        {
          "output_type": "stream",
          "name": "stderr",
          "text": [
            "\r📊 Haftalık RSI 40 - 50 aralığında taranıyor:  58%|█████▊    | 347/601 [03:02<02:24,  1.76hisse/s]"
          ]
        },
        {
          "output_type": "stream",
          "name": "stdout",
          "text": [
            "KRSTL: Önceki RSI = 55.41607397069425, Güncel RSI = 43.448140652820896, Seviye Aralığı = (40, 50)\n",
            "KRSTL RSI (40, 50) aralığında! 🚀\n"
          ]
        },
        {
          "output_type": "stream",
          "name": "stderr",
          "text": [
            "\r📊 Haftalık RSI 40 - 50 aralığında taranıyor:  58%|█████▊    | 348/601 [03:03<02:25,  1.74hisse/s]"
          ]
        },
        {
          "output_type": "stream",
          "name": "stdout",
          "text": [
            "KRTEK: Önceki RSI = 40.57474208588967, Güncel RSI = 33.32743069444348, Seviye Aralığı = (40, 50)\n"
          ]
        },
        {
          "output_type": "stream",
          "name": "stderr",
          "text": [
            "\r📊 Haftalık RSI 40 - 50 aralığında taranıyor:  58%|█████▊    | 349/601 [03:04<02:32,  1.65hisse/s]"
          ]
        },
        {
          "output_type": "stream",
          "name": "stdout",
          "text": [
            "KRVGD: Önceki RSI = 54.29821796044366, Güncel RSI = 42.36066035508259, Seviye Aralığı = (40, 50)\n",
            "KRVGD RSI (40, 50) aralığında! 🚀\n"
          ]
        },
        {
          "output_type": "stream",
          "name": "stderr",
          "text": [
            "\r📊 Haftalık RSI 40 - 50 aralığında taranıyor:  58%|█████▊    | 350/601 [03:04<02:36,  1.61hisse/s]"
          ]
        },
        {
          "output_type": "stream",
          "name": "stdout",
          "text": [
            "KSTUR: Önceki RSI = 69.36244161414888, Güncel RSI = 59.461888999006995, Seviye Aralığı = (40, 50)\n"
          ]
        },
        {
          "output_type": "stream",
          "name": "stderr",
          "text": [
            "\r📊 Haftalık RSI 40 - 50 aralığında taranıyor:  58%|█████▊    | 351/601 [03:05<02:26,  1.70hisse/s]"
          ]
        },
        {
          "output_type": "stream",
          "name": "stdout",
          "text": [
            "KTLEV: Önceki RSI = 58.08937051322684, Güncel RSI = 48.94059325642553, Seviye Aralığı = (40, 50)\n",
            "KTLEV RSI (40, 50) aralığında! 🚀\n"
          ]
        },
        {
          "output_type": "stream",
          "name": "stderr",
          "text": [
            "\r📊 Haftalık RSI 40 - 50 aralığında taranıyor:  59%|█████▊    | 352/601 [03:06<02:26,  1.70hisse/s]"
          ]
        },
        {
          "output_type": "stream",
          "name": "stdout",
          "text": [
            "KTSKR: Önceki RSI = 55.265599668448466, Güncel RSI = 43.65696463157804, Seviye Aralığı = (40, 50)\n",
            "KTSKR RSI (40, 50) aralığında! 🚀\n"
          ]
        },
        {
          "output_type": "stream",
          "name": "stderr",
          "text": [
            "\r📊 Haftalık RSI 40 - 50 aralığında taranıyor:  59%|█████▊    | 353/601 [03:06<02:22,  1.73hisse/s]"
          ]
        },
        {
          "output_type": "stream",
          "name": "stdout",
          "text": [
            "KUTPO: Önceki RSI = 57.99538599467502, Güncel RSI = 48.66333905075815, Seviye Aralığı = (40, 50)\n",
            "KUTPO RSI (40, 50) aralığında! 🚀\n"
          ]
        },
        {
          "output_type": "stream",
          "name": "stderr",
          "text": [
            "\r📊 Haftalık RSI 40 - 50 aralığında taranıyor:  59%|█████▉    | 354/601 [03:07<02:20,  1.75hisse/s]"
          ]
        },
        {
          "output_type": "stream",
          "name": "stdout",
          "text": [
            "KUVVA: Önceki RSI = 58.67203900183913, Güncel RSI = 47.541894668259715, Seviye Aralığı = (40, 50)\n",
            "KUVVA RSI (40, 50) aralığında! 🚀\n"
          ]
        },
        {
          "output_type": "stream",
          "name": "stderr",
          "text": [
            "\r📊 Haftalık RSI 40 - 50 aralığında taranıyor:  59%|█████▉    | 355/601 [03:07<02:30,  1.63hisse/s]"
          ]
        },
        {
          "output_type": "stream",
          "name": "stdout",
          "text": [
            "KUYAS: Önceki RSI = 81.88735010648203, Güncel RSI = 82.48243642045897, Seviye Aralığı = (40, 50)\n"
          ]
        },
        {
          "output_type": "stream",
          "name": "stderr",
          "text": [
            "\r📊 Haftalık RSI 40 - 50 aralığında taranıyor:  59%|█████▉    | 356/601 [03:08<02:36,  1.56hisse/s]"
          ]
        },
        {
          "output_type": "stream",
          "name": "stdout",
          "text": [
            "KZBGY: Önceki RSI = 49.86717852205374, Güncel RSI = 43.790138353408466, Seviye Aralığı = (40, 50)\n",
            "KZBGY RSI (40, 50) aralığında! 🚀\n"
          ]
        },
        {
          "output_type": "stream",
          "name": "stderr",
          "text": [
            "\r📊 Haftalık RSI 40 - 50 aralığında taranıyor:  59%|█████▉    | 357/601 [03:09<02:31,  1.61hisse/s]"
          ]
        },
        {
          "output_type": "stream",
          "name": "stdout",
          "text": [
            "KZGYO: Önceki RSI = 50.91992580067158, Güncel RSI = 35.48250061389997, Seviye Aralığı = (40, 50)\n"
          ]
        },
        {
          "output_type": "stream",
          "name": "stderr",
          "text": [
            "\r📊 Haftalık RSI 40 - 50 aralığında taranıyor:  60%|█████▉    | 358/601 [03:09<02:28,  1.64hisse/s]"
          ]
        },
        {
          "output_type": "stream",
          "name": "stdout",
          "text": [
            "LIDER: Önceki RSI = 78.6773294937338, Güncel RSI = 75.37364818094753, Seviye Aralığı = (40, 50)\n"
          ]
        },
        {
          "output_type": "stream",
          "name": "stderr",
          "text": [
            "\r📊 Haftalık RSI 40 - 50 aralığında taranıyor:  60%|█████▉    | 359/601 [03:10<02:24,  1.68hisse/s]"
          ]
        },
        {
          "output_type": "stream",
          "name": "stdout",
          "text": [
            "LIDFA: Önceki RSI = 55.230909796665586, Güncel RSI = 34.046791546101346, Seviye Aralığı = (40, 50)\n"
          ]
        },
        {
          "output_type": "stream",
          "name": "stderr",
          "text": [
            "\r📊 Haftalık RSI 40 - 50 aralığında taranıyor:  60%|█████▉    | 360/601 [03:10<02:18,  1.73hisse/s]"
          ]
        },
        {
          "output_type": "stream",
          "name": "stdout",
          "text": [
            "LILAK: Önceki RSI = 48.80136763127942, Güncel RSI = 40.921633647696396, Seviye Aralığı = (40, 50)\n",
            "LILAK RSI (40, 50) aralığında! 🚀\n"
          ]
        },
        {
          "output_type": "stream",
          "name": "stderr",
          "text": [
            "\r📊 Haftalık RSI 40 - 50 aralığında taranıyor:  60%|██████    | 361/601 [03:11<02:23,  1.68hisse/s]"
          ]
        },
        {
          "output_type": "stream",
          "name": "stdout",
          "text": [
            "LINK: Önceki RSI = 46.16113372709278, Güncel RSI = 34.96980603849394, Seviye Aralığı = (40, 50)\n"
          ]
        },
        {
          "output_type": "stream",
          "name": "stderr",
          "text": [
            "\r📊 Haftalık RSI 40 - 50 aralığında taranıyor:  60%|██████    | 362/601 [03:12<02:20,  1.70hisse/s]"
          ]
        },
        {
          "output_type": "stream",
          "name": "stdout",
          "text": [
            "LKMNH: Önceki RSI = 56.2994427195629, Güncel RSI = 44.08804212672068, Seviye Aralığı = (40, 50)\n",
            "LKMNH RSI (40, 50) aralığında! 🚀\n"
          ]
        },
        {
          "output_type": "stream",
          "name": "stderr",
          "text": [
            "\r📊 Haftalık RSI 40 - 50 aralığında taranıyor:  60%|██████    | 363/601 [03:12<02:17,  1.74hisse/s]"
          ]
        },
        {
          "output_type": "stream",
          "name": "stdout",
          "text": [
            "LMKDC: Önceki RSI = 63.0230846155373, Güncel RSI = 50.317771052236026, Seviye Aralığı = (40, 50)\n"
          ]
        },
        {
          "output_type": "stream",
          "name": "stderr",
          "text": [
            "\r📊 Haftalık RSI 40 - 50 aralığında taranıyor:  61%|██████    | 364/601 [03:13<02:17,  1.72hisse/s]"
          ]
        },
        {
          "output_type": "stream",
          "name": "stdout",
          "text": [
            "LOGO: Önceki RSI = 62.5954621622275, Güncel RSI = 54.76433772598515, Seviye Aralığı = (40, 50)\n"
          ]
        },
        {
          "output_type": "stream",
          "name": "stderr",
          "text": [
            "\r📊 Haftalık RSI 40 - 50 aralığında taranıyor:  61%|██████    | 365/601 [03:13<02:18,  1.70hisse/s]"
          ]
        },
        {
          "output_type": "stream",
          "name": "stdout",
          "text": [
            "LRSHO: Önceki RSI = 54.597623090622385, Güncel RSI = 45.00857530727331, Seviye Aralığı = (40, 50)\n",
            "LRSHO RSI (40, 50) aralığında! 🚀\n"
          ]
        },
        {
          "output_type": "stream",
          "name": "stderr",
          "text": [
            "\r📊 Haftalık RSI 40 - 50 aralığında taranıyor:  61%|██████    | 366/601 [03:14<02:18,  1.69hisse/s]"
          ]
        },
        {
          "output_type": "stream",
          "name": "stdout",
          "text": [
            "LUKSK: Önceki RSI = 54.911140589144715, Güncel RSI = 41.68196928003452, Seviye Aralığı = (40, 50)\n",
            "LUKSK RSI (40, 50) aralığında! 🚀\n"
          ]
        },
        {
          "output_type": "stream",
          "name": "stderr",
          "text": [
            "\r📊 Haftalık RSI 40 - 50 aralığında taranıyor:  61%|██████    | 367/601 [03:14<02:20,  1.67hisse/s]"
          ]
        },
        {
          "output_type": "stream",
          "name": "stdout",
          "text": [
            "LYDHO: Önceki RSI = 46.39006583979947, Güncel RSI = 40.8657031564843, Seviye Aralığı = (40, 50)\n",
            "LYDHO RSI (40, 50) aralığında! 🚀\n"
          ]
        },
        {
          "output_type": "stream",
          "name": "stderr",
          "text": [
            "\r📊 Haftalık RSI 40 - 50 aralığında taranıyor:  61%|██████    | 368/601 [03:15<02:19,  1.67hisse/s]"
          ]
        },
        {
          "output_type": "stream",
          "name": "stdout",
          "text": [
            "LYDYE: Önceki RSI = 60.083066918312305, Güncel RSI = 61.47219271839777, Seviye Aralığı = (40, 50)\n"
          ]
        },
        {
          "output_type": "stream",
          "name": "stderr",
          "text": [
            "\r📊 Haftalık RSI 40 - 50 aralığında taranıyor:  61%|██████▏   | 369/601 [03:16<02:19,  1.66hisse/s]"
          ]
        },
        {
          "output_type": "stream",
          "name": "stdout",
          "text": [
            "MAALT: Önceki RSI = 53.228382507997644, Güncel RSI = 37.88867270163962, Seviye Aralığı = (40, 50)\n"
          ]
        },
        {
          "output_type": "stream",
          "name": "stderr",
          "text": [
            "\r📊 Haftalık RSI 40 - 50 aralığında taranıyor:  62%|██████▏   | 370/601 [03:16<02:18,  1.67hisse/s]"
          ]
        },
        {
          "output_type": "stream",
          "name": "stdout",
          "text": [
            "MACKO: Önceki RSI = 63.98724370720707, Güncel RSI = 47.3379334981276, Seviye Aralığı = (40, 50)\n",
            "MACKO RSI (40, 50) aralığında! 🚀\n"
          ]
        },
        {
          "output_type": "stream",
          "name": "stderr",
          "text": [
            "\r📊 Haftalık RSI 40 - 50 aralığında taranıyor:  62%|██████▏   | 371/601 [03:17<02:23,  1.60hisse/s]"
          ]
        },
        {
          "output_type": "stream",
          "name": "stdout",
          "text": [
            "MAGEN: Önceki RSI = 71.54889231948468, Güncel RSI = 58.61307184219222, Seviye Aralığı = (40, 50)\n"
          ]
        },
        {
          "output_type": "stream",
          "name": "stderr",
          "text": [
            "\r📊 Haftalık RSI 40 - 50 aralığında taranıyor:  62%|██████▏   | 372/601 [03:18<02:26,  1.56hisse/s]"
          ]
        },
        {
          "output_type": "stream",
          "name": "stdout",
          "text": [
            "MAKIM: Önceki RSI = 32.88087381710935, Güncel RSI = 26.26363440439124, Seviye Aralığı = (40, 50)\n"
          ]
        },
        {
          "output_type": "stream",
          "name": "stderr",
          "text": [
            "\r📊 Haftalık RSI 40 - 50 aralığında taranıyor:  62%|██████▏   | 373/601 [03:18<02:19,  1.64hisse/s]"
          ]
        },
        {
          "output_type": "stream",
          "name": "stdout",
          "text": [
            "MAKTK: Önceki RSI = 69.86904964857385, Güncel RSI = 60.355240388035625, Seviye Aralığı = (40, 50)\n"
          ]
        },
        {
          "output_type": "stream",
          "name": "stderr",
          "text": [
            "\r📊 Haftalık RSI 40 - 50 aralığında taranıyor:  62%|██████▏   | 374/601 [03:19<02:25,  1.56hisse/s]"
          ]
        },
        {
          "output_type": "stream",
          "name": "stdout",
          "text": [
            "MANAS: Önceki RSI = 69.03813678185188, Güncel RSI = 56.47238944803313, Seviye Aralığı = (40, 50)\n"
          ]
        },
        {
          "output_type": "stream",
          "name": "stderr",
          "text": [
            "\r📊 Haftalık RSI 40 - 50 aralığında taranıyor:  62%|██████▏   | 375/601 [03:19<02:17,  1.64hisse/s]"
          ]
        },
        {
          "output_type": "stream",
          "name": "stdout",
          "text": [
            "MARBL: Önceki RSI = 42.704165676455894, Güncel RSI = 29.732709711238513, Seviye Aralığı = (40, 50)\n"
          ]
        },
        {
          "output_type": "stream",
          "name": "stderr",
          "text": [
            "\r📊 Haftalık RSI 40 - 50 aralığında taranıyor:  63%|██████▎   | 376/601 [03:20<02:18,  1.63hisse/s]"
          ]
        },
        {
          "output_type": "stream",
          "name": "stdout",
          "text": [
            "MARKA: Önceki RSI = 45.29598566229621, Güncel RSI = 53.941867761852, Seviye Aralığı = (40, 50)\n"
          ]
        },
        {
          "output_type": "stream",
          "name": "stderr",
          "text": [
            "\r📊 Haftalık RSI 40 - 50 aralığında taranıyor:  63%|██████▎   | 377/601 [03:21<02:11,  1.70hisse/s]"
          ]
        },
        {
          "output_type": "stream",
          "name": "stdout",
          "text": [
            "MARTI: Önceki RSI = 43.0576368806003, Güncel RSI = 33.34449847947212, Seviye Aralığı = (40, 50)\n"
          ]
        },
        {
          "output_type": "stream",
          "name": "stderr",
          "text": [
            "\r📊 Haftalık RSI 40 - 50 aralığında taranıyor:  63%|██████▎   | 378/601 [03:21<02:10,  1.70hisse/s]"
          ]
        },
        {
          "output_type": "stream",
          "name": "stdout",
          "text": [
            "MAVI: Önceki RSI = 46.175654498508784, Güncel RSI = 35.79275666975205, Seviye Aralığı = (40, 50)\n"
          ]
        },
        {
          "output_type": "stream",
          "name": "stderr",
          "text": [
            "\r📊 Haftalık RSI 40 - 50 aralığında taranıyor:  63%|██████▎   | 379/601 [03:22<02:09,  1.71hisse/s]"
          ]
        },
        {
          "output_type": "stream",
          "name": "stdout",
          "text": [
            "MEDTR: Önceki RSI = 46.03258320748397, Güncel RSI = 39.84127945918704, Seviye Aralığı = (40, 50)\n"
          ]
        },
        {
          "output_type": "stream",
          "name": "stderr",
          "text": [
            "\r📊 Haftalık RSI 40 - 50 aralığında taranıyor:  63%|██████▎   | 380/601 [03:22<02:12,  1.67hisse/s]"
          ]
        },
        {
          "output_type": "stream",
          "name": "stdout",
          "text": [
            "MEGAP: Önceki RSI = 50.83554058494141, Güncel RSI = 46.320156517790736, Seviye Aralığı = (40, 50)\n",
            "MEGAP RSI (40, 50) aralığında! 🚀\n"
          ]
        },
        {
          "output_type": "stream",
          "name": "stderr",
          "text": [
            "\r📊 Haftalık RSI 40 - 50 aralığında taranıyor:  63%|██████▎   | 381/601 [03:23<02:09,  1.70hisse/s]"
          ]
        },
        {
          "output_type": "stream",
          "name": "stdout",
          "text": [
            "MEGMT: Önceki RSI = 40.04353508112441, Güncel RSI = 39.30111661390799, Seviye Aralığı = (40, 50)\n"
          ]
        },
        {
          "output_type": "stream",
          "name": "stderr",
          "text": [
            "\r📊 Haftalık RSI 40 - 50 aralığında taranıyor:  64%|██████▎   | 382/601 [03:23<02:04,  1.76hisse/s]"
          ]
        },
        {
          "output_type": "stream",
          "name": "stdout",
          "text": [
            "MEKAG: Önceki RSI = 41.93392605518977, Güncel RSI = 38.95376547834525, Seviye Aralığı = (40, 50)\n"
          ]
        },
        {
          "output_type": "stream",
          "name": "stderr",
          "text": [
            "\r📊 Haftalık RSI 40 - 50 aralığında taranıyor:  64%|██████▎   | 383/601 [03:24<02:00,  1.80hisse/s]"
          ]
        },
        {
          "output_type": "stream",
          "name": "stdout",
          "text": [
            "MEPET: Önceki RSI = 39.65236505612301, Güncel RSI = 29.80532104924505, Seviye Aralığı = (40, 50)\n"
          ]
        },
        {
          "output_type": "stream",
          "name": "stderr",
          "text": [
            "\r📊 Haftalık RSI 40 - 50 aralığında taranıyor:  64%|██████▍   | 384/601 [03:25<01:59,  1.82hisse/s]"
          ]
        },
        {
          "output_type": "stream",
          "name": "stdout",
          "text": [
            "MERCN: Önceki RSI = 63.1721924084295, Güncel RSI = 65.67672623647042, Seviye Aralığı = (40, 50)\n"
          ]
        },
        {
          "output_type": "stream",
          "name": "stderr",
          "text": [
            "\r📊 Haftalık RSI 40 - 50 aralığında taranıyor:  64%|██████▍   | 385/601 [03:25<02:00,  1.79hisse/s]"
          ]
        },
        {
          "output_type": "stream",
          "name": "stdout",
          "text": [
            "MERIT: Önceki RSI = 50.321720623238825, Güncel RSI = 34.992032022851845, Seviye Aralığı = (40, 50)\n"
          ]
        },
        {
          "output_type": "stream",
          "name": "stderr",
          "text": [
            "\r📊 Haftalık RSI 40 - 50 aralığında taranıyor:  64%|██████▍   | 386/601 [03:26<02:06,  1.70hisse/s]"
          ]
        },
        {
          "output_type": "stream",
          "name": "stdout",
          "text": [
            "MERKO: Önceki RSI = 50.93064532895194, Güncel RSI = 44.65105053823959, Seviye Aralığı = (40, 50)\n",
            "MERKO RSI (40, 50) aralığında! 🚀\n"
          ]
        },
        {
          "output_type": "stream",
          "name": "stderr",
          "text": [
            "\r📊 Haftalık RSI 40 - 50 aralığında taranıyor:  64%|██████▍   | 387/601 [03:26<02:04,  1.72hisse/s]"
          ]
        },
        {
          "output_type": "stream",
          "name": "stdout",
          "text": [
            "METRO: Önceki RSI = 50.09225831556152, Güncel RSI = 39.51555030880012, Seviye Aralığı = (40, 50)\n"
          ]
        },
        {
          "output_type": "stream",
          "name": "stderr",
          "text": [
            "\r📊 Haftalık RSI 40 - 50 aralığında taranıyor:  65%|██████▍   | 388/601 [03:27<02:03,  1.72hisse/s]"
          ]
        },
        {
          "output_type": "stream",
          "name": "stdout",
          "text": [
            "METUR: Önceki RSI = 61.21351916836435, Güncel RSI = 45.135618732170016, Seviye Aralığı = (40, 50)\n",
            "METUR RSI (40, 50) aralığında! 🚀\n"
          ]
        },
        {
          "output_type": "stream",
          "name": "stderr",
          "text": [
            "\r📊 Haftalık RSI 40 - 50 aralığında taranıyor:  65%|██████▍   | 389/601 [03:28<02:06,  1.68hisse/s]"
          ]
        },
        {
          "output_type": "stream",
          "name": "stdout",
          "text": [
            "MGROS: Önceki RSI = 54.88084964014788, Güncel RSI = 37.24383030335964, Seviye Aralığı = (40, 50)\n"
          ]
        },
        {
          "output_type": "stream",
          "name": "stderr",
          "text": [
            "\r📊 Haftalık RSI 40 - 50 aralığında taranıyor:  65%|██████▍   | 390/601 [03:28<01:59,  1.76hisse/s]"
          ]
        },
        {
          "output_type": "stream",
          "name": "stdout",
          "text": [
            "MHRGY: Önceki RSI = 48.57728295989388, Güncel RSI = 33.89430444859765, Seviye Aralığı = (40, 50)\n"
          ]
        },
        {
          "output_type": "stream",
          "name": "stderr",
          "text": [
            "\r📊 Haftalık RSI 40 - 50 aralığında taranıyor:  65%|██████▌   | 391/601 [03:29<02:01,  1.73hisse/s]"
          ]
        },
        {
          "output_type": "stream",
          "name": "stdout",
          "text": [
            "MIATK: Önceki RSI = 53.254339105841346, Güncel RSI = 42.96549022421834, Seviye Aralığı = (40, 50)\n",
            "MIATK RSI (40, 50) aralığında! 🚀\n"
          ]
        },
        {
          "output_type": "stream",
          "name": "stderr",
          "text": [
            "\r📊 Haftalık RSI 40 - 50 aralığında taranıyor:  65%|██████▌   | 392/601 [03:29<02:01,  1.73hisse/s]"
          ]
        },
        {
          "output_type": "stream",
          "name": "stdout",
          "text": [
            "MMCAS: Önceki RSI = 50.44211327602365, Güncel RSI = 47.351087589630126, Seviye Aralığı = (40, 50)\n",
            "MMCAS RSI (40, 50) aralığında! 🚀\n"
          ]
        },
        {
          "output_type": "stream",
          "name": "stderr",
          "text": [
            "\r📊 Haftalık RSI 40 - 50 aralığında taranıyor:  65%|██████▌   | 393/601 [03:30<02:12,  1.57hisse/s]"
          ]
        },
        {
          "output_type": "stream",
          "name": "stdout",
          "text": [
            "MNDRS: Önceki RSI = 47.47873569391243, Güncel RSI = 35.00877618971806, Seviye Aralığı = (40, 50)\n"
          ]
        },
        {
          "output_type": "stream",
          "name": "stderr",
          "text": [
            "\r📊 Haftalık RSI 40 - 50 aralığında taranıyor:  66%|██████▌   | 394/601 [03:31<02:09,  1.60hisse/s]"
          ]
        },
        {
          "output_type": "stream",
          "name": "stdout",
          "text": [
            "MNDTR: Önceki RSI = 49.13156488782157, Güncel RSI = 35.84479670453432, Seviye Aralığı = (40, 50)\n"
          ]
        },
        {
          "output_type": "stream",
          "name": "stderr",
          "text": [
            "\r📊 Haftalık RSI 40 - 50 aralığında taranıyor:  66%|██████▌   | 395/601 [03:31<02:09,  1.60hisse/s]"
          ]
        },
        {
          "output_type": "stream",
          "name": "stdout",
          "text": [
            "MOBTL: Önceki RSI = 42.88785657529055, Güncel RSI = 34.61621289868842, Seviye Aralığı = (40, 50)\n"
          ]
        },
        {
          "output_type": "stream",
          "name": "stderr",
          "text": [
            "\r📊 Haftalık RSI 40 - 50 aralığında taranıyor:  66%|██████▌   | 396/601 [03:32<02:01,  1.69hisse/s]"
          ]
        },
        {
          "output_type": "stream",
          "name": "stdout",
          "text": [
            "MOGAN: Önceki RSI = 38.51504161749772, Güncel RSI = 30.67558545262284, Seviye Aralığı = (40, 50)\n"
          ]
        },
        {
          "output_type": "stream",
          "name": "stderr",
          "text": [
            "\r📊 Haftalık RSI 40 - 50 aralığında taranıyor:  66%|██████▌   | 397/601 [03:32<01:54,  1.78hisse/s]"
          ]
        },
        {
          "output_type": "stream",
          "name": "stdout",
          "text": [
            "⚠ MOPAS: Yeterli veri yok, taramaya dahil edilmedi.\n"
          ]
        },
        {
          "output_type": "stream",
          "name": "stderr",
          "text": [
            "\r📊 Haftalık RSI 40 - 50 aralığında taranıyor:  66%|██████▌   | 398/601 [03:33<01:59,  1.69hisse/s]"
          ]
        },
        {
          "output_type": "stream",
          "name": "stdout",
          "text": [
            "MPARK: Önceki RSI = 46.006711543930464, Güncel RSI = 35.319146261214854, Seviye Aralığı = (40, 50)\n"
          ]
        },
        {
          "output_type": "stream",
          "name": "stderr",
          "text": [
            "\r📊 Haftalık RSI 40 - 50 aralığında taranıyor:  66%|██████▋   | 399/601 [03:34<02:03,  1.63hisse/s]"
          ]
        },
        {
          "output_type": "stream",
          "name": "stdout",
          "text": [
            "MRGYO: Önceki RSI = 42.59915824569557, Güncel RSI = 33.84955797227681, Seviye Aralığı = (40, 50)\n"
          ]
        },
        {
          "output_type": "stream",
          "name": "stderr",
          "text": [
            "\r📊 Haftalık RSI 40 - 50 aralığında taranıyor:  67%|██████▋   | 400/601 [03:34<01:59,  1.68hisse/s]"
          ]
        },
        {
          "output_type": "stream",
          "name": "stdout",
          "text": [
            "MRSHL: Önceki RSI = 43.644451735896915, Güncel RSI = 34.586031153765404, Seviye Aralığı = (40, 50)\n"
          ]
        },
        {
          "output_type": "stream",
          "name": "stderr",
          "text": [
            "\r📊 Haftalık RSI 40 - 50 aralığında taranıyor:  67%|██████▋   | 401/601 [03:35<02:01,  1.64hisse/s]"
          ]
        },
        {
          "output_type": "stream",
          "name": "stdout",
          "text": [
            "MSGYO: Önceki RSI = 59.06428380108483, Güncel RSI = 47.37611833004148, Seviye Aralığı = (40, 50)\n",
            "MSGYO RSI (40, 50) aralığında! 🚀\n"
          ]
        },
        {
          "output_type": "stream",
          "name": "stderr",
          "text": [
            "\r📊 Haftalık RSI 40 - 50 aralığında taranıyor:  67%|██████▋   | 402/601 [03:35<01:58,  1.69hisse/s]"
          ]
        },
        {
          "output_type": "stream",
          "name": "stdout",
          "text": [
            "MTRKS: Önceki RSI = 65.54172765279284, Güncel RSI = 52.866158264606554, Seviye Aralığı = (40, 50)\n"
          ]
        },
        {
          "output_type": "stream",
          "name": "stderr",
          "text": [
            "\r📊 Haftalık RSI 40 - 50 aralığında taranıyor:  67%|██████▋   | 403/601 [03:36<01:52,  1.76hisse/s]"
          ]
        },
        {
          "output_type": "stream",
          "name": "stdout",
          "text": [
            "MTRYO: Önceki RSI = 42.372022498622385, Güncel RSI = 37.77690383099632, Seviye Aralığı = (40, 50)\n"
          ]
        },
        {
          "output_type": "stream",
          "name": "stderr",
          "text": [
            "\r📊 Haftalık RSI 40 - 50 aralığında taranıyor:  67%|██████▋   | 404/601 [03:36<01:56,  1.69hisse/s]"
          ]
        },
        {
          "output_type": "stream",
          "name": "stdout",
          "text": [
            "MZHLD: Önceki RSI = 36.27994419752317, Güncel RSI = 31.773190472581973, Seviye Aralığı = (40, 50)\n"
          ]
        },
        {
          "output_type": "stream",
          "name": "stderr",
          "text": [
            "\r📊 Haftalık RSI 40 - 50 aralığında taranıyor:  67%|██████▋   | 405/601 [03:37<01:57,  1.66hisse/s]"
          ]
        },
        {
          "output_type": "stream",
          "name": "stdout",
          "text": [
            "NATEN: Önceki RSI = 38.321043656819135, Güncel RSI = 36.568139807879035, Seviye Aralığı = (40, 50)\n"
          ]
        },
        {
          "output_type": "stream",
          "name": "stderr",
          "text": [
            "\r📊 Haftalık RSI 40 - 50 aralığında taranıyor:  68%|██████▊   | 406/601 [03:38<01:53,  1.72hisse/s]"
          ]
        },
        {
          "output_type": "stream",
          "name": "stdout",
          "text": [
            "NETAS: Önceki RSI = 42.17158740965499, Güncel RSI = 31.330578090169666, Seviye Aralığı = (40, 50)\n"
          ]
        },
        {
          "output_type": "stream",
          "name": "stderr",
          "text": [
            "\r📊 Haftalık RSI 40 - 50 aralığında taranıyor:  68%|██████▊   | 407/601 [03:38<01:57,  1.66hisse/s]"
          ]
        },
        {
          "output_type": "stream",
          "name": "stdout",
          "text": [
            "NIBAS: Önceki RSI = 38.05396219461128, Güncel RSI = 26.31927451457902, Seviye Aralığı = (40, 50)\n"
          ]
        },
        {
          "output_type": "stream",
          "name": "stderr",
          "text": [
            "\r📊 Haftalık RSI 40 - 50 aralığında taranıyor:  68%|██████▊   | 408/601 [03:39<01:56,  1.66hisse/s]"
          ]
        },
        {
          "output_type": "stream",
          "name": "stdout",
          "text": [
            "NTGAZ: Önceki RSI = 68.28600510215354, Güncel RSI = 53.37808494388141, Seviye Aralığı = (40, 50)\n"
          ]
        },
        {
          "output_type": "stream",
          "name": "stderr",
          "text": [
            "\r📊 Haftalık RSI 40 - 50 aralığında taranıyor:  68%|██████▊   | 409/601 [03:39<01:56,  1.65hisse/s]"
          ]
        },
        {
          "output_type": "stream",
          "name": "stdout",
          "text": [
            "NTHOL: Önceki RSI = 56.895482233509476, Güncel RSI = 38.2364653294017, Seviye Aralığı = (40, 50)\n"
          ]
        },
        {
          "output_type": "stream",
          "name": "stderr",
          "text": [
            "\r📊 Haftalık RSI 40 - 50 aralığında taranıyor:  68%|██████▊   | 410/601 [03:40<01:51,  1.72hisse/s]"
          ]
        },
        {
          "output_type": "stream",
          "name": "stdout",
          "text": [
            "NUGYO: Önceki RSI = 45.83713399329367, Güncel RSI = 32.55210182552304, Seviye Aralığı = (40, 50)\n"
          ]
        },
        {
          "output_type": "stream",
          "name": "stderr",
          "text": [
            "\r📊 Haftalık RSI 40 - 50 aralığında taranıyor:  68%|██████▊   | 411/601 [03:41<01:54,  1.66hisse/s]"
          ]
        },
        {
          "output_type": "stream",
          "name": "stdout",
          "text": [
            "NUHCM: Önceki RSI = 51.6959956598068, Güncel RSI = 44.244351658694185, Seviye Aralığı = (40, 50)\n",
            "NUHCM RSI (40, 50) aralığında! 🚀\n"
          ]
        },
        {
          "output_type": "stream",
          "name": "stderr",
          "text": [
            "\r📊 Haftalık RSI 40 - 50 aralığında taranıyor:  69%|██████▊   | 412/601 [03:41<01:49,  1.73hisse/s]"
          ]
        },
        {
          "output_type": "stream",
          "name": "stdout",
          "text": [
            "OBAMS: Önceki RSI = 55.404354773351685, Güncel RSI = 40.42825641124758, Seviye Aralığı = (40, 50)\n",
            "OBAMS RSI (40, 50) aralığında! 🚀\n"
          ]
        },
        {
          "output_type": "stream",
          "name": "stderr",
          "text": [
            "\r📊 Haftalık RSI 40 - 50 aralığında taranıyor:  69%|██████▊   | 413/601 [03:42<01:50,  1.70hisse/s]"
          ]
        },
        {
          "output_type": "stream",
          "name": "stdout",
          "text": [
            "OBASE: Önceki RSI = 42.005372413736445, Güncel RSI = 31.29534387247719, Seviye Aralığı = (40, 50)\n"
          ]
        },
        {
          "output_type": "stream",
          "name": "stderr",
          "text": [
            "\r📊 Haftalık RSI 40 - 50 aralığında taranıyor:  69%|██████▉   | 414/601 [03:42<01:56,  1.61hisse/s]"
          ]
        },
        {
          "output_type": "stream",
          "name": "stdout",
          "text": [
            "ODAS: Önceki RSI = 43.86357630425875, Güncel RSI = 32.16543349466292, Seviye Aralığı = (40, 50)\n"
          ]
        },
        {
          "output_type": "stream",
          "name": "stderr",
          "text": [
            "\r📊 Haftalık RSI 40 - 50 aralığında taranıyor:  69%|██████▉   | 415/601 [03:43<01:47,  1.73hisse/s]"
          ]
        },
        {
          "output_type": "stream",
          "name": "stdout",
          "text": [
            "ODINE: Önceki RSI = 57.09799353635913, Güncel RSI = 52.98515302289715, Seviye Aralığı = (40, 50)\n"
          ]
        },
        {
          "output_type": "stream",
          "name": "stderr",
          "text": [
            "\r📊 Haftalık RSI 40 - 50 aralığında taranıyor:  69%|██████▉   | 416/601 [03:44<01:46,  1.73hisse/s]"
          ]
        },
        {
          "output_type": "stream",
          "name": "stdout",
          "text": [
            "OFSYM: Önceki RSI = 54.95185167118301, Güncel RSI = 44.70943183769612, Seviye Aralığı = (40, 50)\n",
            "OFSYM RSI (40, 50) aralığında! 🚀\n"
          ]
        },
        {
          "output_type": "stream",
          "name": "stderr",
          "text": [
            "\r📊 Haftalık RSI 40 - 50 aralığında taranıyor:  69%|██████▉   | 417/601 [03:44<01:42,  1.79hisse/s]"
          ]
        },
        {
          "output_type": "stream",
          "name": "stdout",
          "text": [
            "ONCSM: Önceki RSI = 43.99914238671151, Güncel RSI = 36.34815330295285, Seviye Aralığı = (40, 50)\n"
          ]
        },
        {
          "output_type": "stream",
          "name": "stderr",
          "text": [
            "\r📊 Haftalık RSI 40 - 50 aralığında taranıyor:  70%|██████▉   | 418/601 [03:45<01:42,  1.79hisse/s]"
          ]
        },
        {
          "output_type": "stream",
          "name": "stdout",
          "text": [
            "ONRYT: Önceki RSI = 46.39291997908557, Güncel RSI = 37.138109040411024, Seviye Aralığı = (40, 50)\n"
          ]
        },
        {
          "output_type": "stream",
          "name": "stderr",
          "text": [
            "\r📊 Haftalık RSI 40 - 50 aralığında taranıyor:  70%|██████▉   | 419/601 [03:45<01:46,  1.71hisse/s]"
          ]
        },
        {
          "output_type": "stream",
          "name": "stdout",
          "text": [
            "ORCAY: Önceki RSI = 47.36063629695462, Güncel RSI = 35.703417350727804, Seviye Aralığı = (40, 50)\n"
          ]
        },
        {
          "output_type": "stream",
          "name": "stderr",
          "text": [
            "\r📊 Haftalık RSI 40 - 50 aralığında taranıyor:  70%|██████▉   | 420/601 [03:46<01:48,  1.67hisse/s]"
          ]
        },
        {
          "output_type": "stream",
          "name": "stdout",
          "text": [
            "ORGE: Önceki RSI = 65.74752634310924, Güncel RSI = 47.14951826680807, Seviye Aralığı = (40, 50)\n",
            "ORGE RSI (40, 50) aralığında! 🚀\n"
          ]
        },
        {
          "output_type": "stream",
          "name": "stderr",
          "text": [
            "\r📊 Haftalık RSI 40 - 50 aralığında taranıyor:  70%|███████   | 421/601 [03:47<01:49,  1.64hisse/s]"
          ]
        },
        {
          "output_type": "stream",
          "name": "stdout",
          "text": [
            "ORMA: Önceki RSI = 45.32436147882161, Güncel RSI = 34.0206646236209, Seviye Aralığı = (40, 50)\n"
          ]
        },
        {
          "output_type": "stream",
          "name": "stderr",
          "text": [
            "\r📊 Haftalık RSI 40 - 50 aralığında taranıyor:  70%|███████   | 422/601 [03:47<01:47,  1.66hisse/s]"
          ]
        },
        {
          "output_type": "stream",
          "name": "stdout",
          "text": [
            "OSMEN: Önceki RSI = 58.21549567824112, Güncel RSI = 44.55031937285139, Seviye Aralığı = (40, 50)\n",
            "OSMEN RSI (40, 50) aralığında! 🚀\n"
          ]
        },
        {
          "output_type": "stream",
          "name": "stderr",
          "text": [
            "\r📊 Haftalık RSI 40 - 50 aralığında taranıyor:  70%|███████   | 423/601 [03:48<01:53,  1.57hisse/s]"
          ]
        },
        {
          "output_type": "stream",
          "name": "stdout",
          "text": [
            "OSTIM: Önceki RSI = 64.20053411712266, Güncel RSI = 60.460175105086414, Seviye Aralığı = (40, 50)\n"
          ]
        },
        {
          "output_type": "stream",
          "name": "stderr",
          "text": [
            "\r📊 Haftalık RSI 40 - 50 aralığında taranıyor:  71%|███████   | 424/601 [03:48<01:52,  1.58hisse/s]"
          ]
        },
        {
          "output_type": "stream",
          "name": "stdout",
          "text": [
            "OTKAR: Önceki RSI = 58.47953600546461, Güncel RSI = 49.766356278402924, Seviye Aralığı = (40, 50)\n",
            "OTKAR RSI (40, 50) aralığında! 🚀\n"
          ]
        },
        {
          "output_type": "stream",
          "name": "stderr",
          "text": [
            "\r📊 Haftalık RSI 40 - 50 aralığında taranıyor:  71%|███████   | 425/601 [03:49<01:48,  1.62hisse/s]"
          ]
        },
        {
          "output_type": "stream",
          "name": "stdout",
          "text": [
            "OTTO: Önceki RSI = 43.143526220421506, Güncel RSI = 41.928545876741836, Seviye Aralığı = (40, 50)\n",
            "OTTO RSI (40, 50) aralığında! 🚀\n"
          ]
        },
        {
          "output_type": "stream",
          "name": "stderr",
          "text": [
            "\r📊 Haftalık RSI 40 - 50 aralığında taranıyor:  71%|███████   | 426/601 [03:50<01:48,  1.62hisse/s]"
          ]
        },
        {
          "output_type": "stream",
          "name": "stdout",
          "text": [
            "OYAKC: Önceki RSI = 80.5334057637512, Güncel RSI = 73.7399893401074, Seviye Aralığı = (40, 50)\n"
          ]
        },
        {
          "output_type": "stream",
          "name": "stderr",
          "text": [
            "\r📊 Haftalık RSI 40 - 50 aralığında taranıyor:  71%|███████   | 427/601 [03:50<01:46,  1.64hisse/s]"
          ]
        },
        {
          "output_type": "stream",
          "name": "stdout",
          "text": [
            "OYAYO: Önceki RSI = 40.20080431714847, Güncel RSI = 32.54313542309285, Seviye Aralığı = (40, 50)\n"
          ]
        },
        {
          "output_type": "stream",
          "name": "stderr",
          "text": [
            "\r📊 Haftalık RSI 40 - 50 aralığında taranıyor:  71%|███████   | 428/601 [03:51<01:49,  1.58hisse/s]"
          ]
        },
        {
          "output_type": "stream",
          "name": "stdout",
          "text": [
            "OYLUM: Önceki RSI = 40.850533867622275, Güncel RSI = 34.70477819698456, Seviye Aralığı = (40, 50)\n"
          ]
        },
        {
          "output_type": "stream",
          "name": "stderr",
          "text": [
            "\r📊 Haftalık RSI 40 - 50 aralığında taranıyor:  71%|███████▏  | 429/601 [03:52<01:50,  1.56hisse/s]"
          ]
        },
        {
          "output_type": "stream",
          "name": "stdout",
          "text": [
            "OYYAT: Önceki RSI = 34.95835260158202, Güncel RSI = 26.53842450234623, Seviye Aralığı = (40, 50)\n"
          ]
        },
        {
          "output_type": "stream",
          "name": "stderr",
          "text": [
            "\r📊 Haftalık RSI 40 - 50 aralığında taranıyor:  72%|███████▏  | 430/601 [03:52<01:47,  1.59hisse/s]"
          ]
        },
        {
          "output_type": "stream",
          "name": "stdout",
          "text": [
            "OZATD: Önceki RSI = 70.20299494151857, Güncel RSI = 55.43808800847405, Seviye Aralığı = (40, 50)\n"
          ]
        },
        {
          "output_type": "stream",
          "name": "stderr",
          "text": [
            "\r📊 Haftalık RSI 40 - 50 aralığında taranıyor:  72%|███████▏  | 431/601 [03:53<01:42,  1.65hisse/s]"
          ]
        },
        {
          "output_type": "stream",
          "name": "stdout",
          "text": [
            "OZGYO: Önceki RSI = 43.212066203426616, Güncel RSI = 28.507108103366335, Seviye Aralığı = (40, 50)\n"
          ]
        },
        {
          "output_type": "stream",
          "name": "stderr",
          "text": [
            "\r📊 Haftalık RSI 40 - 50 aralığında taranıyor:  72%|███████▏  | 432/601 [03:53<01:46,  1.58hisse/s]"
          ]
        },
        {
          "output_type": "stream",
          "name": "stdout",
          "text": [
            "OZKGY: Önceki RSI = 58.425688998023034, Güncel RSI = 42.013239085891854, Seviye Aralığı = (40, 50)\n",
            "OZKGY RSI (40, 50) aralığında! 🚀\n"
          ]
        },
        {
          "output_type": "stream",
          "name": "stderr",
          "text": [
            "\r📊 Haftalık RSI 40 - 50 aralığında taranıyor:  72%|███████▏  | 433/601 [03:54<01:50,  1.52hisse/s]"
          ]
        },
        {
          "output_type": "stream",
          "name": "stdout",
          "text": [
            "OZRDN: Önceki RSI = 47.50275474554332, Güncel RSI = 39.909815566191305, Seviye Aralığı = (40, 50)\n"
          ]
        },
        {
          "output_type": "stream",
          "name": "stderr",
          "text": [
            "\r📊 Haftalık RSI 40 - 50 aralığında taranıyor:  72%|███████▏  | 434/601 [03:55<01:45,  1.58hisse/s]"
          ]
        },
        {
          "output_type": "stream",
          "name": "stdout",
          "text": [
            "OZSUB: Önceki RSI = 55.65703947067936, Güncel RSI = 48.8360269219503, Seviye Aralığı = (40, 50)\n",
            "OZSUB RSI (40, 50) aralığında! 🚀\n"
          ]
        },
        {
          "output_type": "stream",
          "name": "stderr",
          "text": [
            "\r📊 Haftalık RSI 40 - 50 aralığında taranıyor:  72%|███████▏  | 435/601 [03:55<01:41,  1.63hisse/s]"
          ]
        },
        {
          "output_type": "stream",
          "name": "stdout",
          "text": [
            "OZYSR: Önceki RSI = 37.92393177803795, Güncel RSI = 31.325259003345664, Seviye Aralığı = (40, 50)\n"
          ]
        },
        {
          "output_type": "stream",
          "name": "stderr",
          "text": [
            "\r📊 Haftalık RSI 40 - 50 aralığında taranıyor:  73%|███████▎  | 436/601 [03:56<01:38,  1.67hisse/s]"
          ]
        },
        {
          "output_type": "stream",
          "name": "stdout",
          "text": [
            "PAGYO: Önceki RSI = 67.56370161783616, Güncel RSI = 47.15909577183029, Seviye Aralığı = (40, 50)\n",
            "PAGYO RSI (40, 50) aralığında! 🚀\n"
          ]
        },
        {
          "output_type": "stream",
          "name": "stderr",
          "text": [
            "\r📊 Haftalık RSI 40 - 50 aralığında taranıyor:  73%|███████▎  | 437/601 [03:56<01:38,  1.66hisse/s]"
          ]
        },
        {
          "output_type": "stream",
          "name": "stdout",
          "text": [
            "PAMEL: Önceki RSI = 44.76238238019259, Güncel RSI = 32.62214520002914, Seviye Aralığı = (40, 50)\n"
          ]
        },
        {
          "output_type": "stream",
          "name": "stderr",
          "text": [
            "\r📊 Haftalık RSI 40 - 50 aralığında taranıyor:  73%|███████▎  | 438/601 [03:57<01:40,  1.62hisse/s]"
          ]
        },
        {
          "output_type": "stream",
          "name": "stdout",
          "text": [
            "PAPIL: Önceki RSI = 72.02438069541093, Güncel RSI = 78.60925764459736, Seviye Aralığı = (40, 50)\n"
          ]
        },
        {
          "output_type": "stream",
          "name": "stderr",
          "text": [
            "\r📊 Haftalık RSI 40 - 50 aralığında taranıyor:  73%|███████▎  | 439/601 [03:58<01:40,  1.61hisse/s]"
          ]
        },
        {
          "output_type": "stream",
          "name": "stdout",
          "text": [
            "PARSN: Önceki RSI = 38.71849435249382, Güncel RSI = 32.62805748452098, Seviye Aralığı = (40, 50)\n"
          ]
        },
        {
          "output_type": "stream",
          "name": "stderr",
          "text": [
            "\r📊 Haftalık RSI 40 - 50 aralığında taranıyor:  73%|███████▎  | 440/601 [03:58<01:39,  1.62hisse/s]"
          ]
        },
        {
          "output_type": "stream",
          "name": "stdout",
          "text": [
            "PASEU: Önceki RSI = 74.29386375447336, Güncel RSI = 76.34031096444332, Seviye Aralığı = (40, 50)\n"
          ]
        },
        {
          "output_type": "stream",
          "name": "stderr",
          "text": [
            "\r📊 Haftalık RSI 40 - 50 aralığında taranıyor:  73%|███████▎  | 441/601 [03:59<01:34,  1.69hisse/s]"
          ]
        },
        {
          "output_type": "stream",
          "name": "stdout",
          "text": [
            "PATEK: Önceki RSI = 56.57679268032667, Güncel RSI = 42.98519313230611, Seviye Aralığı = (40, 50)\n",
            "PATEK RSI (40, 50) aralığında! 🚀\n"
          ]
        },
        {
          "output_type": "stream",
          "name": "stderr",
          "text": [
            "\r📊 Haftalık RSI 40 - 50 aralığında taranıyor:  74%|███████▎  | 442/601 [04:00<01:41,  1.57hisse/s]"
          ]
        },
        {
          "output_type": "stream",
          "name": "stdout",
          "text": [
            "PCILT: Önceki RSI = 48.590255733247275, Güncel RSI = 31.509591678981764, Seviye Aralığı = (40, 50)\n"
          ]
        },
        {
          "output_type": "stream",
          "name": "stderr",
          "text": [
            "\r📊 Haftalık RSI 40 - 50 aralığında taranıyor:  74%|███████▎  | 443/601 [04:00<01:42,  1.54hisse/s]"
          ]
        },
        {
          "output_type": "stream",
          "name": "stdout",
          "text": [
            "PEHOL: Önceki RSI = 82.24542452735348, Güncel RSI = 63.821037119045215, Seviye Aralığı = (40, 50)\n"
          ]
        },
        {
          "output_type": "stream",
          "name": "stderr",
          "text": [
            "\r📊 Haftalık RSI 40 - 50 aralığında taranıyor:  74%|███████▍  | 444/601 [04:01<01:50,  1.42hisse/s]"
          ]
        },
        {
          "output_type": "stream",
          "name": "stdout",
          "text": [
            "PEKGY: Önceki RSI = 46.17532151741235, Güncel RSI = 40.82179459203519, Seviye Aralığı = (40, 50)\n",
            "PEKGY RSI (40, 50) aralığında! 🚀\n"
          ]
        },
        {
          "output_type": "stream",
          "name": "stderr",
          "text": [
            "\r📊 Haftalık RSI 40 - 50 aralığında taranıyor:  74%|███████▍  | 445/601 [04:02<01:47,  1.45hisse/s]"
          ]
        },
        {
          "output_type": "stream",
          "name": "stdout",
          "text": [
            "PENGD: Önceki RSI = 60.584248542324225, Güncel RSI = 41.630977901955056, Seviye Aralığı = (40, 50)\n",
            "PENGD RSI (40, 50) aralığında! 🚀\n"
          ]
        },
        {
          "output_type": "stream",
          "name": "stderr",
          "text": [
            "\r📊 Haftalık RSI 40 - 50 aralığında taranıyor:  74%|███████▍  | 446/601 [04:02<01:44,  1.48hisse/s]"
          ]
        },
        {
          "output_type": "stream",
          "name": "stdout",
          "text": [
            "PENTA: Önceki RSI = 50.32429674281785, Güncel RSI = 37.14698514071, Seviye Aralığı = (40, 50)\n"
          ]
        },
        {
          "output_type": "stream",
          "name": "stderr",
          "text": [
            "\r📊 Haftalık RSI 40 - 50 aralığında taranıyor:  74%|███████▍  | 447/601 [04:03<01:42,  1.50hisse/s]"
          ]
        },
        {
          "output_type": "stream",
          "name": "stdout",
          "text": [
            "PETKM: Önceki RSI = 47.23512764333362, Güncel RSI = 35.0561407934063, Seviye Aralığı = (40, 50)\n"
          ]
        },
        {
          "output_type": "stream",
          "name": "stderr",
          "text": [
            "\r📊 Haftalık RSI 40 - 50 aralığında taranıyor:  75%|███████▍  | 448/601 [04:04<01:42,  1.50hisse/s]"
          ]
        },
        {
          "output_type": "stream",
          "name": "stdout",
          "text": [
            "PETUN: Önceki RSI = 37.00818358921462, Güncel RSI = 27.957799916870854, Seviye Aralığı = (40, 50)\n"
          ]
        },
        {
          "output_type": "stream",
          "name": "stderr",
          "text": [
            "\r📊 Haftalık RSI 40 - 50 aralığında taranıyor:  75%|███████▍  | 449/601 [04:04<01:39,  1.53hisse/s]"
          ]
        },
        {
          "output_type": "stream",
          "name": "stdout",
          "text": [
            "PGSUS: Önceki RSI = 73.42355301813112, Güncel RSI = 51.44871015603521, Seviye Aralığı = (40, 50)\n"
          ]
        },
        {
          "output_type": "stream",
          "name": "stderr",
          "text": [
            "\r📊 Haftalık RSI 40 - 50 aralığında taranıyor:  75%|███████▍  | 450/601 [04:05<01:40,  1.50hisse/s]"
          ]
        },
        {
          "output_type": "stream",
          "name": "stdout",
          "text": [
            "PINSU: Önceki RSI = 50.15607706272483, Güncel RSI = 33.07915704112479, Seviye Aralığı = (40, 50)\n"
          ]
        },
        {
          "output_type": "stream",
          "name": "stderr",
          "text": [
            "\r📊 Haftalık RSI 40 - 50 aralığında taranıyor:  75%|███████▌  | 451/601 [04:06<01:38,  1.52hisse/s]"
          ]
        },
        {
          "output_type": "stream",
          "name": "stdout",
          "text": [
            "PKART: Önceki RSI = 46.318838896574796, Güncel RSI = 36.788299007563644, Seviye Aralığı = (40, 50)\n"
          ]
        },
        {
          "output_type": "stream",
          "name": "stderr",
          "text": [
            "\r📊 Haftalık RSI 40 - 50 aralığında taranıyor:  75%|███████▌  | 452/601 [04:06<01:36,  1.54hisse/s]"
          ]
        },
        {
          "output_type": "stream",
          "name": "stdout",
          "text": [
            "PKENT: Önceki RSI = 44.575960553667706, Güncel RSI = 34.85306416252891, Seviye Aralığı = (40, 50)\n"
          ]
        },
        {
          "output_type": "stream",
          "name": "stderr",
          "text": [
            "\r📊 Haftalık RSI 40 - 50 aralığında taranıyor:  75%|███████▌  | 453/601 [04:07<01:37,  1.52hisse/s]"
          ]
        },
        {
          "output_type": "stream",
          "name": "stdout",
          "text": [
            "PLTUR: Önceki RSI = 55.427816409330966, Güncel RSI = 40.21477423082991, Seviye Aralığı = (40, 50)\n",
            "PLTUR RSI (40, 50) aralığında! 🚀\n"
          ]
        },
        {
          "output_type": "stream",
          "name": "stderr",
          "text": [
            "\r📊 Haftalık RSI 40 - 50 aralığında taranıyor:  76%|███████▌  | 454/601 [04:08<01:35,  1.53hisse/s]"
          ]
        },
        {
          "output_type": "stream",
          "name": "stdout",
          "text": [
            "PNLSN: Önceki RSI = 40.70851478894216, Güncel RSI = 32.071402714444915, Seviye Aralığı = (40, 50)\n"
          ]
        },
        {
          "output_type": "stream",
          "name": "stderr",
          "text": [
            "\r📊 Haftalık RSI 40 - 50 aralığında taranıyor:  76%|███████▌  | 455/601 [04:08<01:36,  1.52hisse/s]"
          ]
        },
        {
          "output_type": "stream",
          "name": "stdout",
          "text": [
            "PNSUT: Önceki RSI = 31.78139043975584, Güncel RSI = 24.752885555915014, Seviye Aralığı = (40, 50)\n"
          ]
        },
        {
          "output_type": "stream",
          "name": "stderr",
          "text": [
            "\r📊 Haftalık RSI 40 - 50 aralığında taranıyor:  76%|███████▌  | 456/601 [04:09<01:36,  1.50hisse/s]"
          ]
        },
        {
          "output_type": "stream",
          "name": "stdout",
          "text": [
            "POLHO: Önceki RSI = 50.50159844190037, Güncel RSI = 41.6820816900105, Seviye Aralığı = (40, 50)\n",
            "POLHO RSI (40, 50) aralığında! 🚀\n"
          ]
        },
        {
          "output_type": "stream",
          "name": "stderr",
          "text": [
            "\r📊 Haftalık RSI 40 - 50 aralığında taranıyor:  76%|███████▌  | 457/601 [04:10<01:37,  1.48hisse/s]"
          ]
        },
        {
          "output_type": "stream",
          "name": "stdout",
          "text": [
            "POLTK: Önceki RSI = 39.495759037445744, Güncel RSI = 35.266492470676894, Seviye Aralığı = (40, 50)\n"
          ]
        },
        {
          "output_type": "stream",
          "name": "stderr",
          "text": [
            "\r📊 Haftalık RSI 40 - 50 aralığında taranıyor:  76%|███████▌  | 458/601 [04:10<01:34,  1.51hisse/s]"
          ]
        },
        {
          "output_type": "stream",
          "name": "stdout",
          "text": [
            "PRDGS: Önceki RSI = 42.75428516113294, Güncel RSI = 31.865135226286228, Seviye Aralığı = (40, 50)\n"
          ]
        },
        {
          "output_type": "stream",
          "name": "stderr",
          "text": [
            "\r📊 Haftalık RSI 40 - 50 aralığında taranıyor:  76%|███████▋  | 459/601 [04:11<01:32,  1.54hisse/s]"
          ]
        },
        {
          "output_type": "stream",
          "name": "stdout",
          "text": [
            "PRKAB: Önceki RSI = 43.69760675482946, Güncel RSI = 30.275141500801027, Seviye Aralığı = (40, 50)\n"
          ]
        },
        {
          "output_type": "stream",
          "name": "stderr",
          "text": [
            "\r📊 Haftalık RSI 40 - 50 aralığında taranıyor:  77%|███████▋  | 460/601 [04:12<01:32,  1.53hisse/s]"
          ]
        },
        {
          "output_type": "stream",
          "name": "stdout",
          "text": [
            "PRKME: Önceki RSI = 52.23422362161844, Güncel RSI = 36.90678548457657, Seviye Aralığı = (40, 50)\n"
          ]
        },
        {
          "output_type": "stream",
          "name": "stderr",
          "text": [
            "\r📊 Haftalık RSI 40 - 50 aralığında taranıyor:  77%|███████▋  | 461/601 [04:12<01:34,  1.48hisse/s]"
          ]
        },
        {
          "output_type": "stream",
          "name": "stdout",
          "text": [
            "PRZMA: Önceki RSI = 54.90472646345313, Güncel RSI = 50.59614378411238, Seviye Aralığı = (40, 50)\n"
          ]
        },
        {
          "output_type": "stream",
          "name": "stderr",
          "text": [
            "\r📊 Haftalık RSI 40 - 50 aralığında taranıyor:  77%|███████▋  | 462/601 [04:13<01:35,  1.45hisse/s]"
          ]
        },
        {
          "output_type": "stream",
          "name": "stdout",
          "text": [
            "PSDTC: Önceki RSI = 50.062968249771544, Güncel RSI = 42.08203653525562, Seviye Aralığı = (40, 50)\n",
            "PSDTC RSI (40, 50) aralığında! 🚀\n"
          ]
        },
        {
          "output_type": "stream",
          "name": "stderr",
          "text": [
            "\r📊 Haftalık RSI 40 - 50 aralığında taranıyor:  77%|███████▋  | 463/601 [04:14<01:36,  1.43hisse/s]"
          ]
        },
        {
          "output_type": "stream",
          "name": "stdout",
          "text": [
            "PSGYO: Önceki RSI = 62.63127488695159, Güncel RSI = 48.195483536804424, Seviye Aralığı = (40, 50)\n",
            "PSGYO RSI (40, 50) aralığında! 🚀\n"
          ]
        },
        {
          "output_type": "stream",
          "name": "stderr",
          "text": [
            "\r📊 Haftalık RSI 40 - 50 aralığında taranıyor:  77%|███████▋  | 464/601 [04:14<01:35,  1.43hisse/s]"
          ]
        },
        {
          "output_type": "stream",
          "name": "stdout",
          "text": [
            "QNBFK: Önceki RSI = 42.38552006150615, Güncel RSI = 44.5889203096697, Seviye Aralığı = (40, 50)\n",
            "QNBFK RSI (40, 50) aralığında! 🚀\n"
          ]
        },
        {
          "output_type": "stream",
          "name": "stderr",
          "text": [
            "\r📊 Haftalık RSI 40 - 50 aralığında taranıyor:  77%|███████▋  | 465/601 [04:15<01:30,  1.50hisse/s]"
          ]
        },
        {
          "output_type": "stream",
          "name": "stdout",
          "text": [
            "QNBTR: Önceki RSI = 51.57912015153127, Güncel RSI = 70.70414192677374, Seviye Aralığı = (40, 50)\n"
          ]
        },
        {
          "output_type": "stream",
          "name": "stderr",
          "text": [
            "\r📊 Haftalık RSI 40 - 50 aralığında taranıyor:  78%|███████▊  | 466/601 [04:16<01:26,  1.57hisse/s]"
          ]
        },
        {
          "output_type": "stream",
          "name": "stdout",
          "text": [
            "QTEMZ: Önceki RSI = 43.46578583272245, Güncel RSI = 29.781617040633236, Seviye Aralığı = (40, 50)\n"
          ]
        },
        {
          "output_type": "stream",
          "name": "stderr",
          "text": [
            "\r📊 Haftalık RSI 40 - 50 aralığında taranıyor:  78%|███████▊  | 467/601 [04:16<01:25,  1.56hisse/s]"
          ]
        },
        {
          "output_type": "stream",
          "name": "stdout",
          "text": [
            "QUAGR: Önceki RSI = 75.50384538175949, Güncel RSI = 56.512272125564955, Seviye Aralığı = (40, 50)\n"
          ]
        },
        {
          "output_type": "stream",
          "name": "stderr",
          "text": [
            "\r📊 Haftalık RSI 40 - 50 aralığında taranıyor:  78%|███████▊  | 468/601 [04:17<01:26,  1.54hisse/s]"
          ]
        },
        {
          "output_type": "stream",
          "name": "stdout",
          "text": [
            "RALYH: Önceki RSI = 73.18163848301037, Güncel RSI = 73.37056847796714, Seviye Aralığı = (40, 50)\n"
          ]
        },
        {
          "output_type": "stream",
          "name": "stderr",
          "text": [
            "\r📊 Haftalık RSI 40 - 50 aralığında taranıyor:  78%|███████▊  | 469/601 [04:18<01:28,  1.49hisse/s]"
          ]
        },
        {
          "output_type": "stream",
          "name": "stdout",
          "text": [
            "RAYSG: Önceki RSI = 38.99163642559401, Güncel RSI = 33.347771706458346, Seviye Aralığı = (40, 50)\n"
          ]
        },
        {
          "output_type": "stream",
          "name": "stderr",
          "text": [
            "\r📊 Haftalık RSI 40 - 50 aralığında taranıyor:  78%|███████▊  | 470/601 [04:18<01:25,  1.53hisse/s]"
          ]
        },
        {
          "output_type": "stream",
          "name": "stdout",
          "text": [
            "REEDR: Önceki RSI = 35.58658978581667, Güncel RSI = 30.794825111393436, Seviye Aralığı = (40, 50)\n"
          ]
        },
        {
          "output_type": "stream",
          "name": "stderr",
          "text": [
            "\r📊 Haftalık RSI 40 - 50 aralığında taranıyor:  78%|███████▊  | 471/601 [04:19<01:23,  1.56hisse/s]"
          ]
        },
        {
          "output_type": "stream",
          "name": "stdout",
          "text": [
            "RGYAS: Önceki RSI = 49.5196757424494, Güncel RSI = 34.42652985604178, Seviye Aralığı = (40, 50)\n"
          ]
        },
        {
          "output_type": "stream",
          "name": "stderr",
          "text": [
            "\r📊 Haftalık RSI 40 - 50 aralığında taranıyor:  79%|███████▊  | 472/601 [04:20<01:25,  1.52hisse/s]"
          ]
        },
        {
          "output_type": "stream",
          "name": "stdout",
          "text": [
            "RNPOL: Önceki RSI = 49.72764433565767, Güncel RSI = 42.704847923831096, Seviye Aralığı = (40, 50)\n",
            "RNPOL RSI (40, 50) aralığında! 🚀\n"
          ]
        },
        {
          "output_type": "stream",
          "name": "stderr",
          "text": [
            "\r📊 Haftalık RSI 40 - 50 aralığında taranıyor:  79%|███████▊  | 473/601 [04:20<01:27,  1.47hisse/s]"
          ]
        },
        {
          "output_type": "stream",
          "name": "stdout",
          "text": [
            "RODRG: Önceki RSI = 39.496946094933556, Güncel RSI = 35.64711750955303, Seviye Aralığı = (40, 50)\n"
          ]
        },
        {
          "output_type": "stream",
          "name": "stderr",
          "text": [
            "\r📊 Haftalık RSI 40 - 50 aralığında taranıyor:  79%|███████▉  | 474/601 [04:21<01:31,  1.39hisse/s]"
          ]
        },
        {
          "output_type": "stream",
          "name": "stdout",
          "text": [
            "RTALB: Önceki RSI = 49.997584820844075, Güncel RSI = 40.65124271483232, Seviye Aralığı = (40, 50)\n",
            "RTALB RSI (40, 50) aralığında! 🚀\n"
          ]
        },
        {
          "output_type": "stream",
          "name": "stderr",
          "text": [
            "\r📊 Haftalık RSI 40 - 50 aralığında taranıyor:  79%|███████▉  | 475/601 [04:22<01:32,  1.37hisse/s]"
          ]
        },
        {
          "output_type": "stream",
          "name": "stdout",
          "text": [
            "RUBNS: Önceki RSI = 38.95079805822965, Güncel RSI = 42.8265164918601, Seviye Aralığı = (40, 50)\n",
            "RUBNS RSI (40, 50) aralığında! 🚀\n"
          ]
        },
        {
          "output_type": "stream",
          "name": "stderr",
          "text": [
            "\r📊 Haftalık RSI 40 - 50 aralığında taranıyor:  79%|███████▉  | 476/601 [04:23<01:29,  1.39hisse/s]"
          ]
        },
        {
          "output_type": "stream",
          "name": "stdout",
          "text": [
            "RYGYO: Önceki RSI = 54.30493127599279, Güncel RSI = 39.34943054547917, Seviye Aralığı = (40, 50)\n"
          ]
        },
        {
          "output_type": "stream",
          "name": "stderr",
          "text": [
            "\r📊 Haftalık RSI 40 - 50 aralığında taranıyor:  79%|███████▉  | 477/601 [04:23<01:27,  1.41hisse/s]"
          ]
        },
        {
          "output_type": "stream",
          "name": "stdout",
          "text": [
            "RYSAS: Önceki RSI = 54.355075083226964, Güncel RSI = 39.44959915508942, Seviye Aralığı = (40, 50)\n"
          ]
        },
        {
          "output_type": "stream",
          "name": "stderr",
          "text": [
            "\r📊 Haftalık RSI 40 - 50 aralığında taranıyor:  80%|███████▉  | 478/601 [04:24<01:26,  1.43hisse/s]"
          ]
        },
        {
          "output_type": "stream",
          "name": "stdout",
          "text": [
            "SAFKR: Önceki RSI = 71.3831212210202, Güncel RSI = 61.99124150809433, Seviye Aralığı = (40, 50)\n"
          ]
        },
        {
          "output_type": "stream",
          "name": "stderr",
          "text": [
            "\r📊 Haftalık RSI 40 - 50 aralığında taranıyor:  80%|███████▉  | 479/601 [04:25<01:25,  1.42hisse/s]"
          ]
        },
        {
          "output_type": "stream",
          "name": "stdout",
          "text": [
            "SAHOL: Önceki RSI = 62.38302257102258, Güncel RSI = 37.55644067292949, Seviye Aralığı = (40, 50)\n"
          ]
        },
        {
          "output_type": "stream",
          "name": "stderr",
          "text": [
            "\r📊 Haftalık RSI 40 - 50 aralığında taranıyor:  80%|███████▉  | 480/601 [04:25<01:18,  1.53hisse/s]"
          ]
        },
        {
          "output_type": "stream",
          "name": "stdout",
          "text": [
            "SAMAT: Önceki RSI = 37.51324399609758, Güncel RSI = 32.03560443462348, Seviye Aralığı = (40, 50)\n"
          ]
        },
        {
          "output_type": "stream",
          "name": "stderr",
          "text": [
            "\r📊 Haftalık RSI 40 - 50 aralığında taranıyor:  80%|████████  | 481/601 [04:26<01:18,  1.52hisse/s]"
          ]
        },
        {
          "output_type": "stream",
          "name": "stdout",
          "text": [
            "SANEL: Önceki RSI = 50.123433330252304, Güncel RSI = 39.87951746804289, Seviye Aralığı = (40, 50)\n"
          ]
        },
        {
          "output_type": "stream",
          "name": "stderr",
          "text": [
            "\r📊 Haftalık RSI 40 - 50 aralığında taranıyor:  80%|████████  | 482/601 [04:27<01:21,  1.46hisse/s]"
          ]
        },
        {
          "output_type": "stream",
          "name": "stdout",
          "text": [
            "SANFM: Önceki RSI = 58.846517701209976, Güncel RSI = 46.26282863071959, Seviye Aralığı = (40, 50)\n",
            "SANFM RSI (40, 50) aralığında! 🚀\n"
          ]
        },
        {
          "output_type": "stream",
          "name": "stderr",
          "text": [
            "\r📊 Haftalık RSI 40 - 50 aralığında taranıyor:  80%|████████  | 483/601 [04:27<01:22,  1.42hisse/s]"
          ]
        },
        {
          "output_type": "stream",
          "name": "stdout",
          "text": [
            "SANKO: Önceki RSI = 43.62877630170823, Güncel RSI = 33.84028062013142, Seviye Aralığı = (40, 50)\n"
          ]
        },
        {
          "output_type": "stream",
          "name": "stderr",
          "text": [
            "\r📊 Haftalık RSI 40 - 50 aralığında taranıyor:  81%|████████  | 484/601 [04:28<01:22,  1.43hisse/s]"
          ]
        },
        {
          "output_type": "stream",
          "name": "stdout",
          "text": [
            "SARKY: Önceki RSI = 46.7706136577209, Güncel RSI = 37.74155245123295, Seviye Aralığı = (40, 50)\n"
          ]
        },
        {
          "output_type": "stream",
          "name": "stderr",
          "text": [
            "\r📊 Haftalık RSI 40 - 50 aralığında taranıyor:  81%|████████  | 485/601 [04:29<01:17,  1.49hisse/s]"
          ]
        },
        {
          "output_type": "stream",
          "name": "stdout",
          "text": [
            "SASA: Önceki RSI = 46.74012729511692, Güncel RSI = 34.81550180331307, Seviye Aralığı = (40, 50)\n"
          ]
        },
        {
          "output_type": "stream",
          "name": "stderr",
          "text": [
            "\r📊 Haftalık RSI 40 - 50 aralığında taranıyor:  81%|████████  | 486/601 [04:29<01:18,  1.46hisse/s]"
          ]
        },
        {
          "output_type": "stream",
          "name": "stdout",
          "text": [
            "SAYAS: Önceki RSI = 32.766880207486125, Güncel RSI = 25.757823586215665, Seviye Aralığı = (40, 50)\n"
          ]
        },
        {
          "output_type": "stream",
          "name": "stderr",
          "text": [
            "\r📊 Haftalık RSI 40 - 50 aralığında taranıyor:  81%|████████  | 487/601 [04:30<01:12,  1.58hisse/s]"
          ]
        },
        {
          "output_type": "stream",
          "name": "stdout",
          "text": [
            "SDTTR: Önceki RSI = 41.04099855427128, Güncel RSI = 39.22067654635873, Seviye Aralığı = (40, 50)\n"
          ]
        },
        {
          "output_type": "stream",
          "name": "stderr",
          "text": [
            "\r📊 Haftalık RSI 40 - 50 aralığında taranıyor:  81%|████████  | 488/601 [04:30<01:09,  1.63hisse/s]"
          ]
        },
        {
          "output_type": "stream",
          "name": "stdout",
          "text": [
            "SEGMN: Önceki RSI = 53.35731982789649, Güncel RSI = 36.72362855479823, Seviye Aralığı = (40, 50)\n"
          ]
        },
        {
          "output_type": "stream",
          "name": "stderr",
          "text": [
            "\r📊 Haftalık RSI 40 - 50 aralığında taranıyor:  81%|████████▏ | 489/601 [04:31<01:07,  1.66hisse/s]"
          ]
        },
        {
          "output_type": "stream",
          "name": "stdout",
          "text": [
            "SEGYO: Önceki RSI = 56.168431041467485, Güncel RSI = 49.04712880461547, Seviye Aralığı = (40, 50)\n",
            "SEGYO RSI (40, 50) aralığında! 🚀\n"
          ]
        },
        {
          "output_type": "stream",
          "name": "stderr",
          "text": [
            "\r📊 Haftalık RSI 40 - 50 aralığında taranıyor:  82%|████████▏ | 490/601 [04:32<01:07,  1.65hisse/s]"
          ]
        },
        {
          "output_type": "stream",
          "name": "stdout",
          "text": [
            "SEKFK: Önceki RSI = 50.17542942103556, Güncel RSI = 44.15140255881249, Seviye Aralığı = (40, 50)\n",
            "SEKFK RSI (40, 50) aralığında! 🚀\n"
          ]
        },
        {
          "output_type": "stream",
          "name": "stderr",
          "text": [
            "\r📊 Haftalık RSI 40 - 50 aralığında taranıyor:  82%|████████▏ | 491/601 [04:32<01:06,  1.66hisse/s]"
          ]
        },
        {
          "output_type": "stream",
          "name": "stdout",
          "text": [
            "SEKUR: Önceki RSI = 54.108086230461986, Güncel RSI = 57.564954555329386, Seviye Aralığı = (40, 50)\n"
          ]
        },
        {
          "output_type": "stream",
          "name": "stderr",
          "text": [
            "\r📊 Haftalık RSI 40 - 50 aralığında taranıyor:  82%|████████▏ | 492/601 [04:33<01:05,  1.68hisse/s]"
          ]
        },
        {
          "output_type": "stream",
          "name": "stdout",
          "text": [
            "SELEC: Önceki RSI = 49.838223549637064, Güncel RSI = 40.74702648164297, Seviye Aralığı = (40, 50)\n",
            "SELEC RSI (40, 50) aralığında! 🚀\n"
          ]
        },
        {
          "output_type": "stream",
          "name": "stderr",
          "text": [
            "\r📊 Haftalık RSI 40 - 50 aralığında taranıyor:  82%|████████▏ | 493/601 [04:33<01:05,  1.64hisse/s]"
          ]
        },
        {
          "output_type": "stream",
          "name": "stdout",
          "text": [
            "SELGD: Önceki RSI = 46.37421693212665, Güncel RSI = 41.03132569654149, Seviye Aralığı = (40, 50)\n",
            "SELGD RSI (40, 50) aralığında! 🚀\n"
          ]
        },
        {
          "output_type": "stream",
          "name": "stderr",
          "text": [
            "\r📊 Haftalık RSI 40 - 50 aralığında taranıyor:  82%|████████▏ | 494/601 [04:34<01:06,  1.62hisse/s]"
          ]
        },
        {
          "output_type": "stream",
          "name": "stdout",
          "text": [
            "SELVA: Önceki RSI = 52.8623558085496, Güncel RSI = 42.44602440227272, Seviye Aralığı = (40, 50)\n",
            "SELVA RSI (40, 50) aralığında! 🚀\n"
          ]
        },
        {
          "output_type": "stream",
          "name": "stderr",
          "text": [
            "\r📊 Haftalık RSI 40 - 50 aralığında taranıyor:  82%|████████▏ | 495/601 [04:35<01:01,  1.71hisse/s]"
          ]
        },
        {
          "output_type": "stream",
          "name": "stdout",
          "text": [
            "⚠ SERNT: Yeterli veri yok, taramaya dahil edilmedi.\n"
          ]
        },
        {
          "output_type": "stream",
          "name": "stderr",
          "text": [
            "\r📊 Haftalık RSI 40 - 50 aralığında taranıyor:  83%|████████▎ | 496/601 [04:35<01:02,  1.69hisse/s]"
          ]
        },
        {
          "output_type": "stream",
          "name": "stdout",
          "text": [
            "SEYKM: Önceki RSI = 43.2353665187886, Güncel RSI = 37.513701733650116, Seviye Aralığı = (40, 50)\n"
          ]
        },
        {
          "output_type": "stream",
          "name": "stderr",
          "text": [
            "\r📊 Haftalık RSI 40 - 50 aralığında taranıyor:  83%|████████▎ | 497/601 [04:36<01:03,  1.65hisse/s]"
          ]
        },
        {
          "output_type": "stream",
          "name": "stdout",
          "text": [
            "SILVR: Önceki RSI = 46.394117424870295, Güncel RSI = 36.49358990827214, Seviye Aralığı = (40, 50)\n"
          ]
        },
        {
          "output_type": "stream",
          "name": "stderr",
          "text": [
            "\r📊 Haftalık RSI 40 - 50 aralığında taranıyor:  83%|████████▎ | 498/601 [04:36<01:02,  1.65hisse/s]"
          ]
        },
        {
          "output_type": "stream",
          "name": "stdout",
          "text": [
            "SISE: Önceki RSI = 50.200839335683156, Güncel RSI = 36.40664105013851, Seviye Aralığı = (40, 50)\n"
          ]
        },
        {
          "output_type": "stream",
          "name": "stderr",
          "text": [
            "\r📊 Haftalık RSI 40 - 50 aralığında taranıyor:  83%|████████▎ | 499/601 [04:37<01:01,  1.67hisse/s]"
          ]
        },
        {
          "output_type": "stream",
          "name": "stdout",
          "text": [
            "SKBNK: Önceki RSI = 50.50736308503251, Güncel RSI = 44.63170710259257, Seviye Aralığı = (40, 50)\n",
            "SKBNK RSI (40, 50) aralığında! 🚀\n"
          ]
        },
        {
          "output_type": "stream",
          "name": "stderr",
          "text": [
            "\r📊 Haftalık RSI 40 - 50 aralığında taranıyor:  83%|████████▎ | 500/601 [04:38<01:00,  1.66hisse/s]"
          ]
        },
        {
          "output_type": "stream",
          "name": "stdout",
          "text": [
            "SKTAS: Önceki RSI = 46.81295409976358, Güncel RSI = 37.13167040479641, Seviye Aralığı = (40, 50)\n"
          ]
        },
        {
          "output_type": "stream",
          "name": "stderr",
          "text": [
            "\r📊 Haftalık RSI 40 - 50 aralığında taranıyor:  83%|████████▎ | 501/601 [04:38<01:01,  1.63hisse/s]"
          ]
        },
        {
          "output_type": "stream",
          "name": "stdout",
          "text": [
            "SKYLP: Önceki RSI = 50.23620277457035, Güncel RSI = 39.645501069477525, Seviye Aralığı = (40, 50)\n"
          ]
        },
        {
          "output_type": "stream",
          "name": "stderr",
          "text": [
            "\r📊 Haftalık RSI 40 - 50 aralığında taranıyor:  84%|████████▎ | 502/601 [04:39<00:58,  1.68hisse/s]"
          ]
        },
        {
          "output_type": "stream",
          "name": "stdout",
          "text": [
            "SKYMD: Önceki RSI = 58.47782510619936, Güncel RSI = 50.10244038094976, Seviye Aralığı = (40, 50)\n"
          ]
        },
        {
          "output_type": "stream",
          "name": "stderr",
          "text": [
            "\r📊 Haftalık RSI 40 - 50 aralığında taranıyor:  84%|████████▎ | 503/601 [04:40<01:00,  1.63hisse/s]"
          ]
        },
        {
          "output_type": "stream",
          "name": "stdout",
          "text": [
            "SMART: Önceki RSI = 44.899223581818504, Güncel RSI = 33.95047825920082, Seviye Aralığı = (40, 50)\n"
          ]
        },
        {
          "output_type": "stream",
          "name": "stderr",
          "text": [
            "\r📊 Haftalık RSI 40 - 50 aralığında taranıyor:  84%|████████▍ | 504/601 [04:40<00:59,  1.63hisse/s]"
          ]
        },
        {
          "output_type": "stream",
          "name": "stdout",
          "text": [
            "SMRTG: Önceki RSI = 43.02189293327275, Güncel RSI = 31.77140843236282, Seviye Aralığı = (40, 50)\n"
          ]
        },
        {
          "output_type": "stream",
          "name": "stderr",
          "text": [
            "\r📊 Haftalık RSI 40 - 50 aralığında taranıyor:  84%|████████▍ | 505/601 [04:41<00:57,  1.67hisse/s]"
          ]
        },
        {
          "output_type": "stream",
          "name": "stdout",
          "text": [
            "SMRVA: Önceki RSI = nan, Güncel RSI = 82.59782013001512, Seviye Aralığı = (40, 50)\n"
          ]
        },
        {
          "output_type": "stream",
          "name": "stderr",
          "text": [
            "\r📊 Haftalık RSI 40 - 50 aralığında taranıyor:  84%|████████▍ | 506/601 [04:41<00:55,  1.70hisse/s]"
          ]
        },
        {
          "output_type": "stream",
          "name": "stdout",
          "text": [
            "SNGYO: Önceki RSI = 66.29574145980521, Güncel RSI = 49.941299885619124, Seviye Aralığı = (40, 50)\n",
            "SNGYO RSI (40, 50) aralığında! 🚀\n"
          ]
        },
        {
          "output_type": "stream",
          "name": "stderr",
          "text": [
            "\r📊 Haftalık RSI 40 - 50 aralığında taranıyor:  84%|████████▍ | 507/601 [04:42<00:51,  1.81hisse/s]"
          ]
        },
        {
          "output_type": "stream",
          "name": "stdout",
          "text": [
            "SNICA: Önceki RSI = 32.03748635445943, Güncel RSI = 24.984781278776353, Seviye Aralığı = (40, 50)\n"
          ]
        },
        {
          "output_type": "stream",
          "name": "stderr",
          "text": [
            "\r📊 Haftalık RSI 40 - 50 aralığında taranıyor:  85%|████████▍ | 508/601 [04:42<00:52,  1.76hisse/s]"
          ]
        },
        {
          "output_type": "stream",
          "name": "stdout",
          "text": [
            "SNKRN: Önceki RSI = 69.43225030613932, Güncel RSI = 72.61771122791426, Seviye Aralığı = (40, 50)\n"
          ]
        },
        {
          "output_type": "stream",
          "name": "stderr",
          "text": [
            "\r📊 Haftalık RSI 40 - 50 aralığında taranıyor:  85%|████████▍ | 509/601 [04:43<00:54,  1.68hisse/s]"
          ]
        },
        {
          "output_type": "stream",
          "name": "stdout",
          "text": [
            "SNPAM: Önceki RSI = 42.276907699205054, Güncel RSI = 32.69675125808166, Seviye Aralığı = (40, 50)\n"
          ]
        },
        {
          "output_type": "stream",
          "name": "stderr",
          "text": [
            "\r📊 Haftalık RSI 40 - 50 aralığında taranıyor:  85%|████████▍ | 510/601 [04:44<00:55,  1.64hisse/s]"
          ]
        },
        {
          "output_type": "stream",
          "name": "stdout",
          "text": [
            "SODSN: Önceki RSI = 37.04974488278545, Güncel RSI = 30.428643001440363, Seviye Aralığı = (40, 50)\n"
          ]
        },
        {
          "output_type": "stream",
          "name": "stderr",
          "text": [
            "\r📊 Haftalık RSI 40 - 50 aralığında taranıyor:  85%|████████▌ | 511/601 [04:44<00:53,  1.69hisse/s]"
          ]
        },
        {
          "output_type": "stream",
          "name": "stdout",
          "text": [
            "SOKE: Önceki RSI = 46.02752252650309, Güncel RSI = 34.819412348548994, Seviye Aralığı = (40, 50)\n"
          ]
        },
        {
          "output_type": "stream",
          "name": "stderr",
          "text": [
            "\r📊 Haftalık RSI 40 - 50 aralığında taranıyor:  85%|████████▌ | 512/601 [04:45<00:54,  1.65hisse/s]"
          ]
        },
        {
          "output_type": "stream",
          "name": "stdout",
          "text": [
            "SOKM: Önceki RSI = 48.73413031571728, Güncel RSI = 34.355457472463826, Seviye Aralığı = (40, 50)\n"
          ]
        },
        {
          "output_type": "stream",
          "name": "stderr",
          "text": [
            "\r📊 Haftalık RSI 40 - 50 aralığında taranıyor:  85%|████████▌ | 513/601 [04:45<00:54,  1.62hisse/s]"
          ]
        },
        {
          "output_type": "stream",
          "name": "stdout",
          "text": [
            "SONME: Önceki RSI = 59.372040732249914, Güncel RSI = 46.28334660060842, Seviye Aralığı = (40, 50)\n",
            "SONME RSI (40, 50) aralığında! 🚀\n"
          ]
        },
        {
          "output_type": "stream",
          "name": "stderr",
          "text": [
            "\r📊 Haftalık RSI 40 - 50 aralığında taranıyor:  86%|████████▌ | 514/601 [04:46<00:54,  1.60hisse/s]"
          ]
        },
        {
          "output_type": "stream",
          "name": "stdout",
          "text": [
            "SRVGY: Önceki RSI = 36.792614597451525, Güncel RSI = 29.112733801422934, Seviye Aralığı = (40, 50)\n"
          ]
        },
        {
          "output_type": "stream",
          "name": "stderr",
          "text": [
            "\r📊 Haftalık RSI 40 - 50 aralığında taranıyor:  86%|████████▌ | 515/601 [04:47<00:54,  1.58hisse/s]"
          ]
        },
        {
          "output_type": "stream",
          "name": "stdout",
          "text": [
            "SUMAS: Önceki RSI = 49.373296797171946, Güncel RSI = 41.24710895506392, Seviye Aralığı = (40, 50)\n",
            "SUMAS RSI (40, 50) aralığında! 🚀\n"
          ]
        },
        {
          "output_type": "stream",
          "name": "stderr",
          "text": [
            "\r📊 Haftalık RSI 40 - 50 aralığında taranıyor:  86%|████████▌ | 516/601 [04:47<00:55,  1.53hisse/s]"
          ]
        },
        {
          "output_type": "stream",
          "name": "stdout",
          "text": [
            "SUNTK: Önceki RSI = 71.74135895949534, Güncel RSI = 45.424844603480956, Seviye Aralığı = (40, 50)\n",
            "SUNTK RSI (40, 50) aralığında! 🚀\n"
          ]
        },
        {
          "output_type": "stream",
          "name": "stderr",
          "text": [
            "\r📊 Haftalık RSI 40 - 50 aralığında taranıyor:  86%|████████▌ | 517/601 [04:48<00:52,  1.59hisse/s]"
          ]
        },
        {
          "output_type": "stream",
          "name": "stdout",
          "text": [
            "SURGY: Önceki RSI = 46.22999489562246, Güncel RSI = 38.06339263132869, Seviye Aralığı = (40, 50)\n"
          ]
        },
        {
          "output_type": "stream",
          "name": "stderr",
          "text": [
            "\r📊 Haftalık RSI 40 - 50 aralığında taranıyor:  86%|████████▌ | 518/601 [04:49<00:49,  1.67hisse/s]"
          ]
        },
        {
          "output_type": "stream",
          "name": "stdout",
          "text": [
            "SUWEN: Önceki RSI = 44.17206775561335, Güncel RSI = 35.68872172668851, Seviye Aralığı = (40, 50)\n"
          ]
        },
        {
          "output_type": "stream",
          "name": "stderr",
          "text": [
            "\r📊 Haftalık RSI 40 - 50 aralığında taranıyor:  86%|████████▋ | 519/601 [04:49<00:49,  1.65hisse/s]"
          ]
        },
        {
          "output_type": "stream",
          "name": "stdout",
          "text": [
            "TABGD: Önceki RSI = 64.00213460658523, Güncel RSI = 47.571081167051865, Seviye Aralığı = (40, 50)\n",
            "TABGD RSI (40, 50) aralığında! 🚀\n"
          ]
        },
        {
          "output_type": "stream",
          "name": "stderr",
          "text": [
            "\r📊 Haftalık RSI 40 - 50 aralığında taranıyor:  87%|████████▋ | 520/601 [04:50<00:48,  1.66hisse/s]"
          ]
        },
        {
          "output_type": "stream",
          "name": "stdout",
          "text": [
            "TARKM: Önceki RSI = 42.77996312669174, Güncel RSI = 32.85755371085757, Seviye Aralığı = (40, 50)\n"
          ]
        },
        {
          "output_type": "stream",
          "name": "stderr",
          "text": [
            "\r📊 Haftalık RSI 40 - 50 aralığında taranıyor:  87%|████████▋ | 521/601 [04:50<00:45,  1.77hisse/s]"
          ]
        },
        {
          "output_type": "stream",
          "name": "stdout",
          "text": [
            "TATEN: Önceki RSI = 51.902697660425495, Güncel RSI = 41.13063736417012, Seviye Aralığı = (40, 50)\n",
            "TATEN RSI (40, 50) aralığında! 🚀\n"
          ]
        },
        {
          "output_type": "stream",
          "name": "stderr",
          "text": [
            "\r📊 Haftalık RSI 40 - 50 aralığında taranıyor:  87%|████████▋ | 522/601 [04:51<00:45,  1.75hisse/s]"
          ]
        },
        {
          "output_type": "stream",
          "name": "stdout",
          "text": [
            "TATGD: Önceki RSI = 48.389172498519585, Güncel RSI = 41.57192322034034, Seviye Aralığı = (40, 50)\n",
            "TATGD RSI (40, 50) aralığında! 🚀\n"
          ]
        },
        {
          "output_type": "stream",
          "name": "stderr",
          "text": [
            "\r📊 Haftalık RSI 40 - 50 aralığında taranıyor:  87%|████████▋ | 523/601 [04:51<00:45,  1.72hisse/s]"
          ]
        },
        {
          "output_type": "stream",
          "name": "stdout",
          "text": [
            "TAVHL: Önceki RSI = 52.18347282020256, Güncel RSI = 42.26815751321442, Seviye Aralığı = (40, 50)\n",
            "TAVHL RSI (40, 50) aralığında! 🚀\n"
          ]
        },
        {
          "output_type": "stream",
          "name": "stderr",
          "text": [
            "\r📊 Haftalık RSI 40 - 50 aralığında taranıyor:  87%|████████▋ | 524/601 [04:52<00:44,  1.73hisse/s]"
          ]
        },
        {
          "output_type": "stream",
          "name": "stdout",
          "text": [
            "TBORG: Önceki RSI = 68.49445834827515, Güncel RSI = 63.11712830293596, Seviye Aralığı = (40, 50)\n"
          ]
        },
        {
          "output_type": "stream",
          "name": "stderr",
          "text": [
            "\r📊 Haftalık RSI 40 - 50 aralığında taranıyor:  87%|████████▋ | 525/601 [04:53<00:46,  1.63hisse/s]"
          ]
        },
        {
          "output_type": "stream",
          "name": "stdout",
          "text": [
            "TCELL: Önceki RSI = 62.90072553271967, Güncel RSI = 41.05665599415215, Seviye Aralığı = (40, 50)\n",
            "TCELL RSI (40, 50) aralığında! 🚀\n"
          ]
        },
        {
          "output_type": "stream",
          "name": "stderr",
          "text": [
            "\r📊 Haftalık RSI 40 - 50 aralığında taranıyor:  88%|████████▊ | 526/601 [04:53<00:43,  1.71hisse/s]"
          ]
        },
        {
          "output_type": "stream",
          "name": "stdout",
          "text": [
            "TCKRC: Önceki RSI = 72.24266860850652, Güncel RSI = 47.672223752666405, Seviye Aralığı = (40, 50)\n",
            "TCKRC RSI (40, 50) aralığında! 🚀\n"
          ]
        },
        {
          "output_type": "stream",
          "name": "stderr",
          "text": [
            "\r📊 Haftalık RSI 40 - 50 aralığında taranıyor:  88%|████████▊ | 527/601 [04:54<00:44,  1.67hisse/s]"
          ]
        },
        {
          "output_type": "stream",
          "name": "stdout",
          "text": [
            "TDGYO: Önceki RSI = 53.29847010669326, Güncel RSI = 55.05137036066196, Seviye Aralığı = (40, 50)\n"
          ]
        },
        {
          "output_type": "stream",
          "name": "stderr",
          "text": [
            "\r📊 Haftalık RSI 40 - 50 aralığında taranıyor:  88%|████████▊ | 528/601 [04:55<00:44,  1.64hisse/s]"
          ]
        },
        {
          "output_type": "stream",
          "name": "stdout",
          "text": [
            "TEKTU: Önceki RSI = 50.8560949352481, Güncel RSI = 38.79774152252535, Seviye Aralığı = (40, 50)\n"
          ]
        },
        {
          "output_type": "stream",
          "name": "stderr",
          "text": [
            "\r📊 Haftalık RSI 40 - 50 aralığında taranıyor:  88%|████████▊ | 529/601 [04:55<00:43,  1.64hisse/s]"
          ]
        },
        {
          "output_type": "stream",
          "name": "stdout",
          "text": [
            "TERA: Önceki RSI = 73.10705110908853, Güncel RSI = 70.38958090985585, Seviye Aralığı = (40, 50)\n"
          ]
        },
        {
          "output_type": "stream",
          "name": "stderr",
          "text": [
            "\r📊 Haftalık RSI 40 - 50 aralığında taranıyor:  88%|████████▊ | 530/601 [04:56<00:43,  1.63hisse/s]"
          ]
        },
        {
          "output_type": "stream",
          "name": "stdout",
          "text": [
            "TEZOL: Önceki RSI = 59.36632870479366, Güncel RSI = 47.558997107542254, Seviye Aralığı = (40, 50)\n",
            "TEZOL RSI (40, 50) aralığında! 🚀\n"
          ]
        },
        {
          "output_type": "stream",
          "name": "stderr",
          "text": [
            "\r📊 Haftalık RSI 40 - 50 aralığında taranıyor:  88%|████████▊ | 531/601 [04:56<00:42,  1.63hisse/s]"
          ]
        },
        {
          "output_type": "stream",
          "name": "stdout",
          "text": [
            "TGSAS: Önceki RSI = 54.76772406408186, Güncel RSI = 43.84908357329364, Seviye Aralığı = (40, 50)\n",
            "TGSAS RSI (40, 50) aralığında! 🚀\n"
          ]
        },
        {
          "output_type": "stream",
          "name": "stderr",
          "text": [
            "\r📊 Haftalık RSI 40 - 50 aralığında taranıyor:  89%|████████▊ | 532/601 [04:57<00:41,  1.68hisse/s]"
          ]
        },
        {
          "output_type": "stream",
          "name": "stdout",
          "text": [
            "THYAO: Önceki RSI = 66.6145782579088, Güncel RSI = 43.799002870134835, Seviye Aralığı = (40, 50)\n",
            "THYAO RSI (40, 50) aralığında! 🚀\n"
          ]
        },
        {
          "output_type": "stream",
          "name": "stderr",
          "text": [
            "\r📊 Haftalık RSI 40 - 50 aralığında taranıyor:  89%|████████▊ | 533/601 [04:57<00:39,  1.72hisse/s]"
          ]
        },
        {
          "output_type": "stream",
          "name": "stdout",
          "text": [
            "TKFEN: Önceki RSI = 75.63832848855786, Güncel RSI = 84.7203659755344, Seviye Aralığı = (40, 50)\n"
          ]
        },
        {
          "output_type": "stream",
          "name": "stderr",
          "text": [
            "\r📊 Haftalık RSI 40 - 50 aralığında taranıyor:  89%|████████▉ | 534/601 [04:58<00:40,  1.64hisse/s]"
          ]
        },
        {
          "output_type": "stream",
          "name": "stdout",
          "text": [
            "TKNSA: Önceki RSI = 62.48178367381433, Güncel RSI = 49.21841841547729, Seviye Aralığı = (40, 50)\n",
            "TKNSA RSI (40, 50) aralığında! 🚀\n"
          ]
        },
        {
          "output_type": "stream",
          "name": "stderr",
          "text": [
            "\r📊 Haftalık RSI 40 - 50 aralığında taranıyor:  89%|████████▉ | 535/601 [04:59<00:41,  1.59hisse/s]"
          ]
        },
        {
          "output_type": "stream",
          "name": "stdout",
          "text": [
            "TLMAN: Önceki RSI = 53.195032758543576, Güncel RSI = 37.47748680420582, Seviye Aralığı = (40, 50)\n"
          ]
        },
        {
          "output_type": "stream",
          "name": "stderr",
          "text": [
            "\r📊 Haftalık RSI 40 - 50 aralığında taranıyor:  89%|████████▉ | 536/601 [04:59<00:36,  1.77hisse/s]"
          ]
        },
        {
          "output_type": "stream",
          "name": "stdout",
          "text": [
            "TMPOL: Önceki RSI = 58.303147889218934, Güncel RSI = 41.2144266717719, Seviye Aralığı = (40, 50)\n",
            "TMPOL RSI (40, 50) aralığında! 🚀\n"
          ]
        },
        {
          "output_type": "stream",
          "name": "stderr",
          "text": [
            "\r📊 Haftalık RSI 40 - 50 aralığında taranıyor:  89%|████████▉ | 537/601 [05:00<00:32,  1.95hisse/s]"
          ]
        },
        {
          "output_type": "stream",
          "name": "stdout",
          "text": [
            "TMSN: Önceki RSI = 44.69477418958149, Güncel RSI = 34.60633541960132, Seviye Aralığı = (40, 50)\n"
          ]
        },
        {
          "output_type": "stream",
          "name": "stderr",
          "text": [
            "\r📊 Haftalık RSI 40 - 50 aralığında taranıyor:  90%|████████▉ | 538/601 [05:00<00:31,  2.00hisse/s]"
          ]
        },
        {
          "output_type": "stream",
          "name": "stdout",
          "text": [
            "TNZTP: Önceki RSI = 56.463750973727336, Güncel RSI = 42.950349343947764, Seviye Aralığı = (40, 50)\n",
            "TNZTP RSI (40, 50) aralığında! 🚀\n"
          ]
        },
        {
          "output_type": "stream",
          "name": "stderr",
          "text": [
            "\r📊 Haftalık RSI 40 - 50 aralığında taranıyor:  90%|████████▉ | 539/601 [05:01<00:30,  2.01hisse/s]"
          ]
        },
        {
          "output_type": "stream",
          "name": "stdout",
          "text": [
            "TOASO: Önceki RSI = 51.276938570721235, Güncel RSI = 37.039630910488995, Seviye Aralığı = (40, 50)\n"
          ]
        },
        {
          "output_type": "stream",
          "name": "stderr",
          "text": [
            "\r📊 Haftalık RSI 40 - 50 aralığında taranıyor:  90%|████████▉ | 540/601 [05:01<00:33,  1.84hisse/s]"
          ]
        },
        {
          "output_type": "stream",
          "name": "stdout",
          "text": [
            "TRCAS: Önceki RSI = 68.79606478586271, Güncel RSI = 63.31552221422539, Seviye Aralığı = (40, 50)\n"
          ]
        },
        {
          "output_type": "stream",
          "name": "stderr",
          "text": [
            "\r📊 Haftalık RSI 40 - 50 aralığında taranıyor:  90%|█████████ | 541/601 [05:02<00:30,  1.97hisse/s]"
          ]
        },
        {
          "output_type": "stream",
          "name": "stdout",
          "text": [
            "TRGYO: Önceki RSI = 60.37955674969107, Güncel RSI = 48.950109422267325, Seviye Aralığı = (40, 50)\n",
            "TRGYO RSI (40, 50) aralığında! 🚀\n"
          ]
        },
        {
          "output_type": "stream",
          "name": "stderr",
          "text": [
            "\r📊 Haftalık RSI 40 - 50 aralığında taranıyor:  90%|█████████ | 542/601 [05:02<00:30,  1.96hisse/s]"
          ]
        },
        {
          "output_type": "stream",
          "name": "stdout",
          "text": [
            "TRILC: Önceki RSI = 68.45491521955348, Güncel RSI = 51.745242004850034, Seviye Aralığı = (40, 50)\n"
          ]
        },
        {
          "output_type": "stream",
          "name": "stderr",
          "text": [
            "\r📊 Haftalık RSI 40 - 50 aralığında taranıyor:  90%|█████████ | 543/601 [05:03<00:27,  2.12hisse/s]"
          ]
        },
        {
          "output_type": "stream",
          "name": "stdout",
          "text": [
            "TSGYO: Önceki RSI = 34.2417856445866, Güncel RSI = 48.40945293441741, Seviye Aralığı = (40, 50)\n",
            "TSGYO RSI (40, 50) aralığında! 🚀\n"
          ]
        },
        {
          "output_type": "stream",
          "name": "stderr",
          "text": [
            "\r📊 Haftalık RSI 40 - 50 aralığında taranıyor:  91%|█████████ | 544/601 [05:03<00:28,  2.02hisse/s]"
          ]
        },
        {
          "output_type": "stream",
          "name": "stdout",
          "text": [
            "TSKB: Önceki RSI = 61.39530733066249, Güncel RSI = 36.455570540386866, Seviye Aralığı = (40, 50)\n"
          ]
        },
        {
          "output_type": "stream",
          "name": "stderr",
          "text": [
            "\r📊 Haftalık RSI 40 - 50 aralığında taranıyor:  91%|█████████ | 545/601 [05:04<00:27,  2.00hisse/s]"
          ]
        },
        {
          "output_type": "stream",
          "name": "stdout",
          "text": [
            "TSPOR: Önceki RSI = 44.978133971561725, Güncel RSI = 40.18034047371771, Seviye Aralığı = (40, 50)\n",
            "TSPOR RSI (40, 50) aralığında! 🚀\n"
          ]
        },
        {
          "output_type": "stream",
          "name": "stderr",
          "text": [
            "\r📊 Haftalık RSI 40 - 50 aralığında taranıyor:  91%|█████████ | 546/601 [05:04<00:26,  2.07hisse/s]"
          ]
        },
        {
          "output_type": "stream",
          "name": "stdout",
          "text": [
            "TTKOM: Önceki RSI = 69.20056536674342, Güncel RSI = 46.022601747095386, Seviye Aralığı = (40, 50)\n",
            "TTKOM RSI (40, 50) aralığında! 🚀\n"
          ]
        },
        {
          "output_type": "stream",
          "name": "stderr",
          "text": [
            "\r📊 Haftalık RSI 40 - 50 aralığında taranıyor:  91%|█████████ | 547/601 [05:05<00:26,  2.04hisse/s]"
          ]
        },
        {
          "output_type": "stream",
          "name": "stdout",
          "text": [
            "TTRAK: Önceki RSI = 64.04749800806613, Güncel RSI = 63.67753617928485, Seviye Aralığı = (40, 50)\n"
          ]
        },
        {
          "output_type": "stream",
          "name": "stderr",
          "text": [
            "\r📊 Haftalık RSI 40 - 50 aralığında taranıyor:  91%|█████████ | 548/601 [05:05<00:27,  1.91hisse/s]"
          ]
        },
        {
          "output_type": "stream",
          "name": "stdout",
          "text": [
            "TUCLK: Önceki RSI = 38.65611105574968, Güncel RSI = 27.728150598552403, Seviye Aralığı = (40, 50)\n"
          ]
        },
        {
          "output_type": "stream",
          "name": "stderr",
          "text": [
            "\r📊 Haftalık RSI 40 - 50 aralığında taranıyor:  91%|█████████▏| 549/601 [05:06<00:25,  2.02hisse/s]"
          ]
        },
        {
          "output_type": "stream",
          "name": "stdout",
          "text": [
            "TUKAS: Önceki RSI = 52.37394264728027, Güncel RSI = 40.66502770478025, Seviye Aralığı = (40, 50)\n",
            "TUKAS RSI (40, 50) aralığında! 🚀\n"
          ]
        },
        {
          "output_type": "stream",
          "name": "stderr",
          "text": [
            "\r📊 Haftalık RSI 40 - 50 aralığında taranıyor:  92%|█████████▏| 550/601 [05:06<00:25,  2.02hisse/s]"
          ]
        },
        {
          "output_type": "stream",
          "name": "stdout",
          "text": [
            "TUPRS: Önceki RSI = 48.75369820203639, Güncel RSI = 42.53584193408574, Seviye Aralığı = (40, 50)\n",
            "TUPRS RSI (40, 50) aralığında! 🚀\n"
          ]
        },
        {
          "output_type": "stream",
          "name": "stderr",
          "text": [
            "\r📊 Haftalık RSI 40 - 50 aralığında taranıyor:  92%|█████████▏| 551/601 [05:07<00:24,  2.02hisse/s]"
          ]
        },
        {
          "output_type": "stream",
          "name": "stdout",
          "text": [
            "TUREX: Önceki RSI = 71.32944157506489, Güncel RSI = 75.64256589174104, Seviye Aralığı = (40, 50)\n"
          ]
        },
        {
          "output_type": "stream",
          "name": "stderr",
          "text": [
            "\r📊 Haftalık RSI 40 - 50 aralığında taranıyor:  92%|█████████▏| 552/601 [05:07<00:25,  1.93hisse/s]"
          ]
        },
        {
          "output_type": "stream",
          "name": "stdout",
          "text": [
            "TURGG: Önceki RSI = 49.52294663599845, Güncel RSI = 38.27688140559349, Seviye Aralığı = (40, 50)\n"
          ]
        },
        {
          "output_type": "stream",
          "name": "stderr",
          "text": [
            "\r📊 Haftalık RSI 40 - 50 aralığında taranıyor:  92%|█████████▏| 553/601 [05:08<00:26,  1.81hisse/s]"
          ]
        },
        {
          "output_type": "stream",
          "name": "stdout",
          "text": [
            "TURSG: Önceki RSI = 65.1709434001489, Güncel RSI = 50.22699865642059, Seviye Aralığı = (40, 50)\n"
          ]
        },
        {
          "output_type": "stream",
          "name": "stderr",
          "text": [
            "\r📊 Haftalık RSI 40 - 50 aralığında taranıyor:  92%|█████████▏| 554/601 [05:08<00:24,  1.94hisse/s]"
          ]
        },
        {
          "output_type": "stream",
          "name": "stdout",
          "text": [
            "UFUK: Önceki RSI = 57.426504377144, Güncel RSI = 51.38678739075748, Seviye Aralığı = (40, 50)\n"
          ]
        },
        {
          "output_type": "stream",
          "name": "stderr",
          "text": [
            "\r📊 Haftalık RSI 40 - 50 aralığında taranıyor:  92%|█████████▏| 555/601 [05:09<00:22,  2.05hisse/s]"
          ]
        },
        {
          "output_type": "stream",
          "name": "stdout",
          "text": [
            "ULAS: Önceki RSI = 46.96913876709255, Güncel RSI = 33.92305521123777, Seviye Aralığı = (40, 50)\n"
          ]
        },
        {
          "output_type": "stream",
          "name": "stderr",
          "text": [
            "\r📊 Haftalık RSI 40 - 50 aralığında taranıyor:  93%|█████████▎| 556/601 [05:09<00:21,  2.08hisse/s]"
          ]
        },
        {
          "output_type": "stream",
          "name": "stdout",
          "text": [
            "ULKER: Önceki RSI = 60.67724688688351, Güncel RSI = 45.36402318054316, Seviye Aralığı = (40, 50)\n",
            "ULKER RSI (40, 50) aralığında! 🚀\n"
          ]
        },
        {
          "output_type": "stream",
          "name": "stderr",
          "text": [
            "\r📊 Haftalık RSI 40 - 50 aralığında taranıyor:  93%|█████████▎| 557/601 [05:10<00:20,  2.10hisse/s]"
          ]
        },
        {
          "output_type": "stream",
          "name": "stdout",
          "text": [
            "ULUFA: Önceki RSI = 50.34011903067034, Güncel RSI = 38.05829266035183, Seviye Aralığı = (40, 50)\n"
          ]
        },
        {
          "output_type": "stream",
          "name": "stderr",
          "text": [
            "\r📊 Haftalık RSI 40 - 50 aralığında taranıyor:  93%|█████████▎| 558/601 [05:10<00:21,  1.96hisse/s]"
          ]
        },
        {
          "output_type": "stream",
          "name": "stdout",
          "text": [
            "ULUSE: Önceki RSI = 43.31577767837321, Güncel RSI = 32.665431198015426, Seviye Aralığı = (40, 50)\n"
          ]
        },
        {
          "output_type": "stream",
          "name": "stderr",
          "text": [
            "\r📊 Haftalık RSI 40 - 50 aralığında taranıyor:  93%|█████████▎| 559/601 [05:11<00:19,  2.18hisse/s]"
          ]
        },
        {
          "output_type": "stream",
          "name": "stdout",
          "text": [
            "ULUUN: Önceki RSI = 49.42020662265058, Güncel RSI = 38.51347492574081, Seviye Aralığı = (40, 50)\n"
          ]
        },
        {
          "output_type": "stream",
          "name": "stderr",
          "text": [
            "\r📊 Haftalık RSI 40 - 50 aralığında taranıyor:  93%|█████████▎| 560/601 [05:11<00:20,  1.99hisse/s]"
          ]
        },
        {
          "output_type": "stream",
          "name": "stdout",
          "text": [
            "UNLU: Önceki RSI = 55.03867183447739, Güncel RSI = 39.78994531380811, Seviye Aralığı = (40, 50)\n"
          ]
        },
        {
          "output_type": "stream",
          "name": "stderr",
          "text": [
            "\r📊 Haftalık RSI 40 - 50 aralığında taranıyor:  93%|█████████▎| 561/601 [05:12<00:20,  1.99hisse/s]"
          ]
        },
        {
          "output_type": "stream",
          "name": "stdout",
          "text": [
            "USAK: Önceki RSI = 49.76984472937328, Güncel RSI = 61.982416769709765, Seviye Aralığı = (40, 50)\n"
          ]
        },
        {
          "output_type": "stream",
          "name": "stderr",
          "text": [
            "\r📊 Haftalık RSI 40 - 50 aralığında taranıyor:  94%|█████████▎| 562/601 [05:12<00:19,  1.96hisse/s]"
          ]
        },
        {
          "output_type": "stream",
          "name": "stdout",
          "text": [
            "USDTR: Önceki RSI = 82.72823765722775, Güncel RSI = 92.0011233163973, Seviye Aralığı = (40, 50)\n"
          ]
        },
        {
          "output_type": "stream",
          "name": "stderr",
          "text": [
            "\r📊 Haftalık RSI 40 - 50 aralığında taranıyor:  94%|█████████▎| 563/601 [05:13<00:18,  2.02hisse/s]"
          ]
        },
        {
          "output_type": "stream",
          "name": "stdout",
          "text": [
            "VAKBN: Önceki RSI = 66.40366035803342, Güncel RSI = 44.95148255103688, Seviye Aralığı = (40, 50)\n",
            "VAKBN RSI (40, 50) aralığında! 🚀\n"
          ]
        },
        {
          "output_type": "stream",
          "name": "stderr",
          "text": [
            "\r📊 Haftalık RSI 40 - 50 aralığında taranıyor:  94%|█████████▍| 564/601 [05:13<00:18,  2.05hisse/s]"
          ]
        },
        {
          "output_type": "stream",
          "name": "stdout",
          "text": [
            "VAKFN: Önceki RSI = 73.63237082839328, Güncel RSI = 53.281163770736846, Seviye Aralığı = (40, 50)\n"
          ]
        },
        {
          "output_type": "stream",
          "name": "stderr",
          "text": [
            "\r📊 Haftalık RSI 40 - 50 aralığında taranıyor:  94%|█████████▍| 565/601 [05:14<00:17,  2.01hisse/s]"
          ]
        },
        {
          "output_type": "stream",
          "name": "stdout",
          "text": [
            "VAKKO: Önceki RSI = 41.7642669540243, Güncel RSI = 32.35550383859798, Seviye Aralığı = (40, 50)\n"
          ]
        },
        {
          "output_type": "stream",
          "name": "stderr",
          "text": [
            "\r📊 Haftalık RSI 40 - 50 aralığında taranıyor:  94%|█████████▍| 566/601 [05:14<00:18,  1.91hisse/s]"
          ]
        },
        {
          "output_type": "stream",
          "name": "stdout",
          "text": [
            "VANGD: Önceki RSI = 52.112287463682684, Güncel RSI = 40.70197698902201, Seviye Aralığı = (40, 50)\n",
            "VANGD RSI (40, 50) aralığında! 🚀\n"
          ]
        },
        {
          "output_type": "stream",
          "name": "stderr",
          "text": [
            "\r📊 Haftalık RSI 40 - 50 aralığında taranıyor:  94%|█████████▍| 567/601 [05:15<00:17,  2.00hisse/s]"
          ]
        },
        {
          "output_type": "stream",
          "name": "stdout",
          "text": [
            "VBTYZ: Önceki RSI = 38.36981681464048, Güncel RSI = 28.911387714927343, Seviye Aralığı = (40, 50)\n"
          ]
        },
        {
          "output_type": "stream",
          "name": "stderr",
          "text": [
            "\r📊 Haftalık RSI 40 - 50 aralığında taranıyor:  95%|█████████▍| 568/601 [05:15<00:16,  1.96hisse/s]"
          ]
        },
        {
          "output_type": "stream",
          "name": "stdout",
          "text": [
            "VERTU: Önceki RSI = 31.279966228887403, Güncel RSI = 21.291045609616447, Seviye Aralığı = (40, 50)\n"
          ]
        },
        {
          "output_type": "stream",
          "name": "stderr",
          "text": [
            "\r📊 Haftalık RSI 40 - 50 aralığında taranıyor:  95%|█████████▍| 569/601 [05:16<00:15,  2.01hisse/s]"
          ]
        },
        {
          "output_type": "stream",
          "name": "stdout",
          "text": [
            "VERUS: Önceki RSI = 37.886793547544194, Güncel RSI = 34.418805505958474, Seviye Aralığı = (40, 50)\n"
          ]
        },
        {
          "output_type": "stream",
          "name": "stderr",
          "text": [
            "\r📊 Haftalık RSI 40 - 50 aralığında taranıyor:  95%|█████████▍| 570/601 [05:16<00:15,  1.99hisse/s]"
          ]
        },
        {
          "output_type": "stream",
          "name": "stdout",
          "text": [
            "VESBE: Önceki RSI = 39.789799331181065, Güncel RSI = 29.30371707480944, Seviye Aralığı = (40, 50)\n"
          ]
        },
        {
          "output_type": "stream",
          "name": "stderr",
          "text": [
            "\r📊 Haftalık RSI 40 - 50 aralığında taranıyor:  95%|█████████▌| 571/601 [05:17<00:14,  2.02hisse/s]"
          ]
        },
        {
          "output_type": "stream",
          "name": "stdout",
          "text": [
            "VESTL: Önceki RSI = 43.1358876460974, Güncel RSI = 30.60697631496633, Seviye Aralığı = (40, 50)\n"
          ]
        },
        {
          "output_type": "stream",
          "name": "stderr",
          "text": [
            "\r📊 Haftalık RSI 40 - 50 aralığında taranıyor:  95%|█████████▌| 572/601 [05:17<00:14,  2.03hisse/s]"
          ]
        },
        {
          "output_type": "stream",
          "name": "stdout",
          "text": [
            "VKFYO: Önceki RSI = 46.97581603641384, Güncel RSI = 38.90749058455593, Seviye Aralığı = (40, 50)\n"
          ]
        },
        {
          "output_type": "stream",
          "name": "stderr",
          "text": [
            "\r📊 Haftalık RSI 40 - 50 aralığında taranıyor:  95%|█████████▌| 573/601 [05:18<00:13,  2.08hisse/s]"
          ]
        },
        {
          "output_type": "stream",
          "name": "stdout",
          "text": [
            "VKGYO: Önceki RSI = 62.754083434938, Güncel RSI = 45.34030469891547, Seviye Aralığı = (40, 50)\n",
            "VKGYO RSI (40, 50) aralığında! 🚀\n"
          ]
        },
        {
          "output_type": "stream",
          "name": "stderr",
          "text": [
            "\r📊 Haftalık RSI 40 - 50 aralığında taranıyor:  96%|█████████▌| 574/601 [05:18<00:14,  1.92hisse/s]"
          ]
        },
        {
          "output_type": "stream",
          "name": "stdout",
          "text": [
            "VKING: Önceki RSI = 40.29192120261343, Güncel RSI = 33.623148075672404, Seviye Aralığı = (40, 50)\n"
          ]
        },
        {
          "output_type": "stream",
          "name": "stderr",
          "text": [
            "\r📊 Haftalık RSI 40 - 50 aralığında taranıyor:  96%|█████████▌| 575/601 [05:19<00:12,  2.07hisse/s]"
          ]
        },
        {
          "output_type": "stream",
          "name": "stdout",
          "text": [
            "VRGYO: Önceki RSI = 40.49883018622685, Güncel RSI = 33.59622564917741, Seviye Aralığı = (40, 50)\n"
          ]
        },
        {
          "output_type": "stream",
          "name": "stderr",
          "text": [
            "\r📊 Haftalık RSI 40 - 50 aralığında taranıyor:  96%|█████████▌| 576/601 [05:19<00:12,  2.03hisse/s]"
          ]
        },
        {
          "output_type": "stream",
          "name": "stdout",
          "text": [
            "⚠ VSNMD: Yeterli veri yok, taramaya dahil edilmedi.\n"
          ]
        },
        {
          "output_type": "stream",
          "name": "stderr",
          "text": [
            "\r📊 Haftalık RSI 40 - 50 aralığında taranıyor:  96%|█████████▌| 577/601 [05:20<00:12,  1.97hisse/s]"
          ]
        },
        {
          "output_type": "stream",
          "name": "stdout",
          "text": [
            "YAPRK: Önceki RSI = 64.20284637590956, Güncel RSI = 51.32400864163189, Seviye Aralığı = (40, 50)\n"
          ]
        },
        {
          "output_type": "stream",
          "name": "stderr",
          "text": [
            "\r📊 Haftalık RSI 40 - 50 aralığında taranıyor:  96%|█████████▌| 578/601 [05:20<00:12,  1.90hisse/s]"
          ]
        },
        {
          "output_type": "stream",
          "name": "stdout",
          "text": [
            "YATAS: Önceki RSI = 55.909019898558455, Güncel RSI = 39.45852464904346, Seviye Aralığı = (40, 50)\n"
          ]
        },
        {
          "output_type": "stream",
          "name": "stderr",
          "text": [
            "\r📊 Haftalık RSI 40 - 50 aralığında taranıyor:  96%|█████████▋| 579/601 [05:21<00:11,  1.96hisse/s]"
          ]
        },
        {
          "output_type": "stream",
          "name": "stdout",
          "text": [
            "YAYLA: Önceki RSI = 59.8344213151833, Güncel RSI = 52.76218760492859, Seviye Aralığı = (40, 50)\n"
          ]
        },
        {
          "output_type": "stream",
          "name": "stderr",
          "text": [
            "\r📊 Haftalık RSI 40 - 50 aralığında taranıyor:  97%|█████████▋| 580/601 [05:21<00:10,  1.92hisse/s]"
          ]
        },
        {
          "output_type": "stream",
          "name": "stdout",
          "text": [
            "YBTAS: Önceki RSI = 47.12589339471101, Güncel RSI = 64.55700127640456, Seviye Aralığı = (40, 50)\n"
          ]
        },
        {
          "output_type": "stream",
          "name": "stderr",
          "text": [
            "\r📊 Haftalık RSI 40 - 50 aralığında taranıyor:  97%|█████████▋| 581/601 [05:22<00:10,  1.95hisse/s]"
          ]
        },
        {
          "output_type": "stream",
          "name": "stdout",
          "text": [
            "YEOTK: Önceki RSI = 58.51165745179855, Güncel RSI = 48.38585847741119, Seviye Aralığı = (40, 50)\n",
            "YEOTK RSI (40, 50) aralığında! 🚀\n"
          ]
        },
        {
          "output_type": "stream",
          "name": "stderr",
          "text": [
            "\r📊 Haftalık RSI 40 - 50 aralığında taranıyor:  97%|█████████▋| 582/601 [05:22<00:09,  2.07hisse/s]"
          ]
        },
        {
          "output_type": "stream",
          "name": "stdout",
          "text": [
            "YESIL: Önceki RSI = 43.72694894667547, Güncel RSI = 38.65517412678987, Seviye Aralığı = (40, 50)\n"
          ]
        },
        {
          "output_type": "stream",
          "name": "stderr",
          "text": [
            "\r📊 Haftalık RSI 40 - 50 aralığında taranıyor:  97%|█████████▋| 583/601 [05:23<00:09,  1.95hisse/s]"
          ]
        },
        {
          "output_type": "stream",
          "name": "stdout",
          "text": [
            "YGGYO: Önceki RSI = 70.85363183340922, Güncel RSI = 70.29359389763414, Seviye Aralığı = (40, 50)\n"
          ]
        },
        {
          "output_type": "stream",
          "name": "stderr",
          "text": [
            "\r📊 Haftalık RSI 40 - 50 aralığında taranıyor:  97%|█████████▋| 584/601 [05:23<00:08,  1.93hisse/s]"
          ]
        },
        {
          "output_type": "stream",
          "name": "stdout",
          "text": [
            "YGYO: Önceki RSI = 41.55587650572473, Güncel RSI = 35.85217402308764, Seviye Aralığı = (40, 50)\n"
          ]
        },
        {
          "output_type": "stream",
          "name": "stderr",
          "text": [
            "\r📊 Haftalık RSI 40 - 50 aralığında taranıyor:  97%|█████████▋| 585/601 [05:24<00:07,  2.10hisse/s]"
          ]
        },
        {
          "output_type": "stream",
          "name": "stdout",
          "text": [
            "YIGIT: Önceki RSI = 44.077162659754016, Güncel RSI = 35.4707901877679, Seviye Aralığı = (40, 50)\n"
          ]
        },
        {
          "output_type": "stream",
          "name": "stderr",
          "text": [
            "\r📊 Haftalık RSI 40 - 50 aralığında taranıyor:  98%|█████████▊| 586/601 [05:24<00:07,  1.96hisse/s]"
          ]
        },
        {
          "output_type": "stream",
          "name": "stdout",
          "text": [
            "YKBNK: Önceki RSI = 61.09327247567003, Güncel RSI = 39.721269787653, Seviye Aralığı = (40, 50)\n"
          ]
        },
        {
          "output_type": "stream",
          "name": "stderr",
          "text": [
            "\r📊 Haftalık RSI 40 - 50 aralığında taranıyor:  98%|█████████▊| 587/601 [05:25<00:07,  1.96hisse/s]"
          ]
        },
        {
          "output_type": "stream",
          "name": "stdout",
          "text": [
            "YKSLN: Önceki RSI = 37.69695978517413, Güncel RSI = 39.413532651522615, Seviye Aralığı = (40, 50)\n"
          ]
        },
        {
          "output_type": "stream",
          "name": "stderr",
          "text": [
            "\r📊 Haftalık RSI 40 - 50 aralığında taranıyor:  98%|█████████▊| 588/601 [05:25<00:06,  2.04hisse/s]"
          ]
        },
        {
          "output_type": "stream",
          "name": "stdout",
          "text": [
            "YONGA: Önceki RSI = 45.731396634381845, Güncel RSI = 38.37238433234766, Seviye Aralığı = (40, 50)\n"
          ]
        },
        {
          "output_type": "stream",
          "name": "stderr",
          "text": [
            "\r📊 Haftalık RSI 40 - 50 aralığında taranıyor:  98%|█████████▊| 589/601 [05:26<00:06,  1.93hisse/s]"
          ]
        },
        {
          "output_type": "stream",
          "name": "stdout",
          "text": [
            "YUNSA: Önceki RSI = 36.659568558776776, Güncel RSI = 39.29564619331434, Seviye Aralığı = (40, 50)\n"
          ]
        },
        {
          "output_type": "stream",
          "name": "stderr",
          "text": [
            "\r📊 Haftalık RSI 40 - 50 aralığında taranıyor:  98%|█████████▊| 590/601 [05:26<00:05,  2.08hisse/s]"
          ]
        },
        {
          "output_type": "stream",
          "name": "stdout",
          "text": [
            "YYAPI: Önceki RSI = 42.910768320808636, Güncel RSI = 37.99801441320279, Seviye Aralığı = (40, 50)\n"
          ]
        },
        {
          "output_type": "stream",
          "name": "stderr",
          "text": [
            "\r📊 Haftalık RSI 40 - 50 aralığında taranıyor:  98%|█████████▊| 591/601 [05:27<00:04,  2.02hisse/s]"
          ]
        },
        {
          "output_type": "stream",
          "name": "stdout",
          "text": [
            "YYLGD: Önceki RSI = 45.89856744601108, Güncel RSI = 35.76923835659312, Seviye Aralığı = (40, 50)\n"
          ]
        },
        {
          "output_type": "stream",
          "name": "stderr",
          "text": [
            "\r📊 Haftalık RSI 40 - 50 aralığında taranıyor:  99%|█████████▊| 592/601 [05:27<00:04,  2.00hisse/s]"
          ]
        },
        {
          "output_type": "stream",
          "name": "stdout",
          "text": [
            "Z30KE: Önceki RSI = 63.93145741935809, Güncel RSI = 44.00286090851888, Seviye Aralığı = (40, 50)\n",
            "Z30KE RSI (40, 50) aralığında! 🚀\n"
          ]
        },
        {
          "output_type": "stream",
          "name": "stderr",
          "text": [
            "\r📊 Haftalık RSI 40 - 50 aralığında taranıyor:  99%|█████████▊| 593/601 [05:28<00:04,  1.99hisse/s]"
          ]
        },
        {
          "output_type": "stream",
          "name": "stdout",
          "text": [
            "Z30KP: Önceki RSI = 68.14314170186559, Güncel RSI = 51.978293899707936, Seviye Aralığı = (40, 50)\n"
          ]
        },
        {
          "output_type": "stream",
          "name": "stderr",
          "text": [
            "\r📊 Haftalık RSI 40 - 50 aralığında taranıyor:  99%|█████████▉| 594/601 [05:28<00:03,  2.05hisse/s]"
          ]
        },
        {
          "output_type": "stream",
          "name": "stdout",
          "text": [
            "ZEDUR: Önceki RSI = 41.50307505885758, Güncel RSI = 30.983086182585993, Seviye Aralığı = (40, 50)\n"
          ]
        },
        {
          "output_type": "stream",
          "name": "stderr",
          "text": [
            "\r📊 Haftalık RSI 40 - 50 aralığında taranıyor:  99%|█████████▉| 595/601 [05:29<00:02,  2.01hisse/s]"
          ]
        },
        {
          "output_type": "stream",
          "name": "stdout",
          "text": [
            "ZGOLD: Önceki RSI = 72.20668200452495, Güncel RSI = 78.74760344456612, Seviye Aralığı = (40, 50)\n"
          ]
        },
        {
          "output_type": "stream",
          "name": "stderr",
          "text": [
            "\r📊 Haftalık RSI 40 - 50 aralığında taranıyor:  99%|█████████▉| 596/601 [05:29<00:02,  2.00hisse/s]"
          ]
        },
        {
          "output_type": "stream",
          "name": "stdout",
          "text": [
            "ZOREN: Önceki RSI = 40.39313890082664, Güncel RSI = 26.397008134642036, Seviye Aralığı = (40, 50)\n"
          ]
        },
        {
          "output_type": "stream",
          "name": "stderr",
          "text": [
            "\r📊 Haftalık RSI 40 - 50 aralığında taranıyor:  99%|█████████▉| 597/601 [05:30<00:01,  2.18hisse/s]"
          ]
        },
        {
          "output_type": "stream",
          "name": "stdout",
          "text": [
            "ZPBDL: Önceki RSI = 62.67957417602865, Güncel RSI = 42.53961553876959, Seviye Aralığı = (40, 50)\n",
            "ZPBDL RSI (40, 50) aralığında! 🚀\n"
          ]
        },
        {
          "output_type": "stream",
          "name": "stderr",
          "text": [
            "\r📊 Haftalık RSI 40 - 50 aralığında taranıyor: 100%|█████████▉| 598/601 [05:30<00:01,  2.12hisse/s]"
          ]
        },
        {
          "output_type": "stream",
          "name": "stdout",
          "text": [
            "ZPLIB: Önceki RSI = 67.39835016959276, Güncel RSI = 40.07757700823504, Seviye Aralığı = (40, 50)\n",
            "ZPLIB RSI (40, 50) aralığında! 🚀\n"
          ]
        },
        {
          "output_type": "stream",
          "name": "stderr",
          "text": [
            "\r📊 Haftalık RSI 40 - 50 aralığında taranıyor: 100%|█████████▉| 599/601 [05:31<00:00,  2.03hisse/s]"
          ]
        },
        {
          "output_type": "stream",
          "name": "stdout",
          "text": [
            "ZRE20: Önceki RSI = 67.12684898877362, Güncel RSI = 43.211104270865064, Seviye Aralığı = (40, 50)\n",
            "ZRE20 RSI (40, 50) aralığında! 🚀\n"
          ]
        },
        {
          "output_type": "stream",
          "name": "stderr",
          "text": [
            "\r📊 Haftalık RSI 40 - 50 aralığında taranıyor: 100%|█████████▉| 600/601 [05:31<00:00,  2.07hisse/s]"
          ]
        },
        {
          "output_type": "stream",
          "name": "stdout",
          "text": [
            "ZRGYO: Önceki RSI = 88.68383896317847, Güncel RSI = 75.93291542529214, Seviye Aralığı = (40, 50)\n"
          ]
        },
        {
          "output_type": "stream",
          "name": "stderr",
          "text": [
            "📊 Haftalık RSI 40 - 50 aralığında taranıyor: 100%|██████████| 601/601 [05:32<00:00,  1.81hisse/s]"
          ]
        },
        {
          "output_type": "stream",
          "name": "stdout",
          "text": [
            "ZSR25: Önceki RSI = 63.84472925906463, Güncel RSI = 38.541602660356034, Seviye Aralığı = (40, 50)\n",
            "\n",
            "📊 **RSI Sonuçları (SMA Bilgisi ile)**\n",
            "+-----+---------+------------+-----------------------------------------+-------------+\n",
            "|     | Hisse   |   RSI (14) | RSI - SMA Durumu                        |   Son Fiyat |\n",
            "+=====+=========+============+=========================================+=============+\n",
            "|   0 | A1CAP   |      41.79 | RSI SMA'yı Aşağı Kesti ❌               |        4.48 |\n",
            "+-----+---------+------------+-----------------------------------------+-------------+\n",
            "|   1 | ADGYO   |      41.33 | RSI SMA'yı Aşağı Kesti ❌               |       27.98 |\n",
            "+-----+---------+------------+-----------------------------------------+-------------+\n",
            "|   2 | AFYON   |      43.66 | RSI SMA'yı Aşağı Kesti ❌               |       13.68 |\n",
            "+-----+---------+------------+-----------------------------------------+-------------+\n",
            "|   3 | AGHOL   |      40.09 | RSI SMA'yı Aşağı Kesti ❌               |      276.75 |\n",
            "+-----+---------+------------+-----------------------------------------+-------------+\n",
            "|   4 | AKBNK   |      40.72 | RSI SMA'yı Aşağı Kesti ❌               |       53.75 |\n",
            "+-----+---------+------------+-----------------------------------------+-------------+\n",
            "|   5 | AKGRT   |      43.32 | RSI SMA'nın Altında                     |        6.16 |\n",
            "+-----+---------+------------+-----------------------------------------+-------------+\n",
            "|   6 | AKMGY   |      44.17 | RSI SMA'yı Aşağı Kesti ❌               |      205.5  |\n",
            "+-----+---------+------------+-----------------------------------------+-------------+\n",
            "|   7 | AKSA    |      46.8  | RSI SMA'nın Altında                     |       10.58 |\n",
            "+-----+---------+------------+-----------------------------------------+-------------+\n",
            "|   8 | AKSGY   |      43.93 | RSI SMA'yı Aşağı Kesti ❌               |        6.41 |\n",
            "+-----+---------+------------+-----------------------------------------+-------------+\n",
            "|   9 | AKYHO   |      46.61 | RSI SMA'nın Üstünde                     |        2.97 |\n",
            "+-----+---------+------------+-----------------------------------------+-------------+\n",
            "|  10 | ALBRK   |      43.7  | RSI SMA'yı Aşağı Kesti ❌               |        5.86 |\n",
            "+-----+---------+------------+-----------------------------------------+-------------+\n",
            "|  11 | ALKA    |      40.64 | RSI SMA'nın Altında                     |        6.56 |\n",
            "+-----+---------+------------+-----------------------------------------+-------------+\n",
            "|  12 | ALMAD   |      42.59 | RSI SMA'yı Aşağı Kesti ❌               |        6.8  |\n",
            "+-----+---------+------------+-----------------------------------------+-------------+\n",
            "|  13 | ANHYT   |      43.59 | RSI SMA'yı Aşağı Kesti ❌               |       90.7  |\n",
            "+-----+---------+------------+-----------------------------------------+-------------+\n",
            "|  14 | ANSGR   |      47.77 | RSI SMA'nın Altında                     |       97.75 |\n",
            "+-----+---------+------------+-----------------------------------------+-------------+\n",
            "|  15 | APBDL   |      41.85 | RSI SMA'yı Aşağı Kesti ❌               |       21.12 |\n",
            "+-----+---------+------------+-----------------------------------------+-------------+\n",
            "|  16 | APX30   |      40.95 | RSI SMA'yı Aşağı Kesti ❌               |       24.01 |\n",
            "+-----+---------+------------+-----------------------------------------+-------------+\n",
            "|  17 | ARCLK   |      48.48 | RSI SMA'nın Üstünde                     |      137.7  |\n",
            "+-----+---------+------------+-----------------------------------------+-------------+\n",
            "|  18 | ARENA   |      47.7  | RSI SMA'yı Aşağı Kesti ❌               |       35.82 |\n",
            "+-----+---------+------------+-----------------------------------------+-------------+\n",
            "|  19 | ARSAN   |      40.61 | RSI SMA'nın Altında                     |       18.76 |\n",
            "+-----+---------+------------+-----------------------------------------+-------------+\n",
            "|  20 | ARZUM   |      43.13 | RSI SMA'nın Üstünde                     |        3.88 |\n",
            "+-----+---------+------------+-----------------------------------------+-------------+\n",
            "|  21 | ASTOR   |      43.57 | RSI SMA'nın Altında                     |       94.7  |\n",
            "+-----+---------+------------+-----------------------------------------+-------------+\n",
            "|  22 | ATLAS   |      40.95 | RSI SMA'nın Altında                     |        4.99 |\n",
            "+-----+---------+------------+-----------------------------------------+-------------+\n",
            "|  23 | ATSYH   |      44.04 | RSI SMA'yı Aşağı Kesti ❌               |       44    |\n",
            "+-----+---------+------------+-----------------------------------------+-------------+\n",
            "|  24 | AVPGY   |      44.51 | RSI SMA'yı Aşağı Kesti ❌               |       52.65 |\n",
            "+-----+---------+------------+-----------------------------------------+-------------+\n",
            "|  25 | AVTUR   |      40.19 | RSI SMA'nın Altında                     |        9.77 |\n",
            "+-----+---------+------------+-----------------------------------------+-------------+\n",
            "|  26 | AYES    |      42.79 | RSI SMA'yı Aşağı Kesti ❌               |        8.1  |\n",
            "+-----+---------+------------+-----------------------------------------+-------------+\n",
            "|  27 | AYGAZ   |      45.29 | RSI SMA'yı Aşağı Kesti ❌               |      152    |\n",
            "+-----+---------+------------+-----------------------------------------+-------------+\n",
            "|  28 | BALAT   |      44.43 | RSI SMA'nın Altında                     |       48.64 |\n",
            "+-----+---------+------------+-----------------------------------------+-------------+\n",
            "|  29 | BARMA   |      41.2  | RSI SMA'yı Aşağı Kesti ❌               |       15.8  |\n",
            "+-----+---------+------------+-----------------------------------------+-------------+\n",
            "|  30 | BASGZ   |      42.54 | RSI SMA'yı Aşağı Kesti ❌               |       26.56 |\n",
            "+-----+---------+------------+-----------------------------------------+-------------+\n",
            "|  31 | BERA    |      43.36 | RSI SMA'yı Aşağı Kesti ❌               |       14.69 |\n",
            "+-----+---------+------------+-----------------------------------------+-------------+\n",
            "|  32 | BFREN   |      41.94 | RSI SMA'nın Üstünde                     |      640.5  |\n",
            "+-----+---------+------------+-----------------------------------------+-------------+\n",
            "|  33 | BIENY   |      44.49 | RSI SMA'yı Aşağı Kesti ❌               |       30.42 |\n",
            "+-----+---------+------------+-----------------------------------------+-------------+\n",
            "|  34 | BIOEN   |      42.96 | RSI SMA'yı Aşağı Kesti ❌               |       14.84 |\n",
            "+-----+---------+------------+-----------------------------------------+-------------+\n",
            "|  35 | BMSCH   |      42.9  | RSI SMA'nın Altında                     |       25.72 |\n",
            "+-----+---------+------------+-----------------------------------------+-------------+\n",
            "|  36 | BOSSA   |      40.7  | RSI SMA'yı Aşağı Kesti ❌               |        5.89 |\n",
            "+-----+---------+------------+-----------------------------------------+-------------+\n",
            "|  37 | BRISA   |      45.29 | RSI SMA'nın Üstünde                     |       84.85 |\n",
            "+-----+---------+------------+-----------------------------------------+-------------+\n",
            "|  38 | BRKO    |      44.42 | RSI SMA'nın Altında                     |        9.99 |\n",
            "+-----+---------+------------+-----------------------------------------+-------------+\n",
            "|  39 | BRKVY   |      44.76 | RSI SMA'yı Aşağı Kesti ❌               |       51.25 |\n",
            "+-----+---------+------------+-----------------------------------------+-------------+\n",
            "|  40 | BRLSM   |      44.56 | RSI SMA'nın Üstünde                     |       14.12 |\n",
            "+-----+---------+------------+-----------------------------------------+-------------+\n",
            "|  41 | BRMEN   |      43.54 | RSI SMA'nın Altında                     |        4.74 |\n",
            "+-----+---------+------------+-----------------------------------------+-------------+\n",
            "|  42 | BRYAT   |      43.08 | RSI SMA'yı Aşağı Kesti ❌               |     1825    |\n",
            "+-----+---------+------------+-----------------------------------------+-------------+\n",
            "|  43 | BSOKE   |      46.09 | RSI SMA'yı Aşağı Kesti ❌               |       11.95 |\n",
            "+-----+---------+------------+-----------------------------------------+-------------+\n",
            "|  44 | BURVA   |      40.99 | RSI SMA'yı Aşağı Kesti ❌               |      100    |\n",
            "+-----+---------+------------+-----------------------------------------+-------------+\n",
            "|  45 | BVSAN   |      45.58 | RSI SMA'yı Aşağı Kesti ❌               |       94.1  |\n",
            "+-----+---------+------------+-----------------------------------------+-------------+\n",
            "|  46 | CCOLA   |      41.5  | RSI SMA'yı Aşağı Kesti ❌               |       50.4  |\n",
            "+-----+---------+------------+-----------------------------------------+-------------+\n",
            "|  47 | CELHA   |      41.03 | RSI SMA'nın Üstünde                     |       20.28 |\n",
            "+-----+---------+------------+-----------------------------------------+-------------+\n",
            "|  48 | CEMTS   |      43.04 | RSI SMA'yı Aşağı Kesti ❌               |        8.81 |\n",
            "+-----+---------+------------+-----------------------------------------+-------------+\n",
            "|  49 | CEMZY   |      48.06 | RSI SMA'nın Üstünde                     |       12.94 |\n",
            "+-----+---------+------------+-----------------------------------------+-------------+\n",
            "|  50 | CGCAM   |      42.97 | RSI SMA'nın Altında                     |       24.8  |\n",
            "+-----+---------+------------+-----------------------------------------+-------------+\n",
            "|  51 | CMENT   |      43.28 | RSI SMA'yı Aşağı Kesti ❌               |      360    |\n",
            "+-----+---------+------------+-----------------------------------------+-------------+\n",
            "|  52 | COSMO   |      46.18 | RSI SMA'nın Altında                     |      109.8  |\n",
            "+-----+---------+------------+-----------------------------------------+-------------+\n",
            "|  53 | CRDFA   |      46.47 | RSI SMA'yı Aşağı Kesti ❌               |        6.42 |\n",
            "+-----+---------+------------+-----------------------------------------+-------------+\n",
            "|  54 | CVKMD   |      43.85 | RSI SMA'yı Aşağı Kesti ❌               |        8.86 |\n",
            "+-----+---------+------------+-----------------------------------------+-------------+\n",
            "|  55 | DARDL   |      40.28 | RSI SMA'yı Aşağı Kesti ❌               |        4.55 |\n",
            "+-----+---------+------------+-----------------------------------------+-------------+\n",
            "|  56 | DESPC   |      42.93 | RSI SMA'yı Aşağı Kesti ❌               |       41.76 |\n",
            "+-----+---------+------------+-----------------------------------------+-------------+\n",
            "|  57 | DGATE   |      46.2  | RSI SMA'nın Altında                     |       45.12 |\n",
            "+-----+---------+------------+-----------------------------------------+-------------+\n",
            "|  58 | DGGYO   |      41.36 | RSI SMA'nın Altında                     |       34.58 |\n",
            "+-----+---------+------------+-----------------------------------------+-------------+\n",
            "|  59 | DMRGD   |      49.51 | RSI SMA'yı Aşağı Kesti ❌               |       12.7  |\n",
            "+-----+---------+------------+-----------------------------------------+-------------+\n",
            "|  60 | DMSAS   |      45.52 | RSI SMA'nın Altında                     |        6.98 |\n",
            "+-----+---------+------------+-----------------------------------------+-------------+\n",
            "|  61 | DOBUR   |      48.38 | RSI SMA'yı Aşağı Kesti ❌               |      191    |\n",
            "+-----+---------+------------+-----------------------------------------+-------------+\n",
            "|  62 | DOHOL   |      45.03 | RSI SMA'yı Aşağı Kesti ❌               |       13.55 |\n",
            "+-----+---------+------------+-----------------------------------------+-------------+\n",
            "|  63 | DURDO   |      43.69 | RSI SMA'nın Altında                     |        3.2  |\n",
            "+-----+---------+------------+-----------------------------------------+-------------+\n",
            "|  64 | DURKN   |      45.55 | RSI SMA'nın Altında                     |       15.03 |\n",
            "+-----+---------+------------+-----------------------------------------+-------------+\n",
            "|  65 | DZGYO   |      48.79 | RSI SMA'nın Altında                     |        8.25 |\n",
            "+-----+---------+------------+-----------------------------------------+-------------+\n",
            "|  66 | EBEBK   |      42.14 | RSI SMA'nın Altında                     |       48.88 |\n",
            "+-----+---------+------------+-----------------------------------------+-------------+\n",
            "|  67 | EGEEN   |      40.67 | RSI SMA'nın Üstünde                     |     9090    |\n",
            "+-----+---------+------------+-----------------------------------------+-------------+\n",
            "|  68 | EGEPO   |      44.4  | RSI SMA'nın Altında                     |        5.35 |\n",
            "+-----+---------+------------+-----------------------------------------+-------------+\n",
            "|  69 | EGGUB   |      44.34 | RSI SMA'yı Aşağı Kesti ❌               |       57.9  |\n",
            "+-----+---------+------------+-----------------------------------------+-------------+\n",
            "|  70 | EGPRO   |      45.59 | RSI SMA'yı Aşağı Kesti ❌               |       22.96 |\n",
            "+-----+---------+------------+-----------------------------------------+-------------+\n",
            "|  71 | EKGYO   |      44.82 | RSI SMA'yı Aşağı Kesti ❌               |       12.15 |\n",
            "+-----+---------+------------+-----------------------------------------+-------------+\n",
            "|  72 | EKIZ    |      42.6  | RSI SMA'nın Üstünde                     |       50.45 |\n",
            "+-----+---------+------------+-----------------------------------------+-------------+\n",
            "|  73 | ELITE   |      45.55 | RSI SMA'yı Aşağı Kesti ❌               |       34.96 |\n",
            "+-----+---------+------------+-----------------------------------------+-------------+\n",
            "|  74 | ENJSA   |      42.13 | RSI SMA'yı Aşağı Kesti ❌               |       55.05 |\n",
            "+-----+---------+------------+-----------------------------------------+-------------+\n",
            "|  75 | EUPWR   |      41.59 | RSI SMA'yı Aşağı Kesti ❌               |       30.6  |\n",
            "+-----+---------+------------+-----------------------------------------+-------------+\n",
            "|  76 | EUREN   |      44.16 | RSI SMA'yı Aşağı Kesti ❌               |        4.22 |\n",
            "+-----+---------+------------+-----------------------------------------+-------------+\n",
            "|  77 | EUYO    |      48.24 | RSI SMA'nın Altında                     |       11.15 |\n",
            "+-----+---------+------------+-----------------------------------------+-------------+\n",
            "|  78 | FENER   |      43.01 | RSI SMA'yı Aşağı Kesti ❌               |       43.22 |\n",
            "+-----+---------+------------+-----------------------------------------+-------------+\n",
            "|  79 | FMIZP   |      46.45 | RSI SMA'yı Aşağı Kesti ❌               |      298.25 |\n",
            "+-----+---------+------------+-----------------------------------------+-------------+\n",
            "|  80 | FORMT   |      45.89 | RSI SMA'nın Altında                     |        5.1  |\n",
            "+-----+---------+------------+-----------------------------------------+-------------+\n",
            "|  81 | FRIGO   |      42.3  | RSI SMA'yı Aşağı Kesti ❌               |        7.4  |\n",
            "+-----+---------+------------+-----------------------------------------+-------------+\n",
            "|  82 | GEDIK   |      46.97 | RSI SMA'yı Aşağı Kesti ❌               |        7.11 |\n",
            "+-----+---------+------------+-----------------------------------------+-------------+\n",
            "|  83 | GEDZA   |      40.2  | RSI SMA'nın Altında                     |       22.3  |\n",
            "+-----+---------+------------+-----------------------------------------+-------------+\n",
            "|  84 | GESAN   |      44.9  | RSI SMA'yı Aşağı Kesti ❌               |       45.6  |\n",
            "+-----+---------+------------+-----------------------------------------+-------------+\n",
            "|  85 | GLCVY   |      45.43 | RSI SMA'yı Aşağı Kesti ❌               |       44    |\n",
            "+-----+---------+------------+-----------------------------------------+-------------+\n",
            "|  86 | GLRYH   |      44.85 | RSI SMA'yı Aşağı Kesti ❌               |        2.61 |\n",
            "+-----+---------+------------+-----------------------------------------+-------------+\n",
            "|  87 | GOLTS   |      44.93 | RSI SMA'yı Aşağı Kesti ❌               |      396.5  |\n",
            "+-----+---------+------------+-----------------------------------------+-------------+\n",
            "|  88 | GRSEL   |      46.26 | RSI SMA'nın Altında                     |      176.5  |\n",
            "+-----+---------+------------+-----------------------------------------+-------------+\n",
            "|  89 | GSDDE   |      40.97 | RSI SMA'yı Aşağı Kesti ❌               |        7.5  |\n",
            "+-----+---------+------------+-----------------------------------------+-------------+\n",
            "|  90 | GUBRF   |      47.62 | RSI SMA'yı Aşağı Kesti ❌               |      242.6  |\n",
            "+-----+---------+------------+-----------------------------------------+-------------+\n",
            "|  91 | HDFGS   |      46.73 | RSI SMA'nın Altında                     |        1.61 |\n",
            "+-----+---------+------------+-----------------------------------------+-------------+\n",
            "|  92 | HLGYO   |      42.17 | RSI SMA'yı Aşağı Kesti ❌               |        2.4  |\n",
            "+-----+---------+------------+-----------------------------------------+-------------+\n",
            "|  93 | HUNER   |      48.83 | RSI SMA'yı Aşağı Kesti ❌               |        3.54 |\n",
            "+-----+---------+------------+-----------------------------------------+-------------+\n",
            "|  94 | HURGZ   |      41.02 | RSI SMA'nın Altında                     |        4.05 |\n",
            "+-----+---------+------------+-----------------------------------------+-------------+\n",
            "|  95 | ICBCT   |      40.4  | RSI SMA'yı Aşağı Kesti ❌               |       12.14 |\n",
            "+-----+---------+------------+-----------------------------------------+-------------+\n",
            "|  96 | IEYHO   |      41.26 | RSI SMA'nın Altında                     |        8.03 |\n",
            "+-----+---------+------------+-----------------------------------------+-------------+\n",
            "|  97 | IHGZT   |      42.17 | RSI SMA'nın Altında                     |        1.24 |\n",
            "+-----+---------+------------+-----------------------------------------+-------------+\n",
            "|  98 | IHLAS   |      45.62 | RSI SMA'nın Altında                     |        2.18 |\n",
            "+-----+---------+------------+-----------------------------------------+-------------+\n",
            "|  99 | IHLGM   |      41.3  | RSI SMA'nın Altında                     |        1.49 |\n",
            "+-----+---------+------------+-----------------------------------------+-------------+\n",
            "| 100 | INDES   |      40.04 | RSI SMA'yı Aşağı Kesti ❌               |        6.71 |\n",
            "+-----+---------+------------+-----------------------------------------+-------------+\n",
            "| 101 | ISBTR   |      43.22 | RSI SMA'nın Altında | RSI Yönü Yatay ➡️ |   500000    |\n",
            "+-----+---------+------------+-----------------------------------------+-------------+\n",
            "| 102 | ISDMR   |      40.25 | RSI SMA'yı Aşağı Kesti ❌               |       35    |\n",
            "+-----+---------+------------+-----------------------------------------+-------------+\n",
            "| 103 | ISGYO   |      41.06 | RSI SMA'yı Aşağı Kesti ❌               |       16.4  |\n",
            "+-----+---------+------------+-----------------------------------------+-------------+\n",
            "| 104 | IZENR   |      46.84 | RSI SMA'yı Aşağı Kesti ❌               |        4.77 |\n",
            "+-----+---------+------------+-----------------------------------------+-------------+\n",
            "| 105 | KAPLM   |      44.95 | RSI SMA'yı Aşağı Kesti ❌               |      172.2  |\n",
            "+-----+---------+------------+-----------------------------------------+-------------+\n",
            "| 106 | KATMR   |      47.59 | RSI SMA'nın Üstünde                     |        2.16 |\n",
            "+-----+---------+------------+-----------------------------------------+-------------+\n",
            "| 107 | KENT    |      40.57 | RSI SMA'nın Altında                     |      806.5  |\n",
            "+-----+---------+------------+-----------------------------------------+-------------+\n",
            "| 108 | KERVN   |      48.37 | RSI SMA'yı Aşağı Kesti ❌               |        2.06 |\n",
            "+-----+---------+------------+-----------------------------------------+-------------+\n",
            "| 109 | KLGYO   |      45.88 | RSI SMA'yı Aşağı Kesti ❌               |        4.31 |\n",
            "+-----+---------+------------+-----------------------------------------+-------------+\n",
            "| 110 | KLSYN   |      44.67 | RSI SMA'yı Aşağı Kesti ❌               |        5.22 |\n",
            "+-----+---------+------------+-----------------------------------------+-------------+\n",
            "| 111 | KNFRT   |      44.6  | RSI SMA'nın Altında                     |       10.27 |\n",
            "+-----+---------+------------+-----------------------------------------+-------------+\n",
            "| 112 | KRSTL   |      43.45 | RSI SMA'nın Üstünde                     |        5.66 |\n",
            "+-----+---------+------------+-----------------------------------------+-------------+\n",
            "| 113 | KRVGD   |      42.36 | RSI SMA'yı Aşağı Kesti ❌               |        2.11 |\n",
            "+-----+---------+------------+-----------------------------------------+-------------+\n",
            "| 114 | KTLEV   |      48.94 | RSI SMA'yı Aşağı Kesti ❌               |       58.85 |\n",
            "+-----+---------+------------+-----------------------------------------+-------------+\n",
            "| 115 | KTSKR   |      43.66 | RSI SMA'yı Aşağı Kesti ❌               |       57.5  |\n",
            "+-----+---------+------------+-----------------------------------------+-------------+\n",
            "| 116 | KUTPO   |      48.66 | RSI SMA'yı Aşağı Kesti ❌               |       74.75 |\n",
            "+-----+---------+------------+-----------------------------------------+-------------+\n",
            "| 117 | KUVVA   |      47.54 | RSI SMA'yı Aşağı Kesti ❌               |       51    |\n",
            "+-----+---------+------------+-----------------------------------------+-------------+\n",
            "| 118 | KZBGY   |      43.79 | RSI SMA'nın Üstünde                     |        5.56 |\n",
            "+-----+---------+------------+-----------------------------------------+-------------+\n",
            "| 119 | LILAK   |      40.92 | RSI SMA'yı Aşağı Kesti ❌               |       23.12 |\n",
            "+-----+---------+------------+-----------------------------------------+-------------+\n",
            "| 120 | LKMNH   |      44.09 | RSI SMA'nın Altında                     |       16.97 |\n",
            "+-----+---------+------------+-----------------------------------------+-------------+\n",
            "| 121 | LRSHO   |      45.01 | RSI SMA'nın Üstünde                     |        2.18 |\n",
            "+-----+---------+------------+-----------------------------------------+-------------+\n",
            "| 122 | LUKSK   |      41.68 | RSI SMA'yı Aşağı Kesti ❌               |       79.25 |\n",
            "+-----+---------+------------+-----------------------------------------+-------------+\n",
            "| 123 | LYDHO   |      40.87 | RSI SMA'nın Altında                     |       85.35 |\n",
            "+-----+---------+------------+-----------------------------------------+-------------+\n",
            "| 124 | MACKO   |      47.34 | RSI SMA'nın Altında                     |       96.7  |\n",
            "+-----+---------+------------+-----------------------------------------+-------------+\n",
            "| 125 | MEGAP   |      46.32 | RSI SMA'nın Üstünde                     |        2.98 |\n",
            "+-----+---------+------------+-----------------------------------------+-------------+\n",
            "| 126 | MERKO   |      44.65 | RSI SMA'nın Altında                     |       13.47 |\n",
            "+-----+---------+------------+-----------------------------------------+-------------+\n",
            "| 127 | METUR   |      45.14 | RSI SMA'yı Aşağı Kesti ❌               |       14.46 |\n",
            "+-----+---------+------------+-----------------------------------------+-------------+\n",
            "| 128 | MIATK   |      42.97 | RSI SMA'nın Üstünde                     |       36.56 |\n",
            "+-----+---------+------------+-----------------------------------------+-------------+\n",
            "| 129 | MMCAS   |      47.35 | RSI SMA'nın Altında                     |       21.3  |\n",
            "+-----+---------+------------+-----------------------------------------+-------------+\n",
            "| 130 | MSGYO   |      47.38 | RSI SMA'nın Altında                     |        4.12 |\n",
            "+-----+---------+------------+-----------------------------------------+-------------+\n",
            "| 131 | NUHCM   |      44.24 | RSI SMA'yı Aşağı Kesti ❌               |      264    |\n",
            "+-----+---------+------------+-----------------------------------------+-------------+\n",
            "| 132 | OBAMS   |      40.43 | RSI SMA'nın Altında                     |       42.04 |\n",
            "+-----+---------+------------+-----------------------------------------+-------------+\n",
            "| 133 | OFSYM   |      44.71 | RSI SMA'yı Aşağı Kesti ❌               |       36.58 |\n",
            "+-----+---------+------------+-----------------------------------------+-------------+\n",
            "| 134 | ORGE    |      47.15 | RSI SMA'yı Aşağı Kesti ❌               |       77.5  |\n",
            "+-----+---------+------------+-----------------------------------------+-------------+\n",
            "| 135 | OSMEN   |      44.55 | RSI SMA'yı Aşağı Kesti ❌               |        8.68 |\n",
            "+-----+---------+------------+-----------------------------------------+-------------+\n",
            "| 136 | OTKAR   |      49.77 | RSI SMA'nın Üstünde                     |      451.25 |\n",
            "+-----+---------+------------+-----------------------------------------+-------------+\n",
            "| 137 | OTTO    |      41.93 | RSI SMA'nın Altında                     |      336    |\n",
            "+-----+---------+------------+-----------------------------------------+-------------+\n",
            "| 138 | OZKGY   |      42.01 | RSI SMA'yı Aşağı Kesti ❌               |       10.25 |\n",
            "+-----+---------+------------+-----------------------------------------+-------------+\n",
            "| 139 | OZSUB   |      48.84 | RSI SMA'yı Aşağı Kesti ❌               |       33.9  |\n",
            "+-----+---------+------------+-----------------------------------------+-------------+\n",
            "| 140 | PAGYO   |      47.16 | RSI SMA'yı Aşağı Kesti ❌               |       59    |\n",
            "+-----+---------+------------+-----------------------------------------+-------------+\n",
            "| 141 | PATEK   |      42.99 | RSI SMA'yı Aşağı Kesti ❌               |       76.75 |\n",
            "+-----+---------+------------+-----------------------------------------+-------------+\n",
            "| 142 | PEKGY   |      40.82 | RSI SMA'yı Aşağı Kesti ❌               |        1.37 |\n",
            "+-----+---------+------------+-----------------------------------------+-------------+\n",
            "| 143 | PENGD   |      41.63 | RSI SMA'yı Aşağı Kesti ❌               |        6.34 |\n",
            "+-----+---------+------------+-----------------------------------------+-------------+\n",
            "| 144 | PLTUR   |      40.21 | RSI SMA'nın Altında                     |       21    |\n",
            "+-----+---------+------------+-----------------------------------------+-------------+\n",
            "| 145 | POLHO   |      41.68 | RSI SMA'yı Aşağı Kesti ❌               |       10.75 |\n",
            "+-----+---------+------------+-----------------------------------------+-------------+\n",
            "| 146 | PSDTC   |      42.08 | RSI SMA'yı Aşağı Kesti ❌               |       72.55 |\n",
            "+-----+---------+------------+-----------------------------------------+-------------+\n",
            "| 147 | PSGYO   |      48.2  | RSI SMA'nın Üstünde                     |        1.52 |\n",
            "+-----+---------+------------+-----------------------------------------+-------------+\n",
            "| 148 | QNBFK   |      44.59 | RSI SMA'nın Üstünde                     |       42.6  |\n",
            "+-----+---------+------------+-----------------------------------------+-------------+\n",
            "| 149 | RNPOL   |      42.7  | RSI SMA'yı Aşağı Kesti ❌               |       23.9  |\n",
            "+-----+---------+------------+-----------------------------------------+-------------+\n",
            "| 150 | RTALB   |      40.65 | RSI SMA'nın Altında                     |        2.75 |\n",
            "+-----+---------+------------+-----------------------------------------+-------------+\n",
            "| 151 | RUBNS   |      42.83 | RSI SMA'nın Altında                     |       24.44 |\n",
            "+-----+---------+------------+-----------------------------------------+-------------+\n",
            "| 152 | SANFM   |      46.26 | RSI SMA'nın Altında                     |       37    |\n",
            "+-----+---------+------------+-----------------------------------------+-------------+\n",
            "| 153 | SEGYO   |      49.05 | RSI SMA'yı Aşağı Kesti ❌               |        4.52 |\n",
            "+-----+---------+------------+-----------------------------------------+-------------+\n",
            "| 154 | SEKFK   |      44.15 | RSI SMA'nın Üstünde                     |        7.23 |\n",
            "+-----+---------+------------+-----------------------------------------+-------------+\n",
            "| 155 | SELEC   |      40.75 | RSI SMA'nın Altında                     |       62.15 |\n",
            "+-----+---------+------------+-----------------------------------------+-------------+\n",
            "| 156 | SELGD   |      41.03 | RSI SMA'nın Altında                     |       44.12 |\n",
            "+-----+---------+------------+-----------------------------------------+-------------+\n",
            "| 157 | SELVA   |      42.45 | RSI SMA'yı Aşağı Kesti ❌               |        1.69 |\n",
            "+-----+---------+------------+-----------------------------------------+-------------+\n",
            "| 158 | SKBNK   |      44.63 | RSI SMA'nın Altında                     |        3.95 |\n",
            "+-----+---------+------------+-----------------------------------------+-------------+\n",
            "| 159 | SNGYO   |      49.94 | RSI SMA'yı Aşağı Kesti ❌               |        2.97 |\n",
            "+-----+---------+------------+-----------------------------------------+-------------+\n",
            "| 160 | SONME   |      46.28 | RSI SMA'yı Aşağı Kesti ❌               |       81.7  |\n",
            "+-----+---------+------------+-----------------------------------------+-------------+\n",
            "| 161 | SUMAS   |      41.25 | RSI SMA'yı Aşağı Kesti ❌               |      293    |\n",
            "+-----+---------+------------+-----------------------------------------+-------------+\n",
            "| 162 | SUNTK   |      45.42 | RSI SMA'nın Altında                     |       29.88 |\n",
            "+-----+---------+------------+-----------------------------------------+-------------+\n",
            "| 163 | TABGD   |      47.57 | RSI SMA'yı Aşağı Kesti ❌               |      155.7  |\n",
            "+-----+---------+------------+-----------------------------------------+-------------+\n",
            "| 164 | TATEN   |      41.13 | RSI SMA'nın Altında                     |       33.12 |\n",
            "+-----+---------+------------+-----------------------------------------+-------------+\n",
            "| 165 | TATGD   |      41.57 | RSI SMA'nın Üstünde                     |       12.06 |\n",
            "+-----+---------+------------+-----------------------------------------+-------------+\n",
            "| 166 | TAVHL   |      42.27 | RSI SMA'nın Altında                     |      240.8  |\n",
            "+-----+---------+------------+-----------------------------------------+-------------+\n",
            "| 167 | TCELL   |      41.06 | RSI SMA'yı Aşağı Kesti ❌               |       87.4  |\n",
            "+-----+---------+------------+-----------------------------------------+-------------+\n",
            "| 168 | TCKRC   |      47.67 | RSI SMA'yı Aşağı Kesti ❌               |       31.62 |\n",
            "+-----+---------+------------+-----------------------------------------+-------------+\n",
            "| 169 | TEZOL   |      47.56 | RSI SMA'yı Aşağı Kesti ❌               |       16.79 |\n",
            "+-----+---------+------------+-----------------------------------------+-------------+\n",
            "| 170 | TGSAS   |      43.85 | RSI SMA'yı Aşağı Kesti ❌               |       55.25 |\n",
            "+-----+---------+------------+-----------------------------------------+-------------+\n",
            "| 171 | THYAO   |      43.8  | RSI SMA'yı Aşağı Kesti ❌               |      285.75 |\n",
            "+-----+---------+------------+-----------------------------------------+-------------+\n",
            "| 172 | TKNSA   |      49.22 | RSI SMA'yı Aşağı Kesti ❌               |       30.14 |\n",
            "+-----+---------+------------+-----------------------------------------+-------------+\n",
            "| 173 | TMPOL   |      41.21 | RSI SMA'yı Aşağı Kesti ❌               |       69.6  |\n",
            "+-----+---------+------------+-----------------------------------------+-------------+\n",
            "| 174 | TNZTP   |      42.95 | RSI SMA'yı Aşağı Kesti ❌               |       29.76 |\n",
            "+-----+---------+------------+-----------------------------------------+-------------+\n",
            "| 175 | TRGYO   |      48.95 | RSI SMA'yı Aşağı Kesti ❌               |       54.25 |\n",
            "+-----+---------+------------+-----------------------------------------+-------------+\n",
            "| 176 | TSGYO   |      48.41 | RSI SMA'nın Üstünde                     |        8.71 |\n",
            "+-----+---------+------------+-----------------------------------------+-------------+\n",
            "| 177 | TSPOR   |      40.18 | RSI SMA'yı Aşağı Kesti ❌               |        0.94 |\n",
            "+-----+---------+------------+-----------------------------------------+-------------+\n",
            "| 178 | TTKOM   |      46.02 | RSI SMA'yı Aşağı Kesti ❌               |       45.64 |\n",
            "+-----+---------+------------+-----------------------------------------+-------------+\n",
            "| 179 | TUKAS   |      40.67 | RSI SMA'nın Üstünde                     |        1.96 |\n",
            "+-----+---------+------------+-----------------------------------------+-------------+\n",
            "| 180 | TUPRS   |      42.54 | RSI SMA'nın Üstünde                     |      135.6  |\n",
            "+-----+---------+------------+-----------------------------------------+-------------+\n",
            "| 181 | ULKER   |      45.36 | RSI SMA'yı Aşağı Kesti ❌               |      113.3  |\n",
            "+-----+---------+------------+-----------------------------------------+-------------+\n",
            "| 182 | VAKBN   |      44.95 | RSI SMA'yı Aşağı Kesti ❌               |       22.26 |\n",
            "+-----+---------+------------+-----------------------------------------+-------------+\n",
            "| 183 | VANGD   |      40.7  | RSI SMA'nın Altında                     |       18.8  |\n",
            "+-----+---------+------------+-----------------------------------------+-------------+\n",
            "| 184 | VKGYO   |      45.34 | RSI SMA'yı Aşağı Kesti ❌               |        1.89 |\n",
            "+-----+---------+------------+-----------------------------------------+-------------+\n",
            "| 185 | YEOTK   |      48.39 | RSI SMA'yı Aşağı Kesti ❌               |       51.3  |\n",
            "+-----+---------+------------+-----------------------------------------+-------------+\n",
            "| 186 | Z30KE   |      44    | RSI SMA'yı Aşağı Kesti ❌               |       92.88 |\n",
            "+-----+---------+------------+-----------------------------------------+-------------+\n",
            "| 187 | ZPBDL   |      42.54 | RSI SMA'yı Aşağı Kesti ❌               |      140.9  |\n",
            "+-----+---------+------------+-----------------------------------------+-------------+\n",
            "| 188 | ZPLIB   |      40.08 | RSI SMA'yı Aşağı Kesti ❌               |      140.55 |\n",
            "+-----+---------+------------+-----------------------------------------+-------------+\n",
            "| 189 | ZRE20   |      43.21 | RSI SMA'yı Aşağı Kesti ❌               |      106.9  |\n",
            "+-----+---------+------------+-----------------------------------------+-------------+\n",
            "\n",
            "🚀 **RSI SMA'yı Yukarı Kesten veya RSI SMA'nın Üzerinde & RSI Yönü Yukarı Olan Hisseler**\n",
            "+-----+---------+------------+---------------------+-------------+\n",
            "|     | Hisse   |   RSI (14) | RSI - SMA Durumu    |   Son Fiyat |\n",
            "+=====+=========+============+=====================+=============+\n",
            "|   9 | AKYHO   |      46.61 | RSI SMA'nın Üstünde |        2.97 |\n",
            "+-----+---------+------------+---------------------+-------------+\n",
            "|  17 | ARCLK   |      48.48 | RSI SMA'nın Üstünde |      137.7  |\n",
            "+-----+---------+------------+---------------------+-------------+\n",
            "|  20 | ARZUM   |      43.13 | RSI SMA'nın Üstünde |        3.88 |\n",
            "+-----+---------+------------+---------------------+-------------+\n",
            "|  32 | BFREN   |      41.94 | RSI SMA'nın Üstünde |      640.5  |\n",
            "+-----+---------+------------+---------------------+-------------+\n",
            "|  37 | BRISA   |      45.29 | RSI SMA'nın Üstünde |       84.85 |\n",
            "+-----+---------+------------+---------------------+-------------+\n",
            "|  40 | BRLSM   |      44.56 | RSI SMA'nın Üstünde |       14.12 |\n",
            "+-----+---------+------------+---------------------+-------------+\n",
            "|  47 | CELHA   |      41.03 | RSI SMA'nın Üstünde |       20.28 |\n",
            "+-----+---------+------------+---------------------+-------------+\n",
            "|  49 | CEMZY   |      48.06 | RSI SMA'nın Üstünde |       12.94 |\n",
            "+-----+---------+------------+---------------------+-------------+\n",
            "|  67 | EGEEN   |      40.67 | RSI SMA'nın Üstünde |     9090    |\n",
            "+-----+---------+------------+---------------------+-------------+\n",
            "|  72 | EKIZ    |      42.6  | RSI SMA'nın Üstünde |       50.45 |\n",
            "+-----+---------+------------+---------------------+-------------+\n",
            "| 106 | KATMR   |      47.59 | RSI SMA'nın Üstünde |        2.16 |\n",
            "+-----+---------+------------+---------------------+-------------+\n",
            "| 112 | KRSTL   |      43.45 | RSI SMA'nın Üstünde |        5.66 |\n",
            "+-----+---------+------------+---------------------+-------------+\n",
            "| 118 | KZBGY   |      43.79 | RSI SMA'nın Üstünde |        5.56 |\n",
            "+-----+---------+------------+---------------------+-------------+\n",
            "| 121 | LRSHO   |      45.01 | RSI SMA'nın Üstünde |        2.18 |\n",
            "+-----+---------+------------+---------------------+-------------+\n",
            "| 125 | MEGAP   |      46.32 | RSI SMA'nın Üstünde |        2.98 |\n",
            "+-----+---------+------------+---------------------+-------------+\n",
            "| 128 | MIATK   |      42.97 | RSI SMA'nın Üstünde |       36.56 |\n",
            "+-----+---------+------------+---------------------+-------------+\n",
            "| 136 | OTKAR   |      49.77 | RSI SMA'nın Üstünde |      451.25 |\n",
            "+-----+---------+------------+---------------------+-------------+\n",
            "| 147 | PSGYO   |      48.2  | RSI SMA'nın Üstünde |        1.52 |\n",
            "+-----+---------+------------+---------------------+-------------+\n",
            "| 148 | QNBFK   |      44.59 | RSI SMA'nın Üstünde |       42.6  |\n",
            "+-----+---------+------------+---------------------+-------------+\n",
            "| 154 | SEKFK   |      44.15 | RSI SMA'nın Üstünde |        7.23 |\n",
            "+-----+---------+------------+---------------------+-------------+\n",
            "| 165 | TATGD   |      41.57 | RSI SMA'nın Üstünde |       12.06 |\n",
            "+-----+---------+------------+---------------------+-------------+\n",
            "| 176 | TSGYO   |      48.41 | RSI SMA'nın Üstünde |        8.71 |\n",
            "+-----+---------+------------+---------------------+-------------+\n",
            "| 179 | TUKAS   |      40.67 | RSI SMA'nın Üstünde |        1.96 |\n",
            "+-----+---------+------------+---------------------+-------------+\n",
            "| 180 | TUPRS   |      42.54 | RSI SMA'nın Üstünde |      135.6  |\n",
            "+-----+---------+------------+---------------------+-------------+\n",
            "\n",
            "📊 **Haftalık RSI 40 - 50 Aralığında Hisseler (RSI - SMA Bilgili)**\n",
            "2025-03-22 07:00 tarihinde yapılan tarama sonucunda, 190 adet hisse bulundu.\n",
            "🚀 **RSI SMA'yı Yukarı Kesten Hisseler**: 24 adet\n",
            "\n"
          ]
        },
        {
          "output_type": "stream",
          "name": "stderr",
          "text": [
            "\n"
          ]
        },
        {
          "output_type": "stream",
          "name": "stdout",
          "text": [
            "\n",
            "💾 **Sonuçlar 'RSI_SMA_ANALIZ_Haftalık_20250322_0700.xlsx' dosyasına kaydedildi.** ✅\n"
          ]
        }
      ],
      "source": [
        "# 📌 Google Colab için Gerekli Kütüphaneleri Yükleme\n",
        "!pip install tradingview_screener\n",
        "!pip install git+https://github.com/rongardF/tvdatafeed matplotlib openpyxl\n",
        "!pip install tradingview-screener==2.5.0\n",
        "!pip install tqdm\n",
        "!pip install ta\n",
        "\n",
        "# 📌 Gerekli Kütüphaneler\n",
        "try:\n",
        "    import tradingview_screener\n",
        "    from tradingview_screener import get_all_symbols\n",
        "    import pandas as pd\n",
        "    import numpy as np\n",
        "    from tvDatafeed import TvDatafeed, Interval\n",
        "    from tqdm import tqdm\n",
        "    from datetime import datetime\n",
        "    import warnings\n",
        "    import ta\n",
        "    from tabulate import tabulate\n",
        "    # 📌 Uyarıları Engelle\n",
        "    warnings.filterwarnings(\"ignore\", category=FutureWarning)\n",
        "\n",
        "except ImportError:\n",
        "    print(\"Eksik kütüphaneler var, lütfen kurulumları tamamlayın.\")\n",
        "    exit()\n",
        "\n",
        "# 📌 Kullanıcıdan Zaman Dilimi Seçimi\n",
        "zaman_periyotlari = {\n",
        "    \"1\": (\"1 Saatlik\", Interval.in_1_hour, 100),  # 1 saatlik için 100 bar\n",
        "    \"4\": (\"4 Saatlik\", Interval.in_4_hour, 200),  # 4 saatlik için 200 bar\n",
        "    \"D\": (\"Günlük\", Interval.in_daily, 400),      # Günlük için 400 bar\n",
        "    \"W\": (\"Haftalık\", Interval.in_weekly, 150),   # Haftalık için 150 bar\n",
        "    \"M\": (\"Aylık\", Interval.in_monthly, 55),      # Aylık için 55 bar\n",
        "}\n",
        "\n",
        "zaman_dilimleri_ad = {\n",
        "    \"1\": \"1 Saatlik\",\n",
        "    \"4\": \"4 Saatlik\",\n",
        "    \"D\": \"Günlük\",\n",
        "    \"W\": \"Haftalık\",\n",
        "    \"M\": \"Aylık\",\n",
        "}\n",
        "\n",
        "print(\"\\n📌 Lütfen analiz etmek istediğiniz zaman dilimini seçin:\")\n",
        "for key, val in zaman_dilimleri_ad.items():\n",
        "    print(f\"{key} - {val}\")\n",
        "\n",
        "zaman_secimi = input(\"Seçiminizi yapın (1, 4, D, W, M): \").upper()\n",
        "\n",
        "if zaman_secimi not in zaman_periyotlari:\n",
        "    print(\"⚠ Geçersiz seçim! Varsayılan olarak Günlük analiz yapılıyor.\")\n",
        "    zaman_secimi = \"D\"\n",
        "\n",
        "interval_label, interval, n_bars = zaman_periyotlari[zaman_secimi]\n",
        "\n",
        "print(f\"📌 Seçilen Zaman Periyodu: {interval_label}, Mum Sayısı: {n_bars}\")\n",
        "\n",
        "# 📌 Kullanıcıdan RSI Aralığı Seçimi\n",
        "rsi_araliklari = {\n",
        "    \"1\": (0, 20),\n",
        "    \"2\": (20, 40),\n",
        "    \"3\": (40, 50),\n",
        "    \"4\": (40, 60),\n",
        "    \"5\": (50, 70),\n",
        "}\n",
        "\n",
        "print(\"\\n📌 RSI seviye aralığını seçin:\")\n",
        "for key, val in rsi_araliklari.items():\n",
        "    print(f\"{key} - {val[0]} - {val[1]}\")\n",
        "\n",
        "rsi_secimi = input(\"Seçiminizi yapın (1, 2, 3, 4, 5): \")\n",
        "\n",
        "if rsi_secimi not in rsi_araliklari:\n",
        "    print(\"⚠ Geçersiz seçim! Varsayılan olarak 30'u geçen hisseler aranacak.\")\n",
        "    rsi_aralik = (30, 100)  # Varsayılan olarak RSI 30 üzeri olanları alırız\n",
        "else:\n",
        "    rsi_aralik = rsi_araliklari[rsi_secimi]\n",
        "\n",
        "print(f\"📌 Seçilen RSI Aralığı: {rsi_aralik[0]} - {rsi_aralik[1]}\")\n",
        "\n",
        "# 📌 TradingView Bağlantısı\n",
        "tv = TvDatafeed()\n",
        "\n",
        "# 📌 BIST Hisselerini Al\n",
        "Hisseler = get_all_symbols(market='turkey')\n",
        "Hisseler = [symbol.replace('BIST:', '') for symbol in Hisseler]\n",
        "Hisseler = sorted(Hisseler)\n",
        "\n",
        "# 📌 Tarama Sonuçları DataFrame\n",
        "tarama_sonuclari = pd.DataFrame(columns=['Hisse', 'RSI (14)', 'RSI - SMA Durumu', 'Son Fiyat'])\n",
        "\n",
        "# 📌 Tarama İşlemi\n",
        "for hisse in tqdm(Hisseler, desc=f\"📊 {interval_label} RSI {rsi_aralik[0]} - {rsi_aralik[1]} aralığında taranıyor\", unit=\"hisse\"):\n",
        "    try:\n",
        "        df = tv.get_hist(hisse, exchange='BIST', interval=interval, n_bars=n_bars)\n",
        "\n",
        "        if df is None or len(df) < 14:\n",
        "            print(f\"⚠ {hisse}: Yeterli veri yok, taramaya dahil edilmedi.\")\n",
        "            continue\n",
        "\n",
        "        # 📌 RSI Hesaplama\n",
        "        df[\"RSI\"] = ta.momentum.RSIIndicator(df[\"close\"], window=14).rsi()\n",
        "\n",
        "        # 📌 RSI'nın SMA'sını hesapla (14 periyotluk SMA)\n",
        "        df[\"RSI_SMA\"] = df[\"RSI\"].rolling(window=14).mean()\n",
        "\n",
        "        # 📌 Önceki ve Güncel RSI Değerleri\n",
        "        anlik_rsi = df[\"RSI\"].iloc[-2]  # Önceki günün RSI değeri\n",
        "        son_rsi = df[\"RSI\"].iloc[-1]    # Güncel RSI değeri\n",
        "\n",
        "        # 📌 Önceki ve Güncel RSI SMA Değerleri\n",
        "        anlik_rsi_sma = df[\"RSI_SMA\"].iloc[-2]  # Önceki gün RSI SMA değeri\n",
        "        son_rsi_sma = df[\"RSI_SMA\"].iloc[-1]    # Güncel RSI SMA değeri\n",
        "\n",
        "        # 📌 Ekrana gerçek RSI değerlerini yazdır\n",
        "        print(f\"{hisse}: Önceki RSI = {anlik_rsi}, Güncel RSI = {son_rsi}, Seviye Aralığı = {rsi_aralik}\")\n",
        "\n",
        "        # 📌 1. Adım: RSI'nın Belirli Aralıkta Olup Olmadığını Kontrol Et\n",
        "        if rsi_aralik[0] <= son_rsi <= rsi_aralik[1]:\n",
        "            print(f\"{hisse} RSI {rsi_aralik} aralığında! 🚀\")\n",
        "\n",
        "            # 📌 2. Adım: RSI - SMA İlişkisini Kontrol Et\n",
        "            if son_rsi > son_rsi_sma:\n",
        "                if anlik_rsi < anlik_rsi_sma:\n",
        "                    rsi_sma_durumu = \"RSI SMA'yı Yukarı Kesti ✅\"\n",
        "                else:\n",
        "                    rsi_sma_durumu = \"RSI SMA'nın Üstünde\"\n",
        "            else:\n",
        "                if anlik_rsi > anlik_rsi_sma:\n",
        "                    rsi_sma_durumu = \"RSI SMA'yı Aşağı Kesti ❌\"\n",
        "                else:\n",
        "                    rsi_sma_durumu = \"RSI SMA'nın Altında\"\n",
        "\n",
        "            # 📌 3. Adım: RSI Yönü Yatay Durumu Ekleme\n",
        "            rsi_degisim = abs(son_rsi - anlik_rsi)  # RSI değişim miktarı\n",
        "            if rsi_degisim < 1:  # %1'den az değişim yatay kabul edilir\n",
        "                rsi_sma_durumu += \" | RSI Yönü Yatay ➡️\"\n",
        "\n",
        "            # 📌 4. Adım: Sonuçları DataFrame'e Ekle\n",
        "            tarama_sonuclari.loc[len(tarama_sonuclari)] = [\n",
        "                hisse, round(son_rsi, 2), rsi_sma_durumu, round(df[\"close\"].iloc[-1], 2)\n",
        "            ]\n",
        "\n",
        "    except Exception as e:\n",
        "        print(f\"{hisse} için hata: {e}\")\n",
        "\n",
        "# 📌 1. Liste: RSI Aralığına Uyan Tüm Hisseler\n",
        "print(\"\\n📊 **RSI Sonuçları (SMA Bilgisi ile)**\")\n",
        "print(tabulate(tarama_sonuclari, headers=\"keys\", tablefmt=\"grid\"))\n",
        "\n",
        "# 📌 2. Liste: RSI SMA'yı Yukarı Kesten veya RSI SMA'nın Üzerinde & RSI Yönü Yukarı Olan Hisseler\n",
        "yukari_kesen_veya_ustunde_hisseler = tarama_sonuclari[\n",
        "    (tarama_sonuclari[\"RSI - SMA Durumu\"].str.contains(\"Yukarı Kesti\")) |\n",
        "    (\n",
        "        (tarama_sonuclari[\"RSI - SMA Durumu\"].str.contains(\"RSI SMA'nın Üstünde\")) &\n",
        "        (~tarama_sonuclari[\"RSI - SMA Durumu\"].str.contains(\"Yatay\"))\n",
        "    )\n",
        "]\n",
        "\n",
        "print(\"\\n🚀 **RSI SMA'yı Yukarı Kesten veya RSI SMA'nın Üzerinde & RSI Yönü Yukarı Olan Hisseler**\")\n",
        "print(tabulate(yukari_kesen_veya_ustunde_hisseler, headers=\"keys\", tablefmt=\"grid\"))\n",
        "\n",
        "\n",
        "# 📌 Tarama Sonucu Bilgilendirmesi\n",
        "tarih_saat = datetime.now().strftime(\"%Y-%m-%d %H:%M\")\n",
        "toplam_hisse = len(tarama_sonuclari)\n",
        "yukari_kesen_sayi = len(yukari_kesen_veya_ustunde_hisseler)  # Düzeltme burada\n",
        "\n",
        "\n",
        "print(f\"\"\"\n",
        "📊 **{interval_label} RSI {rsi_aralik[0]} - {rsi_aralik[1]} Aralığında Hisseler (RSI - SMA Bilgili)**\n",
        "{tarih_saat} tarihinde yapılan tarama sonucunda, {toplam_hisse} adet hisse bulundu.\n",
        "🚀 **RSI SMA'yı Yukarı Kesten Hisseler**: {yukari_kesen_sayi} adet\n",
        "\"\"\")\n",
        "\n",
        "# 📌 Sonuçları Excel'e Kaydet\n",
        "output_file = f\"RSI_SMA_ANALIZ_{interval_label}_{datetime.now().strftime('%Y%m%d_%H%M')}.xlsx\"\n",
        "tarama_sonuclari.to_excel(output_file, index=False)\n",
        "print(f\"\\n💾 **Sonuçlar '{output_file}' dosyasına kaydedildi.** ✅\")\n",
        "\n",
        "\n"
      ]
    }
  ],
  "metadata": {
    "colab": {
      "provenance": [],
      "include_colab_link": true
    },
    "kernelspec": {
      "display_name": "Python 3",
      "name": "python3"
    },
    "language_info": {
      "name": "python"
    }
  },
  "nbformat": 4,
  "nbformat_minor": 0
}