{
  "nbformat": 4,
  "nbformat_minor": 0,
  "metadata": {
    "colab": {
      "provenance": [],
      "include_colab_link": true
    },
    "kernelspec": {
      "name": "python3",
      "display_name": "Python 3"
    },
    "language_info": {
      "name": "python"
    }
  },
  "cells": [
    {
      "cell_type": "markdown",
      "metadata": {
        "id": "view-in-github",
        "colab_type": "text"
      },
      "source": [
        "<a href=\"https://colab.research.google.com/github/talpt/pyton/blob/main/BB_Cross_UP.ipynb\" target=\"_parent\"><img src=\"https://colab.research.google.com/assets/colab-badge.svg\" alt=\"Open In Colab\"/></a>"
      ]
    },
    {
      "cell_type": "code",
      "execution_count": null,
      "metadata": {
        "colab": {
          "base_uri": "https://localhost:8080/"
        },
        "id": "lBNXQWXCqCf-",
        "outputId": "92d5a5a7-4436-4d4a-c1ef-1bd137f4ffab"
      },
      "outputs": [
        {
          "output_type": "stream",
          "name": "stderr",
          "text": [
            "WARNING:tvDatafeed.main:you are using nologin method, data you access may be limited\n"
          ]
        },
        {
          "name": "stdout",
          "output_type": "stream",
          "text": [
            "Zaman Periyodu Seçin:\n",
            "1 - 4 Saatlik\n",
            "2 - Günlük\n",
            "3 - Haftalık\n",
            "4 - Aylık\n",
            "Seçiminizi yapın (1/2/3/4): 3\n"
          ]
        },
        {
          "output_type": "stream",
          "name": "stderr",
          "text": [
            "Tarama Yapılıyor:   4%|▍         | 26/601 [00:14<05:43,  1.67hisse/s]ERROR:tvDatafeed.main:Connection to remote host was lost.\n",
            "ERROR:tvDatafeed.main:no data, please check the exchange and symbol\n",
            "Tarama Yapılıyor:   4%|▍         | 27/601 [00:14<04:57,  1.93hisse/s]"
          ]
        },
        {
          "output_type": "stream",
          "name": "stdout",
          "text": [
            "⚠ ALARK hissesi için Haftalık zaman aralığında veri bulunamadı.\n"
          ]
        },
        {
          "output_type": "stream",
          "name": "stderr",
          "text": [
            "Tarama Yapılıyor: 100%|██████████| 601/601 [05:29<00:00,  1.82hisse/s]"
          ]
        },
        {
          "output_type": "stream",
          "name": "stdout",
          "text": [
            "\n",
            "Haftalık periyotta, Bollinger Bandı Taramasında 4 hisse bulundu.\n",
            "\n",
            "1. Liste: Bollinger Orta Bandın Üzerinde olup (Banda Uzaklık Yüzdesi %0 -%5 arasında) Koşula Uyan Hisseler\n",
            "Hisse  Son Fiyat  Orta Bant  Uzaklık (%) Üst Bant Yönü Orta Bant Yönü Alt Bant Yönü\n",
            "MEGMT      29.98    29.7150     0.891805         Aşağı          Aşağı         Aşağı\n",
            "SDTTR     215.10   212.7700     1.095079         Aşağı          Aşağı         Yatay\n",
            "YKSLN       7.69     7.3270     4.954279        Yukarı          Yatay         Aşağı\n",
            "YUNSA       6.43     6.2225     3.334673         Yatay          Yatay         Yatay\n",
            "\n",
            "2. Liste: Üst Band Yönü YUKARI/Orta Band Yönü YUKARI/Alt Band Yönü AŞAĞI Özel Koşuluna uyan hisse bulunamadı.\n",
            "\n",
            "Sonuçlar 'bollinger_tarama_Haftalık_2025-03-20_19-17-49.xlsx' dosyasına kaydedildi.\n"
          ]
        },
        {
          "output_type": "stream",
          "name": "stderr",
          "text": [
            "\n"
          ]
        }
      ],
      "source": [
        "# Gerekli Kütüphanelerin İndirilmesi (Colab için gerekli kurulumlar)\n",
        "try:\n",
        "    import tvDatafeed\n",
        "    import tradingview_screener\n",
        "    # import colorama  # Kullanılmıyorsa kaldırılabilir\n",
        "    import tqdm\n",
        "    import mplfinance as mpf  # Mum grafiği için (isteğe bağlı)\n",
        "except ImportError:\n",
        "    # Colab için eksik kütüphaneleri yükleyin\n",
        "    !pip install tradingview_screener\n",
        "    !pip install git+https://github.com/rongardF/tvdatafeed  matplotlib openpyxl\n",
        "    !pip install tradingview-screener==2.5.0  # Bazen sürüm çakışmaları olabiliyor\n",
        "    # !pip install colorama  # Kullanılmıyorsa kaldırılabilir\n",
        "    !pip install tqdm\n",
        "    !pip install mplfinance  # Mum grafiği için (isteğe bağlı)\n",
        "\n",
        "# from colorama import Fore, Style\n",
        "from tradingview_screener import get_all_symbols\n",
        "import numpy as np\n",
        "from tvDatafeed import TvDatafeed, Interval\n",
        "from tqdm import tqdm\n",
        "import pandas as pd\n",
        "import warnings\n",
        "from datetime import datetime\n",
        "\n",
        "# Uyarıları Engelle\n",
        "warnings.filterwarnings(\"ignore\", category=FutureWarning)\n",
        "\n",
        "# TvDatafeed'in Çağırılması\n",
        "tv = TvDatafeed()\n",
        "\n",
        "def bollinger_yonu_belirle(data, band='SMA'):\n",
        "    \"\"\"\n",
        "    Bollinger Bantlarının yönünü belirler.\n",
        "    :param data: DataFrame (Bollinger Bantları hesaplanmış veri)\n",
        "    :param band: 'SMA' (Orta Bant), 'Upper' (Üst Bant), 'Lower' (Alt Bant)\n",
        "    :return: 'Yukarı', 'Aşağı', 'Yatay'\n",
        "    \"\"\"\n",
        "    son_3_deger = data[band].iloc[-3:]  # Son 3 periyot\n",
        "    if son_3_deger.is_monotonic_increasing:  # Artan\n",
        "        return 'Yukarı'\n",
        "    elif son_3_deger.is_monotonic_decreasing:  # Azalan\n",
        "        return 'Aşağı'\n",
        "    else:\n",
        "        return 'Yatay'\n",
        "\n",
        "# Kullanıcıdan zaman dilimi seçimi\n",
        "print(\"Zaman Periyodu Seçin:\")\n",
        "print(\"1 - 4 Saatlik\\n2 - Günlük\\n3 - Haftalık\\n4 - Aylık\")\n",
        "choice = input(\"Seçiminizi yapın (1/2/3/4): \")\n",
        "\n",
        "if choice == \"1\":\n",
        "    interval = Interval.in_4_hour\n",
        "    interval_label = \"4 Saatlik\"\n",
        "    n_bars = 300  # Geçmiş verileri de hesaba katmak için artırıyoruz\n",
        "elif choice == \"2\":\n",
        "    interval = Interval.in_daily\n",
        "    interval_label = \"Günlük\"\n",
        "    n_bars = 144\n",
        "elif choice == \"3\":\n",
        "    interval = Interval.in_weekly\n",
        "    interval_label = \"Haftalık\"\n",
        "    n_bars = 89\n",
        "elif choice == \"4\":\n",
        "    interval = Interval.in_monthly\n",
        "    interval_label = \"Aylık\"\n",
        "    n_bars = 40\n",
        "else:\n",
        "    print(\"Geçersiz seçim! Varsayılan olarak günlük veri kullanılacak.\")\n",
        "    interval = Interval.in_daily\n",
        "    interval_label = \"Günlük\"\n",
        "    n_bars = 100\n",
        "\n",
        "\n",
        "# Tüm BIST Hisselerinin Listesini Alıyoruz\n",
        "Hisseler = get_all_symbols(market='turkey')\n",
        "Hisseler = [symbol.replace('BIST:', '') for symbol in Hisseler]\n",
        "Hisseler = sorted(Hisseler)\n",
        "\n",
        "# Sonuçları tutmak için bir DataFrame\n",
        "tarama_sonuclari = pd.DataFrame(columns=['Hisse', 'Son Fiyat', 'Orta Bant', 'Uzaklık (%)'])\n",
        "\n",
        "# Bollinger Bantları Hesaplama ve Tarama Fonksiyonu\n",
        "def bollinger_tarama(data):\n",
        "    # Bollinger Bantları Hesaplama (20 periyot, 2 standart sapma)\n",
        "    data['SMA'] = data['Close'].rolling(window=20).mean()\n",
        "    data['STD'] = data['Close'].rolling(window=20).std()\n",
        "    data['Upper'] = data['SMA'] + (data['STD'] * 2)\n",
        "    data['Lower'] = data['SMA'] - (data['STD'] * 2)\n",
        "\n",
        "    # Son ve bir önceki mumun verileri\n",
        "    son_kapanis = data['Close'].iloc[-1]\n",
        "    onceki_kapanis = data['Close'].iloc[-2]\n",
        "    orta_bant = data['SMA'].iloc[-1]\n",
        "    onceki_orta_bant = data['SMA'].iloc[-2]\n",
        "    ust_bant = data['Upper'].iloc[-1]\n",
        "\n",
        "    # Bollinger Bantlarının Yönlerini Belirleme\n",
        "    ust_bant_yonu = bollinger_yonu_belirle(data, band='Upper')\n",
        "    orta_bant_yonu = bollinger_yonu_belirle(data, band='SMA')\n",
        "    alt_bant_yonu = bollinger_yonu_belirle(data, band='Lower')\n",
        "\n",
        "    # Koşulları Kontrol Et\n",
        "    if (onceki_kapanis <= onceki_orta_bant) and (son_kapanis > orta_bant):\n",
        "        # Uzaklık kontrolü (%0 - %5)\n",
        "        uzaklik = ((son_kapanis - orta_bant) / orta_bant) * 100\n",
        "        if 0 <= uzaklik <= 5:\n",
        "            return son_kapanis, orta_bant, uzaklik, ust_bant_yonu, orta_bant_yonu, alt_bant_yonu\n",
        "    return None, None, None, None, None, None\n",
        "\n",
        "\n",
        "# Tarama İşlemi\n",
        "for hisse in tqdm(Hisseler, desc=\"Tarama Yapılıyor\", unit=\"hisse\"):\n",
        "    try:\n",
        "        data = tv.get_hist(hisse, exchange='BIST', interval=interval, n_bars=n_bars)\n",
        "        if data is None or data.empty:\n",
        "            print(f\"⚠ {hisse} hissesi için {interval_label} zaman aralığında veri bulunamadı.\")\n",
        "            continue\n",
        "\n",
        "        # Sütun isimlerini kontrol et ve düzelt (GÜVENLİ YÖNTEM)\n",
        "        for col in ['open', 'high', 'low', 'close', 'volume']:\n",
        "            if col in data.columns:\n",
        "                data.rename(columns={col: col.capitalize()}, inplace=True)\n",
        "                # Alternatif: data.rename(columns={'open': 'Open', 'high': 'High', 'low': 'Low', 'close': 'Close', 'volume': 'Volume'}, inplace=True)\n",
        "\n",
        "        # Bollinger Tarama Koşullarını Kontrol Etme\n",
        "        son_fiyat, orta_bant, uzaklik, ust_bant_yonu, orta_bant_yonu, alt_bant_yonu = bollinger_tarama(data)\n",
        "        if son_fiyat is not None:\n",
        "            new_row = pd.DataFrame([{\n",
        "                'Hisse': hisse,\n",
        "                'Son Fiyat': son_fiyat,\n",
        "                'Orta Bant': orta_bant,\n",
        "                'Uzaklık (%)': uzaklik,\n",
        "                'Üst Bant Yönü': ust_bant_yonu,  # Yeni eklenen sütun\n",
        "                'Orta Bant Yönü': orta_bant_yonu,  # Yeni eklenen sütun\n",
        "                'Alt Bant Yönü': alt_bant_yonu  # Yeni eklenen sütun\n",
        "            }])\n",
        "            tarama_sonuclari = pd.concat([tarama_sonuclari, new_row], ignore_index=True)\n",
        "\n",
        "\n",
        "    except Exception as e:\n",
        "        print(f\"{hisse} için hata: {e}\")  # Hata mesajı\n",
        "\n",
        "\n",
        "# Tarama Sonuçlarını Görüntüleme ve Kaydetme\n",
        "if not tarama_sonuclari.empty:\n",
        "    print(f\"\\n{interval_label} periyotta, Bollinger Bandı Taramasında {len(tarama_sonuclari)} hisse bulundu.\\n\")\n",
        "\n",
        "    # 1. Liste: Tüm Koşula Uyan Hisseler\n",
        "    print(\"1. Liste: Bollinger Orta Bandın Üzerinde olup (Banda Uzaklık Yüzdesi %0 -%5 arasında) Koşula Uyan Hisseler\")\n",
        "    print(tarama_sonuclari.to_string(index=False))  # Daha okunabilir çıktı\n",
        "\n",
        "    # 2. Liste: Özel Koşula Uyan Hisseler\n",
        "    ozel_kosul = (\n",
        "        (tarama_sonuclari['Üst Bant Yönü'] == 'Yukarı') &\n",
        "        (tarama_sonuclari['Orta Bant Yönü'] == 'Yukarı') &\n",
        "        (tarama_sonuclari['Alt Bant Yönü'] == 'Aşağı')\n",
        "    )\n",
        "    ozel_kosul_hisseler = tarama_sonuclari[ozel_kosul]\n",
        "\n",
        "    if not ozel_kosul_hisseler.empty:\n",
        "        print(\"\\n2. Liste: Üst Band Yönü YUKARI/Orta Band Yönü YUKARI/Alt Band Yönü AŞAĞI Özel Koşuluna Uyan Hisseler\")\n",
        "        print(ozel_kosul_hisseler.to_string(index=False))\n",
        "    else:\n",
        "        print(\"\\n2. Liste: Üst Band Yönü YUKARI/Orta Band Yönü YUKARI/Alt Band Yönü AŞAĞI Özel Koşuluna uyan hisse bulunamadı.\")\n",
        "\n",
        "    # Excel Dosyasına Kaydetme\n",
        "    output_file = f\"bollinger_tarama_{interval_label}_{datetime.now().strftime('%Y-%m-%d_%H-%M-%S')}.xlsx\"\n",
        "    with pd.ExcelWriter(output_file) as writer:\n",
        "        tarama_sonuclari.to_excel(writer, sheet_name='Tüm Hisseler', index=False)\n",
        "        if not ozel_kosul_hisseler.empty:\n",
        "            ozel_kosul_hisseler.to_excel(writer, sheet_name='Özel Koşul Hisseler', index=False)\n",
        "    print(f\"\\nSonuçlar '{output_file}' dosyasına kaydedildi.\")\n",
        "else:\n",
        "    print(f\"\\n{interval_label} periyotta, Bollinger Bandı taramasına uygun hisse bulunamadı.\")"
      ]
    }
  ]
}