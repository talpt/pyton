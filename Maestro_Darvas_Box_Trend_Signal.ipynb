{
  "cells": [
    {
      "cell_type": "markdown",
      "metadata": {
        "id": "view-in-github",
        "colab_type": "text"
      },
      "source": [
        "<a href=\"https://colab.research.google.com/github/talpt/pyton/blob/main/Maestro_Darvas_Box_Trend_Signal.ipynb\" target=\"_parent\"><img src=\"https://colab.research.google.com/assets/colab-badge.svg\" alt=\"Open In Colab\"/></a>"
      ]
    },
    {
      "cell_type": "code",
      "execution_count": null,
      "metadata": {
        "colab": {
          "base_uri": "https://localhost:8080/"
        },
        "id": "cfWmktU4Ra1h",
        "outputId": "a684ed47-e8bb-49cd-e9a8-517e146269e5"
      },
      "outputs": [
        {
          "output_type": "stream",
          "name": "stdout",
          "text": [
            "Collecting git+https://github.com/rongardF/tvdatafeed\n",
            "  Cloning https://github.com/rongardF/tvdatafeed to /tmp/pip-req-build-s5sj6e_6\n",
            "  Running command git clone --filter=blob:none --quiet https://github.com/rongardF/tvdatafeed /tmp/pip-req-build-s5sj6e_6\n",
            "  Resolved https://github.com/rongardF/tvdatafeed to commit e6f6aaa7de439ac6e454d9b26d2760ded8dc4923\n",
            "  Preparing metadata (setup.py) ... \u001b[?25l\u001b[?25hdone\n",
            "Requirement already satisfied: openpyxl in /usr/local/lib/python3.11/dist-packages (3.1.5)\n",
            "Requirement already satisfied: setuptools in /usr/local/lib/python3.11/dist-packages (from tvdatafeed==2.1.0) (75.1.0)\n",
            "Requirement already satisfied: pandas in /usr/local/lib/python3.11/dist-packages (from tvdatafeed==2.1.0) (2.2.2)\n",
            "Requirement already satisfied: websocket-client in /usr/local/lib/python3.11/dist-packages (from tvdatafeed==2.1.0) (1.8.0)\n",
            "Requirement already satisfied: requests in /usr/local/lib/python3.11/dist-packages (from tvdatafeed==2.1.0) (2.32.3)\n",
            "Requirement already satisfied: et-xmlfile in /usr/local/lib/python3.11/dist-packages (from openpyxl) (2.0.0)\n",
            "Requirement already satisfied: numpy>=1.23.2 in /usr/local/lib/python3.11/dist-packages (from pandas->tvdatafeed==2.1.0) (1.26.4)\n",
            "Requirement already satisfied: python-dateutil>=2.8.2 in /usr/local/lib/python3.11/dist-packages (from pandas->tvdatafeed==2.1.0) (2.8.2)\n",
            "Requirement already satisfied: pytz>=2020.1 in /usr/local/lib/python3.11/dist-packages (from pandas->tvdatafeed==2.1.0) (2024.2)\n",
            "Requirement already satisfied: tzdata>=2022.7 in /usr/local/lib/python3.11/dist-packages (from pandas->tvdatafeed==2.1.0) (2025.1)\n",
            "Requirement already satisfied: charset-normalizer<4,>=2 in /usr/local/lib/python3.11/dist-packages (from requests->tvdatafeed==2.1.0) (3.4.1)\n",
            "Requirement already satisfied: idna<4,>=2.5 in /usr/local/lib/python3.11/dist-packages (from requests->tvdatafeed==2.1.0) (3.10)\n",
            "Requirement already satisfied: urllib3<3,>=1.21.1 in /usr/local/lib/python3.11/dist-packages (from requests->tvdatafeed==2.1.0) (2.3.0)\n",
            "Requirement already satisfied: certifi>=2017.4.17 in /usr/local/lib/python3.11/dist-packages (from requests->tvdatafeed==2.1.0) (2024.12.14)\n",
            "Requirement already satisfied: six>=1.5 in /usr/local/lib/python3.11/dist-packages (from python-dateutil>=2.8.2->pandas->tvdatafeed==2.1.0) (1.17.0)\n",
            "Requirement already satisfied: tradingview-screener==2.5.0 in /usr/local/lib/python3.11/dist-packages (2.5.0)\n",
            "Requirement already satisfied: pandas<3.0.0,>=2.1.2 in /usr/local/lib/python3.11/dist-packages (from tradingview-screener==2.5.0) (2.2.2)\n",
            "Requirement already satisfied: requests<3.0.0,>=2.31.0 in /usr/local/lib/python3.11/dist-packages (from tradingview-screener==2.5.0) (2.32.3)\n",
            "Requirement already satisfied: numpy>=1.23.2 in /usr/local/lib/python3.11/dist-packages (from pandas<3.0.0,>=2.1.2->tradingview-screener==2.5.0) (1.26.4)\n",
            "Requirement already satisfied: python-dateutil>=2.8.2 in /usr/local/lib/python3.11/dist-packages (from pandas<3.0.0,>=2.1.2->tradingview-screener==2.5.0) (2.8.2)\n",
            "Requirement already satisfied: pytz>=2020.1 in /usr/local/lib/python3.11/dist-packages (from pandas<3.0.0,>=2.1.2->tradingview-screener==2.5.0) (2024.2)\n",
            "Requirement already satisfied: tzdata>=2022.7 in /usr/local/lib/python3.11/dist-packages (from pandas<3.0.0,>=2.1.2->tradingview-screener==2.5.0) (2025.1)\n",
            "Requirement already satisfied: charset-normalizer<4,>=2 in /usr/local/lib/python3.11/dist-packages (from requests<3.0.0,>=2.31.0->tradingview-screener==2.5.0) (3.4.1)\n",
            "Requirement already satisfied: idna<4,>=2.5 in /usr/local/lib/python3.11/dist-packages (from requests<3.0.0,>=2.31.0->tradingview-screener==2.5.0) (3.10)\n",
            "Requirement already satisfied: urllib3<3,>=1.21.1 in /usr/local/lib/python3.11/dist-packages (from requests<3.0.0,>=2.31.0->tradingview-screener==2.5.0) (2.3.0)\n",
            "Requirement already satisfied: certifi>=2017.4.17 in /usr/local/lib/python3.11/dist-packages (from requests<3.0.0,>=2.31.0->tradingview-screener==2.5.0) (2024.12.14)\n",
            "Requirement already satisfied: six>=1.5 in /usr/local/lib/python3.11/dist-packages (from python-dateutil>=2.8.2->pandas<3.0.0,>=2.1.2->tradingview-screener==2.5.0) (1.17.0)\n",
            "Requirement already satisfied: tqdm in /usr/local/lib/python3.11/dist-packages (4.67.1)\n"
          ]
        },
        {
          "output_type": "stream",
          "name": "stderr",
          "text": [
            "WARNING:tvDatafeed.main:you are using nologin method, data you access may be limited\n"
          ]
        },
        {
          "name": "stdout",
          "output_type": "stream",
          "text": [
            "Kaç farklı zaman diliminde tarama yapmak istiyorsunuz?\n",
            "1: Tek Zaman Dilimi\n",
            "2: İki Zaman Dilimi\n",
            "Seçiminizi yapın (1-2): 2\n",
            "Lütfen zaman dilimi(lerini) seçin:\n",
            "1: 15 Dakika\n",
            "2: 30 Dakika\n",
            "3: 45 Dakika\n",
            "4: 1 Saat\n",
            "5: 2 Saat\n",
            "6: 4 Saat\n",
            "7: Günlük\n",
            "8: Haftalık\n",
            "9: Aylık\n",
            "Birinci zaman dilimini seçin (1-9): 7\n",
            "İkinci zaman dilimini seçin (1-9): 6\n"
          ]
        },
        {
          "output_type": "stream",
          "name": "stderr",
          "text": [
            " Günlük:   3%|▎         | 15/585 [00:08<05:56,  1.60hisse/s]"
          ]
        },
        {
          "output_type": "stream",
          "name": "stdout",
          "text": [
            "Tamamlandı: AKCNS - Günlük - Darvas Box Yukarı - Sinyal Zamanı: 2025-01-24 06:00:00\n"
          ]
        },
        {
          "output_type": "stream",
          "name": "stderr",
          "text": [
            " Günlük:   3%|▎         | 20/585 [00:10<04:42,  2.00hisse/s]"
          ]
        },
        {
          "output_type": "stream",
          "name": "stdout",
          "text": [
            "Tamamlandı: AKGRT - Günlük - Darvas Box Yukarı - Sinyal Zamanı: 2025-01-24 06:00:00\n"
          ]
        },
        {
          "output_type": "stream",
          "name": "stderr",
          "text": [
            " Günlük:   9%|▉         | 54/585 [00:33<05:55,  1.49hisse/s]"
          ]
        },
        {
          "output_type": "stream",
          "name": "stdout",
          "text": [
            "Tamamlandı: ASELS - Günlük - Darvas Box Yukarı - Sinyal Zamanı: 2025-01-24 06:00:00\n"
          ]
        },
        {
          "output_type": "stream",
          "name": "stderr",
          "text": [
            " Günlük:  10%|▉         | 56/585 [00:34<05:01,  1.76hisse/s]"
          ]
        },
        {
          "output_type": "stream",
          "name": "stdout",
          "text": [
            "Tamamlandı: ASTOR - Günlük - Darvas Box Yukarı - Sinyal Zamanı: 2025-01-24 06:00:00\n"
          ]
        },
        {
          "output_type": "stream",
          "name": "stderr",
          "text": [
            " Günlük:  10%|█         | 59/585 [00:37<05:57,  1.47hisse/s]"
          ]
        },
        {
          "output_type": "stream",
          "name": "stdout",
          "text": [
            "Tamamlandı: ATAKP - Günlük - Darvas Box Aşağı - Sinyal Zamanı: 2025-01-24 06:00:00\n"
          ]
        },
        {
          "output_type": "stream",
          "name": "stderr",
          "text": [
            " Günlük:  13%|█▎        | 78/585 [00:50<06:06,  1.38hisse/s]"
          ]
        },
        {
          "output_type": "stream",
          "name": "stdout",
          "text": [
            "Tamamlandı: BANVT - Günlük - Darvas Box Aşağı - Sinyal Zamanı: 2025-01-24 06:00:00\n"
          ]
        },
        {
          "output_type": "stream",
          "name": "stderr",
          "text": [
            " Günlük:  15%|█▌        | 90/585 [00:58<04:18,  1.92hisse/s]"
          ]
        },
        {
          "output_type": "stream",
          "name": "stdout",
          "text": [
            "Tamamlandı: BINBN - Günlük - Darvas Box Yukarı - Sinyal Zamanı: 2025-01-24 06:00:00\n"
          ]
        },
        {
          "output_type": "stream",
          "name": "stderr",
          "text": [
            " Günlük:  16%|█▌        | 92/585 [00:59<04:23,  1.87hisse/s]"
          ]
        },
        {
          "output_type": "stream",
          "name": "stdout",
          "text": [
            "Tamamlandı: BIOEN - Günlük - Darvas Box Aşağı - Sinyal Zamanı: 2025-01-24 06:00:00\n"
          ]
        },
        {
          "output_type": "stream",
          "name": "stderr",
          "text": [
            " Günlük:  16%|█▋        | 96/585 [01:01<04:07,  1.98hisse/s]"
          ]
        },
        {
          "output_type": "stream",
          "name": "stdout",
          "text": [
            "Tamamlandı: BMSCH - Günlük - Darvas Box Aşağı - Sinyal Zamanı: 2025-01-24 06:00:00\n"
          ]
        },
        {
          "output_type": "stream",
          "name": "stderr",
          "text": [
            " Günlük:  19%|█▉        | 111/585 [01:12<05:44,  1.38hisse/s]"
          ]
        },
        {
          "output_type": "stream",
          "name": "stdout",
          "text": [
            "Tamamlandı: BSOKE - Günlük - Darvas Box Yukarı - Sinyal Zamanı: 2025-01-24 06:00:00\n"
          ]
        },
        {
          "output_type": "stream",
          "name": "stderr",
          "text": [
            " Günlük:  21%|██▏       | 125/585 [01:20<04:02,  1.89hisse/s]"
          ]
        },
        {
          "output_type": "stream",
          "name": "stdout",
          "text": [
            "Tamamlandı: CEMZY - Günlük - Darvas Box Aşağı - Sinyal Zamanı: 2025-01-24 06:00:00\n"
          ]
        },
        {
          "output_type": "stream",
          "name": "stderr",
          "text": [
            " Günlük:  22%|██▏       | 128/585 [01:23<05:37,  1.36hisse/s]"
          ]
        },
        {
          "output_type": "stream",
          "name": "stdout",
          "text": [
            "Tamamlandı: CIMSA - Günlük - Darvas Box Yukarı - Sinyal Zamanı: 2025-01-24 06:00:00\n"
          ]
        },
        {
          "output_type": "stream",
          "name": "stderr",
          "text": [
            " Günlük:  24%|██▍       | 143/585 [01:33<04:26,  1.66hisse/s]"
          ]
        },
        {
          "output_type": "stream",
          "name": "stdout",
          "text": [
            "Tamamlandı: DCTTR - Günlük - Darvas Box Yukarı - Sinyal Zamanı: 2025-01-24 06:00:00\n"
          ]
        },
        {
          "output_type": "stream",
          "name": "stderr",
          "text": [
            " Günlük:  26%|██▌       | 150/585 [01:38<04:29,  1.61hisse/s]"
          ]
        },
        {
          "output_type": "stream",
          "name": "stdout",
          "text": [
            "Tamamlandı: DGATE - Günlük - Darvas Box Yukarı - Sinyal Zamanı: 2025-01-24 06:00:00\n"
          ]
        },
        {
          "output_type": "stream",
          "name": "stderr",
          "text": [
            " Günlük:  27%|██▋       | 160/585 [01:44<04:40,  1.51hisse/s]"
          ]
        },
        {
          "output_type": "stream",
          "name": "stdout",
          "text": [
            "Tamamlandı: DOCO - Günlük - Darvas Box Yukarı - Sinyal Zamanı: 2025-01-24 06:00:00\n"
          ]
        },
        {
          "output_type": "stream",
          "name": "stderr",
          "text": [
            " Günlük:  29%|██▉       | 172/585 [01:54<06:39,  1.03hisse/s]"
          ]
        },
        {
          "output_type": "stream",
          "name": "stdout",
          "text": [
            "Tamamlandı: EDATA - Günlük - Darvas Box Yukarı - Sinyal Zamanı: 2025-01-24 06:00:00\n"
          ]
        },
        {
          "output_type": "stream",
          "name": "stderr",
          "text": [
            " Günlük:  35%|███▍      | 202/585 [02:14<04:30,  1.41hisse/s]ERROR:tvDatafeed.main:[SSL: DECRYPTION_FAILED_OR_BAD_RECORD_MAC] decryption failed or bad record mac (_ssl.c:2580)\n",
            "ERROR:tvDatafeed.main:no data, please check the exchange and symbol\n",
            " Günlük:  35%|███▍      | 203/585 [02:18<10:59,  1.73s/hisse]"
          ]
        },
        {
          "output_type": "stream",
          "name": "stdout",
          "text": [
            "Error processing EUHOL: 'NoneType' object has no attribute 'rename'\n"
          ]
        },
        {
          "output_type": "stream",
          "name": "stderr",
          "text": [
            " Günlük:  37%|███▋      | 216/585 [02:28<05:13,  1.18hisse/s]"
          ]
        },
        {
          "output_type": "stream",
          "name": "stdout",
          "text": [
            "Tamamlandı: FRIGO - Günlük - Darvas Box Yukarı - Sinyal Zamanı: 2025-01-24 06:00:00\n"
          ]
        },
        {
          "output_type": "stream",
          "name": "stderr",
          "text": [
            " Günlük:  37%|███▋      | 218/585 [02:30<04:48,  1.27hisse/s]"
          ]
        },
        {
          "output_type": "stream",
          "name": "stdout",
          "text": [
            "Tamamlandı: FZLGY - Günlük - Darvas Box Yukarı - Sinyal Zamanı: 2025-01-24 06:00:00\n"
          ]
        },
        {
          "output_type": "stream",
          "name": "stderr",
          "text": [
            " Günlük:  38%|███▊      | 222/585 [02:32<04:12,  1.44hisse/s]"
          ]
        },
        {
          "output_type": "stream",
          "name": "stdout",
          "text": [
            "Tamamlandı: GEDZA - Günlük - Darvas Box Yukarı - Sinyal Zamanı: 2025-01-24 06:00:00\n"
          ]
        },
        {
          "output_type": "stream",
          "name": "stderr",
          "text": [
            " Günlük:  39%|███▉      | 230/585 [02:37<03:48,  1.56hisse/s]"
          ]
        },
        {
          "output_type": "stream",
          "name": "stdout",
          "text": [
            "Tamamlandı: GLDTR - Günlük - Darvas Box Yukarı - Sinyal Zamanı: 2025-01-24 06:00:00\n"
          ]
        },
        {
          "output_type": "stream",
          "name": "stderr",
          "text": [
            " Günlük:  41%|████▏     | 242/585 [02:44<03:08,  1.82hisse/s]"
          ]
        },
        {
          "output_type": "stream",
          "name": "stdout",
          "text": [
            "Tamamlandı: GRTHO - Günlük - Darvas Box Yukarı - Sinyal Zamanı: 2025-01-24 06:00:00\n"
          ]
        },
        {
          "output_type": "stream",
          "name": "stderr",
          "text": [
            " Günlük:  42%|████▏     | 244/585 [02:45<02:58,  1.91hisse/s]"
          ]
        },
        {
          "output_type": "stream",
          "name": "stdout",
          "text": [
            "Tamamlandı: GSDHO - Günlük - Darvas Box Aşağı - Sinyal Zamanı: 2025-01-24 06:00:00\n"
          ]
        },
        {
          "output_type": "stream",
          "name": "stderr",
          "text": [
            " Günlük:  52%|█████▏    | 303/585 [03:25<03:34,  1.31hisse/s]"
          ]
        },
        {
          "output_type": "stream",
          "name": "stdout",
          "text": [
            "Tamamlandı: KAYSE - Günlük - Darvas Box Aşağı - Sinyal Zamanı: 2025-01-24 06:00:00\n"
          ]
        },
        {
          "output_type": "stream",
          "name": "stderr",
          "text": [
            " Günlük:  60%|██████    | 351/585 [03:56<02:54,  1.34hisse/s]"
          ]
        },
        {
          "output_type": "stream",
          "name": "stdout",
          "text": [
            "Tamamlandı: LINK - Günlük - Darvas Box Aşağı - Sinyal Zamanı: 2025-01-24 06:00:00\n"
          ]
        },
        {
          "output_type": "stream",
          "name": "stderr",
          "text": [
            " Günlük:  64%|██████▍   | 377/585 [04:15<02:12,  1.57hisse/s]"
          ]
        },
        {
          "output_type": "stream",
          "name": "stdout",
          "text": [
            "Tamamlandı: METRO - Günlük - Darvas Box Yukarı - Sinyal Zamanı: 2025-01-24 06:00:00\n"
          ]
        },
        {
          "output_type": "stream",
          "name": "stderr",
          "text": [
            " Günlük:  65%|██████▌   | 382/585 [04:18<02:19,  1.46hisse/s]"
          ]
        },
        {
          "output_type": "stream",
          "name": "stdout",
          "text": [
            "Tamamlandı: MMCAS - Günlük - Darvas Box Yukarı - Sinyal Zamanı: 2025-01-24 06:00:00\n"
          ]
        },
        {
          "output_type": "stream",
          "name": "stderr",
          "text": [
            " Günlük:  70%|██████▉   | 407/585 [04:36<02:17,  1.30hisse/s]"
          ]
        },
        {
          "output_type": "stream",
          "name": "stdout",
          "text": [
            "Tamamlandı: ONRYT - Günlük - Darvas Box Aşağı - Sinyal Zamanı: 2025-01-24 06:00:00\n"
          ]
        },
        {
          "output_type": "stream",
          "name": "stderr",
          "text": [
            " Günlük:  76%|███████▌  | 443/585 [05:01<01:50,  1.28hisse/s]"
          ]
        },
        {
          "output_type": "stream",
          "name": "stdout",
          "text": [
            "Tamamlandı: PNLSN - Günlük - Darvas Box Aşağı - Sinyal Zamanı: 2025-01-24 06:00:00\n"
          ]
        },
        {
          "output_type": "stream",
          "name": "stderr",
          "text": [
            " Günlük:  76%|███████▋  | 447/585 [05:04<01:46,  1.29hisse/s]"
          ]
        },
        {
          "output_type": "stream",
          "name": "stdout",
          "text": [
            "Tamamlandı: PRDGS - Günlük - Darvas Box Aşağı - Sinyal Zamanı: 2025-01-24 06:00:00\n"
          ]
        },
        {
          "output_type": "stream",
          "name": "stderr",
          "text": [
            " Günlük:  78%|███████▊  | 457/585 [05:11<01:19,  1.61hisse/s]"
          ]
        },
        {
          "output_type": "stream",
          "name": "stdout",
          "text": [
            "Tamamlandı: RALYH - Günlük - Darvas Box Yukarı - Sinyal Zamanı: 2025-01-24 06:00:00\n"
          ]
        },
        {
          "output_type": "stream",
          "name": "stderr",
          "text": [
            " Günlük:  81%|████████  | 471/585 [05:20<01:13,  1.55hisse/s]"
          ]
        },
        {
          "output_type": "stream",
          "name": "stdout",
          "text": [
            "Tamamlandı: SANFM - Günlük - Darvas Box Yukarı - Sinyal Zamanı: 2025-01-24 06:00:00\n"
          ]
        },
        {
          "output_type": "stream",
          "name": "stderr",
          "text": [
            " Günlük:  83%|████████▎ | 487/585 [05:29<01:02,  1.58hisse/s]"
          ]
        },
        {
          "output_type": "stream",
          "name": "stdout",
          "text": [
            "Tamamlandı: SKBNK - Günlük - Darvas Box Aşağı - Sinyal Zamanı: 2025-01-24 06:00:00\n"
          ]
        },
        {
          "output_type": "stream",
          "name": "stderr",
          "text": [
            " Günlük:  85%|████████▍ | 496/585 [05:36<01:14,  1.20hisse/s]"
          ]
        },
        {
          "output_type": "stream",
          "name": "stdout",
          "text": [
            "Tamamlandı: SNKRN - Günlük - Darvas Box Yukarı - Sinyal Zamanı: 2025-01-24 06:00:00\n"
          ]
        },
        {
          "output_type": "stream",
          "name": "stderr",
          "text": [
            " Günlük:  86%|████████▋ | 506/585 [05:43<00:53,  1.48hisse/s]"
          ]
        },
        {
          "output_type": "stream",
          "name": "stdout",
          "text": [
            "Tamamlandı: SUWEN - Günlük - Darvas Box Aşağı - Sinyal Zamanı: 2025-01-24 06:00:00\n"
          ]
        },
        {
          "output_type": "stream",
          "name": "stderr",
          "text": [
            " Günlük:  88%|████████▊ | 517/585 [05:51<00:45,  1.50hisse/s]"
          ]
        },
        {
          "output_type": "stream",
          "name": "stdout",
          "text": [
            "Tamamlandı: TERA - Günlük - Darvas Box Yukarı - Sinyal Zamanı: 2025-01-24 06:00:00\n"
          ]
        },
        {
          "output_type": "stream",
          "name": "stderr",
          "text": [
            " Günlük:  91%|█████████▏| 534/585 [06:03<00:36,  1.41hisse/s]"
          ]
        },
        {
          "output_type": "stream",
          "name": "stdout",
          "text": [
            "Tamamlandı: TTKOM - Günlük - Darvas Box Yukarı - Sinyal Zamanı: 2025-01-24 06:00:00\n"
          ]
        },
        {
          "output_type": "stream",
          "name": "stderr",
          "text": [
            " Günlük:  96%|█████████▌| 559/585 [06:21<00:16,  1.57hisse/s]"
          ]
        },
        {
          "output_type": "stream",
          "name": "stdout",
          "text": [
            "Tamamlandı: VKFYO - Günlük - Darvas Box Yukarı - Sinyal Zamanı: 2025-01-24 06:00:00\n"
          ]
        },
        {
          "output_type": "stream",
          "name": "stderr",
          "text": [
            " Günlük:  99%|█████████▉| 581/585 [06:38<00:02,  1.55hisse/s]"
          ]
        },
        {
          "output_type": "stream",
          "name": "stdout",
          "text": [
            "Tamamlandı: ZGOLD - Günlük - Darvas Box Yukarı - Sinyal Zamanı: 2025-01-24 06:00:00\n"
          ]
        },
        {
          "output_type": "stream",
          "name": "stderr",
          "text": [
            " Günlük: 100%|██████████| 585/585 [06:41<00:00,  1.46hisse/s]\n"
          ]
        },
        {
          "output_type": "stream",
          "name": "stdout",
          "text": [
            "Tamamlandı: ZRGYO - Günlük - Darvas Box Yukarı - Sinyal Zamanı: 2025-01-24 06:00:00\n"
          ]
        },
        {
          "output_type": "stream",
          "name": "stderr",
          "text": [
            " 4 Saat:   1%|          | 7/585 [00:05<08:23,  1.15hisse/s]"
          ]
        },
        {
          "output_type": "stream",
          "name": "stdout",
          "text": [
            "Tamamlandı: AFYON - 4 Saat - Darvas Box Yukarı - Sinyal Zamanı: 2025-01-24 14:00:00\n"
          ]
        },
        {
          "output_type": "stream",
          "name": "stderr",
          "text": [
            " 4 Saat:   5%|▌         | 32/585 [00:22<05:45,  1.60hisse/s]"
          ]
        },
        {
          "output_type": "stream",
          "name": "stdout",
          "text": [
            "Tamamlandı: ALGYO - 4 Saat - Darvas Box Yukarı - Sinyal Zamanı: 2025-01-24 14:00:00\n"
          ]
        },
        {
          "output_type": "stream",
          "name": "stderr",
          "text": [
            " 4 Saat:   9%|▊         | 50/585 [00:35<06:08,  1.45hisse/s]"
          ]
        },
        {
          "output_type": "stream",
          "name": "stdout",
          "text": [
            "Tamamlandı: ARMGD - 4 Saat - Darvas Box Aşağı - Sinyal Zamanı: 2025-01-24 14:00:00\n"
          ]
        },
        {
          "output_type": "stream",
          "name": "stderr",
          "text": [
            " 4 Saat:  11%|█▏        | 66/585 [00:48<07:25,  1.16hisse/s]"
          ]
        },
        {
          "output_type": "stream",
          "name": "stdout",
          "text": [
            "Tamamlandı: AVOD - 4 Saat - Darvas Box Aşağı - Sinyal Zamanı: 2025-01-24 14:00:00\n"
          ]
        },
        {
          "output_type": "stream",
          "name": "stderr",
          "text": [
            " 4 Saat:  12%|█▏        | 69/585 [00:50<06:31,  1.32hisse/s]"
          ]
        },
        {
          "output_type": "stream",
          "name": "stdout",
          "text": [
            "Tamamlandı: AYDEM - 4 Saat - Darvas Box Yukarı - Sinyal Zamanı: 2025-01-24 14:00:00\n"
          ]
        },
        {
          "output_type": "stream",
          "name": "stderr",
          "text": [
            " 4 Saat:  12%|█▏        | 71/585 [00:51<05:17,  1.62hisse/s]"
          ]
        },
        {
          "output_type": "stream",
          "name": "stdout",
          "text": [
            "Tamamlandı: AYES - 4 Saat - Darvas Box Yukarı - Sinyal Zamanı: 2025-01-24 14:00:00\n"
          ]
        },
        {
          "output_type": "stream",
          "name": "stderr",
          "text": [
            " 4 Saat:  13%|█▎        | 76/585 [00:55<05:40,  1.50hisse/s]"
          ]
        },
        {
          "output_type": "stream",
          "name": "stdout",
          "text": [
            "Tamamlandı: BAKAB - 4 Saat - Darvas Box Yukarı - Sinyal Zamanı: 2025-01-24 14:00:00\n"
          ]
        },
        {
          "output_type": "stream",
          "name": "stderr",
          "text": [
            " 4 Saat:  22%|██▏       | 128/585 [01:34<06:20,  1.20hisse/s]"
          ]
        },
        {
          "output_type": "stream",
          "name": "stdout",
          "text": [
            "Tamamlandı: CIMSA - 4 Saat - Darvas Box Yukarı - Sinyal Zamanı: 2025-01-24 14:00:00\n"
          ]
        },
        {
          "output_type": "stream",
          "name": "stderr",
          "text": [
            " 4 Saat:  24%|██▍       | 139/585 [01:42<05:47,  1.28hisse/s]"
          ]
        },
        {
          "output_type": "stream",
          "name": "stdout",
          "text": [
            "Tamamlandı: DAGHL - 4 Saat - Darvas Box Aşağı - Sinyal Zamanı: 2025-01-24 14:00:00\n"
          ]
        },
        {
          "output_type": "stream",
          "name": "stderr",
          "text": [
            " 4 Saat:  24%|██▍       | 143/585 [01:45<05:36,  1.31hisse/s]"
          ]
        },
        {
          "output_type": "stream",
          "name": "stdout",
          "text": [
            "Tamamlandı: DCTTR - 4 Saat - Darvas Box Yukarı - Sinyal Zamanı: 2025-01-24 14:00:00\n"
          ]
        },
        {
          "output_type": "stream",
          "name": "stderr",
          "text": [
            " 4 Saat:  26%|██▌       | 150/585 [01:50<05:24,  1.34hisse/s]"
          ]
        },
        {
          "output_type": "stream",
          "name": "stdout",
          "text": [
            "Tamamlandı: DGATE - 4 Saat - Darvas Box Yukarı - Sinyal Zamanı: 2025-01-24 14:00:00\n"
          ]
        },
        {
          "output_type": "stream",
          "name": "stderr",
          "text": [
            " 4 Saat:  27%|██▋       | 160/585 [01:58<05:25,  1.31hisse/s]"
          ]
        },
        {
          "output_type": "stream",
          "name": "stdout",
          "text": [
            "Tamamlandı: DOCO - 4 Saat - Darvas Box Yukarı - Sinyal Zamanı: 2025-01-24 14:00:00\n"
          ]
        },
        {
          "output_type": "stream",
          "name": "stderr",
          "text": [
            " 4 Saat:  34%|███▎      | 196/585 [02:24<03:37,  1.79hisse/s]"
          ]
        },
        {
          "output_type": "stream",
          "name": "stdout",
          "text": [
            "Tamamlandı: EREGL - 4 Saat - Darvas Box Yukarı - Sinyal Zamanı: 2025-01-24 14:00:00\n"
          ]
        },
        {
          "output_type": "stream",
          "name": "stderr",
          "text": [
            " 4 Saat:  38%|███▊      | 222/585 [02:43<04:01,  1.50hisse/s]"
          ]
        },
        {
          "output_type": "stream",
          "name": "stdout",
          "text": [
            "Tamamlandı: GEDZA - 4 Saat - Darvas Box Yukarı - Sinyal Zamanı: 2025-01-24 14:00:00\n"
          ]
        },
        {
          "output_type": "stream",
          "name": "stderr",
          "text": [
            " 4 Saat:  39%|███▊      | 226/585 [02:46<03:59,  1.50hisse/s]"
          ]
        },
        {
          "output_type": "stream",
          "name": "stdout",
          "text": [
            "Tamamlandı: GESAN - 4 Saat - Darvas Box Yukarı - Sinyal Zamanı: 2025-01-24 14:00:00\n"
          ]
        },
        {
          "output_type": "stream",
          "name": "stderr",
          "text": [
            " 4 Saat:  52%|█████▏    | 304/585 [03:43<03:29,  1.34hisse/s]"
          ]
        },
        {
          "output_type": "stream",
          "name": "stdout",
          "text": [
            "Tamamlandı: KBORU - 4 Saat - Darvas Box Yukarı - Sinyal Zamanı: 2025-01-24 14:00:00\n"
          ]
        },
        {
          "output_type": "stream",
          "name": "stderr",
          "text": [
            " 4 Saat:  56%|█████▌    | 328/585 [04:02<03:28,  1.24hisse/s]"
          ]
        },
        {
          "output_type": "stream",
          "name": "stdout",
          "text": [
            "Tamamlandı: KOTON - 4 Saat - Darvas Box Aşağı - Sinyal Zamanı: 2025-01-24 14:00:00\n"
          ]
        },
        {
          "output_type": "stream",
          "name": "stderr",
          "text": [
            " 4 Saat:  57%|█████▋    | 333/585 [04:05<02:43,  1.54hisse/s]"
          ]
        },
        {
          "output_type": "stream",
          "name": "stdout",
          "text": [
            "Tamamlandı: KRDMD - 4 Saat - Darvas Box Yukarı - Sinyal Zamanı: 2025-01-24 14:00:00\n"
          ]
        },
        {
          "output_type": "stream",
          "name": "stderr",
          "text": [
            " 4 Saat:  59%|█████▊    | 343/585 [04:13<03:09,  1.28hisse/s]"
          ]
        },
        {
          "output_type": "stream",
          "name": "stdout",
          "text": [
            "Tamamlandı: KUTPO - 4 Saat - Darvas Box Yukarı - Sinyal Zamanı: 2025-01-24 14:00:00\n"
          ]
        },
        {
          "output_type": "stream",
          "name": "stderr",
          "text": [
            " 4 Saat:  60%|█████▉    | 349/585 [04:18<02:54,  1.35hisse/s]"
          ]
        },
        {
          "output_type": "stream",
          "name": "stdout",
          "text": [
            "Tamamlandı: LIDFA - 4 Saat - Darvas Box Yukarı - Sinyal Zamanı: 2025-01-24 14:00:00\n"
          ]
        },
        {
          "output_type": "stream",
          "name": "stderr",
          "text": [
            "\r 4 Saat:  60%|█████▉    | 350/585 [04:19<03:19,  1.18hisse/s]"
          ]
        },
        {
          "output_type": "stream",
          "name": "stdout",
          "text": [
            "Tamamlandı: LILAK - 4 Saat - Darvas Box Aşağı - Sinyal Zamanı: 2025-01-24 14:00:00\n"
          ]
        },
        {
          "output_type": "stream",
          "name": "stderr",
          "text": [
            " 4 Saat:  65%|██████▌   | 382/585 [04:43<02:19,  1.45hisse/s]"
          ]
        },
        {
          "output_type": "stream",
          "name": "stdout",
          "text": [
            "Tamamlandı: MMCAS - 4 Saat - Darvas Box Yukarı - Sinyal Zamanı: 2025-01-24 14:00:00\n"
          ]
        },
        {
          "output_type": "stream",
          "name": "stderr",
          "text": [
            " 4 Saat:  71%|███████   | 416/585 [05:10<02:20,  1.20hisse/s]"
          ]
        },
        {
          "output_type": "stream",
          "name": "stdout",
          "text": [
            "Tamamlandı: OYAYO - 4 Saat - Darvas Box Yukarı - Sinyal Zamanı: 2025-01-24 14:00:00\n"
          ]
        },
        {
          "output_type": "stream",
          "name": "stderr",
          "text": [
            "\r 4 Saat:  71%|███████▏  | 417/585 [05:11<02:16,  1.23hisse/s]"
          ]
        },
        {
          "output_type": "stream",
          "name": "stdout",
          "text": [
            "Tamamlandı: OYLUM - 4 Saat - Darvas Box Yukarı - Sinyal Zamanı: 2025-01-24 14:00:00\n"
          ]
        },
        {
          "output_type": "stream",
          "name": "stderr",
          "text": [
            " 4 Saat:  78%|███████▊  | 459/585 [05:48<01:44,  1.20hisse/s]"
          ]
        },
        {
          "output_type": "stream",
          "name": "stdout",
          "text": [
            "Tamamlandı: REEDR - 4 Saat - Darvas Box Yukarı - Sinyal Zamanı: 2025-01-24 14:00:00\n"
          ]
        },
        {
          "output_type": "stream",
          "name": "stderr",
          "text": [
            " 4 Saat:  81%|████████  | 471/585 [05:56<01:13,  1.54hisse/s]"
          ]
        },
        {
          "output_type": "stream",
          "name": "stdout",
          "text": [
            "Tamamlandı: SANFM - 4 Saat - Darvas Box Yukarı - Sinyal Zamanı: 2025-01-24 14:00:00\n"
          ]
        },
        {
          "output_type": "stream",
          "name": "stderr",
          "text": [
            " 4 Saat:  83%|████████▎ | 487/585 [06:10<01:28,  1.11hisse/s]"
          ]
        },
        {
          "output_type": "stream",
          "name": "stdout",
          "text": [
            "Tamamlandı: SKBNK - 4 Saat - Darvas Box Aşağı - Sinyal Zamanı: 2025-01-24 14:00:00\n"
          ]
        },
        {
          "output_type": "stream",
          "name": "stderr",
          "text": [
            " 4 Saat:  84%|████████▍ | 492/585 [06:15<01:18,  1.18hisse/s]"
          ]
        },
        {
          "output_type": "stream",
          "name": "stdout",
          "text": [
            "Tamamlandı: SMRTG - 4 Saat - Darvas Box Aşağı - Sinyal Zamanı: 2025-01-24 14:00:00\n"
          ]
        },
        {
          "output_type": "stream",
          "name": "stderr",
          "text": [
            " 4 Saat:  85%|████████▍ | 496/585 [06:18<01:09,  1.27hisse/s]"
          ]
        },
        {
          "output_type": "stream",
          "name": "stdout",
          "text": [
            "Tamamlandı: SNKRN - 4 Saat - Darvas Box Yukarı - Sinyal Zamanı: 2025-01-24 14:00:00\n"
          ]
        },
        {
          "output_type": "stream",
          "name": "stderr",
          "text": [
            " 4 Saat:  88%|████████▊ | 517/585 [06:35<00:54,  1.25hisse/s]"
          ]
        },
        {
          "output_type": "stream",
          "name": "stdout",
          "text": [
            "Tamamlandı: TERA - 4 Saat - Darvas Box Yukarı - Sinyal Zamanı: 2025-01-24 14:00:00\n"
          ]
        },
        {
          "output_type": "stream",
          "name": "stderr",
          "text": [
            " 4 Saat:  91%|█████████▏| 534/585 [06:50<00:39,  1.28hisse/s]"
          ]
        },
        {
          "output_type": "stream",
          "name": "stdout",
          "text": [
            "Tamamlandı: TTKOM - 4 Saat - Darvas Box Yukarı - Sinyal Zamanı: 2025-01-24 14:00:00\n"
          ]
        },
        {
          "output_type": "stream",
          "name": "stderr",
          "text": [
            " 4 Saat:  93%|█████████▎| 544/585 [06:59<00:37,  1.09hisse/s]"
          ]
        },
        {
          "output_type": "stream",
          "name": "stdout",
          "text": [
            "Tamamlandı: ULKER - 4 Saat - Darvas Box Yukarı - Sinyal Zamanı: 2025-01-24 14:00:00\n"
          ]
        },
        {
          "output_type": "stream",
          "name": "stderr",
          "text": [
            " 4 Saat: 100%|█████████▉| 583/585 [07:27<00:01,  1.19hisse/s]"
          ]
        },
        {
          "output_type": "stream",
          "name": "stdout",
          "text": [
            "Tamamlandı: ZPBDL - 4 Saat - Darvas Box Yukarı - Sinyal Zamanı: 2025-01-24 14:00:00\n"
          ]
        },
        {
          "output_type": "stream",
          "name": "stderr",
          "text": [
            " 4 Saat: 100%|██████████| 585/585 [07:28<00:00,  1.30hisse/s]"
          ]
        },
        {
          "output_type": "stream",
          "name": "stdout",
          "text": [
            "Darvas Box Yukarı Sinyalleri:\n",
            "   Hisse Adı  Son Fiyat        Sinyal Türü Zaman Dilimi       Sinyal Zamanı\n",
            "0      AKCNS     206.30  Darvas Box Yukarı       Günlük 2025-01-24 06:00:00\n",
            "1      AKGRT       8.23  Darvas Box Yukarı       Günlük 2025-01-24 06:00:00\n",
            "2      ASELS      85.15  Darvas Box Yukarı       Günlük 2025-01-24 06:00:00\n",
            "3      ASTOR     128.00  Darvas Box Yukarı       Günlük 2025-01-24 06:00:00\n",
            "4      BINBN     101.50  Darvas Box Yukarı       Günlük 2025-01-24 06:00:00\n",
            "5      BSOKE      12.83  Darvas Box Yukarı       Günlük 2025-01-24 06:00:00\n",
            "6      CIMSA      55.50  Darvas Box Yukarı       Günlük 2025-01-24 06:00:00\n",
            "7      DCTTR      41.50  Darvas Box Yukarı       Günlük 2025-01-24 06:00:00\n",
            "8      DGATE      52.40  Darvas Box Yukarı       Günlük 2025-01-24 06:00:00\n",
            "9       DOCO    7087.50  Darvas Box Yukarı       Günlük 2025-01-24 06:00:00\n",
            "10     EDATA      14.74  Darvas Box Yukarı       Günlük 2025-01-24 06:00:00\n",
            "11     FRIGO       8.74  Darvas Box Yukarı       Günlük 2025-01-24 06:00:00\n",
            "12     FZLGY      32.00  Darvas Box Yukarı       Günlük 2025-01-24 06:00:00\n",
            "13     GEDZA      34.20  Darvas Box Yukarı       Günlük 2025-01-24 06:00:00\n",
            "14     GLDTR     270.80  Darvas Box Yukarı       Günlük 2025-01-24 06:00:00\n",
            "15     GRTHO     181.10  Darvas Box Yukarı       Günlük 2025-01-24 06:00:00\n",
            "16     METRO       2.78  Darvas Box Yukarı       Günlük 2025-01-24 06:00:00\n",
            "17     MMCAS      25.14  Darvas Box Yukarı       Günlük 2025-01-24 06:00:00\n",
            "18     RALYH     399.00  Darvas Box Yukarı       Günlük 2025-01-24 06:00:00\n",
            "19     SANFM      52.80  Darvas Box Yukarı       Günlük 2025-01-24 06:00:00\n",
            "20     SNKRN      59.50  Darvas Box Yukarı       Günlük 2025-01-24 06:00:00\n",
            "21      TERA      43.94  Darvas Box Yukarı       Günlük 2025-01-24 06:00:00\n",
            "22     TTKOM      49.70  Darvas Box Yukarı       Günlük 2025-01-24 06:00:00\n",
            "23     VKFYO      20.78  Darvas Box Yukarı       Günlük 2025-01-24 06:00:00\n",
            "24     ZGOLD     332.00  Darvas Box Yukarı       Günlük 2025-01-24 06:00:00\n",
            "25     ZRGYO      14.87  Darvas Box Yukarı       Günlük 2025-01-24 06:00:00\n",
            "26     AFYON      15.90  Darvas Box Yukarı       4 Saat 2025-01-24 14:00:00\n",
            "27     ALGYO      21.98  Darvas Box Yukarı       4 Saat 2025-01-24 14:00:00\n",
            "28     AYDEM      23.58  Darvas Box Yukarı       4 Saat 2025-01-24 14:00:00\n",
            "29      AYES       8.54  Darvas Box Yukarı       4 Saat 2025-01-24 14:00:00\n",
            "30     BAKAB      35.92  Darvas Box Yukarı       4 Saat 2025-01-24 14:00:00\n",
            "31     CIMSA      55.50  Darvas Box Yukarı       4 Saat 2025-01-24 14:00:00\n",
            "32     DCTTR      41.50  Darvas Box Yukarı       4 Saat 2025-01-24 14:00:00\n",
            "33     DGATE      52.40  Darvas Box Yukarı       4 Saat 2025-01-24 14:00:00\n",
            "34      DOCO    7087.50  Darvas Box Yukarı       4 Saat 2025-01-24 14:00:00\n",
            "35     EREGL      23.30  Darvas Box Yukarı       4 Saat 2025-01-24 14:00:00\n",
            "36     GEDZA      34.20  Darvas Box Yukarı       4 Saat 2025-01-24 14:00:00\n",
            "37     GESAN      48.70  Darvas Box Yukarı       4 Saat 2025-01-24 14:00:00\n",
            "38     KBORU      81.50  Darvas Box Yukarı       4 Saat 2025-01-24 14:00:00\n",
            "39     KRDMD      26.98  Darvas Box Yukarı       4 Saat 2025-01-24 14:00:00\n",
            "40     KUTPO      81.55  Darvas Box Yukarı       4 Saat 2025-01-24 14:00:00\n",
            "41     LIDFA       3.08  Darvas Box Yukarı       4 Saat 2025-01-24 14:00:00\n",
            "42     MMCAS      25.14  Darvas Box Yukarı       4 Saat 2025-01-24 14:00:00\n",
            "43     OYAYO      26.30  Darvas Box Yukarı       4 Saat 2025-01-24 14:00:00\n",
            "44     OYLUM       8.84  Darvas Box Yukarı       4 Saat 2025-01-24 14:00:00\n",
            "45     REEDR      14.20  Darvas Box Yukarı       4 Saat 2025-01-24 14:00:00\n",
            "46     SANFM      52.80  Darvas Box Yukarı       4 Saat 2025-01-24 14:00:00\n",
            "47     SNKRN      59.50  Darvas Box Yukarı       4 Saat 2025-01-24 14:00:00\n",
            "48      TERA      43.94  Darvas Box Yukarı       4 Saat 2025-01-24 14:00:00\n",
            "49     TTKOM      49.70  Darvas Box Yukarı       4 Saat 2025-01-24 14:00:00\n",
            "50     ULKER     120.70  Darvas Box Yukarı       4 Saat 2025-01-24 14:00:00\n",
            "51     ZPBDL     153.60  Darvas Box Yukarı       4 Saat 2025-01-24 14:00:00\n",
            "\n",
            "Darvas Box Aşağı Sinyalleri:\n",
            "   Hisse Adı  Son Fiyat       Sinyal Türü Zaman Dilimi       Sinyal Zamanı\n",
            "0      ATAKP      44.62  Darvas Box Aşağı       Günlük 2025-01-24 06:00:00\n",
            "1      BANVT     280.00  Darvas Box Aşağı       Günlük 2025-01-24 06:00:00\n",
            "2      BIOEN      15.24  Darvas Box Aşağı       Günlük 2025-01-24 06:00:00\n",
            "3      BMSCH      31.30  Darvas Box Aşağı       Günlük 2025-01-24 06:00:00\n",
            "4      CEMZY      12.06  Darvas Box Aşağı       Günlük 2025-01-24 06:00:00\n",
            "5      GSDHO       3.74  Darvas Box Aşağı       Günlük 2025-01-24 06:00:00\n",
            "6      KAYSE      18.95  Darvas Box Aşağı       Günlük 2025-01-24 06:00:00\n",
            "7       LINK     473.50  Darvas Box Aşağı       Günlük 2025-01-24 06:00:00\n",
            "8      ONRYT      68.80  Darvas Box Aşağı       Günlük 2025-01-24 06:00:00\n",
            "9      PNLSN      47.62  Darvas Box Aşağı       Günlük 2025-01-24 06:00:00\n",
            "10     PRDGS       5.25  Darvas Box Aşağı       Günlük 2025-01-24 06:00:00\n",
            "11     SKBNK       4.27  Darvas Box Aşağı       Günlük 2025-01-24 06:00:00\n",
            "12     SUWEN      23.66  Darvas Box Aşağı       Günlük 2025-01-24 06:00:00\n",
            "13     ARMGD      35.26  Darvas Box Aşağı       4 Saat 2025-01-24 14:00:00\n",
            "14      AVOD       3.20  Darvas Box Aşağı       4 Saat 2025-01-24 14:00:00\n",
            "15     DAGHL      15.48  Darvas Box Aşağı       4 Saat 2025-01-24 14:00:00\n",
            "16     KOTON      19.32  Darvas Box Aşağı       4 Saat 2025-01-24 14:00:00\n",
            "17     LILAK      26.84  Darvas Box Aşağı       4 Saat 2025-01-24 14:00:00\n",
            "18     SKBNK       4.27  Darvas Box Aşağı       4 Saat 2025-01-24 14:00:00\n",
            "19     SMRTG      39.80  Darvas Box Aşağı       4 Saat 2025-01-24 14:00:00\n",
            "\n",
            "Darvas Box yukarı ve aşağı sinyalleri 'darvas_box_signals.xlsx' dosyasına kaydedildi.\n"
          ]
        },
        {
          "output_type": "stream",
          "name": "stderr",
          "text": [
            "\n"
          ]
        }
      ],
      "source": [
        "!pip install git+https://github.com/rongardF/tvdatafeed  openpyxl\n",
        "!pip install tradingview-screener==2.5.0\n",
        "!pip install tqdm\n",
        "\n",
        "# Gerekli kütüphaneler\n",
        "import pandas as pd\n",
        "import numpy as np\n",
        "from tqdm import tqdm\n",
        "from tvDatafeed import TvDatafeed, Interval\n",
        "from tradingview_screener import get_all_symbols\n",
        "import warnings\n",
        "import openpyxl\n",
        "\n",
        "warnings.simplefilter(action='ignore', category=FutureWarning)\n",
        "\n",
        "# Kullanıcının zaman dilimi sayısını seçmesini sağlayan fonksiyon\n",
        "def get_interval_count_choice():\n",
        "    print(\"Kaç farklı zaman diliminde tarama yapmak istiyorsunuz?\")\n",
        "    print(\"1: Tek Zaman Dilimi\")\n",
        "    print(\"2: İki Zaman Dilimi\")\n",
        "\n",
        "    choice = input(\"Seçiminizi yapın (1-2): \")\n",
        "\n",
        "    if choice == '1':\n",
        "        return 1\n",
        "    elif choice == '2':\n",
        "        return 2\n",
        "    else:\n",
        "        print(\"Geçersiz seçim, varsayılan olarak iki zaman dilimi seçildi.\")\n",
        "        return 2\n",
        "\n",
        "# Kullanıcının zaman dilimini seçmesini sağlayan fonksiyon\n",
        "def get_interval_choice(count=2):\n",
        "    intervals = {\n",
        "        '1': ('15 Dakika', Interval.in_15_minute),\n",
        "        '2': ('30 Dakika', Interval.in_30_minute),\n",
        "        '3': ('45 Dakika', Interval.in_45_minute),\n",
        "        '4': ('1 Saat', Interval.in_1_hour),\n",
        "        '5': ('2 Saat', Interval.in_2_hour),\n",
        "        '6': ('4 Saat', Interval.in_4_hour),\n",
        "        '7': ('Günlük', Interval.in_daily),\n",
        "        '8': ('Haftalık', Interval.in_weekly),\n",
        "        '9': ('Aylık', Interval.in_monthly)\n",
        "    }\n",
        "\n",
        "    print(\"Lütfen zaman dilimi(lerini) seçin:\")\n",
        "    for key, value in intervals.items():\n",
        "        print(f\"{key}: {value[0]}\")\n",
        "\n",
        "    choice_1 = input(\"Birinci zaman dilimini seçin (1-9): \")\n",
        "    interval_1 = intervals.get(choice_1, ('4 Saat', Interval.in_4_hour))\n",
        "\n",
        "    if count == 2:\n",
        "        choice_2 = input(\"İkinci zaman dilimini seçin (1-9): \")\n",
        "        interval_2 = intervals.get(choice_2, ('Günlük', Interval.in_daily))\n",
        "        return [interval_1, interval_2]\n",
        "\n",
        "    return [interval_1]\n",
        "\n",
        "# Darvas Box stratejisini uygular\n",
        "def darvas_box_strategy(data):\n",
        "    df = data.copy()\n",
        "    df['High_Max'] = df['High'].rolling(window=20).max()  # 20 bar periyodu,\n",
        "    df['Low_Min'] = df['Low'].rolling(window=20).min()    # 20 bar periyodu,\n",
        "    df['Darvas_Box_Up'] = df['Close'] > df['High_Max'].shift(1)  # Üst sınır kırılımı (alım sinyali)\n",
        "    df['Darvas_Box_Down'] = df['Close'] < df['Low_Min'].shift(1)  # Alt sınır kırılımı (satış sinyali)\n",
        "    return df\n",
        "\n",
        "# TradingView API'ye bağlan\n",
        "tv = TvDatafeed()\n",
        "\n",
        "# BIST hisse senetlerini al\n",
        "Hisseler = get_all_symbols(market='turkey')\n",
        "Hisseler = [symbol.replace('BIST:', '') for symbol in Hisseler]\n",
        "Hisseler = sorted(Hisseler)\n",
        "\n",
        "# Zaman dilimi sayısını seçme\n",
        "interval_count = get_interval_count_choice()\n",
        "\n",
        "# Kullanıcının seçimine göre zaman dilimlerini al\n",
        "intervals = get_interval_choice(interval_count)\n",
        "\n",
        "# Sinyalleri depolamak için DataFrame'ler oluşturma\n",
        "df_darvas_up = pd.DataFrame(columns=['Hisse Adı', 'Son Fiyat', 'Sinyal Türü', 'Zaman Dilimi', 'Sinyal Zamanı'])\n",
        "df_darvas_down = pd.DataFrame(columns=['Hisse Adı', 'Son Fiyat', 'Sinyal Türü', 'Zaman Dilimi', 'Sinyal Zamanı'])\n",
        "\n",
        "# Seçilen zaman dilimlerine göre analiz yapar\n",
        "for interval_data in intervals:\n",
        "    interval_name = interval_data[0]\n",
        "    interval = interval_data[1]\n",
        "\n",
        "    # Hisseler üzerinde ilerleme çubuğu ekleyerek döngüyü çalıştırma\n",
        "    for i in tqdm(range(len(Hisseler)), desc=f\" {interval_name}\", unit=\"hisse\" ):\n",
        "        try:\n",
        "            data = tv.get_hist(symbol=Hisseler[i], exchange='BIST', interval=interval, n_bars=500)\n",
        "            data.rename(columns={'open': 'Open', 'high': 'High', 'low': 'Low', 'close': 'Close', 'volume': 'Volume'}, inplace=True)\n",
        "            data = data.reset_index()\n",
        "            darvas_data = darvas_box_strategy(data)\n",
        "            darvas_data['datetime'] = pd.to_datetime(darvas_data['datetime'])\n",
        "            darvas_data.set_index('datetime', inplace=True)\n",
        "            last_signal = darvas_data.iloc[-1]\n",
        "            Darvas_Up = last_signal['Darvas_Box_Up']\n",
        "            Darvas_Down = last_signal['Darvas_Box_Down']\n",
        "            Last_Price = last_signal['Close']\n",
        "            Signal_Time = last_signal.name  # Sinyal zamanı\n",
        "\n",
        "            if Darvas_Up:\n",
        "                df_darvas_up.loc[len(df_darvas_up)] = [Hisseler[i], Last_Price, 'Darvas Box Yukarı', interval_name, Signal_Time]\n",
        "                print(f\"Tamamlandı: {Hisseler[i]} - {interval_name} - Darvas Box Yukarı - Sinyal Zamanı: {Signal_Time}\")\n",
        "            elif Darvas_Down:\n",
        "                df_darvas_down.loc[len(df_darvas_down)] = [Hisseler[i], Last_Price, 'Darvas Box Aşağı', interval_name, Signal_Time]\n",
        "                print(f\"Tamamlandı: {Hisseler[i]} - {interval_name} - Darvas Box Aşağı - Sinyal Zamanı: {Signal_Time}\")\n",
        "        except Exception as e:\n",
        "            print(f\"Error processing {Hisseler[i]}: {e}\")\n",
        "\n",
        "# Darvas Box Yukarı ve Aşağı sinyallerini tek bir tabloya ekleyelim\n",
        "df_all_signals = pd.concat([df_darvas_up, df_darvas_down]).reset_index(drop=True)\n",
        "\n",
        "# Ekranda tablo olarak gösterme\n",
        "print(\"Darvas Box Yukarı Sinyalleri:\")\n",
        "print(df_darvas_up)\n",
        "print(\"\\nDarvas Box Aşağı Sinyalleri:\")\n",
        "print(df_darvas_down)\n",
        "\n",
        "# Excel dosyasına kaydetme\n",
        "excel_file = 'darvas_box_signals.xlsx'\n",
        "with pd.ExcelWriter(excel_file) as writer:\n",
        "    df_darvas_up.to_excel(writer, sheet_name='Darvas Box Yukarı', index=False)\n",
        "    df_darvas_down.to_excel(writer, sheet_name='Darvas Box Aşağı', index=False)\n",
        "    df_all_signals.to_excel(writer, sheet_name='Tüm Sinyaller', index=False)\n",
        "\n",
        "print(f\"\\nDarvas Box yukarı ve aşağı sinyalleri '{excel_file}' dosyasına kaydedildi.\")"
      ]
    }
  ],
  "metadata": {
    "colab": {
      "provenance": [],
      "include_colab_link": true
    },
    "kernelspec": {
      "display_name": "Python 3",
      "name": "python3"
    },
    "language_info": {
      "name": "python"
    }
  },
  "nbformat": 4,
  "nbformat_minor": 0
}